{
  "nbformat": 4,
  "nbformat_minor": 0,
  "metadata": {
    "colab": {
      "name": "ТестМагнитРегрессия.ipynb",
      "provenance": [],
      "collapsed_sections": [],
      "authorship_tag": "ABX9TyOc4aNsSQoDu4ISEenuorQh",
      "include_colab_link": true
    },
    "kernelspec": {
      "name": "python3",
      "display_name": "Python 3"
    },
    "language_info": {
      "name": "python"
    }
  },
  "cells": [
    {
      "cell_type": "markdown",
      "metadata": {
        "id": "view-in-github",
        "colab_type": "text"
      },
      "source": [
        "<a href=\"https://colab.research.google.com/github/samarkinav/Test-MGNT/blob/main/%D0%A2%D0%B5%D1%81%D1%82%D0%9C%D0%B0%D0%B3%D0%BD%D0%B8%D1%82%D0%A0%D0%B5%D0%B3%D1%80%D0%B5%D1%81%D1%81%D0%B8%D1%8F.ipynb\" target=\"_parent\"><img src=\"https://colab.research.google.com/assets/colab-badge.svg\" alt=\"Open In Colab\"/></a>"
      ]
    },
    {
      "cell_type": "markdown",
      "metadata": {
        "id": "-71vwiZV383v"
      },
      "source": [
        "## Импорт библиотек"
      ]
    },
    {
      "cell_type": "code",
      "metadata": {
        "id": "T-OULaMy39Wx"
      },
      "source": [
        "import pandas as pd\n",
        "import seaborn as sns\n",
        "import matplotlib.pylab as plt\n",
        "import numpy as np\n",
        "from pylab import rcParams\n",
        "rcParams['figure.figsize'] = 20, 10"
      ],
      "execution_count": null,
      "outputs": []
    },
    {
      "cell_type": "markdown",
      "metadata": {
        "id": "qC7ocvPD4DBK"
      },
      "source": [
        "## Чтение данных"
      ]
    },
    {
      "cell_type": "code",
      "metadata": {
        "id": "nIGOYNPx396-"
      },
      "source": [
        "df = pd.read_csv('https://raw.githubusercontent.com/samarkinav/Test-MGNT/main/data_regression_for_task.csv?token=ARDNBEEXJHLW6CJRFUGHVVTBRZ6IO')"
      ],
      "execution_count": null,
      "outputs": []
    },
    {
      "cell_type": "code",
      "metadata": {
        "colab": {
          "base_uri": "https://localhost:8080/",
          "height": 255
        },
        "id": "1wWZ6-tC4GHs",
        "outputId": "de3e9e8b-cbc7-42ea-8a01-b2707a1dbe1c"
      },
      "source": [
        "df.head(5)"
      ],
      "execution_count": null,
      "outputs": [
        {
          "output_type": "execute_result",
          "data": {
            "text/html": [
              "<div>\n",
              "<style scoped>\n",
              "    .dataframe tbody tr th:only-of-type {\n",
              "        vertical-align: middle;\n",
              "    }\n",
              "\n",
              "    .dataframe tbody tr th {\n",
              "        vertical-align: top;\n",
              "    }\n",
              "\n",
              "    .dataframe thead th {\n",
              "        text-align: right;\n",
              "    }\n",
              "</style>\n",
              "<table border=\"1\" class=\"dataframe\">\n",
              "  <thead>\n",
              "    <tr style=\"text-align: right;\">\n",
              "      <th></th>\n",
              "      <th>YEAR</th>\n",
              "      <th>MONTH</th>\n",
              "      <th>CONTRAGENT</th>\n",
              "      <th>ARTICLE_CODE</th>\n",
              "      <th>ARTICLE_NAME</th>\n",
              "      <th>ARTICLE_GROUP</th>\n",
              "      <th>SALES</th>\n",
              "      <th>STORE_SALES</th>\n",
              "    </tr>\n",
              "  </thead>\n",
              "  <tbody>\n",
              "    <tr>\n",
              "      <th>0</th>\n",
              "      <td>2017</td>\n",
              "      <td>4</td>\n",
              "      <td>ROYAL WINE CORP</td>\n",
              "      <td>100200</td>\n",
              "      <td>GAMLA CAB - 750ML</td>\n",
              "      <td>WINE</td>\n",
              "      <td>0.0</td>\n",
              "      <td>0.0</td>\n",
              "    </tr>\n",
              "    <tr>\n",
              "      <th>1</th>\n",
              "      <td>2017</td>\n",
              "      <td>4</td>\n",
              "      <td>SANTA MARGHERITA USA INC</td>\n",
              "      <td>100749</td>\n",
              "      <td>SANTA MARGHERITA P/GRIG ALTO - 375ML</td>\n",
              "      <td>WINE</td>\n",
              "      <td>0.0</td>\n",
              "      <td>0.0</td>\n",
              "    </tr>\n",
              "    <tr>\n",
              "      <th>2</th>\n",
              "      <td>2017</td>\n",
              "      <td>4</td>\n",
              "      <td>JIM BEAM BRANDS CO</td>\n",
              "      <td>10103</td>\n",
              "      <td>KNOB CREEK BOURBON 9YR - 100P - 375ML</td>\n",
              "      <td>LIQUOR</td>\n",
              "      <td>0.0</td>\n",
              "      <td>0.0</td>\n",
              "    </tr>\n",
              "    <tr>\n",
              "      <th>3</th>\n",
              "      <td>2017</td>\n",
              "      <td>4</td>\n",
              "      <td>HEAVEN HILL DISTILLERIES INC</td>\n",
              "      <td>10120</td>\n",
              "      <td>J W DANT BOURBON 100P - 1.75L</td>\n",
              "      <td>LIQUOR</td>\n",
              "      <td>0.0</td>\n",
              "      <td>0.0</td>\n",
              "    </tr>\n",
              "    <tr>\n",
              "      <th>4</th>\n",
              "      <td>2017</td>\n",
              "      <td>4</td>\n",
              "      <td>ROYAL WINE CORP</td>\n",
              "      <td>101664</td>\n",
              "      <td>RAMON CORDOVA RIOJA - 750ML</td>\n",
              "      <td>WINE</td>\n",
              "      <td>0.0</td>\n",
              "      <td>0.0</td>\n",
              "    </tr>\n",
              "  </tbody>\n",
              "</table>\n",
              "</div>"
            ],
            "text/plain": [
              "   YEAR  MONTH                    CONTRAGENT  ... ARTICLE_GROUP SALES STORE_SALES\n",
              "0  2017      4               ROYAL WINE CORP  ...          WINE   0.0         0.0\n",
              "1  2017      4      SANTA MARGHERITA USA INC  ...          WINE   0.0         0.0\n",
              "2  2017      4            JIM BEAM BRANDS CO  ...        LIQUOR   0.0         0.0\n",
              "3  2017      4  HEAVEN HILL DISTILLERIES INC  ...        LIQUOR   0.0         0.0\n",
              "4  2017      4               ROYAL WINE CORP  ...          WINE   0.0         0.0\n",
              "\n",
              "[5 rows x 8 columns]"
            ]
          },
          "metadata": {},
          "execution_count": 63
        }
      ]
    },
    {
      "cell_type": "code",
      "metadata": {
        "colab": {
          "base_uri": "https://localhost:8080/"
        },
        "id": "PKp7NTbq5XZP",
        "outputId": "eb08ec22-9dbc-4256-a11b-8dbdf56e89e8"
      },
      "source": [
        "df.info()"
      ],
      "execution_count": null,
      "outputs": [
        {
          "output_type": "stream",
          "name": "stdout",
          "text": [
            "<class 'pandas.core.frame.DataFrame'>\n",
            "RangeIndex: 128355 entries, 0 to 128354\n",
            "Data columns (total 8 columns):\n",
            " #   Column         Non-Null Count   Dtype  \n",
            "---  ------         --------------   -----  \n",
            " 0   YEAR           128355 non-null  int64  \n",
            " 1   MONTH          128355 non-null  int64  \n",
            " 2   CONTRAGENT     128331 non-null  object \n",
            " 3   ARTICLE_CODE   128355 non-null  object \n",
            " 4   ARTICLE_NAME   128355 non-null  object \n",
            " 5   ARTICLE_GROUP  128354 non-null  object \n",
            " 6   SALES          128355 non-null  float64\n",
            " 7   STORE_SALES    128355 non-null  float64\n",
            "dtypes: float64(2), int64(2), object(4)\n",
            "memory usage: 7.8+ MB\n"
          ]
        }
      ]
    },
    {
      "cell_type": "markdown",
      "metadata": {
        "id": "rNiSPX3M5bHA"
      },
      "source": [
        "Есть пропущенные значения в признаках CONTRAGENT, ARTICLE_GROUP. \n",
        "Имеем 4 числовых признака и 4 категориальных."
      ]
    },
    {
      "cell_type": "code",
      "metadata": {
        "colab": {
          "base_uri": "https://localhost:8080/",
          "height": 297
        },
        "id": "M0PeUo005ZLo",
        "outputId": "da8bd8cd-99b5-47eb-fca7-66414253a665"
      },
      "source": [
        "df.describe()"
      ],
      "execution_count": null,
      "outputs": [
        {
          "output_type": "execute_result",
          "data": {
            "text/html": [
              "<div>\n",
              "<style scoped>\n",
              "    .dataframe tbody tr th:only-of-type {\n",
              "        vertical-align: middle;\n",
              "    }\n",
              "\n",
              "    .dataframe tbody tr th {\n",
              "        vertical-align: top;\n",
              "    }\n",
              "\n",
              "    .dataframe thead th {\n",
              "        text-align: right;\n",
              "    }\n",
              "</style>\n",
              "<table border=\"1\" class=\"dataframe\">\n",
              "  <thead>\n",
              "    <tr style=\"text-align: right;\">\n",
              "      <th></th>\n",
              "      <th>YEAR</th>\n",
              "      <th>MONTH</th>\n",
              "      <th>SALES</th>\n",
              "      <th>STORE_SALES</th>\n",
              "    </tr>\n",
              "  </thead>\n",
              "  <tbody>\n",
              "    <tr>\n",
              "      <th>count</th>\n",
              "      <td>128355.000000</td>\n",
              "      <td>128355.000000</td>\n",
              "      <td>1.283550e+05</td>\n",
              "      <td>128355.000000</td>\n",
              "    </tr>\n",
              "    <tr>\n",
              "      <th>mean</th>\n",
              "      <td>2017.206030</td>\n",
              "      <td>7.079303</td>\n",
              "      <td>6.563037e+03</td>\n",
              "      <td>22.624213</td>\n",
              "    </tr>\n",
              "    <tr>\n",
              "      <th>std</th>\n",
              "      <td>0.404454</td>\n",
              "      <td>3.645826</td>\n",
              "      <td>2.892494e+04</td>\n",
              "      <td>239.693277</td>\n",
              "    </tr>\n",
              "    <tr>\n",
              "      <th>min</th>\n",
              "      <td>2017.000000</td>\n",
              "      <td>1.000000</td>\n",
              "      <td>-6.490000e+03</td>\n",
              "      <td>-4996.000000</td>\n",
              "    </tr>\n",
              "    <tr>\n",
              "      <th>25%</th>\n",
              "      <td>2017.000000</td>\n",
              "      <td>5.000000</td>\n",
              "      <td>0.000000e+00</td>\n",
              "      <td>0.000000</td>\n",
              "    </tr>\n",
              "    <tr>\n",
              "      <th>50%</th>\n",
              "      <td>2017.000000</td>\n",
              "      <td>8.000000</td>\n",
              "      <td>3.300000e+02</td>\n",
              "      <td>1.000000</td>\n",
              "    </tr>\n",
              "    <tr>\n",
              "      <th>75%</th>\n",
              "      <td>2017.000000</td>\n",
              "      <td>10.000000</td>\n",
              "      <td>3.250000e+03</td>\n",
              "      <td>4.000000</td>\n",
              "    </tr>\n",
              "    <tr>\n",
              "      <th>max</th>\n",
              "      <td>2018.000000</td>\n",
              "      <td>12.000000</td>\n",
              "      <td>1.616600e+06</td>\n",
              "      <td>16271.750000</td>\n",
              "    </tr>\n",
              "  </tbody>\n",
              "</table>\n",
              "</div>"
            ],
            "text/plain": [
              "                YEAR          MONTH         SALES    STORE_SALES\n",
              "count  128355.000000  128355.000000  1.283550e+05  128355.000000\n",
              "mean     2017.206030       7.079303  6.563037e+03      22.624213\n",
              "std         0.404454       3.645826  2.892494e+04     239.693277\n",
              "min      2017.000000       1.000000 -6.490000e+03   -4996.000000\n",
              "25%      2017.000000       5.000000  0.000000e+00       0.000000\n",
              "50%      2017.000000       8.000000  3.300000e+02       1.000000\n",
              "75%      2017.000000      10.000000  3.250000e+03       4.000000\n",
              "max      2018.000000      12.000000  1.616600e+06   16271.750000"
            ]
          },
          "metadata": {},
          "execution_count": 65
        }
      ]
    },
    {
      "cell_type": "markdown",
      "metadata": {
        "id": "kV_DMNda5egb"
      },
      "source": [
        "В признаках SALES и STORE_SALES есть отрицательные значения."
      ]
    },
    {
      "cell_type": "code",
      "metadata": {
        "colab": {
          "base_uri": "https://localhost:8080/",
          "height": 173
        },
        "id": "WtWf0DDL5c1S",
        "outputId": "2cb250e7-9947-4016-ae3b-d479e3ce9388"
      },
      "source": [
        "df.describe(include=['object'])"
      ],
      "execution_count": null,
      "outputs": [
        {
          "output_type": "execute_result",
          "data": {
            "text/html": [
              "<div>\n",
              "<style scoped>\n",
              "    .dataframe tbody tr th:only-of-type {\n",
              "        vertical-align: middle;\n",
              "    }\n",
              "\n",
              "    .dataframe tbody tr th {\n",
              "        vertical-align: top;\n",
              "    }\n",
              "\n",
              "    .dataframe thead th {\n",
              "        text-align: right;\n",
              "    }\n",
              "</style>\n",
              "<table border=\"1\" class=\"dataframe\">\n",
              "  <thead>\n",
              "    <tr style=\"text-align: right;\">\n",
              "      <th></th>\n",
              "      <th>CONTRAGENT</th>\n",
              "      <th>ARTICLE_CODE</th>\n",
              "      <th>ARTICLE_NAME</th>\n",
              "      <th>ARTICLE_GROUP</th>\n",
              "    </tr>\n",
              "  </thead>\n",
              "  <tbody>\n",
              "    <tr>\n",
              "      <th>count</th>\n",
              "      <td>128331</td>\n",
              "      <td>128355</td>\n",
              "      <td>128355</td>\n",
              "      <td>128354</td>\n",
              "    </tr>\n",
              "    <tr>\n",
              "      <th>unique</th>\n",
              "      <td>333</td>\n",
              "      <td>23556</td>\n",
              "      <td>23624</td>\n",
              "      <td>8</td>\n",
              "    </tr>\n",
              "    <tr>\n",
              "      <th>top</th>\n",
              "      <td>REPUBLIC NATIONAL DISTRIBUTING CO</td>\n",
              "      <td>143294</td>\n",
              "      <td>LA VIELLE FERME CDV RED - 750ML</td>\n",
              "      <td>WINE</td>\n",
              "    </tr>\n",
              "    <tr>\n",
              "      <th>freq</th>\n",
              "      <td>9847</td>\n",
              "      <td>10</td>\n",
              "      <td>19</td>\n",
              "      <td>79077</td>\n",
              "    </tr>\n",
              "  </tbody>\n",
              "</table>\n",
              "</div>"
            ],
            "text/plain": [
              "                               CONTRAGENT  ... ARTICLE_GROUP\n",
              "count                              128331  ...        128354\n",
              "unique                                333  ...             8\n",
              "top     REPUBLIC NATIONAL DISTRIBUTING CO  ...          WINE\n",
              "freq                                 9847  ...         79077\n",
              "\n",
              "[4 rows x 4 columns]"
            ]
          },
          "metadata": {},
          "execution_count": 66
        }
      ]
    },
    {
      "cell_type": "markdown",
      "metadata": {
        "id": "BQjcaLNO5iED"
      },
      "source": [
        "## Боремся с выбросами\n"
      ]
    },
    {
      "cell_type": "code",
      "metadata": {
        "colab": {
          "base_uri": "https://localhost:8080/",
          "height": 518
        },
        "id": "k7vKyigr5f_y",
        "outputId": "4caa1a10-1f1f-4aaa-d7a0-125a9b3a98dc"
      },
      "source": [
        "plt.scatter(df['SALES'], df['STORE_SALES'])\n",
        "pass"
      ],
      "execution_count": null,
      "outputs": [
        {
          "output_type": "display_data",
          "data": {
            "image/png": "[encoded data removed]",
            "text/plain": [
              "<Figure size 1440x720 with 1 Axes>"
            ]
          },
          "metadata": {
            "needs_background": "light"
          }
        }
      ]
    },
    {
      "cell_type": "code",
      "metadata": {
        "colab": {
          "base_uri": "https://localhost:8080/"
        },
        "id": "AvG9xPOE5jgG",
        "outputId": "58d6a723-81db-4399-97ae-a33f09b8d08c"
      },
      "source": [
        "df['SALES'].quantile([0.005,.01,.05,.1,.5,.9,.95,.99,.995])"
      ],
      "execution_count": null,
      "outputs": [
        {
          "output_type": "execute_result",
          "data": {
            "text/plain": [
              "0.005         0.0\n",
              "0.010         0.0\n",
              "0.050         0.0\n",
              "0.100         0.0\n",
              "0.500       330.0\n",
              "0.900     13870.0\n",
              "0.950     28500.0\n",
              "0.990     99935.2\n",
              "0.995    154915.3\n",
              "Name: SALES, dtype: float64"
            ]
          },
          "metadata": {},
          "execution_count": 68
        }
      ]
    },
    {
      "cell_type": "code",
      "metadata": {
        "colab": {
          "base_uri": "https://localhost:8080/"
        },
        "id": "7MVSJK6B5lAm",
        "outputId": "c331c0a1-6191-41cb-f88f-c31cae06e25d"
      },
      "source": [
        "df['STORE_SALES'].quantile([0.005,.01,.05,.1,.5,.9,.95,.99,.995])"
      ],
      "execution_count": null,
      "outputs": [
        {
          "output_type": "execute_result",
          "data": {
            "text/plain": [
              "0.005      0.000\n",
              "0.010      0.000\n",
              "0.050      0.000\n",
              "0.100      0.000\n",
              "0.500      1.000\n",
              "0.900     18.000\n",
              "0.950     49.000\n",
              "0.990    394.865\n",
              "0.995    742.092\n",
              "Name: STORE_SALES, dtype: float64"
            ]
          },
          "metadata": {},
          "execution_count": 69
        }
      ]
    },
    {
      "cell_type": "markdown",
      "metadata": {
        "id": "7fOOrQVD5oco"
      },
      "source": [
        "Удалим все строки таблицы, в которых 'SALES' или 'STORE_SALES' выходят за пределы квантилей $0.005$, $0.995$."
      ]
    },
    {
      "cell_type": "code",
      "metadata": {
        "id": "PmnF5F1f5mmU"
      },
      "source": [
        "rows_to_drop = df[\n",
        "    (df['SALES'] < df['SALES'].quantile(0.005)) | (df['SALES'] > df['SALES'].quantile(0.995)) | \n",
        "    (df['STORE_SALES']  < df['STORE_SALES'].quantile(0.005)) | (df['STORE_SALES']  > df['STORE_SALES'].quantile(0.995))].index\n",
        "data = df.drop(rows_to_drop)"
      ],
      "execution_count": null,
      "outputs": []
    },
    {
      "cell_type": "code",
      "metadata": {
        "colab": {
          "base_uri": "https://localhost:8080/",
          "height": 512
        },
        "id": "jz_LbRRa5qVB",
        "outputId": "99cbdeed-13ad-44c0-c5bf-167817d2e756"
      },
      "source": [
        "plt.scatter(data['SALES'], data['STORE_SALES'])\n",
        "pass"
      ],
      "execution_count": null,
      "outputs": [
        {
          "output_type": "display_data",
          "data": {
            "image/png": "[encoded data removed]",
            "text/plain": [
              "<Figure size 1440x720 with 1 Axes>"
            ]
          },
          "metadata": {
            "needs_background": "light"
          }
        }
      ]
    },
    {
      "cell_type": "code",
      "metadata": {
        "colab": {
          "base_uri": "https://localhost:8080/",
          "height": 173
        },
        "id": "pptWq9y75tMF",
        "outputId": "9fb90529-b572-4ef5-9304-1e519735ade3"
      },
      "source": [
        "corr_mat = data.corr()\n",
        "corr_mat"
      ],
      "execution_count": null,
      "outputs": [
        {
          "output_type": "execute_result",
          "data": {
            "text/html": [
              "<div>\n",
              "<style scoped>\n",
              "    .dataframe tbody tr th:only-of-type {\n",
              "        vertical-align: middle;\n",
              "    }\n",
              "\n",
              "    .dataframe tbody tr th {\n",
              "        vertical-align: top;\n",
              "    }\n",
              "\n",
              "    .dataframe thead th {\n",
              "        text-align: right;\n",
              "    }\n",
              "</style>\n",
              "<table border=\"1\" class=\"dataframe\">\n",
              "  <thead>\n",
              "    <tr style=\"text-align: right;\">\n",
              "      <th></th>\n",
              "      <th>YEAR</th>\n",
              "      <th>MONTH</th>\n",
              "      <th>SALES</th>\n",
              "      <th>STORE_SALES</th>\n",
              "    </tr>\n",
              "  </thead>\n",
              "  <tbody>\n",
              "    <tr>\n",
              "      <th>YEAR</th>\n",
              "      <td>1.000000</td>\n",
              "      <td>-0.780062</td>\n",
              "      <td>-0.013050</td>\n",
              "      <td>-0.001518</td>\n",
              "    </tr>\n",
              "    <tr>\n",
              "      <th>MONTH</th>\n",
              "      <td>-0.780062</td>\n",
              "      <td>1.000000</td>\n",
              "      <td>0.039019</td>\n",
              "      <td>0.008503</td>\n",
              "    </tr>\n",
              "    <tr>\n",
              "      <th>SALES</th>\n",
              "      <td>-0.013050</td>\n",
              "      <td>0.039019</td>\n",
              "      <td>1.000000</td>\n",
              "      <td>0.314203</td>\n",
              "    </tr>\n",
              "    <tr>\n",
              "      <th>STORE_SALES</th>\n",
              "      <td>-0.001518</td>\n",
              "      <td>0.008503</td>\n",
              "      <td>0.314203</td>\n",
              "      <td>1.000000</td>\n",
              "    </tr>\n",
              "  </tbody>\n",
              "</table>\n",
              "</div>"
            ],
            "text/plain": [
              "                 YEAR     MONTH     SALES  STORE_SALES\n",
              "YEAR         1.000000 -0.780062 -0.013050    -0.001518\n",
              "MONTH       -0.780062  1.000000  0.039019     0.008503\n",
              "SALES       -0.013050  0.039019  1.000000     0.314203\n",
              "STORE_SALES -0.001518  0.008503  0.314203     1.000000"
            ]
          },
          "metadata": {},
          "execution_count": 72
        }
      ]
    },
    {
      "cell_type": "code",
      "metadata": {
        "colab": {
          "base_uri": "https://localhost:8080/",
          "height": 596
        },
        "id": "sXdKtHKP5uxJ",
        "outputId": "396d4219-0f74-4826-b927-0170e997fcd9"
      },
      "source": [
        "sns.heatmap(corr_mat, square=True, cmap='coolwarm')\n",
        "pass"
      ],
      "execution_count": null,
      "outputs": [
        {
          "output_type": "display_data",
          "data": {
            "image/png": "[encoded data removed]",
            "text/plain": [
              "<Figure size 1440x720 with 2 Axes>"
            ]
          },
          "metadata": {
            "needs_background": "light"
          }
        }
      ]
    },
    {
      "cell_type": "code",
      "metadata": {
        "colab": {
          "base_uri": "https://localhost:8080/"
        },
        "id": "OGlt4IiR5wGw",
        "outputId": "c1c8dc5b-0feb-4e44-b380-2fc7cb089ad7"
      },
      "source": [
        "data['ARTICLE_GROUP'].value_counts()"
      ],
      "execution_count": null,
      "outputs": [
        {
          "output_type": "execute_result",
          "data": {
            "text/plain": [
              "WINE            78795\n",
              "LIQUOR          28083\n",
              "BEER            15640\n",
              "KEGS             3593\n",
              "NON-ALCOHOL       620\n",
              "STR_SUPPLIES      105\n",
              "REF                35\n",
              "Name: ARTICLE_GROUP, dtype: int64"
            ]
          },
          "metadata": {},
          "execution_count": 74
        }
      ]
    },
    {
      "cell_type": "code",
      "metadata": {
        "colab": {
          "base_uri": "https://localhost:8080/",
          "height": 514
        },
        "id": "1bEpew335xkN",
        "outputId": "d9764270-f294-4928-c967-ba5ff61e9574"
      },
      "source": [
        "sns.countplot(x='ARTICLE_GROUP', data=data)\n",
        "pass"
      ],
      "execution_count": null,
      "outputs": [
        {
          "output_type": "display_data",
          "data": {
            "image/png": "[encoded data removed]",
            "text/plain": [
              "<Figure size 1440x720 with 1 Axes>"
            ]
          },
          "metadata": {
            "needs_background": "light"
          }
        }
      ]
    },
    {
      "cell_type": "markdown",
      "metadata": {
        "id": "EmVs4A0p50-X"
      },
      "source": [
        "## Заполнение пропущенных значений"
      ]
    },
    {
      "cell_type": "code",
      "metadata": {
        "colab": {
          "base_uri": "https://localhost:8080/"
        },
        "id": "Dv0TjClm5zJA",
        "outputId": "6cc9e036-1358-4b2c-cb61-08abfd35858b"
      },
      "source": [
        "data.isna().sum()"
      ],
      "execution_count": null,
      "outputs": [
        {
          "output_type": "execute_result",
          "data": {
            "text/plain": [
              "YEAR             0\n",
              "MONTH            0\n",
              "CONTRAGENT       0\n",
              "ARTICLE_CODE     0\n",
              "ARTICLE_NAME     0\n",
              "ARTICLE_GROUP    1\n",
              "SALES            0\n",
              "STORE_SALES      0\n",
              "dtype: int64"
            ]
          },
          "metadata": {},
          "execution_count": 76
        }
      ]
    },
    {
      "cell_type": "markdown",
      "metadata": {
        "id": "pwfOYCgJ54Tc"
      },
      "source": [
        "Есть пропущенное значение в категориальном признаке, заполним его модой."
      ]
    },
    {
      "cell_type": "code",
      "metadata": {
        "id": "l3zdYwPQ52el"
      },
      "source": [
        "data['ARTICLE_GROUP'].fillna(data['ARTICLE_GROUP'].mode().iloc[0], inplace=True)"
      ],
      "execution_count": null,
      "outputs": []
    },
    {
      "cell_type": "code",
      "metadata": {
        "colab": {
          "base_uri": "https://localhost:8080/"
        },
        "id": "FGYtKA-d552h",
        "outputId": "da05362e-6d82-4a89-dfc0-44044cd99d7f"
      },
      "source": [
        "data['ARTICLE_GROUP'].isna().sum()"
      ],
      "execution_count": null,
      "outputs": [
        {
          "output_type": "execute_result",
          "data": {
            "text/plain": [
              "0"
            ]
          },
          "metadata": {},
          "execution_count": 78
        }
      ]
    },
    {
      "cell_type": "markdown",
      "metadata": {
        "id": "9vfvVIut-TIG"
      },
      "source": [
        "## Отбор признаков"
      ]
    },
    {
      "cell_type": "code",
      "metadata": {
        "id": "qk3TD2i6l_tO"
      },
      "source": [
        "def metric(y_true, y_pred):\n",
        "    \n",
        "    return np.sum(np.abs(y_true - y_pred)) / np.sum(y_pred) * 100"
      ],
      "execution_count": null,
      "outputs": []
    },
    {
      "cell_type": "markdown",
      "metadata": {
        "id": "uj75KIwZ-VyJ"
      },
      "source": [
        "Для начала переведем все категориальные признаки к типу category, не будем их кодировать."
      ]
    },
    {
      "cell_type": "code",
      "metadata": {
        "id": "Y8Ltjs9A-Ibk"
      },
      "source": [
        "data['YEAR'] = data['YEAR'].astype('category')\n",
        "data['MONTH'] = data['MONTH'].astype('category')\n",
        "data['CONTRAGENT'] = data['CONTRAGENT'].astype('category')\n",
        "data['ARTICLE_CODE'] = data['ARTICLE_CODE'].astype('category')\n",
        "data['ARTICLE_NAME'] = data['ARTICLE_NAME'].astype('category')\n",
        "data['ARTICLE_GROUP'] = data['ARTICLE_GROUP'].astype('category')"
      ],
      "execution_count": null,
      "outputs": []
    },
    {
      "cell_type": "code",
      "metadata": {
        "colab": {
          "base_uri": "https://localhost:8080/"
        },
        "id": "9aZX3_oeKiUR",
        "outputId": "99b33bf7-7c98-4e33-a235-fe8cdd556ea8"
      },
      "source": [
        "data.dtypes"
      ],
      "execution_count": null,
      "outputs": [
        {
          "output_type": "execute_result",
          "data": {
            "text/plain": [
              "YEAR             category\n",
              "MONTH            category\n",
              "CONTRAGENT       category\n",
              "ARTICLE_CODE     category\n",
              "ARTICLE_NAME     category\n",
              "ARTICLE_GROUP    category\n",
              "SALES             float64\n",
              "STORE_SALES       float64\n",
              "dtype: object"
            ]
          },
          "metadata": {},
          "execution_count": 81
        }
      ]
    },
    {
      "cell_type": "code",
      "metadata": {
        "id": "QQuTXovV-jT7"
      },
      "source": [
        "test_df = data.query(\"YEAR == 2018 & MONTH == 2\")\n",
        "train_df = data.drop(test_df.index)"
      ],
      "execution_count": null,
      "outputs": []
    },
    {
      "cell_type": "code",
      "metadata": {
        "id": "ZD4pWrUz-jW6"
      },
      "source": [
        "X_train = train_df.drop(['ARTICLE_CODE', 'ARTICLE_NAME','SALES'], axis=1)\n",
        "y_train = train_df['SALES']\n",
        "X_test = test_df.drop(['ARTICLE_CODE', 'ARTICLE_NAME', 'SALES'], axis=1)\n",
        "y_test = test_df['SALES']"
      ],
      "execution_count": null,
      "outputs": []
    },
    {
      "cell_type": "code",
      "metadata": {
        "colab": {
          "base_uri": "https://localhost:8080/",
          "height": 204
        },
        "id": "nEFwsk64-jZa",
        "outputId": "b7194e50-cfc4-4b88-c549-511a126ddca4"
      },
      "source": [
        "X_train.head()"
      ],
      "execution_count": null,
      "outputs": [
        {
          "output_type": "execute_result",
          "data": {
            "text/html": [
              "<div>\n",
              "<style scoped>\n",
              "    .dataframe tbody tr th:only-of-type {\n",
              "        vertical-align: middle;\n",
              "    }\n",
              "\n",
              "    .dataframe tbody tr th {\n",
              "        vertical-align: top;\n",
              "    }\n",
              "\n",
              "    .dataframe thead th {\n",
              "        text-align: right;\n",
              "    }\n",
              "</style>\n",
              "<table border=\"1\" class=\"dataframe\">\n",
              "  <thead>\n",
              "    <tr style=\"text-align: right;\">\n",
              "      <th></th>\n",
              "      <th>YEAR</th>\n",
              "      <th>MONTH</th>\n",
              "      <th>CONTRAGENT</th>\n",
              "      <th>ARTICLE_GROUP</th>\n",
              "      <th>STORE_SALES</th>\n",
              "    </tr>\n",
              "  </thead>\n",
              "  <tbody>\n",
              "    <tr>\n",
              "      <th>0</th>\n",
              "      <td>2017</td>\n",
              "      <td>4</td>\n",
              "      <td>ROYAL WINE CORP</td>\n",
              "      <td>WINE</td>\n",
              "      <td>0.0</td>\n",
              "    </tr>\n",
              "    <tr>\n",
              "      <th>1</th>\n",
              "      <td>2017</td>\n",
              "      <td>4</td>\n",
              "      <td>SANTA MARGHERITA USA INC</td>\n",
              "      <td>WINE</td>\n",
              "      <td>0.0</td>\n",
              "    </tr>\n",
              "    <tr>\n",
              "      <th>2</th>\n",
              "      <td>2017</td>\n",
              "      <td>4</td>\n",
              "      <td>JIM BEAM BRANDS CO</td>\n",
              "      <td>LIQUOR</td>\n",
              "      <td>0.0</td>\n",
              "    </tr>\n",
              "    <tr>\n",
              "      <th>3</th>\n",
              "      <td>2017</td>\n",
              "      <td>4</td>\n",
              "      <td>HEAVEN HILL DISTILLERIES INC</td>\n",
              "      <td>LIQUOR</td>\n",
              "      <td>0.0</td>\n",
              "    </tr>\n",
              "    <tr>\n",
              "      <th>4</th>\n",
              "      <td>2017</td>\n",
              "      <td>4</td>\n",
              "      <td>ROYAL WINE CORP</td>\n",
              "      <td>WINE</td>\n",
              "      <td>0.0</td>\n",
              "    </tr>\n",
              "  </tbody>\n",
              "</table>\n",
              "</div>"
            ],
            "text/plain": [
              "   YEAR MONTH                    CONTRAGENT ARTICLE_GROUP  STORE_SALES\n",
              "0  2017     4               ROYAL WINE CORP          WINE          0.0\n",
              "1  2017     4      SANTA MARGHERITA USA INC          WINE          0.0\n",
              "2  2017     4            JIM BEAM BRANDS CO        LIQUOR          0.0\n",
              "3  2017     4  HEAVEN HILL DISTILLERIES INC        LIQUOR          0.0\n",
              "4  2017     4               ROYAL WINE CORP          WINE          0.0"
            ]
          },
          "metadata": {},
          "execution_count": 84
        }
      ]
    },
    {
      "cell_type": "code",
      "metadata": {
        "id": "Z9W1r9mDAHrk"
      },
      "source": [
        "import lightgbm as lgb\n",
        "from sklearn.model_selection import GridSearchCV"
      ],
      "execution_count": null,
      "outputs": []
    },
    {
      "cell_type": "code",
      "metadata": {
        "id": "WgvthuN_4scs"
      },
      "source": [
        "from sklearn.metrics import make_scorer\n",
        "my_scorer = make_scorer(metric, greater_is_better=False) "
      ],
      "execution_count": null,
      "outputs": []
    },
    {
      "cell_type": "code",
      "metadata": {
        "colab": {
          "base_uri": "https://localhost:8080/"
        },
        "id": "S_0DsM96-je2",
        "outputId": "01c19cf9-6791-4f52-9307-d16684eb8ceb"
      },
      "source": [
        "lg = lgb.LGBMRegressor(silent=False)\n",
        "parametrs = {\"n_estimators\": range(10,200,10)}\n",
        "grid_search_cv = GridSearchCV(lg, n_jobs=-1, param_grid=parametrs, cv=10, scoring=my_scorer)\n",
        "grid_search_cv.fit(X_train,y_train)\n",
        "best_n_estimators = grid_search_cv.best_estimator_.n_estimators\n",
        "print(best_n_estimators)"
      ],
      "execution_count": null,
      "outputs": [
        {
          "output_type": "stream",
          "name": "stdout",
          "text": [
            "150\n"
          ]
        }
      ]
    },
    {
      "cell_type": "code",
      "metadata": {
        "colab": {
          "base_uri": "https://localhost:8080/"
        },
        "id": "x7fQLcbP-jiS",
        "outputId": "03d00251-d9d1-4954-b67a-b4b87a185af1"
      },
      "source": [
        "train_data = lgb.Dataset(X_train, label=y_train)\n",
        "validation_data = lgb.Dataset(X_test, label=y_test, reference=train_data)\n",
        "param = {'num_leaves':31, 'objective':'regression', 'learning_rate':0.06}\n",
        "num_round = best_n_estimators\n",
        "cate_features_name = ['YEAR','MONTH','CONTRAGENT','ARTICLE_GROUP']\n",
        "bst = lgb.train(param, train_data, num_round, valid_sets=[validation_data], categorical_feature = cate_features_name)\n",
        "y_test_predict_lgbm = bst.predict(X_test)"
      ],
      "execution_count": null,
      "outputs": [
        {
          "output_type": "stream",
          "name": "stderr",
          "text": [
            "/usr/local/lib/python3.7/dist-packages/lightgbm/basic.py:1209: UserWarning: categorical_feature in Dataset is overridden.\n",
            "New categorical_feature is ['ARTICLE_GROUP', 'CONTRAGENT', 'MONTH', 'YEAR']\n",
            "  'New categorical_feature is {}'.format(sorted(list(categorical_feature))))\n",
            "/usr/local/lib/python3.7/dist-packages/lightgbm/basic.py:762: UserWarning: categorical_feature in param dict is overridden.\n",
            "  warnings.warn('categorical_feature in param dict is overridden.')\n"
          ]
        },
        {
          "output_type": "stream",
          "name": "stdout",
          "text": [
            "[1]\tvalid_0's l2: 1.67459e+08\n",
            "[2]\tvalid_0's l2: 1.59068e+08\n",
            "[3]\tvalid_0's l2: 1.51751e+08\n",
            "[4]\tvalid_0's l2: 1.45124e+08\n",
            "[5]\tvalid_0's l2: 1.39349e+08\n",
            "[6]\tvalid_0's l2: 1.34155e+08\n",
            "[7]\tvalid_0's l2: 1.29653e+08\n",
            "[8]\tvalid_0's l2: 1.256e+08\n",
            "[9]\tvalid_0's l2: 1.22006e+08\n",
            "[10]\tvalid_0's l2: 1.18827e+08\n",
            "[11]\tvalid_0's l2: 1.1604e+08\n",
            "[12]\tvalid_0's l2: 1.13565e+08\n",
            "[13]\tvalid_0's l2: 1.11449e+08\n",
            "[14]\tvalid_0's l2: 1.09535e+08\n",
            "[15]\tvalid_0's l2: 1.07831e+08\n",
            "[16]\tvalid_0's l2: 1.06344e+08\n",
            "[17]\tvalid_0's l2: 1.05059e+08\n",
            "[18]\tvalid_0's l2: 1.03815e+08\n",
            "[19]\tvalid_0's l2: 1.02785e+08\n",
            "[20]\tvalid_0's l2: 1.01901e+08\n",
            "[21]\tvalid_0's l2: 1.00888e+08\n",
            "[22]\tvalid_0's l2: 1.00217e+08\n",
            "[23]\tvalid_0's l2: 9.96407e+07\n",
            "[24]\tvalid_0's l2: 9.88822e+07\n",
            "[25]\tvalid_0's l2: 9.83376e+07\n",
            "[26]\tvalid_0's l2: 9.76983e+07\n",
            "[27]\tvalid_0's l2: 9.71437e+07\n",
            "[28]\tvalid_0's l2: 9.66615e+07\n",
            "[29]\tvalid_0's l2: 9.63536e+07\n",
            "[30]\tvalid_0's l2: 9.60378e+07\n",
            "[31]\tvalid_0's l2: 9.56662e+07\n",
            "[32]\tvalid_0's l2: 9.53372e+07\n",
            "[33]\tvalid_0's l2: 9.51401e+07\n",
            "[34]\tvalid_0's l2: 9.48636e+07\n",
            "[35]\tvalid_0's l2: 9.46685e+07\n",
            "[36]\tvalid_0's l2: 9.45978e+07\n",
            "[37]\tvalid_0's l2: 9.44592e+07\n",
            "[38]\tvalid_0's l2: 9.42354e+07\n",
            "[39]\tvalid_0's l2: 9.4142e+07\n",
            "[40]\tvalid_0's l2: 9.39582e+07\n",
            "[41]\tvalid_0's l2: 9.3877e+07\n",
            "[42]\tvalid_0's l2: 9.38568e+07\n",
            "[43]\tvalid_0's l2: 9.37323e+07\n",
            "[44]\tvalid_0's l2: 9.37358e+07\n",
            "[45]\tvalid_0's l2: 9.37683e+07\n",
            "[46]\tvalid_0's l2: 9.36847e+07\n",
            "[47]\tvalid_0's l2: 9.36696e+07\n",
            "[48]\tvalid_0's l2: 9.35818e+07\n",
            "[49]\tvalid_0's l2: 9.36199e+07\n",
            "[50]\tvalid_0's l2: 9.34944e+07\n",
            "[51]\tvalid_0's l2: 9.35539e+07\n",
            "[52]\tvalid_0's l2: 9.35496e+07\n",
            "[53]\tvalid_0's l2: 9.35809e+07\n",
            "[54]\tvalid_0's l2: 9.35076e+07\n",
            "[55]\tvalid_0's l2: 9.35346e+07\n",
            "[56]\tvalid_0's l2: 9.35672e+07\n",
            "[57]\tvalid_0's l2: 9.36321e+07\n",
            "[58]\tvalid_0's l2: 9.36565e+07\n",
            "[59]\tvalid_0's l2: 9.36999e+07\n",
            "[60]\tvalid_0's l2: 9.36953e+07\n",
            "[61]\tvalid_0's l2: 9.37555e+07\n",
            "[62]\tvalid_0's l2: 9.37979e+07\n",
            "[63]\tvalid_0's l2: 9.37839e+07\n",
            "[64]\tvalid_0's l2: 9.37334e+07\n",
            "[65]\tvalid_0's l2: 9.37978e+07\n",
            "[66]\tvalid_0's l2: 9.38407e+07\n",
            "[67]\tvalid_0's l2: 9.38345e+07\n",
            "[68]\tvalid_0's l2: 9.38345e+07\n",
            "[69]\tvalid_0's l2: 9.38961e+07\n",
            "[70]\tvalid_0's l2: 9.38595e+07\n",
            "[71]\tvalid_0's l2: 9.3905e+07\n",
            "[72]\tvalid_0's l2: 9.39508e+07\n",
            "[73]\tvalid_0's l2: 9.39326e+07\n",
            "[74]\tvalid_0's l2: 9.392e+07\n",
            "[75]\tvalid_0's l2: 9.39728e+07\n",
            "[76]\tvalid_0's l2: 9.40335e+07\n",
            "[77]\tvalid_0's l2: 9.40542e+07\n",
            "[78]\tvalid_0's l2: 9.40734e+07\n",
            "[79]\tvalid_0's l2: 9.40093e+07\n",
            "[80]\tvalid_0's l2: 9.40684e+07\n",
            "[81]\tvalid_0's l2: 9.40681e+07\n",
            "[82]\tvalid_0's l2: 9.41076e+07\n",
            "[83]\tvalid_0's l2: 9.40887e+07\n",
            "[84]\tvalid_0's l2: 9.40845e+07\n",
            "[85]\tvalid_0's l2: 9.40511e+07\n",
            "[86]\tvalid_0's l2: 9.40787e+07\n",
            "[87]\tvalid_0's l2: 9.40484e+07\n",
            "[88]\tvalid_0's l2: 9.4036e+07\n",
            "[89]\tvalid_0's l2: 9.40483e+07\n",
            "[90]\tvalid_0's l2: 9.40173e+07\n",
            "[91]\tvalid_0's l2: 9.40078e+07\n",
            "[92]\tvalid_0's l2: 9.40569e+07\n",
            "[93]\tvalid_0's l2: 9.40462e+07\n",
            "[94]\tvalid_0's l2: 9.40253e+07\n",
            "[95]\tvalid_0's l2: 9.40432e+07\n",
            "[96]\tvalid_0's l2: 9.40184e+07\n",
            "[97]\tvalid_0's l2: 9.40616e+07\n",
            "[98]\tvalid_0's l2: 9.40779e+07\n",
            "[99]\tvalid_0's l2: 9.40657e+07\n",
            "[100]\tvalid_0's l2: 9.41131e+07\n",
            "[101]\tvalid_0's l2: 9.41221e+07\n",
            "[102]\tvalid_0's l2: 9.41384e+07\n",
            "[103]\tvalid_0's l2: 9.40897e+07\n",
            "[104]\tvalid_0's l2: 9.40779e+07\n",
            "[105]\tvalid_0's l2: 9.41127e+07\n",
            "[106]\tvalid_0's l2: 9.40721e+07\n",
            "[107]\tvalid_0's l2: 9.41119e+07\n",
            "[108]\tvalid_0's l2: 9.40966e+07\n",
            "[109]\tvalid_0's l2: 9.41243e+07\n",
            "[110]\tvalid_0's l2: 9.41428e+07\n",
            "[111]\tvalid_0's l2: 9.4129e+07\n",
            "[112]\tvalid_0's l2: 9.41289e+07\n",
            "[113]\tvalid_0's l2: 9.41142e+07\n",
            "[114]\tvalid_0's l2: 9.41426e+07\n",
            "[115]\tvalid_0's l2: 9.4158e+07\n",
            "[116]\tvalid_0's l2: 9.41831e+07\n",
            "[117]\tvalid_0's l2: 9.42022e+07\n",
            "[118]\tvalid_0's l2: 9.42318e+07\n",
            "[119]\tvalid_0's l2: 9.42383e+07\n",
            "[120]\tvalid_0's l2: 9.42623e+07\n",
            "[121]\tvalid_0's l2: 9.42618e+07\n",
            "[122]\tvalid_0's l2: 9.42542e+07\n",
            "[123]\tvalid_0's l2: 9.42336e+07\n",
            "[124]\tvalid_0's l2: 9.42501e+07\n",
            "[125]\tvalid_0's l2: 9.42619e+07\n",
            "[126]\tvalid_0's l2: 9.42581e+07\n",
            "[127]\tvalid_0's l2: 9.4268e+07\n",
            "[128]\tvalid_0's l2: 9.42646e+07\n",
            "[129]\tvalid_0's l2: 9.42925e+07\n",
            "[130]\tvalid_0's l2: 9.43246e+07\n",
            "[131]\tvalid_0's l2: 9.4309e+07\n",
            "[132]\tvalid_0's l2: 9.43081e+07\n",
            "[133]\tvalid_0's l2: 9.43042e+07\n",
            "[134]\tvalid_0's l2: 9.4309e+07\n",
            "[135]\tvalid_0's l2: 9.42933e+07\n",
            "[136]\tvalid_0's l2: 9.42797e+07\n",
            "[137]\tvalid_0's l2: 9.4284e+07\n",
            "[138]\tvalid_0's l2: 9.42835e+07\n",
            "[139]\tvalid_0's l2: 9.42867e+07\n",
            "[140]\tvalid_0's l2: 9.42824e+07\n",
            "[141]\tvalid_0's l2: 9.42558e+07\n",
            "[142]\tvalid_0's l2: 9.4266e+07\n",
            "[143]\tvalid_0's l2: 9.4305e+07\n",
            "[144]\tvalid_0's l2: 9.43034e+07\n",
            "[145]\tvalid_0's l2: 9.43173e+07\n",
            "[146]\tvalid_0's l2: 9.43215e+07\n",
            "[147]\tvalid_0's l2: 9.43184e+07\n",
            "[148]\tvalid_0's l2: 9.43292e+07\n",
            "[149]\tvalid_0's l2: 9.43391e+07\n",
            "[150]\tvalid_0's l2: 9.43319e+07\n"
          ]
        }
      ]
    },
    {
      "cell_type": "code",
      "metadata": {
        "colab": {
          "base_uri": "https://localhost:8080/"
        },
        "id": "c0XPkv_9B28y",
        "outputId": "597f3ea4-93c6-4031-8dbd-5a4cb4a35ddc"
      },
      "source": [
        "metric(y_test,y_test_predict_lgbm)"
      ],
      "execution_count": null,
      "outputs": [
        {
          "output_type": "execute_result",
          "data": {
            "text/plain": [
              "77.88837925055638"
            ]
          },
          "metadata": {},
          "execution_count": 89
        }
      ]
    },
    {
      "cell_type": "code",
      "metadata": {
        "colab": {
          "base_uri": "https://localhost:8080/",
          "height": 487
        },
        "id": "jvyZoeuUBy14",
        "outputId": "e2d87818-3f9d-42cc-b33a-b5a71f9cf69a"
      },
      "source": [
        "importances = pd.Series(bst.feature_importance(), index=X_test.columns).sort_values(ascending=False)\n",
        "sns.barplot(y=importances.index, x=importances)\n",
        "pass"
      ],
      "execution_count": null,
      "outputs": [
        {
          "output_type": "display_data",
          "data": {
            "image/png": "[encoded data removed]",
            "text/plain": [
              "<Figure size 1440x720 with 1 Axes>"
            ]
          },
          "metadata": {
            "needs_background": "light"
          }
        }
      ]
    },
    {
      "cell_type": "markdown",
      "metadata": {
        "id": "lDtpBNMamm6W"
      },
      "source": [
        "Попробуем исключить признаки даты (месяц и год)"
      ]
    },
    {
      "cell_type": "code",
      "metadata": {
        "id": "d7dIhFhWB_9A"
      },
      "source": [
        "X_train = train_df.drop(['YEAR', 'MONTH', 'ARTICLE_CODE', 'ARTICLE_NAME','SALES'], axis=1)\n",
        "y_train = train_df['SALES']\n",
        "X_test = test_df.drop(['YEAR', 'MONTH', 'ARTICLE_CODE', 'ARTICLE_NAME', 'SALES'], axis=1)\n",
        "y_test = test_df['SALES']"
      ],
      "execution_count": null,
      "outputs": []
    },
    {
      "cell_type": "code",
      "metadata": {
        "colab": {
          "base_uri": "https://localhost:8080/"
        },
        "id": "YRTVe-ffneEX",
        "outputId": "3c39147c-c7a2-445c-a434-1eaf6054c51b"
      },
      "source": [
        "lg = lgb.LGBMRegressor(silent=False)\n",
        "parametrs = {\"n_estimators\": range(10,200,10)}\n",
        "grid_search_cv = GridSearchCV(lg, n_jobs=-1, param_grid=parametrs, cv=10, scoring=my_scorer)\n",
        "grid_search_cv.fit(X_train,y_train)\n",
        "best_n_estimators = grid_search_cv.best_estimator_.n_estimators\n",
        "print(best_n_estimators)"
      ],
      "execution_count": null,
      "outputs": [
        {
          "output_type": "stream",
          "name": "stdout",
          "text": [
            "190\n"
          ]
        }
      ]
    },
    {
      "cell_type": "code",
      "metadata": {
        "colab": {
          "base_uri": "https://localhost:8080/"
        },
        "id": "KAMnAZ3jneEX",
        "outputId": "edee3eea-533a-4b91-851a-2e49f2021adc"
      },
      "source": [
        "train_data = lgb.Dataset(X_train, label=y_train)\n",
        "validation_data = lgb.Dataset(X_test, label=y_test, reference=train_data)\n",
        "param = {'num_leaves':31, 'objective':'regression', 'learning_rate':0.06}\n",
        "num_round = best_n_estimators\n",
        "cate_features_name = ['CONTRAGENT','ARTICLE_GROUP']\n",
        "bst = lgb.train(param, train_data, num_round, valid_sets=[validation_data], categorical_feature = cate_features_name)\n",
        "y_test_predict_lgbm = bst.predict(X_test)"
      ],
      "execution_count": null,
      "outputs": [
        {
          "output_type": "stream",
          "name": "stdout",
          "text": [
            "[1]\tvalid_0's l2: 1.67241e+08\n",
            "[2]\tvalid_0's l2: 1.58632e+08\n",
            "[3]\tvalid_0's l2: 1.51082e+08\n",
            "[4]\tvalid_0's l2: 1.44295e+08\n",
            "[5]\tvalid_0's l2: 1.38252e+08\n",
            "[6]\tvalid_0's l2: 1.32829e+08\n",
            "[7]\tvalid_0's l2: 1.28114e+08\n",
            "[8]\tvalid_0's l2: 1.23948e+08\n",
            "[9]\tvalid_0's l2: 1.20179e+08\n",
            "[10]\tvalid_0's l2: 1.16839e+08\n",
            "[11]\tvalid_0's l2: 1.13839e+08\n",
            "[12]\tvalid_0's l2: 1.11238e+08\n",
            "[13]\tvalid_0's l2: 1.08872e+08\n",
            "[14]\tvalid_0's l2: 1.06789e+08\n",
            "[15]\tvalid_0's l2: 1.05011e+08\n",
            "[16]\tvalid_0's l2: 1.03352e+08\n",
            "[17]\tvalid_0's l2: 1.01954e+08\n"
          ]
        },
        {
          "output_type": "stream",
          "name": "stderr",
          "text": [
            "/usr/local/lib/python3.7/dist-packages/lightgbm/basic.py:1209: UserWarning: categorical_feature in Dataset is overridden.\n",
            "New categorical_feature is ['ARTICLE_GROUP', 'CONTRAGENT']\n",
            "  'New categorical_feature is {}'.format(sorted(list(categorical_feature))))\n",
            "/usr/local/lib/python3.7/dist-packages/lightgbm/basic.py:762: UserWarning: categorical_feature in param dict is overridden.\n",
            "  warnings.warn('categorical_feature in param dict is overridden.')\n"
          ]
        },
        {
          "output_type": "stream",
          "name": "stdout",
          "text": [
            "[18]\tvalid_0's l2: 1.0069e+08\n",
            "[19]\tvalid_0's l2: 9.9506e+07\n",
            "[20]\tvalid_0's l2: 9.84628e+07\n",
            "[21]\tvalid_0's l2: 9.75994e+07\n",
            "[22]\tvalid_0's l2: 9.67492e+07\n",
            "[23]\tvalid_0's l2: 9.59671e+07\n",
            "[24]\tvalid_0's l2: 9.53498e+07\n",
            "[25]\tvalid_0's l2: 9.46776e+07\n",
            "[26]\tvalid_0's l2: 9.40963e+07\n",
            "[27]\tvalid_0's l2: 9.36508e+07\n",
            "[28]\tvalid_0's l2: 9.31992e+07\n",
            "[29]\tvalid_0's l2: 9.28034e+07\n",
            "[30]\tvalid_0's l2: 9.24034e+07\n",
            "[31]\tvalid_0's l2: 9.21041e+07\n",
            "[32]\tvalid_0's l2: 9.17745e+07\n",
            "[33]\tvalid_0's l2: 9.15395e+07\n",
            "[34]\tvalid_0's l2: 9.13096e+07\n",
            "[35]\tvalid_0's l2: 9.11086e+07\n",
            "[36]\tvalid_0's l2: 9.08714e+07\n",
            "[37]\tvalid_0's l2: 9.07188e+07\n",
            "[38]\tvalid_0's l2: 9.0513e+07\n",
            "[39]\tvalid_0's l2: 9.04042e+07\n",
            "[40]\tvalid_0's l2: 9.02377e+07\n",
            "[41]\tvalid_0's l2: 9.00947e+07\n",
            "[42]\tvalid_0's l2: 8.99619e+07\n",
            "[43]\tvalid_0's l2: 8.98684e+07\n",
            "[44]\tvalid_0's l2: 8.97555e+07\n",
            "[45]\tvalid_0's l2: 8.95864e+07\n",
            "[46]\tvalid_0's l2: 8.94849e+07\n",
            "[47]\tvalid_0's l2: 8.94151e+07\n",
            "[48]\tvalid_0's l2: 8.93744e+07\n",
            "[49]\tvalid_0's l2: 8.93163e+07\n",
            "[50]\tvalid_0's l2: 8.92646e+07\n",
            "[51]\tvalid_0's l2: 8.92111e+07\n",
            "[52]\tvalid_0's l2: 8.91802e+07\n",
            "[53]\tvalid_0's l2: 8.9101e+07\n",
            "[54]\tvalid_0's l2: 8.9061e+07\n",
            "[55]\tvalid_0's l2: 8.90208e+07\n",
            "[56]\tvalid_0's l2: 8.89986e+07\n",
            "[57]\tvalid_0's l2: 8.89672e+07\n",
            "[58]\tvalid_0's l2: 8.89239e+07\n",
            "[59]\tvalid_0's l2: 8.88593e+07\n",
            "[60]\tvalid_0's l2: 8.88319e+07\n",
            "[61]\tvalid_0's l2: 8.8825e+07\n",
            "[62]\tvalid_0's l2: 8.88702e+07\n",
            "[63]\tvalid_0's l2: 8.88724e+07\n",
            "[64]\tvalid_0's l2: 8.8822e+07\n",
            "[65]\tvalid_0's l2: 8.87615e+07\n",
            "[66]\tvalid_0's l2: 8.8759e+07\n",
            "[67]\tvalid_0's l2: 8.87104e+07\n",
            "[68]\tvalid_0's l2: 8.8689e+07\n",
            "[69]\tvalid_0's l2: 8.86688e+07\n",
            "[70]\tvalid_0's l2: 8.86854e+07\n",
            "[71]\tvalid_0's l2: 8.86932e+07\n",
            "[72]\tvalid_0's l2: 8.86732e+07\n",
            "[73]\tvalid_0's l2: 8.86539e+07\n",
            "[74]\tvalid_0's l2: 8.86673e+07\n",
            "[75]\tvalid_0's l2: 8.86601e+07\n",
            "[76]\tvalid_0's l2: 8.86529e+07\n",
            "[77]\tvalid_0's l2: 8.86168e+07\n",
            "[78]\tvalid_0's l2: 8.8625e+07\n",
            "[79]\tvalid_0's l2: 8.86389e+07\n",
            "[80]\tvalid_0's l2: 8.863e+07\n",
            "[81]\tvalid_0's l2: 8.86316e+07\n",
            "[82]\tvalid_0's l2: 8.86158e+07\n",
            "[83]\tvalid_0's l2: 8.86387e+07\n",
            "[84]\tvalid_0's l2: 8.86422e+07\n",
            "[85]\tvalid_0's l2: 8.86171e+07\n",
            "[86]\tvalid_0's l2: 8.86152e+07\n",
            "[87]\tvalid_0's l2: 8.8612e+07\n",
            "[88]\tvalid_0's l2: 8.86239e+07\n",
            "[89]\tvalid_0's l2: 8.86481e+07\n",
            "[90]\tvalid_0's l2: 8.86582e+07\n",
            "[91]\tvalid_0's l2: 8.86599e+07\n",
            "[92]\tvalid_0's l2: 8.86129e+07\n",
            "[93]\tvalid_0's l2: 8.86196e+07\n",
            "[94]\tvalid_0's l2: 8.86334e+07\n",
            "[95]\tvalid_0's l2: 8.86448e+07\n",
            "[96]\tvalid_0's l2: 8.86578e+07\n",
            "[97]\tvalid_0's l2: 8.86671e+07\n",
            "[98]\tvalid_0's l2: 8.86321e+07\n",
            "[99]\tvalid_0's l2: 8.86233e+07\n",
            "[100]\tvalid_0's l2: 8.86273e+07\n",
            "[101]\tvalid_0's l2: 8.86066e+07\n",
            "[102]\tvalid_0's l2: 8.86086e+07\n",
            "[103]\tvalid_0's l2: 8.86175e+07\n",
            "[104]\tvalid_0's l2: 8.86096e+07\n",
            "[105]\tvalid_0's l2: 8.86212e+07\n",
            "[106]\tvalid_0's l2: 8.86242e+07\n",
            "[107]\tvalid_0's l2: 8.86081e+07\n",
            "[108]\tvalid_0's l2: 8.86106e+07\n",
            "[109]\tvalid_0's l2: 8.85925e+07\n",
            "[110]\tvalid_0's l2: 8.85906e+07\n",
            "[111]\tvalid_0's l2: 8.85834e+07\n",
            "[112]\tvalid_0's l2: 8.85997e+07\n",
            "[113]\tvalid_0's l2: 8.85886e+07\n",
            "[114]\tvalid_0's l2: 8.86009e+07\n",
            "[115]\tvalid_0's l2: 8.86052e+07\n",
            "[116]\tvalid_0's l2: 8.85778e+07\n",
            "[117]\tvalid_0's l2: 8.85781e+07\n",
            "[118]\tvalid_0's l2: 8.85833e+07\n",
            "[119]\tvalid_0's l2: 8.85683e+07\n",
            "[120]\tvalid_0's l2: 8.85508e+07\n",
            "[121]\tvalid_0's l2: 8.85608e+07\n",
            "[122]\tvalid_0's l2: 8.85638e+07\n",
            "[123]\tvalid_0's l2: 8.85644e+07\n",
            "[124]\tvalid_0's l2: 8.85571e+07\n",
            "[125]\tvalid_0's l2: 8.85824e+07\n",
            "[126]\tvalid_0's l2: 8.85694e+07\n",
            "[127]\tvalid_0's l2: 8.85757e+07\n",
            "[128]\tvalid_0's l2: 8.85782e+07\n",
            "[129]\tvalid_0's l2: 8.8579e+07\n",
            "[130]\tvalid_0's l2: 8.85865e+07\n",
            "[131]\tvalid_0's l2: 8.85728e+07\n",
            "[132]\tvalid_0's l2: 8.85861e+07\n",
            "[133]\tvalid_0's l2: 8.85889e+07\n",
            "[134]\tvalid_0's l2: 8.85769e+07\n",
            "[135]\tvalid_0's l2: 8.85661e+07\n",
            "[136]\tvalid_0's l2: 8.85916e+07\n",
            "[137]\tvalid_0's l2: 8.85992e+07\n",
            "[138]\tvalid_0's l2: 8.86161e+07\n",
            "[139]\tvalid_0's l2: 8.86347e+07\n",
            "[140]\tvalid_0's l2: 8.86234e+07\n",
            "[141]\tvalid_0's l2: 8.86251e+07\n",
            "[142]\tvalid_0's l2: 8.86241e+07\n",
            "[143]\tvalid_0's l2: 8.86396e+07\n",
            "[144]\tvalid_0's l2: 8.86493e+07\n",
            "[145]\tvalid_0's l2: 8.86647e+07\n",
            "[146]\tvalid_0's l2: 8.86602e+07\n",
            "[147]\tvalid_0's l2: 8.86883e+07\n",
            "[148]\tvalid_0's l2: 8.86778e+07\n",
            "[149]\tvalid_0's l2: 8.86876e+07\n",
            "[150]\tvalid_0's l2: 8.86854e+07\n",
            "[151]\tvalid_0's l2: 8.86934e+07\n",
            "[152]\tvalid_0's l2: 8.87061e+07\n",
            "[153]\tvalid_0's l2: 8.87054e+07\n",
            "[154]\tvalid_0's l2: 8.87003e+07\n",
            "[155]\tvalid_0's l2: 8.87165e+07\n",
            "[156]\tvalid_0's l2: 8.87134e+07\n",
            "[157]\tvalid_0's l2: 8.8748e+07\n",
            "[158]\tvalid_0's l2: 8.87633e+07\n",
            "[159]\tvalid_0's l2: 8.87652e+07\n",
            "[160]\tvalid_0's l2: 8.87723e+07\n",
            "[161]\tvalid_0's l2: 8.87675e+07\n",
            "[162]\tvalid_0's l2: 8.87664e+07\n",
            "[163]\tvalid_0's l2: 8.87853e+07\n",
            "[164]\tvalid_0's l2: 8.87805e+07\n",
            "[165]\tvalid_0's l2: 8.87825e+07\n",
            "[166]\tvalid_0's l2: 8.87844e+07\n",
            "[167]\tvalid_0's l2: 8.87855e+07\n",
            "[168]\tvalid_0's l2: 8.87705e+07\n",
            "[169]\tvalid_0's l2: 8.88044e+07\n",
            "[170]\tvalid_0's l2: 8.8807e+07\n",
            "[171]\tvalid_0's l2: 8.87971e+07\n",
            "[172]\tvalid_0's l2: 8.88168e+07\n",
            "[173]\tvalid_0's l2: 8.88355e+07\n",
            "[174]\tvalid_0's l2: 8.8839e+07\n",
            "[175]\tvalid_0's l2: 8.88545e+07\n",
            "[176]\tvalid_0's l2: 8.88626e+07\n",
            "[177]\tvalid_0's l2: 8.88876e+07\n",
            "[178]\tvalid_0's l2: 8.89104e+07\n",
            "[179]\tvalid_0's l2: 8.89181e+07\n",
            "[180]\tvalid_0's l2: 8.89165e+07\n",
            "[181]\tvalid_0's l2: 8.89281e+07\n",
            "[182]\tvalid_0's l2: 8.89229e+07\n",
            "[183]\tvalid_0's l2: 8.8929e+07\n",
            "[184]\tvalid_0's l2: 8.89352e+07\n",
            "[185]\tvalid_0's l2: 8.89371e+07\n",
            "[186]\tvalid_0's l2: 8.89375e+07\n",
            "[187]\tvalid_0's l2: 8.89442e+07\n",
            "[188]\tvalid_0's l2: 8.8968e+07\n",
            "[189]\tvalid_0's l2: 8.89738e+07\n",
            "[190]\tvalid_0's l2: 8.89654e+07\n"
          ]
        }
      ]
    },
    {
      "cell_type": "code",
      "metadata": {
        "colab": {
          "base_uri": "https://localhost:8080/"
        },
        "id": "ouZ9FoBDneEX",
        "outputId": "fb787d1e-5236-4636-ace2-556ef5695cf0"
      },
      "source": [
        "metric(y_test,y_test_predict_lgbm)"
      ],
      "execution_count": null,
      "outputs": [
        {
          "output_type": "execute_result",
          "data": {
            "text/plain": [
              "76.10331776351717"
            ]
          },
          "metadata": {},
          "execution_count": 94
        }
      ]
    },
    {
      "cell_type": "markdown",
      "metadata": {
        "id": "NKtffRbcoDEy"
      },
      "source": [
        "Попробуем преобразовать эти признаки месяца и года в один - количество месяцев с момента начала данных"
      ]
    },
    {
      "cell_type": "code",
      "metadata": {
        "id": "zjt3U0s6nVRA"
      },
      "source": [
        "data['DAY'] = 1\n",
        "data['date'] = pd.to_datetime(data[['YEAR', 'MONTH', 'DAY']])\n",
        "data['date_delta'] = round((data['date'] - data['date'].min())/np.timedelta64(1,'M'))"
      ],
      "execution_count": null,
      "outputs": []
    },
    {
      "cell_type": "code",
      "metadata": {
        "id": "3EiP8tPAnVT8"
      },
      "source": [
        "test_df = data.query(\"YEAR == 2018 & MONTH == 2\")\n",
        "train_df = data.drop(test_df.index)"
      ],
      "execution_count": null,
      "outputs": []
    },
    {
      "cell_type": "code",
      "metadata": {
        "id": "z0fLCJQ9pIaK"
      },
      "source": [
        "X_train = train_df.drop(['YEAR', 'MONTH', 'ARTICLE_CODE', 'ARTICLE_NAME','SALES', 'DAY', 'date'], axis=1)\n",
        "y_train = train_df['SALES']\n",
        "X_test = test_df.drop(['YEAR', 'MONTH', 'ARTICLE_CODE', 'ARTICLE_NAME', 'SALES', 'DAY', 'date'], axis=1)\n",
        "y_test = test_df['SALES']"
      ],
      "execution_count": null,
      "outputs": []
    },
    {
      "cell_type": "code",
      "metadata": {
        "colab": {
          "base_uri": "https://localhost:8080/",
          "height": 204
        },
        "id": "VdWBJHBnpTFI",
        "outputId": "d764af14-76b2-455c-eac6-c84df4481577"
      },
      "source": [
        "X_train.head()"
      ],
      "execution_count": null,
      "outputs": [
        {
          "output_type": "execute_result",
          "data": {
            "text/html": [
              "<div>\n",
              "<style scoped>\n",
              "    .dataframe tbody tr th:only-of-type {\n",
              "        vertical-align: middle;\n",
              "    }\n",
              "\n",
              "    .dataframe tbody tr th {\n",
              "        vertical-align: top;\n",
              "    }\n",
              "\n",
              "    .dataframe thead th {\n",
              "        text-align: right;\n",
              "    }\n",
              "</style>\n",
              "<table border=\"1\" class=\"dataframe\">\n",
              "  <thead>\n",
              "    <tr style=\"text-align: right;\">\n",
              "      <th></th>\n",
              "      <th>CONTRAGENT</th>\n",
              "      <th>ARTICLE_GROUP</th>\n",
              "      <th>STORE_SALES</th>\n",
              "      <th>date_delta</th>\n",
              "    </tr>\n",
              "  </thead>\n",
              "  <tbody>\n",
              "    <tr>\n",
              "      <th>0</th>\n",
              "      <td>ROYAL WINE CORP</td>\n",
              "      <td>WINE</td>\n",
              "      <td>0.0</td>\n",
              "      <td>0.0</td>\n",
              "    </tr>\n",
              "    <tr>\n",
              "      <th>1</th>\n",
              "      <td>SANTA MARGHERITA USA INC</td>\n",
              "      <td>WINE</td>\n",
              "      <td>0.0</td>\n",
              "      <td>0.0</td>\n",
              "    </tr>\n",
              "    <tr>\n",
              "      <th>2</th>\n",
              "      <td>JIM BEAM BRANDS CO</td>\n",
              "      <td>LIQUOR</td>\n",
              "      <td>0.0</td>\n",
              "      <td>0.0</td>\n",
              "    </tr>\n",
              "    <tr>\n",
              "      <th>3</th>\n",
              "      <td>HEAVEN HILL DISTILLERIES INC</td>\n",
              "      <td>LIQUOR</td>\n",
              "      <td>0.0</td>\n",
              "      <td>0.0</td>\n",
              "    </tr>\n",
              "    <tr>\n",
              "      <th>4</th>\n",
              "      <td>ROYAL WINE CORP</td>\n",
              "      <td>WINE</td>\n",
              "      <td>0.0</td>\n",
              "      <td>0.0</td>\n",
              "    </tr>\n",
              "  </tbody>\n",
              "</table>\n",
              "</div>"
            ],
            "text/plain": [
              "                     CONTRAGENT ARTICLE_GROUP  STORE_SALES  date_delta\n",
              "0               ROYAL WINE CORP          WINE          0.0         0.0\n",
              "1      SANTA MARGHERITA USA INC          WINE          0.0         0.0\n",
              "2            JIM BEAM BRANDS CO        LIQUOR          0.0         0.0\n",
              "3  HEAVEN HILL DISTILLERIES INC        LIQUOR          0.0         0.0\n",
              "4               ROYAL WINE CORP          WINE          0.0         0.0"
            ]
          },
          "metadata": {},
          "execution_count": 99
        }
      ]
    },
    {
      "cell_type": "code",
      "metadata": {
        "colab": {
          "base_uri": "https://localhost:8080/"
        },
        "id": "IzQDYvYkpIaT",
        "outputId": "4f235d9f-cf84-41b4-a065-878aaf4bd841"
      },
      "source": [
        "lg = lgb.LGBMRegressor(silent=False)\n",
        "parametrs = {\"n_estimators\": range(10,200,10)}\n",
        "grid_search_cv = GridSearchCV(lg, n_jobs=-1, param_grid=parametrs, cv=10, scoring=my_scorer)\n",
        "grid_search_cv.fit(X_train,y_train)\n",
        "best_n_estimators = grid_search_cv.best_estimator_.n_estimators\n",
        "print(best_n_estimators)"
      ],
      "execution_count": null,
      "outputs": [
        {
          "output_type": "stream",
          "name": "stdout",
          "text": [
            "160\n"
          ]
        }
      ]
    },
    {
      "cell_type": "code",
      "metadata": {
        "colab": {
          "base_uri": "https://localhost:8080/"
        },
        "id": "B61yNnYjpIaT",
        "outputId": "075d8bad-7a4d-4677-8823-4720436a2349"
      },
      "source": [
        "train_data = lgb.Dataset(X_train, label=y_train)\n",
        "validation_data = lgb.Dataset(X_test, label=y_test, reference=train_data)\n",
        "param = {'num_leaves':31, 'objective':'regression', 'learning_rate':0.06}\n",
        "num_round = best_n_estimators\n",
        "cate_features_name = ['CONTRAGENT','ARTICLE_GROUP']\n",
        "bst = lgb.train(param, train_data, num_round, valid_sets=[validation_data], categorical_feature = cate_features_name)\n",
        "y_test_predict_lgbm = bst.predict(X_test)"
      ],
      "execution_count": null,
      "outputs": [
        {
          "output_type": "stream",
          "name": "stdout",
          "text": [
            "[1]\tvalid_0's l2: 1.67255e+08\n",
            "[2]\tvalid_0's l2: 1.58646e+08\n",
            "[3]\tvalid_0's l2: 1.5113e+08\n",
            "[4]\tvalid_0's l2: 1.44316e+08\n",
            "[5]\tvalid_0's l2: 1.38331e+08\n",
            "[6]\tvalid_0's l2: 1.32951e+08\n",
            "[7]\tvalid_0's l2: 1.28279e+08\n",
            "[8]\tvalid_0's l2: 1.24034e+08\n",
            "[9]\tvalid_0's l2: 1.20265e+08\n",
            "[10]\tvalid_0's l2: 1.16907e+08\n",
            "[11]\tvalid_0's l2: 1.13957e+08\n",
            "[12]\tvalid_0's l2: 1.11268e+08\n",
            "[13]\tvalid_0's l2: 1.08879e+08\n",
            "[14]\tvalid_0's l2: 1.06854e+08\n",
            "[15]\tvalid_0's l2: 1.05062e+08\n",
            "[16]\tvalid_0's l2: 1.03464e+08\n"
          ]
        },
        {
          "output_type": "stream",
          "name": "stderr",
          "text": [
            "/usr/local/lib/python3.7/dist-packages/lightgbm/basic.py:1209: UserWarning: categorical_feature in Dataset is overridden.\n",
            "New categorical_feature is ['ARTICLE_GROUP', 'CONTRAGENT']\n",
            "  'New categorical_feature is {}'.format(sorted(list(categorical_feature))))\n",
            "/usr/local/lib/python3.7/dist-packages/lightgbm/basic.py:762: UserWarning: categorical_feature in param dict is overridden.\n",
            "  warnings.warn('categorical_feature in param dict is overridden.')\n"
          ]
        },
        {
          "output_type": "stream",
          "name": "stdout",
          "text": [
            "[17]\tvalid_0's l2: 1.01953e+08\n",
            "[18]\tvalid_0's l2: 1.00599e+08\n",
            "[19]\tvalid_0's l2: 9.9633e+07\n",
            "[20]\tvalid_0's l2: 9.85786e+07\n",
            "[21]\tvalid_0's l2: 9.77669e+07\n",
            "[22]\tvalid_0's l2: 9.70166e+07\n",
            "[23]\tvalid_0's l2: 9.62614e+07\n",
            "[24]\tvalid_0's l2: 9.55968e+07\n",
            "[25]\tvalid_0's l2: 9.49692e+07\n",
            "[26]\tvalid_0's l2: 9.44296e+07\n",
            "[27]\tvalid_0's l2: 9.39327e+07\n",
            "[28]\tvalid_0's l2: 9.35215e+07\n",
            "[29]\tvalid_0's l2: 9.31736e+07\n",
            "[30]\tvalid_0's l2: 9.28234e+07\n",
            "[31]\tvalid_0's l2: 9.24684e+07\n",
            "[32]\tvalid_0's l2: 9.21798e+07\n",
            "[33]\tvalid_0's l2: 9.18602e+07\n",
            "[34]\tvalid_0's l2: 9.1619e+07\n",
            "[35]\tvalid_0's l2: 9.14168e+07\n",
            "[36]\tvalid_0's l2: 9.12016e+07\n",
            "[37]\tvalid_0's l2: 9.09778e+07\n",
            "[38]\tvalid_0's l2: 9.08738e+07\n",
            "[39]\tvalid_0's l2: 9.06752e+07\n",
            "[40]\tvalid_0's l2: 9.05924e+07\n",
            "[41]\tvalid_0's l2: 9.0463e+07\n",
            "[42]\tvalid_0's l2: 9.03621e+07\n",
            "[43]\tvalid_0's l2: 9.02478e+07\n",
            "[44]\tvalid_0's l2: 9.01712e+07\n",
            "[45]\tvalid_0's l2: 9.01239e+07\n",
            "[46]\tvalid_0's l2: 9.00156e+07\n",
            "[47]\tvalid_0's l2: 8.99489e+07\n",
            "[48]\tvalid_0's l2: 8.98435e+07\n",
            "[49]\tvalid_0's l2: 8.97321e+07\n",
            "[50]\tvalid_0's l2: 8.96175e+07\n",
            "[51]\tvalid_0's l2: 8.94977e+07\n",
            "[52]\tvalid_0's l2: 8.94037e+07\n",
            "[53]\tvalid_0's l2: 8.93145e+07\n",
            "[54]\tvalid_0's l2: 8.92371e+07\n",
            "[55]\tvalid_0's l2: 8.91963e+07\n",
            "[56]\tvalid_0's l2: 8.91313e+07\n",
            "[57]\tvalid_0's l2: 8.91186e+07\n",
            "[58]\tvalid_0's l2: 8.90308e+07\n",
            "[59]\tvalid_0's l2: 8.89975e+07\n",
            "[60]\tvalid_0's l2: 8.88891e+07\n",
            "[61]\tvalid_0's l2: 8.88735e+07\n",
            "[62]\tvalid_0's l2: 8.88356e+07\n",
            "[63]\tvalid_0's l2: 8.88009e+07\n",
            "[64]\tvalid_0's l2: 8.87924e+07\n",
            "[65]\tvalid_0's l2: 8.87364e+07\n",
            "[66]\tvalid_0's l2: 8.87031e+07\n",
            "[67]\tvalid_0's l2: 8.86299e+07\n",
            "[68]\tvalid_0's l2: 8.86306e+07\n",
            "[69]\tvalid_0's l2: 8.86029e+07\n",
            "[70]\tvalid_0's l2: 8.86177e+07\n",
            "[71]\tvalid_0's l2: 8.85749e+07\n",
            "[72]\tvalid_0's l2: 8.85207e+07\n",
            "[73]\tvalid_0's l2: 8.84775e+07\n",
            "[74]\tvalid_0's l2: 8.84511e+07\n",
            "[75]\tvalid_0's l2: 8.84445e+07\n",
            "[76]\tvalid_0's l2: 8.84356e+07\n",
            "[77]\tvalid_0's l2: 8.83885e+07\n",
            "[78]\tvalid_0's l2: 8.83098e+07\n",
            "[79]\tvalid_0's l2: 8.82865e+07\n",
            "[80]\tvalid_0's l2: 8.82906e+07\n",
            "[81]\tvalid_0's l2: 8.82574e+07\n",
            "[82]\tvalid_0's l2: 8.8262e+07\n",
            "[83]\tvalid_0's l2: 8.82355e+07\n",
            "[84]\tvalid_0's l2: 8.82339e+07\n",
            "[85]\tvalid_0's l2: 8.82111e+07\n",
            "[86]\tvalid_0's l2: 8.82238e+07\n",
            "[87]\tvalid_0's l2: 8.81797e+07\n",
            "[88]\tvalid_0's l2: 8.81242e+07\n",
            "[89]\tvalid_0's l2: 8.81106e+07\n",
            "[90]\tvalid_0's l2: 8.81188e+07\n",
            "[91]\tvalid_0's l2: 8.81029e+07\n",
            "[92]\tvalid_0's l2: 8.80953e+07\n",
            "[93]\tvalid_0's l2: 8.80861e+07\n",
            "[94]\tvalid_0's l2: 8.80854e+07\n",
            "[95]\tvalid_0's l2: 8.80837e+07\n",
            "[96]\tvalid_0's l2: 8.80626e+07\n",
            "[97]\tvalid_0's l2: 8.80293e+07\n",
            "[98]\tvalid_0's l2: 8.80184e+07\n",
            "[99]\tvalid_0's l2: 8.80069e+07\n",
            "[100]\tvalid_0's l2: 8.80126e+07\n",
            "[101]\tvalid_0's l2: 8.80167e+07\n",
            "[102]\tvalid_0's l2: 8.80064e+07\n",
            "[103]\tvalid_0's l2: 8.80051e+07\n",
            "[104]\tvalid_0's l2: 8.79806e+07\n",
            "[105]\tvalid_0's l2: 8.79903e+07\n",
            "[106]\tvalid_0's l2: 8.7949e+07\n",
            "[107]\tvalid_0's l2: 8.79498e+07\n",
            "[108]\tvalid_0's l2: 8.79379e+07\n",
            "[109]\tvalid_0's l2: 8.79766e+07\n",
            "[110]\tvalid_0's l2: 8.79954e+07\n",
            "[111]\tvalid_0's l2: 8.79799e+07\n",
            "[112]\tvalid_0's l2: 8.79821e+07\n",
            "[113]\tvalid_0's l2: 8.79299e+07\n",
            "[114]\tvalid_0's l2: 8.79158e+07\n",
            "[115]\tvalid_0's l2: 8.79157e+07\n",
            "[116]\tvalid_0's l2: 8.79133e+07\n",
            "[117]\tvalid_0's l2: 8.79138e+07\n",
            "[118]\tvalid_0's l2: 8.79024e+07\n",
            "[119]\tvalid_0's l2: 8.78978e+07\n",
            "[120]\tvalid_0's l2: 8.79075e+07\n",
            "[121]\tvalid_0's l2: 8.7925e+07\n",
            "[122]\tvalid_0's l2: 8.79294e+07\n",
            "[123]\tvalid_0's l2: 8.79426e+07\n",
            "[124]\tvalid_0's l2: 8.78998e+07\n",
            "[125]\tvalid_0's l2: 8.78886e+07\n",
            "[126]\tvalid_0's l2: 8.79038e+07\n",
            "[127]\tvalid_0's l2: 8.79002e+07\n",
            "[128]\tvalid_0's l2: 8.79199e+07\n",
            "[129]\tvalid_0's l2: 8.79213e+07\n",
            "[130]\tvalid_0's l2: 8.79199e+07\n",
            "[131]\tvalid_0's l2: 8.79063e+07\n",
            "[132]\tvalid_0's l2: 8.78872e+07\n",
            "[133]\tvalid_0's l2: 8.79099e+07\n",
            "[134]\tvalid_0's l2: 8.79215e+07\n",
            "[135]\tvalid_0's l2: 8.7907e+07\n",
            "[136]\tvalid_0's l2: 8.79232e+07\n",
            "[137]\tvalid_0's l2: 8.79158e+07\n",
            "[138]\tvalid_0's l2: 8.78871e+07\n",
            "[139]\tvalid_0's l2: 8.79e+07\n",
            "[140]\tvalid_0's l2: 8.78861e+07\n",
            "[141]\tvalid_0's l2: 8.79337e+07\n",
            "[142]\tvalid_0's l2: 8.79261e+07\n",
            "[143]\tvalid_0's l2: 8.79127e+07\n",
            "[144]\tvalid_0's l2: 8.79325e+07\n",
            "[145]\tvalid_0's l2: 8.79174e+07\n",
            "[146]\tvalid_0's l2: 8.79217e+07\n",
            "[147]\tvalid_0's l2: 8.79374e+07\n",
            "[148]\tvalid_0's l2: 8.79373e+07\n",
            "[149]\tvalid_0's l2: 8.79368e+07\n",
            "[150]\tvalid_0's l2: 8.79255e+07\n",
            "[151]\tvalid_0's l2: 8.79268e+07\n",
            "[152]\tvalid_0's l2: 8.79254e+07\n",
            "[153]\tvalid_0's l2: 8.79122e+07\n",
            "[154]\tvalid_0's l2: 8.7938e+07\n",
            "[155]\tvalid_0's l2: 8.79616e+07\n",
            "[156]\tvalid_0's l2: 8.79765e+07\n",
            "[157]\tvalid_0's l2: 8.79671e+07\n",
            "[158]\tvalid_0's l2: 8.79727e+07\n",
            "[159]\tvalid_0's l2: 8.80048e+07\n",
            "[160]\tvalid_0's l2: 8.80519e+07\n"
          ]
        }
      ]
    },
    {
      "cell_type": "code",
      "metadata": {
        "colab": {
          "base_uri": "https://localhost:8080/"
        },
        "id": "1GcsDAH8pIaT",
        "outputId": "27bfbd76-b70c-4472-d62d-0fd06e0c533d"
      },
      "source": [
        "metric(y_test,y_test_predict_lgbm)"
      ],
      "execution_count": null,
      "outputs": [
        {
          "output_type": "execute_result",
          "data": {
            "text/plain": [
              "80.13773842182673"
            ]
          },
          "metadata": {},
          "execution_count": 102
        }
      ]
    },
    {
      "cell_type": "code",
      "metadata": {
        "colab": {
          "base_uri": "https://localhost:8080/",
          "height": 487
        },
        "id": "5hj3YH8PpIaT",
        "outputId": "9a02ab54-5327-4981-e85b-088e97655887"
      },
      "source": [
        "importances = pd.Series(bst.feature_importance(), index=X_test.columns).sort_values(ascending=False)\n",
        "sns.barplot(y=importances.index, x=importances)\n",
        "pass"
      ],
      "execution_count": null,
      "outputs": [
        {
          "output_type": "display_data",
          "data": {
            "image/png": "[encoded data removed]",
            "text/plain": [
              "<Figure size 1440x720 with 1 Axes>"
            ]
          },
          "metadata": {
            "needs_background": "light"
          }
        }
      ]
    },
    {
      "cell_type": "markdown",
      "metadata": {
        "id": "UMg7FjyQIkqk"
      },
      "source": [
        "Значение метрики ухудшилось. Но значимость признака date_delta возросла по сравнению с значимостью признаков YEAR и MONTH"
      ]
    },
    {
      "cell_type": "markdown",
      "metadata": {
        "id": "BbDxSOKEqTB7"
      },
      "source": [
        "Воспользуемся one-hot-encoding для признака ARTICLE_GROUP"
      ]
    },
    {
      "cell_type": "code",
      "metadata": {
        "id": "NcELliDlnVZv"
      },
      "source": [
        "data = pd.get_dummies(data, prefix='ART_GROUP', columns=['ARTICLE_GROUP'])"
      ],
      "execution_count": null,
      "outputs": []
    },
    {
      "cell_type": "code",
      "metadata": {
        "id": "DGeaCxfxqoGm"
      },
      "source": [
        "test_df = data.query(\"YEAR == 2018 & MONTH == 2\")\n",
        "train_df = data.drop(test_df.index)"
      ],
      "execution_count": null,
      "outputs": []
    },
    {
      "cell_type": "code",
      "metadata": {
        "id": "zHi9oNprqoGn"
      },
      "source": [
        "X_train = train_df.drop(['YEAR', 'MONTH', 'ARTICLE_CODE', 'ARTICLE_NAME','SALES', 'DAY', 'date'], axis=1)\n",
        "y_train = train_df['SALES']\n",
        "X_test = test_df.drop(['YEAR', 'MONTH', 'ARTICLE_CODE', 'ARTICLE_NAME', 'SALES', 'DAY', 'date'], axis=1)\n",
        "y_test = test_df['SALES']"
      ],
      "execution_count": null,
      "outputs": []
    },
    {
      "cell_type": "code",
      "metadata": {
        "colab": {
          "base_uri": "https://localhost:8080/",
          "height": 360
        },
        "id": "YNf8D12gqoGn",
        "outputId": "b6278b1c-2774-4451-b556-a1d8d53d95c2"
      },
      "source": [
        "X_train.head()"
      ],
      "execution_count": null,
      "outputs": [
        {
          "output_type": "execute_result",
          "data": {
            "text/html": [
              "<div>\n",
              "<style scoped>\n",
              "    .dataframe tbody tr th:only-of-type {\n",
              "        vertical-align: middle;\n",
              "    }\n",
              "\n",
              "    .dataframe tbody tr th {\n",
              "        vertical-align: top;\n",
              "    }\n",
              "\n",
              "    .dataframe thead th {\n",
              "        text-align: right;\n",
              "    }\n",
              "</style>\n",
              "<table border=\"1\" class=\"dataframe\">\n",
              "  <thead>\n",
              "    <tr style=\"text-align: right;\">\n",
              "      <th></th>\n",
              "      <th>CONTRAGENT</th>\n",
              "      <th>STORE_SALES</th>\n",
              "      <th>date_delta</th>\n",
              "      <th>ART_GROUP_BEER</th>\n",
              "      <th>ART_GROUP_KEGS</th>\n",
              "      <th>ART_GROUP_LIQUOR</th>\n",
              "      <th>ART_GROUP_NON-ALCOHOL</th>\n",
              "      <th>ART_GROUP_REF</th>\n",
              "      <th>ART_GROUP_STR_SUPPLIES</th>\n",
              "      <th>ART_GROUP_WINE</th>\n",
              "    </tr>\n",
              "  </thead>\n",
              "  <tbody>\n",
              "    <tr>\n",
              "      <th>0</th>\n",
              "      <td>ROYAL WINE CORP</td>\n",
              "      <td>0.0</td>\n",
              "      <td>0.0</td>\n",
              "      <td>0</td>\n",
              "      <td>0</td>\n",
              "      <td>0</td>\n",
              "      <td>0</td>\n",
              "      <td>0</td>\n",
              "      <td>0</td>\n",
              "      <td>1</td>\n",
              "    </tr>\n",
              "    <tr>\n",
              "      <th>1</th>\n",
              "      <td>SANTA MARGHERITA USA INC</td>\n",
              "      <td>0.0</td>\n",
              "      <td>0.0</td>\n",
              "      <td>0</td>\n",
              "      <td>0</td>\n",
              "      <td>0</td>\n",
              "      <td>0</td>\n",
              "      <td>0</td>\n",
              "      <td>0</td>\n",
              "      <td>1</td>\n",
              "    </tr>\n",
              "    <tr>\n",
              "      <th>2</th>\n",
              "      <td>JIM BEAM BRANDS CO</td>\n",
              "      <td>0.0</td>\n",
              "      <td>0.0</td>\n",
              "      <td>0</td>\n",
              "      <td>0</td>\n",
              "      <td>1</td>\n",
              "      <td>0</td>\n",
              "      <td>0</td>\n",
              "      <td>0</td>\n",
              "      <td>0</td>\n",
              "    </tr>\n",
              "    <tr>\n",
              "      <th>3</th>\n",
              "      <td>HEAVEN HILL DISTILLERIES INC</td>\n",
              "      <td>0.0</td>\n",
              "      <td>0.0</td>\n",
              "      <td>0</td>\n",
              "      <td>0</td>\n",
              "      <td>1</td>\n",
              "      <td>0</td>\n",
              "      <td>0</td>\n",
              "      <td>0</td>\n",
              "      <td>0</td>\n",
              "    </tr>\n",
              "    <tr>\n",
              "      <th>4</th>\n",
              "      <td>ROYAL WINE CORP</td>\n",
              "      <td>0.0</td>\n",
              "      <td>0.0</td>\n",
              "      <td>0</td>\n",
              "      <td>0</td>\n",
              "      <td>0</td>\n",
              "      <td>0</td>\n",
              "      <td>0</td>\n",
              "      <td>0</td>\n",
              "      <td>1</td>\n",
              "    </tr>\n",
              "  </tbody>\n",
              "</table>\n",
              "</div>"
            ],
            "text/plain": [
              "                     CONTRAGENT  ...  ART_GROUP_WINE\n",
              "0               ROYAL WINE CORP  ...               1\n",
              "1      SANTA MARGHERITA USA INC  ...               1\n",
              "2            JIM BEAM BRANDS CO  ...               0\n",
              "3  HEAVEN HILL DISTILLERIES INC  ...               0\n",
              "4               ROYAL WINE CORP  ...               1\n",
              "\n",
              "[5 rows x 10 columns]"
            ]
          },
          "metadata": {},
          "execution_count": 107
        }
      ]
    },
    {
      "cell_type": "code",
      "metadata": {
        "colab": {
          "base_uri": "https://localhost:8080/"
        },
        "id": "xuTDa6CrqoGn",
        "outputId": "4666a625-894b-454f-dfd2-3ab5060365f0"
      },
      "source": [
        "lg = lgb.LGBMRegressor(silent=False)\n",
        "parametrs = {\"n_estimators\": range(10,200,10)}\n",
        "grid_search_cv = GridSearchCV(lg, n_jobs=-1, param_grid=parametrs, cv=10, scoring=my_scorer)\n",
        "grid_search_cv.fit(X_train,y_train)\n",
        "best_n_estimators = grid_search_cv.best_estimator_.n_estimators\n",
        "print(best_n_estimators)"
      ],
      "execution_count": null,
      "outputs": [
        {
          "output_type": "stream",
          "name": "stdout",
          "text": [
            "160\n"
          ]
        }
      ]
    },
    {
      "cell_type": "code",
      "metadata": {
        "colab": {
          "base_uri": "https://localhost:8080/"
        },
        "id": "Mde5BHY3qoGo",
        "outputId": "b7d5b706-a778-4259-b66f-a530919e3a5c"
      },
      "source": [
        "train_data = lgb.Dataset(X_train, label=y_train)\n",
        "validation_data = lgb.Dataset(X_test, label=y_test, reference=train_data)\n",
        "param = {'num_leaves':31, 'objective':'regression', 'learning_rate':0.06}\n",
        "num_round = best_n_estimators\n",
        "cate_features_name = ['CONTRAGENT']\n",
        "bst = lgb.train(param, train_data, num_round, valid_sets=[validation_data], categorical_feature = cate_features_name)\n",
        "y_test_predict_lgbm = bst.predict(X_test)"
      ],
      "execution_count": null,
      "outputs": [
        {
          "output_type": "stream",
          "name": "stdout",
          "text": [
            "[1]\tvalid_0's l2: 1.67267e+08\n",
            "[2]\tvalid_0's l2: 1.58658e+08\n",
            "[3]\tvalid_0's l2: 1.51084e+08\n",
            "[4]\tvalid_0's l2: 1.44208e+08\n",
            "[5]\tvalid_0's l2: 1.38167e+08\n",
            "[6]\tvalid_0's l2: 1.32879e+08\n",
            "[7]\tvalid_0's l2: 1.28026e+08\n",
            "[8]\tvalid_0's l2: 1.23766e+08\n",
            "[9]\tvalid_0's l2: 1.20034e+08\n",
            "[10]\tvalid_0's l2: 1.16686e+08\n",
            "[11]\tvalid_0's l2: 1.13773e+08\n",
            "[12]\tvalid_0's l2: 1.11148e+08\n",
            "[13]\tvalid_0's l2: 1.08768e+08\n"
          ]
        },
        {
          "output_type": "stream",
          "name": "stderr",
          "text": [
            "/usr/local/lib/python3.7/dist-packages/lightgbm/basic.py:1209: UserWarning: categorical_feature in Dataset is overridden.\n",
            "New categorical_feature is ['CONTRAGENT']\n",
            "  'New categorical_feature is {}'.format(sorted(list(categorical_feature))))\n",
            "/usr/local/lib/python3.7/dist-packages/lightgbm/basic.py:762: UserWarning: categorical_feature in param dict is overridden.\n",
            "  warnings.warn('categorical_feature in param dict is overridden.')\n"
          ]
        },
        {
          "output_type": "stream",
          "name": "stdout",
          "text": [
            "[14]\tvalid_0's l2: 1.06587e+08\n",
            "[15]\tvalid_0's l2: 1.04711e+08\n",
            "[16]\tvalid_0's l2: 1.03046e+08\n",
            "[17]\tvalid_0's l2: 1.01562e+08\n",
            "[18]\tvalid_0's l2: 1.0031e+08\n",
            "[19]\tvalid_0's l2: 9.91308e+07\n",
            "[20]\tvalid_0's l2: 9.80926e+07\n",
            "[21]\tvalid_0's l2: 9.72543e+07\n",
            "[22]\tvalid_0's l2: 9.65214e+07\n",
            "[23]\tvalid_0's l2: 9.57905e+07\n",
            "[24]\tvalid_0's l2: 9.51242e+07\n",
            "[25]\tvalid_0's l2: 9.45637e+07\n",
            "[26]\tvalid_0's l2: 9.39954e+07\n",
            "[27]\tvalid_0's l2: 9.3539e+07\n",
            "[28]\tvalid_0's l2: 9.30771e+07\n",
            "[29]\tvalid_0's l2: 9.27098e+07\n",
            "[30]\tvalid_0's l2: 9.24251e+07\n",
            "[31]\tvalid_0's l2: 9.20909e+07\n",
            "[32]\tvalid_0's l2: 9.17364e+07\n",
            "[33]\tvalid_0's l2: 9.15653e+07\n",
            "[34]\tvalid_0's l2: 9.13693e+07\n",
            "[35]\tvalid_0's l2: 9.11664e+07\n",
            "[36]\tvalid_0's l2: 9.10019e+07\n",
            "[37]\tvalid_0's l2: 9.08326e+07\n",
            "[38]\tvalid_0's l2: 9.0701e+07\n",
            "[39]\tvalid_0's l2: 9.06151e+07\n",
            "[40]\tvalid_0's l2: 9.04559e+07\n",
            "[41]\tvalid_0's l2: 9.0311e+07\n",
            "[42]\tvalid_0's l2: 9.02221e+07\n",
            "[43]\tvalid_0's l2: 9.01533e+07\n",
            "[44]\tvalid_0's l2: 9.01053e+07\n",
            "[45]\tvalid_0's l2: 9.00054e+07\n",
            "[46]\tvalid_0's l2: 8.99312e+07\n",
            "[47]\tvalid_0's l2: 8.98392e+07\n",
            "[48]\tvalid_0's l2: 8.98202e+07\n",
            "[49]\tvalid_0's l2: 8.97332e+07\n",
            "[50]\tvalid_0's l2: 8.96913e+07\n",
            "[51]\tvalid_0's l2: 8.96343e+07\n",
            "[52]\tvalid_0's l2: 8.9583e+07\n",
            "[53]\tvalid_0's l2: 8.95371e+07\n",
            "[54]\tvalid_0's l2: 8.94713e+07\n",
            "[55]\tvalid_0's l2: 8.94642e+07\n",
            "[56]\tvalid_0's l2: 8.9405e+07\n",
            "[57]\tvalid_0's l2: 8.93727e+07\n",
            "[58]\tvalid_0's l2: 8.93112e+07\n",
            "[59]\tvalid_0's l2: 8.92879e+07\n",
            "[60]\tvalid_0's l2: 8.92573e+07\n",
            "[61]\tvalid_0's l2: 8.91817e+07\n",
            "[62]\tvalid_0's l2: 8.9092e+07\n",
            "[63]\tvalid_0's l2: 8.90542e+07\n",
            "[64]\tvalid_0's l2: 8.89782e+07\n",
            "[65]\tvalid_0's l2: 8.89254e+07\n",
            "[66]\tvalid_0's l2: 8.88936e+07\n",
            "[67]\tvalid_0's l2: 8.88136e+07\n",
            "[68]\tvalid_0's l2: 8.88045e+07\n",
            "[69]\tvalid_0's l2: 8.87744e+07\n",
            "[70]\tvalid_0's l2: 8.87402e+07\n",
            "[71]\tvalid_0's l2: 8.87189e+07\n",
            "[72]\tvalid_0's l2: 8.86627e+07\n",
            "[73]\tvalid_0's l2: 8.86525e+07\n",
            "[74]\tvalid_0's l2: 8.8626e+07\n",
            "[75]\tvalid_0's l2: 8.86216e+07\n",
            "[76]\tvalid_0's l2: 8.85984e+07\n",
            "[77]\tvalid_0's l2: 8.85752e+07\n",
            "[78]\tvalid_0's l2: 8.85492e+07\n",
            "[79]\tvalid_0's l2: 8.85389e+07\n",
            "[80]\tvalid_0's l2: 8.85238e+07\n",
            "[81]\tvalid_0's l2: 8.8485e+07\n",
            "[82]\tvalid_0's l2: 8.84911e+07\n",
            "[83]\tvalid_0's l2: 8.84673e+07\n",
            "[84]\tvalid_0's l2: 8.84535e+07\n",
            "[85]\tvalid_0's l2: 8.84422e+07\n",
            "[86]\tvalid_0's l2: 8.84242e+07\n",
            "[87]\tvalid_0's l2: 8.83883e+07\n",
            "[88]\tvalid_0's l2: 8.83809e+07\n",
            "[89]\tvalid_0's l2: 8.83807e+07\n",
            "[90]\tvalid_0's l2: 8.83299e+07\n",
            "[91]\tvalid_0's l2: 8.83098e+07\n",
            "[92]\tvalid_0's l2: 8.83086e+07\n",
            "[93]\tvalid_0's l2: 8.82927e+07\n",
            "[94]\tvalid_0's l2: 8.82791e+07\n",
            "[95]\tvalid_0's l2: 8.82899e+07\n",
            "[96]\tvalid_0's l2: 8.82799e+07\n",
            "[97]\tvalid_0's l2: 8.82683e+07\n",
            "[98]\tvalid_0's l2: 8.82245e+07\n",
            "[99]\tvalid_0's l2: 8.8223e+07\n",
            "[100]\tvalid_0's l2: 8.82272e+07\n",
            "[101]\tvalid_0's l2: 8.82601e+07\n",
            "[102]\tvalid_0's l2: 8.82575e+07\n",
            "[103]\tvalid_0's l2: 8.8259e+07\n",
            "[104]\tvalid_0's l2: 8.82481e+07\n",
            "[105]\tvalid_0's l2: 8.82073e+07\n",
            "[106]\tvalid_0's l2: 8.81881e+07\n",
            "[107]\tvalid_0's l2: 8.82039e+07\n",
            "[108]\tvalid_0's l2: 8.8194e+07\n",
            "[109]\tvalid_0's l2: 8.81754e+07\n",
            "[110]\tvalid_0's l2: 8.81499e+07\n",
            "[111]\tvalid_0's l2: 8.81356e+07\n",
            "[112]\tvalid_0's l2: 8.81352e+07\n",
            "[113]\tvalid_0's l2: 8.81656e+07\n",
            "[114]\tvalid_0's l2: 8.81422e+07\n",
            "[115]\tvalid_0's l2: 8.81067e+07\n",
            "[116]\tvalid_0's l2: 8.80913e+07\n",
            "[117]\tvalid_0's l2: 8.80917e+07\n",
            "[118]\tvalid_0's l2: 8.80816e+07\n",
            "[119]\tvalid_0's l2: 8.80475e+07\n",
            "[120]\tvalid_0's l2: 8.80301e+07\n",
            "[121]\tvalid_0's l2: 8.80392e+07\n",
            "[122]\tvalid_0's l2: 8.80355e+07\n",
            "[123]\tvalid_0's l2: 8.80536e+07\n",
            "[124]\tvalid_0's l2: 8.80922e+07\n",
            "[125]\tvalid_0's l2: 8.80672e+07\n",
            "[126]\tvalid_0's l2: 8.80735e+07\n",
            "[127]\tvalid_0's l2: 8.80589e+07\n",
            "[128]\tvalid_0's l2: 8.80563e+07\n",
            "[129]\tvalid_0's l2: 8.80516e+07\n",
            "[130]\tvalid_0's l2: 8.80839e+07\n",
            "[131]\tvalid_0's l2: 8.80791e+07\n",
            "[132]\tvalid_0's l2: 8.80785e+07\n",
            "[133]\tvalid_0's l2: 8.80768e+07\n",
            "[134]\tvalid_0's l2: 8.80811e+07\n",
            "[135]\tvalid_0's l2: 8.80837e+07\n",
            "[136]\tvalid_0's l2: 8.80787e+07\n",
            "[137]\tvalid_0's l2: 8.80823e+07\n",
            "[138]\tvalid_0's l2: 8.80626e+07\n",
            "[139]\tvalid_0's l2: 8.80645e+07\n",
            "[140]\tvalid_0's l2: 8.80511e+07\n",
            "[141]\tvalid_0's l2: 8.80748e+07\n",
            "[142]\tvalid_0's l2: 8.80879e+07\n",
            "[143]\tvalid_0's l2: 8.80933e+07\n",
            "[144]\tvalid_0's l2: 8.80858e+07\n",
            "[145]\tvalid_0's l2: 8.80864e+07\n",
            "[146]\tvalid_0's l2: 8.80718e+07\n",
            "[147]\tvalid_0's l2: 8.80513e+07\n",
            "[148]\tvalid_0's l2: 8.80493e+07\n",
            "[149]\tvalid_0's l2: 8.80817e+07\n",
            "[150]\tvalid_0's l2: 8.80879e+07\n",
            "[151]\tvalid_0's l2: 8.80966e+07\n",
            "[152]\tvalid_0's l2: 8.80961e+07\n",
            "[153]\tvalid_0's l2: 8.8101e+07\n",
            "[154]\tvalid_0's l2: 8.8109e+07\n",
            "[155]\tvalid_0's l2: 8.8119e+07\n",
            "[156]\tvalid_0's l2: 8.81066e+07\n",
            "[157]\tvalid_0's l2: 8.81081e+07\n",
            "[158]\tvalid_0's l2: 8.81193e+07\n",
            "[159]\tvalid_0's l2: 8.81028e+07\n",
            "[160]\tvalid_0's l2: 8.80949e+07\n"
          ]
        }
      ]
    },
    {
      "cell_type": "code",
      "metadata": {
        "colab": {
          "base_uri": "https://localhost:8080/"
        },
        "id": "KUB_0_LiqoGo",
        "outputId": "ab5811e0-366a-4c81-d0b8-3ea2e16ee238"
      },
      "source": [
        "metric(y_test,y_test_predict_lgbm)"
      ],
      "execution_count": null,
      "outputs": [
        {
          "output_type": "execute_result",
          "data": {
            "text/plain": [
              "80.08497377122352"
            ]
          },
          "metadata": {},
          "execution_count": 110
        }
      ]
    },
    {
      "cell_type": "markdown",
      "metadata": {
        "id": "Nw4_IvX-rUWv"
      },
      "source": [
        "Признак 'CONTRAGENT' имеет 333 уникальных значения. Для его кодировки будем использовать среднее (целевое) кодирование. "
      ]
    },
    {
      "cell_type": "code",
      "metadata": {
        "colab": {
          "base_uri": "https://localhost:8080/"
        },
        "id": "Dt2RtwtLCAB-",
        "outputId": "94b434cd-8190-4ffe-ba77-88645577a79f"
      },
      "source": [
        "mean_encode = data.groupby('CONTRAGENT')['SALES'].mean()\n",
        "mean_encode"
      ],
      "execution_count": null,
      "outputs": [
        {
          "output_type": "execute_result",
          "data": {
            "text/plain": [
              "CONTRAGENT\n",
              "8 VINI INC                      308.888889\n",
              "A HARDY USA LTD                 133.333333\n",
              "A I G WINE & SPIRITS            313.000000\n",
              "A VINTNERS SELECTIONS           993.969641\n",
              "A&E INC                         303.157895\n",
              "                                  ...     \n",
              "WINEBOW INC                     177.142857\n",
              "YOUNG WON TRADING INC          1373.631647\n",
              "YUENGLING BREWERY             14960.393701\n",
              "Z WINE GALLERY IMPORTS LLC      294.333333\n",
              "ZURENA LLC                     1794.444444\n",
              "Name: SALES, Length: 333, dtype: float64"
            ]
          },
          "metadata": {},
          "execution_count": 111
        }
      ]
    },
    {
      "cell_type": "code",
      "metadata": {
        "id": "oBBIvETlrcj3"
      },
      "source": [
        "data.loc[:,'CONTRAGENT_mean_enc'] = data['CONTRAGENT'].map(mean_encode)"
      ],
      "execution_count": null,
      "outputs": []
    },
    {
      "cell_type": "code",
      "metadata": {
        "id": "5DKiuYv-rkA9"
      },
      "source": [
        "test_df = data.query(\"YEAR == 2018 & MONTH == 2\")\n",
        "train_df = data.drop(test_df.index)"
      ],
      "execution_count": null,
      "outputs": []
    },
    {
      "cell_type": "code",
      "metadata": {
        "id": "oyKvm5VPrkA9"
      },
      "source": [
        "X_train = train_df.drop(['CONTRAGENT', 'YEAR', 'MONTH', 'ARTICLE_CODE', 'ARTICLE_NAME','SALES', 'DAY', 'date'], axis=1)\n",
        "y_train = train_df['SALES']\n",
        "X_test = test_df.drop(['CONTRAGENT', 'YEAR', 'MONTH', 'ARTICLE_CODE', 'ARTICLE_NAME', 'SALES', 'DAY', 'date'], axis=1)\n",
        "y_test = test_df['SALES']"
      ],
      "execution_count": null,
      "outputs": []
    },
    {
      "cell_type": "code",
      "metadata": {
        "colab": {
          "base_uri": "https://localhost:8080/",
          "height": 241
        },
        "id": "UYkyGvaPrkA-",
        "outputId": "789fc7b7-078b-4224-dc55-e53fc22480a0"
      },
      "source": [
        "X_train.head()"
      ],
      "execution_count": null,
      "outputs": [
        {
          "output_type": "execute_result",
          "data": {
            "text/html": [
              "<div>\n",
              "<style scoped>\n",
              "    .dataframe tbody tr th:only-of-type {\n",
              "        vertical-align: middle;\n",
              "    }\n",
              "\n",
              "    .dataframe tbody tr th {\n",
              "        vertical-align: top;\n",
              "    }\n",
              "\n",
              "    .dataframe thead th {\n",
              "        text-align: right;\n",
              "    }\n",
              "</style>\n",
              "<table border=\"1\" class=\"dataframe\">\n",
              "  <thead>\n",
              "    <tr style=\"text-align: right;\">\n",
              "      <th></th>\n",
              "      <th>STORE_SALES</th>\n",
              "      <th>date_delta</th>\n",
              "      <th>ART_GROUP_BEER</th>\n",
              "      <th>ART_GROUP_KEGS</th>\n",
              "      <th>ART_GROUP_LIQUOR</th>\n",
              "      <th>ART_GROUP_NON-ALCOHOL</th>\n",
              "      <th>ART_GROUP_REF</th>\n",
              "      <th>ART_GROUP_STR_SUPPLIES</th>\n",
              "      <th>ART_GROUP_WINE</th>\n",
              "      <th>CONTRAGENT_mean_enc</th>\n",
              "    </tr>\n",
              "  </thead>\n",
              "  <tbody>\n",
              "    <tr>\n",
              "      <th>0</th>\n",
              "      <td>0.0</td>\n",
              "      <td>0.0</td>\n",
              "      <td>0</td>\n",
              "      <td>0</td>\n",
              "      <td>0</td>\n",
              "      <td>0</td>\n",
              "      <td>0</td>\n",
              "      <td>0</td>\n",
              "      <td>1</td>\n",
              "      <td>1093.051870</td>\n",
              "    </tr>\n",
              "    <tr>\n",
              "      <th>1</th>\n",
              "      <td>0.0</td>\n",
              "      <td>0.0</td>\n",
              "      <td>0</td>\n",
              "      <td>0</td>\n",
              "      <td>0</td>\n",
              "      <td>0</td>\n",
              "      <td>0</td>\n",
              "      <td>0</td>\n",
              "      <td>1</td>\n",
              "      <td>9194.404762</td>\n",
              "    </tr>\n",
              "    <tr>\n",
              "      <th>2</th>\n",
              "      <td>0.0</td>\n",
              "      <td>0.0</td>\n",
              "      <td>0</td>\n",
              "      <td>0</td>\n",
              "      <td>1</td>\n",
              "      <td>0</td>\n",
              "      <td>0</td>\n",
              "      <td>0</td>\n",
              "      <td>0</td>\n",
              "      <td>10471.081481</td>\n",
              "    </tr>\n",
              "    <tr>\n",
              "      <th>3</th>\n",
              "      <td>0.0</td>\n",
              "      <td>0.0</td>\n",
              "      <td>0</td>\n",
              "      <td>0</td>\n",
              "      <td>1</td>\n",
              "      <td>0</td>\n",
              "      <td>0</td>\n",
              "      <td>0</td>\n",
              "      <td>0</td>\n",
              "      <td>13560.937774</td>\n",
              "    </tr>\n",
              "    <tr>\n",
              "      <th>4</th>\n",
              "      <td>0.0</td>\n",
              "      <td>0.0</td>\n",
              "      <td>0</td>\n",
              "      <td>0</td>\n",
              "      <td>0</td>\n",
              "      <td>0</td>\n",
              "      <td>0</td>\n",
              "      <td>0</td>\n",
              "      <td>1</td>\n",
              "      <td>1093.051870</td>\n",
              "    </tr>\n",
              "  </tbody>\n",
              "</table>\n",
              "</div>"
            ],
            "text/plain": [
              "   STORE_SALES  date_delta  ...  ART_GROUP_WINE  CONTRAGENT_mean_enc\n",
              "0          0.0         0.0  ...               1          1093.051870\n",
              "1          0.0         0.0  ...               1          9194.404762\n",
              "2          0.0         0.0  ...               0         10471.081481\n",
              "3          0.0         0.0  ...               0         13560.937774\n",
              "4          0.0         0.0  ...               1          1093.051870\n",
              "\n",
              "[5 rows x 10 columns]"
            ]
          },
          "metadata": {},
          "execution_count": 56
        }
      ]
    },
    {
      "cell_type": "code",
      "metadata": {
        "colab": {
          "base_uri": "https://localhost:8080/"
        },
        "id": "VUNCLKG3rkA-",
        "outputId": "ba75bbba-1dc0-4c4e-aca5-f1cbd6193838"
      },
      "source": [
        "lg = lgb.LGBMRegressor(silent=False)\n",
        "parametrs = {\"n_estimators\": range(10,200,10)}\n",
        "grid_search_cv = GridSearchCV(lg, n_jobs=-1, param_grid=parametrs, cv=10, scoring=my_scorer)\n",
        "grid_search_cv.fit(X_train,y_train)\n",
        "best_n_estimators = grid_search_cv.best_estimator_.n_estimators\n",
        "print(best_n_estimators)"
      ],
      "execution_count": null,
      "outputs": [
        {
          "output_type": "stream",
          "name": "stdout",
          "text": [
            "190\n"
          ]
        }
      ]
    },
    {
      "cell_type": "code",
      "metadata": {
        "colab": {
          "base_uri": "https://localhost:8080/"
        },
        "id": "aCigT4cIrkA-",
        "outputId": "573350e6-616f-43e7-f815-a07463e063a8"
      },
      "source": [
        "train_data = lgb.Dataset(X_train, label=y_train)\n",
        "validation_data = lgb.Dataset(X_test, label=y_test, reference=train_data)\n",
        "param = {'num_leaves':31, 'objective':'regression', 'learning_rate':0.06}\n",
        "num_round = best_n_estimators\n",
        "bst = lgb.train(param, train_data, num_round, valid_sets=[validation_data])\n",
        "y_test_predict_lgbm = bst.predict(X_test)"
      ],
      "execution_count": null,
      "outputs": [
        {
          "output_type": "stream",
          "name": "stdout",
          "text": [
            "[1]\tvalid_0's l2: 1.67544e+08\n",
            "[2]\tvalid_0's l2: 1.59284e+08\n",
            "[3]\tvalid_0's l2: 1.52065e+08\n",
            "[4]\tvalid_0's l2: 1.45613e+08\n",
            "[5]\tvalid_0's l2: 1.39867e+08\n",
            "[6]\tvalid_0's l2: 1.34802e+08\n",
            "[7]\tvalid_0's l2: 1.30214e+08\n",
            "[8]\tvalid_0's l2: 1.26302e+08\n",
            "[9]\tvalid_0's l2: 1.22723e+08\n",
            "[10]\tvalid_0's l2: 1.19488e+08\n",
            "[11]\tvalid_0's l2: 1.16634e+08\n",
            "[12]\tvalid_0's l2: 1.13987e+08\n",
            "[13]\tvalid_0's l2: 1.1165e+08\n",
            "[14]\tvalid_0's l2: 1.09572e+08\n",
            "[15]\tvalid_0's l2: 1.07885e+08\n",
            "[16]\tvalid_0's l2: 1.06218e+08\n",
            "[17]\tvalid_0's l2: 1.04639e+08\n",
            "[18]\tvalid_0's l2: 1.03308e+08\n",
            "[19]\tvalid_0's l2: 1.0209e+08\n",
            "[20]\tvalid_0's l2: 1.01099e+08\n",
            "[21]\tvalid_0's l2: 1.00215e+08\n",
            "[22]\tvalid_0's l2: 9.94458e+07\n",
            "[23]\tvalid_0's l2: 9.86974e+07\n",
            "[24]\tvalid_0's l2: 9.79871e+07\n",
            "[25]\tvalid_0's l2: 9.74018e+07\n",
            "[26]\tvalid_0's l2: 9.70441e+07\n",
            "[27]\tvalid_0's l2: 9.65209e+07\n",
            "[28]\tvalid_0's l2: 9.59699e+07\n",
            "[29]\tvalid_0's l2: 9.54929e+07\n",
            "[30]\tvalid_0's l2: 9.51014e+07\n",
            "[31]\tvalid_0's l2: 9.46676e+07\n",
            "[32]\tvalid_0's l2: 9.4384e+07\n",
            "[33]\tvalid_0's l2: 9.41046e+07\n",
            "[34]\tvalid_0's l2: 9.3841e+07\n",
            "[35]\tvalid_0's l2: 9.35806e+07\n",
            "[36]\tvalid_0's l2: 9.33969e+07\n",
            "[37]\tvalid_0's l2: 9.3265e+07\n",
            "[38]\tvalid_0's l2: 9.30919e+07\n",
            "[39]\tvalid_0's l2: 9.29304e+07\n",
            "[40]\tvalid_0's l2: 9.28095e+07\n",
            "[41]\tvalid_0's l2: 9.27305e+07\n",
            "[42]\tvalid_0's l2: 9.26362e+07\n",
            "[43]\tvalid_0's l2: 9.25513e+07\n",
            "[44]\tvalid_0's l2: 9.23849e+07\n",
            "[45]\tvalid_0's l2: 9.22901e+07\n",
            "[46]\tvalid_0's l2: 9.22702e+07\n",
            "[47]\tvalid_0's l2: 9.21779e+07\n",
            "[48]\tvalid_0's l2: 9.21552e+07\n",
            "[49]\tvalid_0's l2: 9.21176e+07\n",
            "[50]\tvalid_0's l2: 9.19936e+07\n",
            "[51]\tvalid_0's l2: 9.19021e+07\n",
            "[52]\tvalid_0's l2: 9.18985e+07\n",
            "[53]\tvalid_0's l2: 9.17915e+07\n",
            "[54]\tvalid_0's l2: 9.17401e+07\n",
            "[55]\tvalid_0's l2: 9.16809e+07\n",
            "[56]\tvalid_0's l2: 9.16322e+07\n",
            "[57]\tvalid_0's l2: 9.1579e+07\n",
            "[58]\tvalid_0's l2: 9.15681e+07\n",
            "[59]\tvalid_0's l2: 9.14993e+07\n",
            "[60]\tvalid_0's l2: 9.14657e+07\n",
            "[61]\tvalid_0's l2: 9.14558e+07\n",
            "[62]\tvalid_0's l2: 9.13565e+07\n",
            "[63]\tvalid_0's l2: 9.13394e+07\n",
            "[64]\tvalid_0's l2: 9.13304e+07\n",
            "[65]\tvalid_0's l2: 9.1321e+07\n",
            "[66]\tvalid_0's l2: 9.12982e+07\n",
            "[67]\tvalid_0's l2: 9.12661e+07\n",
            "[68]\tvalid_0's l2: 9.12419e+07\n",
            "[69]\tvalid_0's l2: 9.11604e+07\n",
            "[70]\tvalid_0's l2: 9.11416e+07\n",
            "[71]\tvalid_0's l2: 9.11381e+07\n",
            "[72]\tvalid_0's l2: 9.11172e+07\n",
            "[73]\tvalid_0's l2: 9.10467e+07\n",
            "[74]\tvalid_0's l2: 9.10093e+07\n",
            "[75]\tvalid_0's l2: 9.09963e+07\n",
            "[76]\tvalid_0's l2: 9.0991e+07\n",
            "[77]\tvalid_0's l2: 9.09422e+07\n",
            "[78]\tvalid_0's l2: 9.09314e+07\n",
            "[79]\tvalid_0's l2: 9.09236e+07\n",
            "[80]\tvalid_0's l2: 9.08849e+07\n",
            "[81]\tvalid_0's l2: 9.08968e+07\n",
            "[82]\tvalid_0's l2: 9.08884e+07\n",
            "[83]\tvalid_0's l2: 9.08529e+07\n",
            "[84]\tvalid_0's l2: 9.08624e+07\n",
            "[85]\tvalid_0's l2: 9.08117e+07\n",
            "[86]\tvalid_0's l2: 9.07908e+07\n",
            "[87]\tvalid_0's l2: 9.0756e+07\n",
            "[88]\tvalid_0's l2: 9.06852e+07\n",
            "[89]\tvalid_0's l2: 9.06622e+07\n",
            "[90]\tvalid_0's l2: 9.06589e+07\n",
            "[91]\tvalid_0's l2: 9.06653e+07\n",
            "[92]\tvalid_0's l2: 9.06119e+07\n",
            "[93]\tvalid_0's l2: 9.06181e+07\n",
            "[94]\tvalid_0's l2: 9.06097e+07\n",
            "[95]\tvalid_0's l2: 9.05476e+07\n",
            "[96]\tvalid_0's l2: 9.05436e+07\n",
            "[97]\tvalid_0's l2: 9.04843e+07\n",
            "[98]\tvalid_0's l2: 9.04437e+07\n",
            "[99]\tvalid_0's l2: 9.04389e+07\n",
            "[100]\tvalid_0's l2: 9.04191e+07\n",
            "[101]\tvalid_0's l2: 9.03744e+07\n",
            "[102]\tvalid_0's l2: 9.03666e+07\n",
            "[103]\tvalid_0's l2: 9.0364e+07\n",
            "[104]\tvalid_0's l2: 9.03176e+07\n",
            "[105]\tvalid_0's l2: 9.02842e+07\n",
            "[106]\tvalid_0's l2: 9.02362e+07\n",
            "[107]\tvalid_0's l2: 9.02518e+07\n",
            "[108]\tvalid_0's l2: 9.02098e+07\n",
            "[109]\tvalid_0's l2: 9.02246e+07\n",
            "[110]\tvalid_0's l2: 9.01937e+07\n",
            "[111]\tvalid_0's l2: 9.01686e+07\n",
            "[112]\tvalid_0's l2: 9.0141e+07\n",
            "[113]\tvalid_0's l2: 9.01558e+07\n",
            "[114]\tvalid_0's l2: 9.01475e+07\n",
            "[115]\tvalid_0's l2: 9.01222e+07\n",
            "[116]\tvalid_0's l2: 9.00887e+07\n",
            "[117]\tvalid_0's l2: 9.00224e+07\n",
            "[118]\tvalid_0's l2: 9.00266e+07\n",
            "[119]\tvalid_0's l2: 8.9974e+07\n",
            "[120]\tvalid_0's l2: 8.99741e+07\n",
            "[121]\tvalid_0's l2: 8.99859e+07\n",
            "[122]\tvalid_0's l2: 8.99425e+07\n",
            "[123]\tvalid_0's l2: 8.99195e+07\n",
            "[124]\tvalid_0's l2: 8.98849e+07\n",
            "[125]\tvalid_0's l2: 8.98568e+07\n",
            "[126]\tvalid_0's l2: 8.98462e+07\n",
            "[127]\tvalid_0's l2: 8.98685e+07\n",
            "[128]\tvalid_0's l2: 8.98832e+07\n",
            "[129]\tvalid_0's l2: 8.98553e+07\n",
            "[130]\tvalid_0's l2: 8.98527e+07\n",
            "[131]\tvalid_0's l2: 8.98757e+07\n",
            "[132]\tvalid_0's l2: 8.98786e+07\n",
            "[133]\tvalid_0's l2: 8.98842e+07\n",
            "[134]\tvalid_0's l2: 8.98961e+07\n",
            "[135]\tvalid_0's l2: 8.99014e+07\n",
            "[136]\tvalid_0's l2: 8.99081e+07\n",
            "[137]\tvalid_0's l2: 8.98905e+07\n",
            "[138]\tvalid_0's l2: 8.98916e+07\n",
            "[139]\tvalid_0's l2: 8.98569e+07\n",
            "[140]\tvalid_0's l2: 8.98199e+07\n",
            "[141]\tvalid_0's l2: 8.98231e+07\n",
            "[142]\tvalid_0's l2: 8.97907e+07\n",
            "[143]\tvalid_0's l2: 8.98284e+07\n",
            "[144]\tvalid_0's l2: 8.9848e+07\n",
            "[145]\tvalid_0's l2: 8.9886e+07\n",
            "[146]\tvalid_0's l2: 8.98675e+07\n",
            "[147]\tvalid_0's l2: 8.98034e+07\n",
            "[148]\tvalid_0's l2: 8.97824e+07\n",
            "[149]\tvalid_0's l2: 8.97982e+07\n",
            "[150]\tvalid_0's l2: 8.97717e+07\n",
            "[151]\tvalid_0's l2: 8.97803e+07\n",
            "[152]\tvalid_0's l2: 8.97829e+07\n",
            "[153]\tvalid_0's l2: 8.96984e+07\n",
            "[154]\tvalid_0's l2: 8.97061e+07\n",
            "[155]\tvalid_0's l2: 8.97083e+07\n",
            "[156]\tvalid_0's l2: 8.97112e+07\n",
            "[157]\tvalid_0's l2: 8.97058e+07\n",
            "[158]\tvalid_0's l2: 8.97098e+07\n",
            "[159]\tvalid_0's l2: 8.96702e+07\n",
            "[160]\tvalid_0's l2: 8.96801e+07\n",
            "[161]\tvalid_0's l2: 8.97011e+07\n",
            "[162]\tvalid_0's l2: 8.97008e+07\n",
            "[163]\tvalid_0's l2: 8.96996e+07\n",
            "[164]\tvalid_0's l2: 8.97059e+07\n",
            "[165]\tvalid_0's l2: 8.97033e+07\n",
            "[166]\tvalid_0's l2: 8.97178e+07\n",
            "[167]\tvalid_0's l2: 8.96786e+07\n",
            "[168]\tvalid_0's l2: 8.96829e+07\n",
            "[169]\tvalid_0's l2: 8.97128e+07\n",
            "[170]\tvalid_0's l2: 8.97259e+07\n",
            "[171]\tvalid_0's l2: 8.97288e+07\n",
            "[172]\tvalid_0's l2: 8.97427e+07\n",
            "[173]\tvalid_0's l2: 8.97485e+07\n",
            "[174]\tvalid_0's l2: 8.97583e+07\n",
            "[175]\tvalid_0's l2: 8.97612e+07\n",
            "[176]\tvalid_0's l2: 8.97359e+07\n",
            "[177]\tvalid_0's l2: 8.97525e+07\n",
            "[178]\tvalid_0's l2: 8.97551e+07\n",
            "[179]\tvalid_0's l2: 8.97353e+07\n",
            "[180]\tvalid_0's l2: 8.97041e+07\n",
            "[181]\tvalid_0's l2: 8.97149e+07\n",
            "[182]\tvalid_0's l2: 8.96954e+07\n",
            "[183]\tvalid_0's l2: 8.96943e+07\n",
            "[184]\tvalid_0's l2: 8.96962e+07\n",
            "[185]\tvalid_0's l2: 8.97174e+07\n",
            "[186]\tvalid_0's l2: 8.9688e+07\n",
            "[187]\tvalid_0's l2: 8.97095e+07\n",
            "[188]\tvalid_0's l2: 8.97124e+07\n",
            "[189]\tvalid_0's l2: 8.96777e+07\n",
            "[190]\tvalid_0's l2: 8.96674e+07\n"
          ]
        }
      ]
    },
    {
      "cell_type": "code",
      "metadata": {
        "colab": {
          "base_uri": "https://localhost:8080/"
        },
        "id": "4JyRF08HrkA-",
        "outputId": "3cd8dcfa-5faa-497d-d2fa-4a8bf785a491"
      },
      "source": [
        "metric(y_test,y_test_predict_lgbm)"
      ],
      "execution_count": null,
      "outputs": [
        {
          "output_type": "execute_result",
          "data": {
            "text/plain": [
              "81.23658494165329"
            ]
          },
          "metadata": {},
          "execution_count": 117
        }
      ]
    },
    {
      "cell_type": "markdown",
      "metadata": {
        "id": "j_wt02h-sO72"
      },
      "source": [
        "Видим, что обработав все категориальные признаки, метрика только увеличилась. Таким образом, лучшая модель - это модель с необработанными категориальными признаками и с удаленными признаками месяца и года (значение метрики 76.1)"
      ]
    },
    {
      "cell_type": "code",
      "metadata": {
        "id": "r9bB1yZFDRhh"
      },
      "source": [
        ""
      ],
      "execution_count": null,
      "outputs": []
    }
  ]
}
