{
  "nbformat": 4,
  "nbformat_minor": 0,
  "metadata": {
    "colab": {
      "name": "ТестМагнитКлассификация.ipynb",
      "provenance": [],
      "collapsed_sections": [],
      "authorship_tag": "ABX9TyMM52TJp6k5I7A02OwDb9Z1",
      "include_colab_link": true
    },
    "kernelspec": {
      "name": "python3",
      "display_name": "Python 3"
    },
    "language_info": {
      "name": "python"
    }
  },
  "cells": [
    {
      "cell_type": "markdown",
      "metadata": {
        "id": "view-in-github",
        "colab_type": "text"
      },
      "source": [
        "<a href=\"https://colab.research.google.com/github/samarkinav/Test-MGNT/blob/main/%D0%A2%D0%B5%D1%81%D1%82%D0%9C%D0%B0%D0%B3%D0%BD%D0%B8%D1%82%D0%9A%D0%BB%D0%B0%D1%81%D1%81%D0%B8%D1%84%D0%B8%D0%BA%D0%B0%D1%86%D0%B8%D1%8F.ipynb\" target=\"_parent\"><img src=\"https://colab.research.google.com/assets/colab-badge.svg\" alt=\"Open In Colab\"/></a>"
      ]
    },
    {
      "cell_type": "markdown",
      "metadata": {
        "id": "F8XHoRZHmKSu"
      },
      "source": [
        "## Импорт библиотек"
      ]
    },
    {
      "cell_type": "code",
      "metadata": {
        "id": "yIj6OebkmNAc"
      },
      "source": [
        "import pandas as pd\n",
        "import seaborn as sns\n",
        "import numpy as np\n",
        "import matplotlib.pylab as plt\n",
        "from pylab import rcParams\n",
        "rcParams['figure.figsize'] = 20, 10"
      ],
      "execution_count": 1,
      "outputs": []
    },
    {
      "cell_type": "markdown",
      "metadata": {
        "id": "-pLnrhj7nn2u"
      },
      "source": [
        "## Чтение данных"
      ]
    },
    {
      "cell_type": "code",
      "metadata": {
        "id": "l88OwDWymVIN"
      },
      "source": [
        "df = pd.read_csv('https://raw.githubusercontent.com/samarkinav/Test-MGNT/main/data_classification_for_task.csv?token=ARDNBEFAYDOY6BYOEYCUVX3BR2LGU')"
      ],
      "execution_count": 2,
      "outputs": []
    },
    {
      "cell_type": "code",
      "metadata": {
        "colab": {
          "base_uri": "https://localhost:8080/",
          "height": 224
        },
        "id": "cP7xd7TIn0S8",
        "outputId": "0df8699b-c75e-4ba8-c99c-15305de43adc"
      },
      "source": [
        "df.head()"
      ],
      "execution_count": 3,
      "outputs": [
        {
          "output_type": "execute_result",
          "data": {
            "text/html": [
              "<div>\n",
              "<style scoped>\n",
              "    .dataframe tbody tr th:only-of-type {\n",
              "        vertical-align: middle;\n",
              "    }\n",
              "\n",
              "    .dataframe tbody tr th {\n",
              "        vertical-align: top;\n",
              "    }\n",
              "\n",
              "    .dataframe thead th {\n",
              "        text-align: right;\n",
              "    }\n",
              "</style>\n",
              "<table border=\"1\" class=\"dataframe\">\n",
              "  <thead>\n",
              "    <tr style=\"text-align: right;\">\n",
              "      <th></th>\n",
              "      <th>AGE</th>\n",
              "      <th>GENDER</th>\n",
              "      <th>FEATURE_1</th>\n",
              "      <th>FEATURE_2</th>\n",
              "      <th>FEATURE_3</th>\n",
              "      <th>FEATURE_4</th>\n",
              "      <th>FEATURE_5</th>\n",
              "      <th>FEATURE_6</th>\n",
              "      <th>FEATURE_7</th>\n",
              "      <th>FEATURE_8</th>\n",
              "      <th>FEATURE_9</th>\n",
              "      <th>FEATURE_10</th>\n",
              "      <th>FEATURE_11</th>\n",
              "      <th>TARGET</th>\n",
              "    </tr>\n",
              "  </thead>\n",
              "  <tbody>\n",
              "    <tr>\n",
              "      <th>0</th>\n",
              "      <td>63</td>\n",
              "      <td>1</td>\n",
              "      <td>3</td>\n",
              "      <td>145</td>\n",
              "      <td>233</td>\n",
              "      <td>1</td>\n",
              "      <td>0</td>\n",
              "      <td>150</td>\n",
              "      <td>0</td>\n",
              "      <td>2.3</td>\n",
              "      <td>0</td>\n",
              "      <td>0</td>\n",
              "      <td>1</td>\n",
              "      <td>1</td>\n",
              "    </tr>\n",
              "    <tr>\n",
              "      <th>1</th>\n",
              "      <td>37</td>\n",
              "      <td>1</td>\n",
              "      <td>2</td>\n",
              "      <td>130</td>\n",
              "      <td>250</td>\n",
              "      <td>0</td>\n",
              "      <td>1</td>\n",
              "      <td>187</td>\n",
              "      <td>0</td>\n",
              "      <td>3.5</td>\n",
              "      <td>0</td>\n",
              "      <td>0</td>\n",
              "      <td>2</td>\n",
              "      <td>1</td>\n",
              "    </tr>\n",
              "    <tr>\n",
              "      <th>2</th>\n",
              "      <td>41</td>\n",
              "      <td>0</td>\n",
              "      <td>1</td>\n",
              "      <td>130</td>\n",
              "      <td>204</td>\n",
              "      <td>0</td>\n",
              "      <td>0</td>\n",
              "      <td>172</td>\n",
              "      <td>0</td>\n",
              "      <td>1.4</td>\n",
              "      <td>2</td>\n",
              "      <td>0</td>\n",
              "      <td>2</td>\n",
              "      <td>1</td>\n",
              "    </tr>\n",
              "    <tr>\n",
              "      <th>3</th>\n",
              "      <td>56</td>\n",
              "      <td>1</td>\n",
              "      <td>1</td>\n",
              "      <td>120</td>\n",
              "      <td>236</td>\n",
              "      <td>0</td>\n",
              "      <td>1</td>\n",
              "      <td>178</td>\n",
              "      <td>0</td>\n",
              "      <td>0.8</td>\n",
              "      <td>2</td>\n",
              "      <td>0</td>\n",
              "      <td>2</td>\n",
              "      <td>1</td>\n",
              "    </tr>\n",
              "    <tr>\n",
              "      <th>4</th>\n",
              "      <td>57</td>\n",
              "      <td>0</td>\n",
              "      <td>0</td>\n",
              "      <td>120</td>\n",
              "      <td>354</td>\n",
              "      <td>0</td>\n",
              "      <td>1</td>\n",
              "      <td>163</td>\n",
              "      <td>1</td>\n",
              "      <td>0.6</td>\n",
              "      <td>2</td>\n",
              "      <td>0</td>\n",
              "      <td>2</td>\n",
              "      <td>1</td>\n",
              "    </tr>\n",
              "  </tbody>\n",
              "</table>\n",
              "</div>"
            ],
            "text/plain": [
              "   AGE  GENDER  FEATURE_1  FEATURE_2  ...  FEATURE_9  FEATURE_10  FEATURE_11  TARGET\n",
              "0   63       1          3        145  ...          0           0           1       1\n",
              "1   37       1          2        130  ...          0           0           2       1\n",
              "2   41       0          1        130  ...          2           0           2       1\n",
              "3   56       1          1        120  ...          2           0           2       1\n",
              "4   57       0          0        120  ...          2           0           2       1\n",
              "\n",
              "[5 rows x 14 columns]"
            ]
          },
          "metadata": {},
          "execution_count": 3
        }
      ]
    },
    {
      "cell_type": "code",
      "metadata": {
        "colab": {
          "base_uri": "https://localhost:8080/"
        },
        "id": "TpWeZmXun1a6",
        "outputId": "f2c54ff6-d2f2-4c04-a12f-4e6272519969"
      },
      "source": [
        "df.info()"
      ],
      "execution_count": 4,
      "outputs": [
        {
          "output_type": "stream",
          "name": "stdout",
          "text": [
            "<class 'pandas.core.frame.DataFrame'>\n",
            "RangeIndex: 303 entries, 0 to 302\n",
            "Data columns (total 14 columns):\n",
            " #   Column      Non-Null Count  Dtype  \n",
            "---  ------      --------------  -----  \n",
            " 0   AGE         303 non-null    int64  \n",
            " 1   GENDER      303 non-null    int64  \n",
            " 2   FEATURE_1   303 non-null    int64  \n",
            " 3   FEATURE_2   303 non-null    int64  \n",
            " 4   FEATURE_3   303 non-null    int64  \n",
            " 5   FEATURE_4   303 non-null    int64  \n",
            " 6   FEATURE_5   303 non-null    int64  \n",
            " 7   FEATURE_6   303 non-null    int64  \n",
            " 8   FEATURE_7   303 non-null    int64  \n",
            " 9   FEATURE_8   303 non-null    float64\n",
            " 10  FEATURE_9   303 non-null    int64  \n",
            " 11  FEATURE_10  303 non-null    int64  \n",
            " 12  FEATURE_11  303 non-null    int64  \n",
            " 13  TARGET      303 non-null    int64  \n",
            "dtypes: float64(1), int64(13)\n",
            "memory usage: 33.3 KB\n"
          ]
        }
      ]
    },
    {
      "cell_type": "code",
      "metadata": {
        "colab": {
          "base_uri": "https://localhost:8080/",
          "height": 317
        },
        "id": "ZlM4lGXNn9RX",
        "outputId": "a23cc262-bdad-427f-ebba-caaa3af97aeb"
      },
      "source": [
        "df.describe()"
      ],
      "execution_count": 5,
      "outputs": [
        {
          "output_type": "execute_result",
          "data": {
            "text/html": [
              "<div>\n",
              "<style scoped>\n",
              "    .dataframe tbody tr th:only-of-type {\n",
              "        vertical-align: middle;\n",
              "    }\n",
              "\n",
              "    .dataframe tbody tr th {\n",
              "        vertical-align: top;\n",
              "    }\n",
              "\n",
              "    .dataframe thead th {\n",
              "        text-align: right;\n",
              "    }\n",
              "</style>\n",
              "<table border=\"1\" class=\"dataframe\">\n",
              "  <thead>\n",
              "    <tr style=\"text-align: right;\">\n",
              "      <th></th>\n",
              "      <th>AGE</th>\n",
              "      <th>GENDER</th>\n",
              "      <th>FEATURE_1</th>\n",
              "      <th>FEATURE_2</th>\n",
              "      <th>FEATURE_3</th>\n",
              "      <th>FEATURE_4</th>\n",
              "      <th>FEATURE_5</th>\n",
              "      <th>FEATURE_6</th>\n",
              "      <th>FEATURE_7</th>\n",
              "      <th>FEATURE_8</th>\n",
              "      <th>FEATURE_9</th>\n",
              "      <th>FEATURE_10</th>\n",
              "      <th>FEATURE_11</th>\n",
              "      <th>TARGET</th>\n",
              "    </tr>\n",
              "  </thead>\n",
              "  <tbody>\n",
              "    <tr>\n",
              "      <th>count</th>\n",
              "      <td>303.000000</td>\n",
              "      <td>303.000000</td>\n",
              "      <td>303.000000</td>\n",
              "      <td>303.000000</td>\n",
              "      <td>303.000000</td>\n",
              "      <td>303.000000</td>\n",
              "      <td>303.000000</td>\n",
              "      <td>303.000000</td>\n",
              "      <td>303.000000</td>\n",
              "      <td>303.000000</td>\n",
              "      <td>303.000000</td>\n",
              "      <td>303.000000</td>\n",
              "      <td>303.000000</td>\n",
              "      <td>303.000000</td>\n",
              "    </tr>\n",
              "    <tr>\n",
              "      <th>mean</th>\n",
              "      <td>54.366337</td>\n",
              "      <td>0.683168</td>\n",
              "      <td>0.966997</td>\n",
              "      <td>131.623762</td>\n",
              "      <td>246.264026</td>\n",
              "      <td>0.148515</td>\n",
              "      <td>0.528053</td>\n",
              "      <td>149.646865</td>\n",
              "      <td>0.326733</td>\n",
              "      <td>1.039604</td>\n",
              "      <td>1.399340</td>\n",
              "      <td>0.729373</td>\n",
              "      <td>2.313531</td>\n",
              "      <td>0.544554</td>\n",
              "    </tr>\n",
              "    <tr>\n",
              "      <th>std</th>\n",
              "      <td>9.082101</td>\n",
              "      <td>0.466011</td>\n",
              "      <td>1.032052</td>\n",
              "      <td>17.538143</td>\n",
              "      <td>51.830751</td>\n",
              "      <td>0.356198</td>\n",
              "      <td>0.525860</td>\n",
              "      <td>22.905161</td>\n",
              "      <td>0.469794</td>\n",
              "      <td>1.161075</td>\n",
              "      <td>0.616226</td>\n",
              "      <td>1.022606</td>\n",
              "      <td>0.612277</td>\n",
              "      <td>0.498835</td>\n",
              "    </tr>\n",
              "    <tr>\n",
              "      <th>min</th>\n",
              "      <td>29.000000</td>\n",
              "      <td>0.000000</td>\n",
              "      <td>0.000000</td>\n",
              "      <td>94.000000</td>\n",
              "      <td>126.000000</td>\n",
              "      <td>0.000000</td>\n",
              "      <td>0.000000</td>\n",
              "      <td>71.000000</td>\n",
              "      <td>0.000000</td>\n",
              "      <td>0.000000</td>\n",
              "      <td>0.000000</td>\n",
              "      <td>0.000000</td>\n",
              "      <td>0.000000</td>\n",
              "      <td>0.000000</td>\n",
              "    </tr>\n",
              "    <tr>\n",
              "      <th>25%</th>\n",
              "      <td>47.500000</td>\n",
              "      <td>0.000000</td>\n",
              "      <td>0.000000</td>\n",
              "      <td>120.000000</td>\n",
              "      <td>211.000000</td>\n",
              "      <td>0.000000</td>\n",
              "      <td>0.000000</td>\n",
              "      <td>133.500000</td>\n",
              "      <td>0.000000</td>\n",
              "      <td>0.000000</td>\n",
              "      <td>1.000000</td>\n",
              "      <td>0.000000</td>\n",
              "      <td>2.000000</td>\n",
              "      <td>0.000000</td>\n",
              "    </tr>\n",
              "    <tr>\n",
              "      <th>50%</th>\n",
              "      <td>55.000000</td>\n",
              "      <td>1.000000</td>\n",
              "      <td>1.000000</td>\n",
              "      <td>130.000000</td>\n",
              "      <td>240.000000</td>\n",
              "      <td>0.000000</td>\n",
              "      <td>1.000000</td>\n",
              "      <td>153.000000</td>\n",
              "      <td>0.000000</td>\n",
              "      <td>0.800000</td>\n",
              "      <td>1.000000</td>\n",
              "      <td>0.000000</td>\n",
              "      <td>2.000000</td>\n",
              "      <td>1.000000</td>\n",
              "    </tr>\n",
              "    <tr>\n",
              "      <th>75%</th>\n",
              "      <td>61.000000</td>\n",
              "      <td>1.000000</td>\n",
              "      <td>2.000000</td>\n",
              "      <td>140.000000</td>\n",
              "      <td>274.500000</td>\n",
              "      <td>0.000000</td>\n",
              "      <td>1.000000</td>\n",
              "      <td>166.000000</td>\n",
              "      <td>1.000000</td>\n",
              "      <td>1.600000</td>\n",
              "      <td>2.000000</td>\n",
              "      <td>1.000000</td>\n",
              "      <td>3.000000</td>\n",
              "      <td>1.000000</td>\n",
              "    </tr>\n",
              "    <tr>\n",
              "      <th>max</th>\n",
              "      <td>77.000000</td>\n",
              "      <td>1.000000</td>\n",
              "      <td>3.000000</td>\n",
              "      <td>200.000000</td>\n",
              "      <td>564.000000</td>\n",
              "      <td>1.000000</td>\n",
              "      <td>2.000000</td>\n",
              "      <td>202.000000</td>\n",
              "      <td>1.000000</td>\n",
              "      <td>6.200000</td>\n",
              "      <td>2.000000</td>\n",
              "      <td>4.000000</td>\n",
              "      <td>3.000000</td>\n",
              "      <td>1.000000</td>\n",
              "    </tr>\n",
              "  </tbody>\n",
              "</table>\n",
              "</div>"
            ],
            "text/plain": [
              "              AGE      GENDER   FEATURE_1  ...  FEATURE_10  FEATURE_11      TARGET\n",
              "count  303.000000  303.000000  303.000000  ...  303.000000  303.000000  303.000000\n",
              "mean    54.366337    0.683168    0.966997  ...    0.729373    2.313531    0.544554\n",
              "std      9.082101    0.466011    1.032052  ...    1.022606    0.612277    0.498835\n",
              "min     29.000000    0.000000    0.000000  ...    0.000000    0.000000    0.000000\n",
              "25%     47.500000    0.000000    0.000000  ...    0.000000    2.000000    0.000000\n",
              "50%     55.000000    1.000000    1.000000  ...    0.000000    2.000000    1.000000\n",
              "75%     61.000000    1.000000    2.000000  ...    1.000000    3.000000    1.000000\n",
              "max     77.000000    1.000000    3.000000  ...    4.000000    3.000000    1.000000\n",
              "\n",
              "[8 rows x 14 columns]"
            ]
          },
          "metadata": {},
          "execution_count": 5
        }
      ]
    },
    {
      "cell_type": "code",
      "metadata": {
        "colab": {
          "base_uri": "https://localhost:8080/",
          "height": 503
        },
        "id": "LLFrK3BXp4c_",
        "outputId": "b1c6893c-402e-4a51-f6f5-78e4d3ef6fea"
      },
      "source": [
        "corr_mat = df.corr()\n",
        "corr_mat"
      ],
      "execution_count": 6,
      "outputs": [
        {
          "output_type": "execute_result",
          "data": {
            "text/html": [
              "<div>\n",
              "<style scoped>\n",
              "    .dataframe tbody tr th:only-of-type {\n",
              "        vertical-align: middle;\n",
              "    }\n",
              "\n",
              "    .dataframe tbody tr th {\n",
              "        vertical-align: top;\n",
              "    }\n",
              "\n",
              "    .dataframe thead th {\n",
              "        text-align: right;\n",
              "    }\n",
              "</style>\n",
              "<table border=\"1\" class=\"dataframe\">\n",
              "  <thead>\n",
              "    <tr style=\"text-align: right;\">\n",
              "      <th></th>\n",
              "      <th>AGE</th>\n",
              "      <th>GENDER</th>\n",
              "      <th>FEATURE_1</th>\n",
              "      <th>FEATURE_2</th>\n",
              "      <th>FEATURE_3</th>\n",
              "      <th>FEATURE_4</th>\n",
              "      <th>FEATURE_5</th>\n",
              "      <th>FEATURE_6</th>\n",
              "      <th>FEATURE_7</th>\n",
              "      <th>FEATURE_8</th>\n",
              "      <th>FEATURE_9</th>\n",
              "      <th>FEATURE_10</th>\n",
              "      <th>FEATURE_11</th>\n",
              "      <th>TARGET</th>\n",
              "    </tr>\n",
              "  </thead>\n",
              "  <tbody>\n",
              "    <tr>\n",
              "      <th>AGE</th>\n",
              "      <td>1.000000</td>\n",
              "      <td>-0.098447</td>\n",
              "      <td>-0.068653</td>\n",
              "      <td>0.279351</td>\n",
              "      <td>0.213678</td>\n",
              "      <td>0.121308</td>\n",
              "      <td>-0.116211</td>\n",
              "      <td>-0.398522</td>\n",
              "      <td>0.096801</td>\n",
              "      <td>0.210013</td>\n",
              "      <td>-0.168814</td>\n",
              "      <td>0.276326</td>\n",
              "      <td>0.068001</td>\n",
              "      <td>-0.225439</td>\n",
              "    </tr>\n",
              "    <tr>\n",
              "      <th>GENDER</th>\n",
              "      <td>-0.098447</td>\n",
              "      <td>1.000000</td>\n",
              "      <td>-0.049353</td>\n",
              "      <td>-0.056769</td>\n",
              "      <td>-0.197912</td>\n",
              "      <td>0.045032</td>\n",
              "      <td>-0.058196</td>\n",
              "      <td>-0.044020</td>\n",
              "      <td>0.141664</td>\n",
              "      <td>0.096093</td>\n",
              "      <td>-0.030711</td>\n",
              "      <td>0.118261</td>\n",
              "      <td>0.210041</td>\n",
              "      <td>-0.280937</td>\n",
              "    </tr>\n",
              "    <tr>\n",
              "      <th>FEATURE_1</th>\n",
              "      <td>-0.068653</td>\n",
              "      <td>-0.049353</td>\n",
              "      <td>1.000000</td>\n",
              "      <td>0.047608</td>\n",
              "      <td>-0.076904</td>\n",
              "      <td>0.094444</td>\n",
              "      <td>0.044421</td>\n",
              "      <td>0.295762</td>\n",
              "      <td>-0.394280</td>\n",
              "      <td>-0.149230</td>\n",
              "      <td>0.119717</td>\n",
              "      <td>-0.181053</td>\n",
              "      <td>-0.161736</td>\n",
              "      <td>0.433798</td>\n",
              "    </tr>\n",
              "    <tr>\n",
              "      <th>FEATURE_2</th>\n",
              "      <td>0.279351</td>\n",
              "      <td>-0.056769</td>\n",
              "      <td>0.047608</td>\n",
              "      <td>1.000000</td>\n",
              "      <td>0.123174</td>\n",
              "      <td>0.177531</td>\n",
              "      <td>-0.114103</td>\n",
              "      <td>-0.046698</td>\n",
              "      <td>0.067616</td>\n",
              "      <td>0.193216</td>\n",
              "      <td>-0.121475</td>\n",
              "      <td>0.101389</td>\n",
              "      <td>0.062210</td>\n",
              "      <td>-0.144931</td>\n",
              "    </tr>\n",
              "    <tr>\n",
              "      <th>FEATURE_3</th>\n",
              "      <td>0.213678</td>\n",
              "      <td>-0.197912</td>\n",
              "      <td>-0.076904</td>\n",
              "      <td>0.123174</td>\n",
              "      <td>1.000000</td>\n",
              "      <td>0.013294</td>\n",
              "      <td>-0.151040</td>\n",
              "      <td>-0.009940</td>\n",
              "      <td>0.067023</td>\n",
              "      <td>0.053952</td>\n",
              "      <td>-0.004038</td>\n",
              "      <td>0.070511</td>\n",
              "      <td>0.098803</td>\n",
              "      <td>-0.085239</td>\n",
              "    </tr>\n",
              "    <tr>\n",
              "      <th>FEATURE_4</th>\n",
              "      <td>0.121308</td>\n",
              "      <td>0.045032</td>\n",
              "      <td>0.094444</td>\n",
              "      <td>0.177531</td>\n",
              "      <td>0.013294</td>\n",
              "      <td>1.000000</td>\n",
              "      <td>-0.084189</td>\n",
              "      <td>-0.008567</td>\n",
              "      <td>0.025665</td>\n",
              "      <td>0.005747</td>\n",
              "      <td>-0.059894</td>\n",
              "      <td>0.137979</td>\n",
              "      <td>-0.032019</td>\n",
              "      <td>-0.028046</td>\n",
              "    </tr>\n",
              "    <tr>\n",
              "      <th>FEATURE_5</th>\n",
              "      <td>-0.116211</td>\n",
              "      <td>-0.058196</td>\n",
              "      <td>0.044421</td>\n",
              "      <td>-0.114103</td>\n",
              "      <td>-0.151040</td>\n",
              "      <td>-0.084189</td>\n",
              "      <td>1.000000</td>\n",
              "      <td>0.044123</td>\n",
              "      <td>-0.070733</td>\n",
              "      <td>-0.058770</td>\n",
              "      <td>0.093045</td>\n",
              "      <td>-0.072042</td>\n",
              "      <td>-0.011981</td>\n",
              "      <td>0.137230</td>\n",
              "    </tr>\n",
              "    <tr>\n",
              "      <th>FEATURE_6</th>\n",
              "      <td>-0.398522</td>\n",
              "      <td>-0.044020</td>\n",
              "      <td>0.295762</td>\n",
              "      <td>-0.046698</td>\n",
              "      <td>-0.009940</td>\n",
              "      <td>-0.008567</td>\n",
              "      <td>0.044123</td>\n",
              "      <td>1.000000</td>\n",
              "      <td>-0.378812</td>\n",
              "      <td>-0.344187</td>\n",
              "      <td>0.386784</td>\n",
              "      <td>-0.213177</td>\n",
              "      <td>-0.096439</td>\n",
              "      <td>0.421741</td>\n",
              "    </tr>\n",
              "    <tr>\n",
              "      <th>FEATURE_7</th>\n",
              "      <td>0.096801</td>\n",
              "      <td>0.141664</td>\n",
              "      <td>-0.394280</td>\n",
              "      <td>0.067616</td>\n",
              "      <td>0.067023</td>\n",
              "      <td>0.025665</td>\n",
              "      <td>-0.070733</td>\n",
              "      <td>-0.378812</td>\n",
              "      <td>1.000000</td>\n",
              "      <td>0.288223</td>\n",
              "      <td>-0.257748</td>\n",
              "      <td>0.115739</td>\n",
              "      <td>0.206754</td>\n",
              "      <td>-0.436757</td>\n",
              "    </tr>\n",
              "    <tr>\n",
              "      <th>FEATURE_8</th>\n",
              "      <td>0.210013</td>\n",
              "      <td>0.096093</td>\n",
              "      <td>-0.149230</td>\n",
              "      <td>0.193216</td>\n",
              "      <td>0.053952</td>\n",
              "      <td>0.005747</td>\n",
              "      <td>-0.058770</td>\n",
              "      <td>-0.344187</td>\n",
              "      <td>0.288223</td>\n",
              "      <td>1.000000</td>\n",
              "      <td>-0.577537</td>\n",
              "      <td>0.222682</td>\n",
              "      <td>0.210244</td>\n",
              "      <td>-0.430696</td>\n",
              "    </tr>\n",
              "    <tr>\n",
              "      <th>FEATURE_9</th>\n",
              "      <td>-0.168814</td>\n",
              "      <td>-0.030711</td>\n",
              "      <td>0.119717</td>\n",
              "      <td>-0.121475</td>\n",
              "      <td>-0.004038</td>\n",
              "      <td>-0.059894</td>\n",
              "      <td>0.093045</td>\n",
              "      <td>0.386784</td>\n",
              "      <td>-0.257748</td>\n",
              "      <td>-0.577537</td>\n",
              "      <td>1.000000</td>\n",
              "      <td>-0.080155</td>\n",
              "      <td>-0.104764</td>\n",
              "      <td>0.345877</td>\n",
              "    </tr>\n",
              "    <tr>\n",
              "      <th>FEATURE_10</th>\n",
              "      <td>0.276326</td>\n",
              "      <td>0.118261</td>\n",
              "      <td>-0.181053</td>\n",
              "      <td>0.101389</td>\n",
              "      <td>0.070511</td>\n",
              "      <td>0.137979</td>\n",
              "      <td>-0.072042</td>\n",
              "      <td>-0.213177</td>\n",
              "      <td>0.115739</td>\n",
              "      <td>0.222682</td>\n",
              "      <td>-0.080155</td>\n",
              "      <td>1.000000</td>\n",
              "      <td>0.151832</td>\n",
              "      <td>-0.391724</td>\n",
              "    </tr>\n",
              "    <tr>\n",
              "      <th>FEATURE_11</th>\n",
              "      <td>0.068001</td>\n",
              "      <td>0.210041</td>\n",
              "      <td>-0.161736</td>\n",
              "      <td>0.062210</td>\n",
              "      <td>0.098803</td>\n",
              "      <td>-0.032019</td>\n",
              "      <td>-0.011981</td>\n",
              "      <td>-0.096439</td>\n",
              "      <td>0.206754</td>\n",
              "      <td>0.210244</td>\n",
              "      <td>-0.104764</td>\n",
              "      <td>0.151832</td>\n",
              "      <td>1.000000</td>\n",
              "      <td>-0.344029</td>\n",
              "    </tr>\n",
              "    <tr>\n",
              "      <th>TARGET</th>\n",
              "      <td>-0.225439</td>\n",
              "      <td>-0.280937</td>\n",
              "      <td>0.433798</td>\n",
              "      <td>-0.144931</td>\n",
              "      <td>-0.085239</td>\n",
              "      <td>-0.028046</td>\n",
              "      <td>0.137230</td>\n",
              "      <td>0.421741</td>\n",
              "      <td>-0.436757</td>\n",
              "      <td>-0.430696</td>\n",
              "      <td>0.345877</td>\n",
              "      <td>-0.391724</td>\n",
              "      <td>-0.344029</td>\n",
              "      <td>1.000000</td>\n",
              "    </tr>\n",
              "  </tbody>\n",
              "</table>\n",
              "</div>"
            ],
            "text/plain": [
              "                 AGE    GENDER  FEATURE_1  ...  FEATURE_10  FEATURE_11    TARGET\n",
              "AGE         1.000000 -0.098447  -0.068653  ...    0.276326    0.068001 -0.225439\n",
              "GENDER     -0.098447  1.000000  -0.049353  ...    0.118261    0.210041 -0.280937\n",
              "FEATURE_1  -0.068653 -0.049353   1.000000  ...   -0.181053   -0.161736  0.433798\n",
              "FEATURE_2   0.279351 -0.056769   0.047608  ...    0.101389    0.062210 -0.144931\n",
              "FEATURE_3   0.213678 -0.197912  -0.076904  ...    0.070511    0.098803 -0.085239\n",
              "FEATURE_4   0.121308  0.045032   0.094444  ...    0.137979   -0.032019 -0.028046\n",
              "FEATURE_5  -0.116211 -0.058196   0.044421  ...   -0.072042   -0.011981  0.137230\n",
              "FEATURE_6  -0.398522 -0.044020   0.295762  ...   -0.213177   -0.096439  0.421741\n",
              "FEATURE_7   0.096801  0.141664  -0.394280  ...    0.115739    0.206754 -0.436757\n",
              "FEATURE_8   0.210013  0.096093  -0.149230  ...    0.222682    0.210244 -0.430696\n",
              "FEATURE_9  -0.168814 -0.030711   0.119717  ...   -0.080155   -0.104764  0.345877\n",
              "FEATURE_10  0.276326  0.118261  -0.181053  ...    1.000000    0.151832 -0.391724\n",
              "FEATURE_11  0.068001  0.210041  -0.161736  ...    0.151832    1.000000 -0.344029\n",
              "TARGET     -0.225439 -0.280937   0.433798  ...   -0.391724   -0.344029  1.000000\n",
              "\n",
              "[14 rows x 14 columns]"
            ]
          },
          "metadata": {},
          "execution_count": 6
        }
      ]
    },
    {
      "cell_type": "code",
      "metadata": {
        "colab": {
          "base_uri": "https://localhost:8080/",
          "height": 322
        },
        "id": "diInNW2OsY4I",
        "outputId": "90de8b2f-ad68-41c8-aeff-b30523636d0b"
      },
      "source": [
        "sns.heatmap(corr_mat, square=True, cmap='coolwarm')\n",
        "pass"
      ],
      "execution_count": 7,
      "outputs": [
        {
          "output_type": "display_data",
          "data": {
            "image/png": "[encoded data removed]",
            "text/plain": [
              "<Figure size 432x288 with 2 Axes>"
            ]
          },
          "metadata": {
            "needs_background": "light"
          }
        }
      ]
    },
    {
      "cell_type": "markdown",
      "metadata": {
        "id": "8eyRxZ2_vKWv"
      },
      "source": [
        "Посмотрим, какие признаки сильнее всего коррелируют между собой:"
      ]
    },
    {
      "cell_type": "code",
      "metadata": {
        "colab": {
          "base_uri": "https://localhost:8080/"
        },
        "id": "wLt1L0xjtQod",
        "outputId": "61402c86-fb0e-4071-9807-4869d78e1836"
      },
      "source": [
        "df_corr = df.drop(['TARGET'], axis=1)\n",
        "df_corr.corr().where(np.triu(abs(df_corr.corr()) > 0.3, k=1)).stack().sort_values(ascending=False)"
      ],
      "execution_count": 8,
      "outputs": [
        {
          "output_type": "execute_result",
          "data": {
            "text/plain": [
              "FEATURE_6  FEATURE_9    0.386784\n",
              "           FEATURE_8   -0.344187\n",
              "           FEATURE_7   -0.378812\n",
              "FEATURE_1  FEATURE_7   -0.394280\n",
              "AGE        FEATURE_6   -0.398522\n",
              "FEATURE_8  FEATURE_9   -0.577537\n",
              "dtype: float64"
            ]
          },
          "metadata": {},
          "execution_count": 8
        }
      ]
    },
    {
      "cell_type": "markdown",
      "metadata": {
        "id": "ZsSKEUBXvPPF"
      },
      "source": [
        "Посмотрим, какие признаки меньше всего коррелируют с целевой переменной:"
      ]
    },
    {
      "cell_type": "code",
      "metadata": {
        "colab": {
          "base_uri": "https://localhost:8080/"
        },
        "id": "KwhVTg2dvJpl",
        "outputId": "d7731ae5-3851-4247-a0e4-c4e086ff7043"
      },
      "source": [
        "df_corr2 = corr_mat.iloc[:, -1]\n",
        "df_corr2[abs(df_corr2)<0.2]"
      ],
      "execution_count": 9,
      "outputs": [
        {
          "output_type": "execute_result",
          "data": {
            "text/plain": [
              "FEATURE_2   -0.144931\n",
              "FEATURE_3   -0.085239\n",
              "FEATURE_4   -0.028046\n",
              "FEATURE_5    0.137230\n",
              "Name: TARGET, dtype: float64"
            ]
          },
          "metadata": {},
          "execution_count": 9
        }
      ]
    },
    {
      "cell_type": "code",
      "metadata": {
        "colab": {
          "base_uri": "https://localhost:8080/"
        },
        "id": "c7rlj4VMq9Ig",
        "outputId": "6ae732e9-d096-424e-b346-a27e9e833ba5"
      },
      "source": [
        "df.isna().sum()"
      ],
      "execution_count": 10,
      "outputs": [
        {
          "output_type": "execute_result",
          "data": {
            "text/plain": [
              "AGE           0\n",
              "GENDER        0\n",
              "FEATURE_1     0\n",
              "FEATURE_2     0\n",
              "FEATURE_3     0\n",
              "FEATURE_4     0\n",
              "FEATURE_5     0\n",
              "FEATURE_6     0\n",
              "FEATURE_7     0\n",
              "FEATURE_8     0\n",
              "FEATURE_9     0\n",
              "FEATURE_10    0\n",
              "FEATURE_11    0\n",
              "TARGET        0\n",
              "dtype: int64"
            ]
          },
          "metadata": {},
          "execution_count": 10
        }
      ]
    },
    {
      "cell_type": "markdown",
      "metadata": {
        "id": "ZxYZoXaI-Zme"
      },
      "source": [
        "Пропущенных значений нет"
      ]
    },
    {
      "cell_type": "code",
      "metadata": {
        "colab": {
          "base_uri": "https://localhost:8080/"
        },
        "id": "2gtNxafLxQmI",
        "outputId": "085c51e1-8dbc-44b6-c93b-e1444e5fcdb2"
      },
      "source": [
        "df.TARGET.nunique()"
      ],
      "execution_count": 11,
      "outputs": [
        {
          "output_type": "execute_result",
          "data": {
            "text/plain": [
              "2"
            ]
          },
          "metadata": {},
          "execution_count": 11
        }
      ]
    },
    {
      "cell_type": "code",
      "metadata": {
        "colab": {
          "base_uri": "https://localhost:8080/",
          "height": 111
        },
        "id": "W8UbiK3H-Ttt",
        "outputId": "257dc6f1-2219-4818-9bb8-cc1f1e848e7a"
      },
      "source": [
        "df.TARGET.value_counts().reset_index()"
      ],
      "execution_count": 12,
      "outputs": [
        {
          "output_type": "execute_result",
          "data": {
            "text/html": [
              "<div>\n",
              "<style scoped>\n",
              "    .dataframe tbody tr th:only-of-type {\n",
              "        vertical-align: middle;\n",
              "    }\n",
              "\n",
              "    .dataframe tbody tr th {\n",
              "        vertical-align: top;\n",
              "    }\n",
              "\n",
              "    .dataframe thead th {\n",
              "        text-align: right;\n",
              "    }\n",
              "</style>\n",
              "<table border=\"1\" class=\"dataframe\">\n",
              "  <thead>\n",
              "    <tr style=\"text-align: right;\">\n",
              "      <th></th>\n",
              "      <th>index</th>\n",
              "      <th>TARGET</th>\n",
              "    </tr>\n",
              "  </thead>\n",
              "  <tbody>\n",
              "    <tr>\n",
              "      <th>0</th>\n",
              "      <td>1</td>\n",
              "      <td>165</td>\n",
              "    </tr>\n",
              "    <tr>\n",
              "      <th>1</th>\n",
              "      <td>0</td>\n",
              "      <td>138</td>\n",
              "    </tr>\n",
              "  </tbody>\n",
              "</table>\n",
              "</div>"
            ],
            "text/plain": [
              "   index  TARGET\n",
              "0      1     165\n",
              "1      0     138"
            ]
          },
          "metadata": {},
          "execution_count": 12
        }
      ]
    },
    {
      "cell_type": "markdown",
      "metadata": {
        "id": "U5jlHYcE-coI"
      },
      "source": [
        "Классы сбалансированны"
      ]
    },
    {
      "cell_type": "code",
      "metadata": {
        "id": "t3AQ3v9crNdu"
      },
      "source": [
        "df = pd.get_dummies(df, prefix='GENDER', columns=['GENDER'])"
      ],
      "execution_count": 13,
      "outputs": []
    },
    {
      "cell_type": "code",
      "metadata": {
        "colab": {
          "base_uri": "https://localhost:8080/",
          "height": 439
        },
        "id": "f_AOjzsQDuUd",
        "outputId": "51320525-c251-45e9-f5b9-d2e65c382d2b"
      },
      "source": [
        "df"
      ],
      "execution_count": 14,
      "outputs": [
        {
          "output_type": "execute_result",
          "data": {
            "text/html": [
              "<div>\n",
              "<style scoped>\n",
              "    .dataframe tbody tr th:only-of-type {\n",
              "        vertical-align: middle;\n",
              "    }\n",
              "\n",
              "    .dataframe tbody tr th {\n",
              "        vertical-align: top;\n",
              "    }\n",
              "\n",
              "    .dataframe thead th {\n",
              "        text-align: right;\n",
              "    }\n",
              "</style>\n",
              "<table border=\"1\" class=\"dataframe\">\n",
              "  <thead>\n",
              "    <tr style=\"text-align: right;\">\n",
              "      <th></th>\n",
              "      <th>AGE</th>\n",
              "      <th>FEATURE_1</th>\n",
              "      <th>FEATURE_2</th>\n",
              "      <th>FEATURE_3</th>\n",
              "      <th>FEATURE_4</th>\n",
              "      <th>FEATURE_5</th>\n",
              "      <th>FEATURE_6</th>\n",
              "      <th>FEATURE_7</th>\n",
              "      <th>FEATURE_8</th>\n",
              "      <th>FEATURE_9</th>\n",
              "      <th>FEATURE_10</th>\n",
              "      <th>FEATURE_11</th>\n",
              "      <th>TARGET</th>\n",
              "      <th>GENDER_0</th>\n",
              "      <th>GENDER_1</th>\n",
              "    </tr>\n",
              "  </thead>\n",
              "  <tbody>\n",
              "    <tr>\n",
              "      <th>0</th>\n",
              "      <td>63</td>\n",
              "      <td>3</td>\n",
              "      <td>145</td>\n",
              "      <td>233</td>\n",
              "      <td>1</td>\n",
              "      <td>0</td>\n",
              "      <td>150</td>\n",
              "      <td>0</td>\n",
              "      <td>2.3</td>\n",
              "      <td>0</td>\n",
              "      <td>0</td>\n",
              "      <td>1</td>\n",
              "      <td>1</td>\n",
              "      <td>0</td>\n",
              "      <td>1</td>\n",
              "    </tr>\n",
              "    <tr>\n",
              "      <th>1</th>\n",
              "      <td>37</td>\n",
              "      <td>2</td>\n",
              "      <td>130</td>\n",
              "      <td>250</td>\n",
              "      <td>0</td>\n",
              "      <td>1</td>\n",
              "      <td>187</td>\n",
              "      <td>0</td>\n",
              "      <td>3.5</td>\n",
              "      <td>0</td>\n",
              "      <td>0</td>\n",
              "      <td>2</td>\n",
              "      <td>1</td>\n",
              "      <td>0</td>\n",
              "      <td>1</td>\n",
              "    </tr>\n",
              "    <tr>\n",
              "      <th>2</th>\n",
              "      <td>41</td>\n",
              "      <td>1</td>\n",
              "      <td>130</td>\n",
              "      <td>204</td>\n",
              "      <td>0</td>\n",
              "      <td>0</td>\n",
              "      <td>172</td>\n",
              "      <td>0</td>\n",
              "      <td>1.4</td>\n",
              "      <td>2</td>\n",
              "      <td>0</td>\n",
              "      <td>2</td>\n",
              "      <td>1</td>\n",
              "      <td>1</td>\n",
              "      <td>0</td>\n",
              "    </tr>\n",
              "    <tr>\n",
              "      <th>3</th>\n",
              "      <td>56</td>\n",
              "      <td>1</td>\n",
              "      <td>120</td>\n",
              "      <td>236</td>\n",
              "      <td>0</td>\n",
              "      <td>1</td>\n",
              "      <td>178</td>\n",
              "      <td>0</td>\n",
              "      <td>0.8</td>\n",
              "      <td>2</td>\n",
              "      <td>0</td>\n",
              "      <td>2</td>\n",
              "      <td>1</td>\n",
              "      <td>0</td>\n",
              "      <td>1</td>\n",
              "    </tr>\n",
              "    <tr>\n",
              "      <th>4</th>\n",
              "      <td>57</td>\n",
              "      <td>0</td>\n",
              "      <td>120</td>\n",
              "      <td>354</td>\n",
              "      <td>0</td>\n",
              "      <td>1</td>\n",
              "      <td>163</td>\n",
              "      <td>1</td>\n",
              "      <td>0.6</td>\n",
              "      <td>2</td>\n",
              "      <td>0</td>\n",
              "      <td>2</td>\n",
              "      <td>1</td>\n",
              "      <td>1</td>\n",
              "      <td>0</td>\n",
              "    </tr>\n",
              "    <tr>\n",
              "      <th>...</th>\n",
              "      <td>...</td>\n",
              "      <td>...</td>\n",
              "      <td>...</td>\n",
              "      <td>...</td>\n",
              "      <td>...</td>\n",
              "      <td>...</td>\n",
              "      <td>...</td>\n",
              "      <td>...</td>\n",
              "      <td>...</td>\n",
              "      <td>...</td>\n",
              "      <td>...</td>\n",
              "      <td>...</td>\n",
              "      <td>...</td>\n",
              "      <td>...</td>\n",
              "      <td>...</td>\n",
              "    </tr>\n",
              "    <tr>\n",
              "      <th>298</th>\n",
              "      <td>57</td>\n",
              "      <td>0</td>\n",
              "      <td>140</td>\n",
              "      <td>241</td>\n",
              "      <td>0</td>\n",
              "      <td>1</td>\n",
              "      <td>123</td>\n",
              "      <td>1</td>\n",
              "      <td>0.2</td>\n",
              "      <td>1</td>\n",
              "      <td>0</td>\n",
              "      <td>3</td>\n",
              "      <td>0</td>\n",
              "      <td>1</td>\n",
              "      <td>0</td>\n",
              "    </tr>\n",
              "    <tr>\n",
              "      <th>299</th>\n",
              "      <td>45</td>\n",
              "      <td>3</td>\n",
              "      <td>110</td>\n",
              "      <td>264</td>\n",
              "      <td>0</td>\n",
              "      <td>1</td>\n",
              "      <td>132</td>\n",
              "      <td>0</td>\n",
              "      <td>1.2</td>\n",
              "      <td>1</td>\n",
              "      <td>0</td>\n",
              "      <td>3</td>\n",
              "      <td>0</td>\n",
              "      <td>0</td>\n",
              "      <td>1</td>\n",
              "    </tr>\n",
              "    <tr>\n",
              "      <th>300</th>\n",
              "      <td>68</td>\n",
              "      <td>0</td>\n",
              "      <td>144</td>\n",
              "      <td>193</td>\n",
              "      <td>1</td>\n",
              "      <td>1</td>\n",
              "      <td>141</td>\n",
              "      <td>0</td>\n",
              "      <td>3.4</td>\n",
              "      <td>1</td>\n",
              "      <td>2</td>\n",
              "      <td>3</td>\n",
              "      <td>0</td>\n",
              "      <td>0</td>\n",
              "      <td>1</td>\n",
              "    </tr>\n",
              "    <tr>\n",
              "      <th>301</th>\n",
              "      <td>57</td>\n",
              "      <td>0</td>\n",
              "      <td>130</td>\n",
              "      <td>131</td>\n",
              "      <td>0</td>\n",
              "      <td>1</td>\n",
              "      <td>115</td>\n",
              "      <td>1</td>\n",
              "      <td>1.2</td>\n",
              "      <td>1</td>\n",
              "      <td>1</td>\n",
              "      <td>3</td>\n",
              "      <td>0</td>\n",
              "      <td>0</td>\n",
              "      <td>1</td>\n",
              "    </tr>\n",
              "    <tr>\n",
              "      <th>302</th>\n",
              "      <td>57</td>\n",
              "      <td>1</td>\n",
              "      <td>130</td>\n",
              "      <td>236</td>\n",
              "      <td>0</td>\n",
              "      <td>0</td>\n",
              "      <td>174</td>\n",
              "      <td>0</td>\n",
              "      <td>0.0</td>\n",
              "      <td>1</td>\n",
              "      <td>1</td>\n",
              "      <td>2</td>\n",
              "      <td>0</td>\n",
              "      <td>1</td>\n",
              "      <td>0</td>\n",
              "    </tr>\n",
              "  </tbody>\n",
              "</table>\n",
              "<p>303 rows × 15 columns</p>\n",
              "</div>"
            ],
            "text/plain": [
              "     AGE  FEATURE_1  FEATURE_2  ...  TARGET  GENDER_0  GENDER_1\n",
              "0     63          3        145  ...       1         0         1\n",
              "1     37          2        130  ...       1         0         1\n",
              "2     41          1        130  ...       1         1         0\n",
              "3     56          1        120  ...       1         0         1\n",
              "4     57          0        120  ...       1         1         0\n",
              "..   ...        ...        ...  ...     ...       ...       ...\n",
              "298   57          0        140  ...       0         1         0\n",
              "299   45          3        110  ...       0         0         1\n",
              "300   68          0        144  ...       0         0         1\n",
              "301   57          0        130  ...       0         0         1\n",
              "302   57          1        130  ...       0         1         0\n",
              "\n",
              "[303 rows x 15 columns]"
            ]
          },
          "metadata": {},
          "execution_count": 14
        }
      ]
    },
    {
      "cell_type": "code",
      "metadata": {
        "id": "XgSKG3fow8s7"
      },
      "source": [
        "X = df.drop(['TARGET'], axis=1)\n",
        "y = df.TARGET"
      ],
      "execution_count": 15,
      "outputs": []
    },
    {
      "cell_type": "code",
      "metadata": {
        "id": "2Li7tikU-zsK"
      },
      "source": [
        "from sklearn.model_selection import train_test_split"
      ],
      "execution_count": 16,
      "outputs": []
    },
    {
      "cell_type": "code",
      "metadata": {
        "colab": {
          "base_uri": "https://localhost:8080/"
        },
        "id": "hBF1LHUtxHzO",
        "outputId": "c25d8e7d-f569-46e0-8c82-c5b82ec0166c"
      },
      "source": [
        "X_train, X_test, y_train, y_test = train_test_split(X, y, test_size=0.3, random_state=30)\n",
        "print(X_train.shape[0],X_test.shape[0])"
      ],
      "execution_count": 17,
      "outputs": [
        {
          "output_type": "stream",
          "name": "stdout",
          "text": [
            "212 91\n"
          ]
        }
      ]
    },
    {
      "cell_type": "code",
      "metadata": {
        "id": "lyy_lTEA-mwY"
      },
      "source": [
        "import lightgbm as lgb\n",
        "from sklearn.model_selection import GridSearchCV"
      ],
      "execution_count": 18,
      "outputs": []
    },
    {
      "cell_type": "code",
      "metadata": {
        "colab": {
          "base_uri": "https://localhost:8080/"
        },
        "id": "0t6HVtAnxM5K",
        "outputId": "66730c3d-2bd4-415d-bd92-f2de14241199"
      },
      "source": [
        "lg = lgb.LGBMClassifier(silent=False)\n",
        "parametrs= {\"n_estimators\":  range(10,200,5)}\n",
        "grid_search_cv = GridSearchCV(lg, n_jobs=-1, param_grid=parametrs, cv=15, scoring='f1')\n",
        "grid_search_cv.fit(X_train,y_train)\n",
        "best_n_estimators = grid_search_cv.best_estimator_.n_estimators\n",
        "print(best_n_estimators)"
      ],
      "execution_count": 45,
      "outputs": [
        {
          "output_type": "stream",
          "name": "stdout",
          "text": [
            "30\n"
          ]
        }
      ]
    },
    {
      "cell_type": "code",
      "metadata": {
        "colab": {
          "base_uri": "https://localhost:8080/"
        },
        "id": "xA-IBF5OxWIM",
        "outputId": "a64f1424-2efc-4bc3-943e-2c83177ab184"
      },
      "source": [
        "train_data = lgb.Dataset(X_train, label=y_train)\n",
        "validation_data = lgb.Dataset(X_test, label=y_test, reference=train_data)\n",
        "param = {'num_leaves':31, 'objective':'binary', 'num_class':1, 'learning_rate':0.06}\n",
        "num_round = best_n_estimators\n",
        "bst = lgb.train(param, train_data,num_round, valid_sets=[validation_data])\n",
        "y_test_predict_lgbm = bst.predict(X_test)"
      ],
      "execution_count": 46,
      "outputs": [
        {
          "output_type": "stream",
          "name": "stdout",
          "text": [
            "[1]\tvalid_0's binary_logloss: 0.657299\n",
            "[2]\tvalid_0's binary_logloss: 0.630344\n",
            "[3]\tvalid_0's binary_logloss: 0.611916\n",
            "[4]\tvalid_0's binary_logloss: 0.592184\n",
            "[5]\tvalid_0's binary_logloss: 0.576878\n",
            "[6]\tvalid_0's binary_logloss: 0.557437\n",
            "[7]\tvalid_0's binary_logloss: 0.54231\n",
            "[8]\tvalid_0's binary_logloss: 0.53176\n",
            "[9]\tvalid_0's binary_logloss: 0.520735\n",
            "[10]\tvalid_0's binary_logloss: 0.508734\n",
            "[11]\tvalid_0's binary_logloss: 0.500463\n",
            "[12]\tvalid_0's binary_logloss: 0.488651\n",
            "[13]\tvalid_0's binary_logloss: 0.480982\n",
            "[14]\tvalid_0's binary_logloss: 0.475397\n",
            "[15]\tvalid_0's binary_logloss: 0.467269\n",
            "[16]\tvalid_0's binary_logloss: 0.461788\n",
            "[17]\tvalid_0's binary_logloss: 0.452892\n",
            "[18]\tvalid_0's binary_logloss: 0.448235\n",
            "[19]\tvalid_0's binary_logloss: 0.442241\n",
            "[20]\tvalid_0's binary_logloss: 0.43779\n",
            "[21]\tvalid_0's binary_logloss: 0.433318\n",
            "[22]\tvalid_0's binary_logloss: 0.428837\n",
            "[23]\tvalid_0's binary_logloss: 0.423335\n",
            "[24]\tvalid_0's binary_logloss: 0.419784\n",
            "[25]\tvalid_0's binary_logloss: 0.415485\n",
            "[26]\tvalid_0's binary_logloss: 0.409948\n",
            "[27]\tvalid_0's binary_logloss: 0.406545\n",
            "[28]\tvalid_0's binary_logloss: 0.401856\n",
            "[29]\tvalid_0's binary_logloss: 0.399185\n",
            "[30]\tvalid_0's binary_logloss: 0.397219\n"
          ]
        }
      ]
    },
    {
      "cell_type": "code",
      "metadata": {
        "id": "XZToPegNxYQ4"
      },
      "source": [
        "from sklearn.metrics import precision_score, recall_score, f1_score, classification_report"
      ],
      "execution_count": 47,
      "outputs": []
    },
    {
      "cell_type": "code",
      "metadata": {
        "colab": {
          "base_uri": "https://localhost:8080/",
          "height": 282
        },
        "id": "kffhet3ny-Uv",
        "outputId": "81924030-3428-413b-dcee-29b9cd598708"
      },
      "source": [
        "pd.Series(y_test_predict_lgbm).hist()"
      ],
      "execution_count": 48,
      "outputs": [
        {
          "output_type": "execute_result",
          "data": {
            "text/plain": [
              "<matplotlib.axes._subplots.AxesSubplot at 0x7f38351f3390>"
            ]
          },
          "metadata": {},
          "execution_count": 48
        },
        {
          "output_type": "display_data",
          "data": {
            "image/png": "[encoded data removed]",
            "text/plain": [
              "<Figure size 432x288 with 1 Axes>"
            ]
          },
          "metadata": {
            "needs_background": "light"
          }
        }
      ]
    },
    {
      "cell_type": "code",
      "metadata": {
        "id": "qS7CkUo82NG6"
      },
      "source": [
        "binary_y_test_predict = np.where(y_test_predict_lgbm>0.5, 1, 0)"
      ],
      "execution_count": 49,
      "outputs": []
    },
    {
      "cell_type": "code",
      "metadata": {
        "colab": {
          "base_uri": "https://localhost:8080/"
        },
        "id": "U-xC4AL63ERO",
        "outputId": "be09559c-a585-4658-efba-ee5643d75bbf"
      },
      "source": [
        "print(classification_report(y_test, binary_y_test_predict))"
      ],
      "execution_count": 50,
      "outputs": [
        {
          "output_type": "stream",
          "name": "stdout",
          "text": [
            "              precision    recall  f1-score   support\n",
            "\n",
            "           0       0.79      0.78      0.78        40\n",
            "           1       0.83      0.84      0.83        51\n",
            "\n",
            "    accuracy                           0.81        91\n",
            "   macro avg       0.81      0.81      0.81        91\n",
            "weighted avg       0.81      0.81      0.81        91\n",
            "\n"
          ]
        }
      ]
    },
    {
      "cell_type": "code",
      "metadata": {
        "colab": {
          "base_uri": "https://localhost:8080/"
        },
        "id": "qAD6fHV-E5bT",
        "outputId": "3744a899-5309-4067-c900-56e6ad1612e0"
      },
      "source": [
        "f1_score(y_test, binary_y_test_predict)"
      ],
      "execution_count": 51,
      "outputs": [
        {
          "output_type": "execute_result",
          "data": {
            "text/plain": [
              "0.8349514563106797"
            ]
          },
          "metadata": {},
          "execution_count": 51
        }
      ]
    },
    {
      "cell_type": "code",
      "metadata": {
        "colab": {
          "base_uri": "https://localhost:8080/",
          "height": 295
        },
        "id": "wonoNWVT2NQl",
        "outputId": "26b4786e-b6c3-4e60-d034-e27518094c00"
      },
      "source": [
        "from sklearn.metrics import roc_curve, auc\n",
        "fpr, tpr, thresholds = roc_curve(y_test, y_test_predict_lgbm)\n",
        "roc_auc= auc(fpr, tpr)\n",
        "plt.figure()\n",
        "plt.plot(fpr, tpr, label='ROC curve (area = %0.2f)' % roc_auc)\n",
        "plt.plot([0, 1], [0, 1], 'k--')\n",
        "plt.xlim([0.0, 1.0])\n",
        "plt.ylim([0.0, 1.05])\n",
        "plt.xlabel('False Positive Rate')\n",
        "plt.ylabel('True Positive Rate')\n",
        "plt.title('Receiver operating characteristic example')\n",
        "plt.legend(loc=\"lower right\")\n",
        "plt.show()"
      ],
      "execution_count": 52,
      "outputs": [
        {
          "output_type": "display_data",
          "data": {
            "image/png": "[encoded data removed]",
            "text/plain": [
              "<Figure size 432x288 with 1 Axes>"
            ]
          },
          "metadata": {
            "needs_background": "light"
          }
        }
      ]
    },
    {
      "cell_type": "code",
      "metadata": {
        "id": "PZf9N_T05Umv"
      },
      "source": [
        "importances = pd.Series(bst.feature_importance(), index=X_test.columns).sort_values(ascending=False)"
      ],
      "execution_count": 53,
      "outputs": []
    },
    {
      "cell_type": "code",
      "metadata": {
        "colab": {
          "base_uri": "https://localhost:8080/",
          "height": 265
        },
        "id": "KF_EtW7w5Upl",
        "outputId": "2c810e11-9f82-4ce9-8794-db781161384c"
      },
      "source": [
        "sns.barplot(y=importances.index, x=importances)\n",
        "pass"
      ],
      "execution_count": 54,
      "outputs": [
        {
          "output_type": "display_data",
          "data": {
            "image/png": "[encoded data removed]",
            "text/plain": [
              "<Figure size 432x288 with 1 Axes>"
            ]
          },
          "metadata": {
            "needs_background": "light"
          }
        }
      ]
    },
    {
      "cell_type": "markdown",
      "metadata": {
        "id": "JjmGodK37i91"
      },
      "source": [
        "Исключим признак 4, он мало коррелирует с откликом и не вносит вклад в нашу модель"
      ]
    },
    {
      "cell_type": "code",
      "metadata": {
        "id": "hVxgMHNb708o"
      },
      "source": [
        "X = df.drop(['TARGET', 'FEATURE_4'], axis=1)\n",
        "y = df.TARGET"
      ],
      "execution_count": 55,
      "outputs": []
    },
    {
      "cell_type": "code",
      "metadata": {
        "colab": {
          "base_uri": "https://localhost:8080/"
        },
        "id": "28HdJ0dj708p",
        "outputId": "6b2d2b19-2dac-4a5d-bead-6c09143f93e3"
      },
      "source": [
        "X_train, X_test, y_train, y_test = train_test_split(X, y, test_size=0.3, random_state=30)\n",
        "print(X_train.shape[0], X_test.shape[0])"
      ],
      "execution_count": 56,
      "outputs": [
        {
          "output_type": "stream",
          "name": "stdout",
          "text": [
            "212 91\n"
          ]
        }
      ]
    },
    {
      "cell_type": "code",
      "metadata": {
        "colab": {
          "base_uri": "https://localhost:8080/"
        },
        "id": "83plXeKi708r",
        "outputId": "f944b1f8-35ff-4af0-cef7-1d45a362292a"
      },
      "source": [
        "lg = lgb.LGBMClassifier(silent=False)\n",
        "parametrs= {\"n_estimators\":  range(10,200,5)}\n",
        "grid_search_cv = GridSearchCV(lg, n_jobs=-1, param_grid=parametrs, cv=15, scoring='f1')\n",
        "grid_search_cv.fit(X_train,y_train)\n",
        "best_n_estimators = grid_search_cv.best_estimator_.n_estimators\n",
        "print(best_n_estimators)"
      ],
      "execution_count": 57,
      "outputs": [
        {
          "output_type": "stream",
          "name": "stdout",
          "text": [
            "30\n"
          ]
        }
      ]
    },
    {
      "cell_type": "code",
      "metadata": {
        "colab": {
          "base_uri": "https://localhost:8080/"
        },
        "id": "k33VkDOJ708r",
        "outputId": "a5f697e6-6854-4c7e-ad0b-0d0d30cc9760"
      },
      "source": [
        "train_data = lgb.Dataset(X_train, label=y_train)\n",
        "validation_data = lgb.Dataset(X_test, label=y_test, reference=train_data)\n",
        "param = {'num_leaves':31, 'objective': 'binary','num_class':1, 'learning_rate':0.06}\n",
        "num_round = best_n_estimators\n",
        "bst = lgb.train(param, train_data,num_round, valid_sets=[validation_data])\n",
        "y_test_predict_lgbm = bst.predict(X_test)"
      ],
      "execution_count": 58,
      "outputs": [
        {
          "output_type": "stream",
          "name": "stdout",
          "text": [
            "[1]\tvalid_0's binary_logloss: 0.657299\n",
            "[2]\tvalid_0's binary_logloss: 0.630344\n",
            "[3]\tvalid_0's binary_logloss: 0.611916\n",
            "[4]\tvalid_0's binary_logloss: 0.592184\n",
            "[5]\tvalid_0's binary_logloss: 0.576878\n",
            "[6]\tvalid_0's binary_logloss: 0.557437\n",
            "[7]\tvalid_0's binary_logloss: 0.54231\n",
            "[8]\tvalid_0's binary_logloss: 0.53176\n",
            "[9]\tvalid_0's binary_logloss: 0.520735\n",
            "[10]\tvalid_0's binary_logloss: 0.508734\n",
            "[11]\tvalid_0's binary_logloss: 0.500463\n",
            "[12]\tvalid_0's binary_logloss: 0.488651\n",
            "[13]\tvalid_0's binary_logloss: 0.480982\n",
            "[14]\tvalid_0's binary_logloss: 0.475397\n",
            "[15]\tvalid_0's binary_logloss: 0.467269\n",
            "[16]\tvalid_0's binary_logloss: 0.461788\n",
            "[17]\tvalid_0's binary_logloss: 0.452892\n",
            "[18]\tvalid_0's binary_logloss: 0.448235\n",
            "[19]\tvalid_0's binary_logloss: 0.442241\n",
            "[20]\tvalid_0's binary_logloss: 0.43779\n",
            "[21]\tvalid_0's binary_logloss: 0.433318\n",
            "[22]\tvalid_0's binary_logloss: 0.428837\n",
            "[23]\tvalid_0's binary_logloss: 0.423335\n",
            "[24]\tvalid_0's binary_logloss: 0.419784\n",
            "[25]\tvalid_0's binary_logloss: 0.415485\n",
            "[26]\tvalid_0's binary_logloss: 0.409948\n",
            "[27]\tvalid_0's binary_logloss: 0.406545\n",
            "[28]\tvalid_0's binary_logloss: 0.401856\n",
            "[29]\tvalid_0's binary_logloss: 0.399185\n",
            "[30]\tvalid_0's binary_logloss: 0.397219\n"
          ]
        }
      ]
    },
    {
      "cell_type": "code",
      "metadata": {
        "id": "G1jrxHBS708s"
      },
      "source": [
        "binary_y_test_predict = np.where(y_test_predict_lgbm>0.5, 1, 0)"
      ],
      "execution_count": 59,
      "outputs": []
    },
    {
      "cell_type": "code",
      "metadata": {
        "colab": {
          "base_uri": "https://localhost:8080/"
        },
        "id": "TRhB7HHP708s",
        "outputId": "67d4a8c4-6819-4b07-ac47-b92299028b70"
      },
      "source": [
        "print(classification_report(y_test, binary_y_test_predict))"
      ],
      "execution_count": 60,
      "outputs": [
        {
          "output_type": "stream",
          "name": "stdout",
          "text": [
            "              precision    recall  f1-score   support\n",
            "\n",
            "           0       0.79      0.78      0.78        40\n",
            "           1       0.83      0.84      0.83        51\n",
            "\n",
            "    accuracy                           0.81        91\n",
            "   macro avg       0.81      0.81      0.81        91\n",
            "weighted avg       0.81      0.81      0.81        91\n",
            "\n"
          ]
        }
      ]
    },
    {
      "cell_type": "code",
      "metadata": {
        "colab": {
          "base_uri": "https://localhost:8080/"
        },
        "id": "Y8oq07P3IJz9",
        "outputId": "bd700aee-ba10-4f7c-b027-085b672bbedb"
      },
      "source": [
        "f1_score(y_test, binary_y_test_predict)"
      ],
      "execution_count": 61,
      "outputs": [
        {
          "output_type": "execute_result",
          "data": {
            "text/plain": [
              "0.8349514563106797"
            ]
          },
          "metadata": {},
          "execution_count": 61
        }
      ]
    },
    {
      "cell_type": "markdown",
      "metadata": {
        "id": "Thbjyz8183T0"
      },
      "source": [
        "F1 остался прежним. Удалим еще и признак 7, потому что он коррелирует с признаком 1"
      ]
    },
    {
      "cell_type": "code",
      "metadata": {
        "id": "QyRIoHb989OA"
      },
      "source": [
        "X = df.drop(['TARGET', 'FEATURE_4', 'FEATURE_7'], axis=1)\n",
        "y = df.TARGET"
      ],
      "execution_count": 62,
      "outputs": []
    },
    {
      "cell_type": "code",
      "metadata": {
        "colab": {
          "base_uri": "https://localhost:8080/"
        },
        "id": "bIBr-yBm89OB",
        "outputId": "09f44096-9f1d-418e-9e40-90de87f6b7a8"
      },
      "source": [
        "X_train, X_test, y_train, y_test = train_test_split(X, y, test_size=0.3, random_state=30)\n",
        "print(X_train.shape[0], X_test.shape[0])"
      ],
      "execution_count": 63,
      "outputs": [
        {
          "output_type": "stream",
          "name": "stdout",
          "text": [
            "212 91\n"
          ]
        }
      ]
    },
    {
      "cell_type": "code",
      "metadata": {
        "colab": {
          "base_uri": "https://localhost:8080/"
        },
        "id": "jfF_Hssa89OB",
        "outputId": "4b37a1ec-9824-4cd1-c3b1-2e1661627426"
      },
      "source": [
        "lg = lgb.LGBMClassifier(silent=False)\n",
        "parametrs= {\"n_estimators\":  range(10,200,5)}\n",
        "grid_search_cv = GridSearchCV(lg, n_jobs=-1, param_grid=parametrs, cv=15, scoring='f1')\n",
        "grid_search_cv.fit(X_train,y_train)\n",
        "best_n_estimators = grid_search_cv.best_estimator_.n_estimators\n",
        "print(best_n_estimators)"
      ],
      "execution_count": 64,
      "outputs": [
        {
          "output_type": "stream",
          "name": "stdout",
          "text": [
            "35\n"
          ]
        }
      ]
    },
    {
      "cell_type": "code",
      "metadata": {
        "colab": {
          "base_uri": "https://localhost:8080/"
        },
        "id": "NOvI3KjC89OB",
        "outputId": "8a1bfa54-e530-49de-8054-3297eecec69b"
      },
      "source": [
        "train_data = lgb.Dataset(X_train, label=y_train)\n",
        "validation_data = lgb.Dataset(X_test, label=y_test, reference=train_data)\n",
        "param = {'num_leaves':31, 'objective': 'binary','num_class':1, 'learning_rate':0.06}\n",
        "num_round = best_n_estimators\n",
        "bst = lgb.train(param, train_data,num_round, valid_sets=[validation_data])\n",
        "y_test_predict_lgbm = bst.predict(X_test)"
      ],
      "execution_count": 65,
      "outputs": [
        {
          "output_type": "stream",
          "name": "stdout",
          "text": [
            "[1]\tvalid_0's binary_logloss: 0.657299\n",
            "[2]\tvalid_0's binary_logloss: 0.630344\n",
            "[3]\tvalid_0's binary_logloss: 0.611916\n",
            "[4]\tvalid_0's binary_logloss: 0.592184\n",
            "[5]\tvalid_0's binary_logloss: 0.576878\n",
            "[6]\tvalid_0's binary_logloss: 0.557437\n",
            "[7]\tvalid_0's binary_logloss: 0.54231\n",
            "[8]\tvalid_0's binary_logloss: 0.530314\n",
            "[9]\tvalid_0's binary_logloss: 0.515241\n",
            "[10]\tvalid_0's binary_logloss: 0.505103\n",
            "[11]\tvalid_0's binary_logloss: 0.49428\n",
            "[12]\tvalid_0's binary_logloss: 0.484987\n",
            "[13]\tvalid_0's binary_logloss: 0.477846\n",
            "[14]\tvalid_0's binary_logloss: 0.467284\n",
            "[15]\tvalid_0's binary_logloss: 0.461727\n",
            "[16]\tvalid_0's binary_logloss: 0.454029\n",
            "[17]\tvalid_0's binary_logloss: 0.449031\n",
            "[18]\tvalid_0's binary_logloss: 0.442513\n",
            "[19]\tvalid_0's binary_logloss: 0.437767\n",
            "[20]\tvalid_0's binary_logloss: 0.433978\n",
            "[21]\tvalid_0's binary_logloss: 0.430794\n",
            "[22]\tvalid_0's binary_logloss: 0.423348\n",
            "[23]\tvalid_0's binary_logloss: 0.419003\n",
            "[24]\tvalid_0's binary_logloss: 0.416691\n",
            "[25]\tvalid_0's binary_logloss: 0.417297\n",
            "[26]\tvalid_0's binary_logloss: 0.414162\n",
            "[27]\tvalid_0's binary_logloss: 0.409468\n",
            "[28]\tvalid_0's binary_logloss: 0.407457\n",
            "[29]\tvalid_0's binary_logloss: 0.407532\n",
            "[30]\tvalid_0's binary_logloss: 0.408038\n",
            "[31]\tvalid_0's binary_logloss: 0.404577\n",
            "[32]\tvalid_0's binary_logloss: 0.403214\n",
            "[33]\tvalid_0's binary_logloss: 0.398735\n",
            "[34]\tvalid_0's binary_logloss: 0.397952\n",
            "[35]\tvalid_0's binary_logloss: 0.396547\n"
          ]
        }
      ]
    },
    {
      "cell_type": "code",
      "metadata": {
        "id": "y43ZUpaA89OC"
      },
      "source": [
        "binary_y_test_predict = np.where(y_test_predict_lgbm>0.5, 1, 0)"
      ],
      "execution_count": 66,
      "outputs": []
    },
    {
      "cell_type": "code",
      "metadata": {
        "colab": {
          "base_uri": "https://localhost:8080/"
        },
        "id": "flwalzIl89OC",
        "outputId": "3c2915cf-1685-4122-ac06-3e2942563aa7"
      },
      "source": [
        "f1_score(y_test, binary_y_test_predict)"
      ],
      "execution_count": 74,
      "outputs": [
        {
          "output_type": "execute_result",
          "data": {
            "text/plain": [
              "0.8461538461538461"
            ]
          },
          "metadata": {},
          "execution_count": 74
        }
      ]
    },
    {
      "cell_type": "markdown",
      "metadata": {
        "id": "VNTTjP-FBjSI"
      },
      "source": [
        "Удаление признаков повышает f1 score. "
      ]
    },
    {
      "cell_type": "code",
      "metadata": {
        "id": "Cza5DEb9Io2U"
      },
      "source": [
        "X = df.drop(['TARGET', 'FEATURE_4', 'FEATURE_7', 'GENDER_1', 'FEATURE_2', 'FEATURE_5'], axis=1)\n",
        "y = df.TARGET"
      ],
      "execution_count": 82,
      "outputs": []
    },
    {
      "cell_type": "code",
      "metadata": {
        "colab": {
          "base_uri": "https://localhost:8080/"
        },
        "id": "3MhvtuepIo2U",
        "outputId": "b9b805cc-434a-4209-ba37-11ea53d0a1e2"
      },
      "source": [
        "X_train, X_test, y_train, y_test = train_test_split(X, y, test_size=0.3, random_state=30)\n",
        "print(X_train.shape[0], X_test.shape[0])"
      ],
      "execution_count": 83,
      "outputs": [
        {
          "output_type": "stream",
          "name": "stdout",
          "text": [
            "212 91\n"
          ]
        }
      ]
    },
    {
      "cell_type": "code",
      "metadata": {
        "colab": {
          "base_uri": "https://localhost:8080/"
        },
        "id": "gfVSSzmAIo2V",
        "outputId": "1e937886-a5df-4d19-eb41-676e16a49e7b"
      },
      "source": [
        "lg = lgb.LGBMClassifier(silent=False)\n",
        "parametrs= {\"n_estimators\":  range(10,200,5)}\n",
        "grid_search_cv = GridSearchCV(lg, n_jobs=-1, param_grid=parametrs, cv=15, scoring='f1')\n",
        "grid_search_cv.fit(X_train,y_train)\n",
        "best_n_estimators = grid_search_cv.best_estimator_.n_estimators\n",
        "print(best_n_estimators)"
      ],
      "execution_count": 84,
      "outputs": [
        {
          "output_type": "stream",
          "name": "stdout",
          "text": [
            "30\n"
          ]
        }
      ]
    },
    {
      "cell_type": "code",
      "metadata": {
        "colab": {
          "base_uri": "https://localhost:8080/"
        },
        "id": "1G85K7R7Io2V",
        "outputId": "1978926a-61d8-4169-c471-547726cd2f49"
      },
      "source": [
        "train_data = lgb.Dataset(X_train, label=y_train)\n",
        "validation_data = lgb.Dataset(X_test, label=y_test, reference=train_data)\n",
        "param = {'num_leaves':31, 'objective': 'binary','num_class':1, 'learning_rate':0.06}\n",
        "num_round = best_n_estimators\n",
        "bst = lgb.train(param, train_data,num_round, valid_sets=[validation_data])\n",
        "y_test_predict_lgbm = bst.predict(X_test)"
      ],
      "execution_count": 85,
      "outputs": [
        {
          "output_type": "stream",
          "name": "stdout",
          "text": [
            "[1]\tvalid_0's binary_logloss: 0.656954\n",
            "[2]\tvalid_0's binary_logloss: 0.629732\n",
            "[3]\tvalid_0's binary_logloss: 0.611425\n",
            "[4]\tvalid_0's binary_logloss: 0.591381\n",
            "[5]\tvalid_0's binary_logloss: 0.576214\n",
            "[6]\tvalid_0's binary_logloss: 0.556813\n",
            "[7]\tvalid_0's binary_logloss: 0.541633\n",
            "[8]\tvalid_0's binary_logloss: 0.529769\n",
            "[9]\tvalid_0's binary_logloss: 0.514552\n",
            "[10]\tvalid_0's binary_logloss: 0.504554\n",
            "[11]\tvalid_0's binary_logloss: 0.493837\n",
            "[12]\tvalid_0's binary_logloss: 0.484072\n",
            "[13]\tvalid_0's binary_logloss: 0.475908\n",
            "[14]\tvalid_0's binary_logloss: 0.467799\n",
            "[15]\tvalid_0's binary_logloss: 0.462484\n",
            "[16]\tvalid_0's binary_logloss: 0.45322\n",
            "[17]\tvalid_0's binary_logloss: 0.448024\n",
            "[18]\tvalid_0's binary_logloss: 0.443695\n",
            "[19]\tvalid_0's binary_logloss: 0.439748\n",
            "[20]\tvalid_0's binary_logloss: 0.434258\n",
            "[21]\tvalid_0's binary_logloss: 0.426626\n",
            "[22]\tvalid_0's binary_logloss: 0.425214\n",
            "[23]\tvalid_0's binary_logloss: 0.424333\n",
            "[24]\tvalid_0's binary_logloss: 0.417779\n",
            "[25]\tvalid_0's binary_logloss: 0.415139\n",
            "[26]\tvalid_0's binary_logloss: 0.411864\n",
            "[27]\tvalid_0's binary_logloss: 0.409783\n",
            "[28]\tvalid_0's binary_logloss: 0.410041\n",
            "[29]\tvalid_0's binary_logloss: 0.41019\n",
            "[30]\tvalid_0's binary_logloss: 0.406398\n"
          ]
        }
      ]
    },
    {
      "cell_type": "code",
      "metadata": {
        "id": "63_6fS_SIo2V"
      },
      "source": [
        "binary_y_test_predict = np.where(y_test_predict_lgbm>0.5, 1, 0)"
      ],
      "execution_count": 86,
      "outputs": []
    },
    {
      "cell_type": "code",
      "metadata": {
        "colab": {
          "base_uri": "https://localhost:8080/"
        },
        "id": "ASZXyVJ_Io2V",
        "outputId": "2d597c50-68f5-44af-a798-fa254bdb0baa"
      },
      "source": [
        "f1_score(y_test, binary_y_test_predict)"
      ],
      "execution_count": 87,
      "outputs": [
        {
          "output_type": "execute_result",
          "data": {
            "text/plain": [
              "0.8235294117647058"
            ]
          },
          "metadata": {},
          "execution_count": 87
        }
      ]
    },
    {
      "cell_type": "markdown",
      "metadata": {
        "id": "GVBopDXYPMdW"
      },
      "source": [
        "Остановимся на удалении только признаокв 4 и 7. Попробуем сбалансировать классы:"
      ]
    },
    {
      "cell_type": "code",
      "metadata": {
        "colab": {
          "base_uri": "https://localhost:8080/",
          "height": 224
        },
        "id": "p5_20GnmTLCj",
        "outputId": "d05eb1d4-9aa6-4fea-dcf3-a4b66f707455"
      },
      "source": [
        "df.head()"
      ],
      "execution_count": 88,
      "outputs": [
        {
          "output_type": "execute_result",
          "data": {
            "text/html": [
              "<div>\n",
              "<style scoped>\n",
              "    .dataframe tbody tr th:only-of-type {\n",
              "        vertical-align: middle;\n",
              "    }\n",
              "\n",
              "    .dataframe tbody tr th {\n",
              "        vertical-align: top;\n",
              "    }\n",
              "\n",
              "    .dataframe thead th {\n",
              "        text-align: right;\n",
              "    }\n",
              "</style>\n",
              "<table border=\"1\" class=\"dataframe\">\n",
              "  <thead>\n",
              "    <tr style=\"text-align: right;\">\n",
              "      <th></th>\n",
              "      <th>AGE</th>\n",
              "      <th>FEATURE_1</th>\n",
              "      <th>FEATURE_2</th>\n",
              "      <th>FEATURE_3</th>\n",
              "      <th>FEATURE_4</th>\n",
              "      <th>FEATURE_5</th>\n",
              "      <th>FEATURE_6</th>\n",
              "      <th>FEATURE_7</th>\n",
              "      <th>FEATURE_8</th>\n",
              "      <th>FEATURE_9</th>\n",
              "      <th>FEATURE_10</th>\n",
              "      <th>FEATURE_11</th>\n",
              "      <th>TARGET</th>\n",
              "      <th>GENDER_0</th>\n",
              "      <th>GENDER_1</th>\n",
              "    </tr>\n",
              "  </thead>\n",
              "  <tbody>\n",
              "    <tr>\n",
              "      <th>0</th>\n",
              "      <td>63</td>\n",
              "      <td>3</td>\n",
              "      <td>145</td>\n",
              "      <td>233</td>\n",
              "      <td>1</td>\n",
              "      <td>0</td>\n",
              "      <td>150</td>\n",
              "      <td>0</td>\n",
              "      <td>2.3</td>\n",
              "      <td>0</td>\n",
              "      <td>0</td>\n",
              "      <td>1</td>\n",
              "      <td>1</td>\n",
              "      <td>0</td>\n",
              "      <td>1</td>\n",
              "    </tr>\n",
              "    <tr>\n",
              "      <th>1</th>\n",
              "      <td>37</td>\n",
              "      <td>2</td>\n",
              "      <td>130</td>\n",
              "      <td>250</td>\n",
              "      <td>0</td>\n",
              "      <td>1</td>\n",
              "      <td>187</td>\n",
              "      <td>0</td>\n",
              "      <td>3.5</td>\n",
              "      <td>0</td>\n",
              "      <td>0</td>\n",
              "      <td>2</td>\n",
              "      <td>1</td>\n",
              "      <td>0</td>\n",
              "      <td>1</td>\n",
              "    </tr>\n",
              "    <tr>\n",
              "      <th>2</th>\n",
              "      <td>41</td>\n",
              "      <td>1</td>\n",
              "      <td>130</td>\n",
              "      <td>204</td>\n",
              "      <td>0</td>\n",
              "      <td>0</td>\n",
              "      <td>172</td>\n",
              "      <td>0</td>\n",
              "      <td>1.4</td>\n",
              "      <td>2</td>\n",
              "      <td>0</td>\n",
              "      <td>2</td>\n",
              "      <td>1</td>\n",
              "      <td>1</td>\n",
              "      <td>0</td>\n",
              "    </tr>\n",
              "    <tr>\n",
              "      <th>3</th>\n",
              "      <td>56</td>\n",
              "      <td>1</td>\n",
              "      <td>120</td>\n",
              "      <td>236</td>\n",
              "      <td>0</td>\n",
              "      <td>1</td>\n",
              "      <td>178</td>\n",
              "      <td>0</td>\n",
              "      <td>0.8</td>\n",
              "      <td>2</td>\n",
              "      <td>0</td>\n",
              "      <td>2</td>\n",
              "      <td>1</td>\n",
              "      <td>0</td>\n",
              "      <td>1</td>\n",
              "    </tr>\n",
              "    <tr>\n",
              "      <th>4</th>\n",
              "      <td>57</td>\n",
              "      <td>0</td>\n",
              "      <td>120</td>\n",
              "      <td>354</td>\n",
              "      <td>0</td>\n",
              "      <td>1</td>\n",
              "      <td>163</td>\n",
              "      <td>1</td>\n",
              "      <td>0.6</td>\n",
              "      <td>2</td>\n",
              "      <td>0</td>\n",
              "      <td>2</td>\n",
              "      <td>1</td>\n",
              "      <td>1</td>\n",
              "      <td>0</td>\n",
              "    </tr>\n",
              "  </tbody>\n",
              "</table>\n",
              "</div>"
            ],
            "text/plain": [
              "   AGE  FEATURE_1  FEATURE_2  FEATURE_3  ...  FEATURE_11  TARGET  GENDER_0  GENDER_1\n",
              "0   63          3        145        233  ...           1       1         0         1\n",
              "1   37          2        130        250  ...           2       1         0         1\n",
              "2   41          1        130        204  ...           2       1         1         0\n",
              "3   56          1        120        236  ...           2       1         0         1\n",
              "4   57          0        120        354  ...           2       1         1         0\n",
              "\n",
              "[5 rows x 15 columns]"
            ]
          },
          "metadata": {},
          "execution_count": 88
        }
      ]
    },
    {
      "cell_type": "markdown",
      "metadata": {
        "id": "o4PcIR8-ZAK2"
      },
      "source": [
        "Урежем мажорирующий класс:"
      ]
    },
    {
      "cell_type": "code",
      "metadata": {
        "id": "WqTqGIsfPKOa"
      },
      "source": [
        "from imblearn.under_sampling import NearMiss\n",
        "nm = NearMiss()\n",
        "X_train_miss, y_train_miss = nm.fit_resample(X_train, y_train)"
      ],
      "execution_count": 90,
      "outputs": []
    },
    {
      "cell_type": "code",
      "metadata": {
        "colab": {
          "base_uri": "https://localhost:8080/"
        },
        "id": "NTxixRtbYwSD",
        "outputId": "cdd934e3-bbe7-4342-c2e6-3940cb963c6b"
      },
      "source": [
        "print(sum(y_train_miss==0),sum(y_train_miss==1))"
      ],
      "execution_count": 91,
      "outputs": [
        {
          "output_type": "stream",
          "name": "stdout",
          "text": [
            "98 98\n"
          ]
        }
      ]
    },
    {
      "cell_type": "code",
      "metadata": {
        "colab": {
          "base_uri": "https://localhost:8080/"
        },
        "id": "ryDaahNiQ3Lp",
        "outputId": "830f4c31-b043-421f-add6-238b2a24ecf8"
      },
      "source": [
        "lg = lgb.LGBMClassifier(silent=False)\n",
        "parametrs = {\"n_estimators\":  range(10,200,10)}\n",
        "grid_search = GridSearchCV(lg, n_jobs=-1, param_grid=parametrs, cv=15, scoring='f1')\n",
        "grid_search.fit(X_train_miss,y_train_miss)\n",
        "best_n_estimators = grid_search.best_estimator_.n_estimators\n",
        "print(best_n_estimators)"
      ],
      "execution_count": 92,
      "outputs": [
        {
          "output_type": "stream",
          "name": "stdout",
          "text": [
            "40\n"
          ]
        }
      ]
    },
    {
      "cell_type": "code",
      "metadata": {
        "colab": {
          "base_uri": "https://localhost:8080/"
        },
        "id": "ZT9Di7HURhon",
        "outputId": "55a667e0-6622-4843-b5a1-f45644181152"
      },
      "source": [
        "train_data = lgb.Dataset(X_train_miss, label=y_train_miss)\n",
        "validation_data = lgb.Dataset(X_test, label=y_test, reference=train_data)\n",
        "param = {'num_leaves':31, 'objective':'binary','num_class':1, 'learning_rate':0.06}\n",
        "num_round = best_n_estimators\n",
        "bst = lgb.train(param, train_data,num_round, valid_sets=[validation_data])\n",
        "y_test_predict_lgbm = bst.predict(X_test)"
      ],
      "execution_count": 93,
      "outputs": [
        {
          "output_type": "stream",
          "name": "stdout",
          "text": [
            "[1]\tvalid_0's binary_logloss: 0.664311\n",
            "[2]\tvalid_0's binary_logloss: 0.642478\n",
            "[3]\tvalid_0's binary_logloss: 0.618765\n",
            "[4]\tvalid_0's binary_logloss: 0.601828\n",
            "[5]\tvalid_0's binary_logloss: 0.582798\n",
            "[6]\tvalid_0's binary_logloss: 0.568686\n",
            "[7]\tvalid_0's binary_logloss: 0.553934\n",
            "[8]\tvalid_0's binary_logloss: 0.539562\n",
            "[9]\tvalid_0's binary_logloss: 0.530282\n",
            "[10]\tvalid_0's binary_logloss: 0.51769\n",
            "[11]\tvalid_0's binary_logloss: 0.509953\n",
            "[12]\tvalid_0's binary_logloss: 0.497992\n",
            "[13]\tvalid_0's binary_logloss: 0.490682\n",
            "[14]\tvalid_0's binary_logloss: 0.484439\n",
            "[15]\tvalid_0's binary_logloss: 0.478731\n",
            "[16]\tvalid_0's binary_logloss: 0.470157\n",
            "[17]\tvalid_0's binary_logloss: 0.46572\n",
            "[18]\tvalid_0's binary_logloss: 0.45949\n",
            "[19]\tvalid_0's binary_logloss: 0.451844\n",
            "[20]\tvalid_0's binary_logloss: 0.446554\n",
            "[21]\tvalid_0's binary_logloss: 0.442961\n",
            "[22]\tvalid_0's binary_logloss: 0.439935\n",
            "[23]\tvalid_0's binary_logloss: 0.43612\n",
            "[24]\tvalid_0's binary_logloss: 0.430356\n",
            "[25]\tvalid_0's binary_logloss: 0.426782\n",
            "[26]\tvalid_0's binary_logloss: 0.425913\n",
            "[27]\tvalid_0's binary_logloss: 0.4212\n",
            "[28]\tvalid_0's binary_logloss: 0.418819\n",
            "[29]\tvalid_0's binary_logloss: 0.417627\n",
            "[30]\tvalid_0's binary_logloss: 0.414342\n",
            "[31]\tvalid_0's binary_logloss: 0.411018\n",
            "[32]\tvalid_0's binary_logloss: 0.408607\n",
            "[33]\tvalid_0's binary_logloss: 0.408193\n",
            "[34]\tvalid_0's binary_logloss: 0.407953\n",
            "[35]\tvalid_0's binary_logloss: 0.406246\n",
            "[36]\tvalid_0's binary_logloss: 0.406487\n",
            "[37]\tvalid_0's binary_logloss: 0.405743\n",
            "[38]\tvalid_0's binary_logloss: 0.405829\n",
            "[39]\tvalid_0's binary_logloss: 0.406215\n",
            "[40]\tvalid_0's binary_logloss: 0.405486\n"
          ]
        }
      ]
    },
    {
      "cell_type": "code",
      "metadata": {
        "id": "vDVnp6oUTo1H"
      },
      "source": [
        "binary_y_test_predict = np.where(y_test_predict_lgbm>0.5, 1, 0)"
      ],
      "execution_count": 94,
      "outputs": []
    },
    {
      "cell_type": "code",
      "metadata": {
        "colab": {
          "base_uri": "https://localhost:8080/"
        },
        "id": "eGw92Eh4To1I",
        "outputId": "29e19014-67d6-48f3-90d6-a21c0b47be9c"
      },
      "source": [
        "f1_score(y_test, binary_y_test_predict)"
      ],
      "execution_count": 95,
      "outputs": [
        {
          "output_type": "execute_result",
          "data": {
            "text/plain": [
              "0.8316831683168315"
            ]
          },
          "metadata": {},
          "execution_count": 95
        }
      ]
    },
    {
      "cell_type": "markdown",
      "metadata": {
        "id": "RrqpUzAZY7dJ"
      },
      "source": [
        "Дополним миноритарный класс:"
      ]
    },
    {
      "cell_type": "code",
      "metadata": {
        "id": "I-poO32ZT80z"
      },
      "source": [
        "from imblearn.over_sampling import SMOTE\n",
        "sm = SMOTE(random_state=30)\n",
        "X_train_sm, y_train_sm = sm.fit_resample(X_train, y_train)"
      ],
      "execution_count": 96,
      "outputs": []
    },
    {
      "cell_type": "code",
      "metadata": {
        "colab": {
          "base_uri": "https://localhost:8080/"
        },
        "id": "ZvleFQPfY4Oj",
        "outputId": "936ed01e-05fd-4602-bd71-390cf3e1be85"
      },
      "source": [
        "print(sum(y_train_sm==0),sum(y_train_sm==1))"
      ],
      "execution_count": 97,
      "outputs": [
        {
          "output_type": "stream",
          "name": "stdout",
          "text": [
            "114 114\n"
          ]
        }
      ]
    },
    {
      "cell_type": "code",
      "metadata": {
        "colab": {
          "base_uri": "https://localhost:8080/"
        },
        "id": "t7tNnBOsT800",
        "outputId": "53fbe47d-0d01-479d-c8be-a3a30e0aec0f"
      },
      "source": [
        "lg = lgb.LGBMClassifier(silent=False)\n",
        "param_dist = {\"n_estimators\":  range(10,200,10)}\n",
        "grid_search_cv = GridSearchCV(lg, n_jobs=-1, param_grid=param_dist, cv=15, scoring='f1')\n",
        "grid_search_cv.fit(X_train_sm,y_train_sm)\n",
        "best_n_estimators = grid_search_cv.best_estimator_.n_estimators\n",
        "print(best_n_estimators)"
      ],
      "execution_count": 98,
      "outputs": [
        {
          "output_type": "stream",
          "name": "stdout",
          "text": [
            "40\n"
          ]
        }
      ]
    },
    {
      "cell_type": "code",
      "metadata": {
        "colab": {
          "base_uri": "https://localhost:8080/"
        },
        "id": "VxA9RqS4T800",
        "outputId": "994a0734-8348-4365-d1f6-58b058d9a3b0"
      },
      "source": [
        "train_data = lgb.Dataset(X_train_sm, label=y_train_sm)\n",
        "validation_data = lgb.Dataset(X_test, label=y_test, reference=train_data)\n",
        "param = {'num_leaves':31, 'objective':'binary','num_class':1, 'learning_rate':0.06}\n",
        "num_round = best_n_estimators\n",
        "bst = lgb.train(param, train_data,num_round, valid_sets=[validation_data])\n",
        "y_test_predict_lgbm = bst.predict(X_test)"
      ],
      "execution_count": 99,
      "outputs": [
        {
          "output_type": "stream",
          "name": "stdout",
          "text": [
            "[1]\tvalid_0's binary_logloss: 0.668683\n",
            "[2]\tvalid_0's binary_logloss: 0.647366\n",
            "[3]\tvalid_0's binary_logloss: 0.622716\n",
            "[4]\tvalid_0's binary_logloss: 0.605628\n",
            "[5]\tvalid_0's binary_logloss: 0.589884\n",
            "[6]\tvalid_0's binary_logloss: 0.575886\n",
            "[7]\tvalid_0's binary_logloss: 0.558312\n",
            "[8]\tvalid_0's binary_logloss: 0.544847\n",
            "[9]\tvalid_0's binary_logloss: 0.533996\n",
            "[10]\tvalid_0's binary_logloss: 0.521333\n",
            "[11]\tvalid_0's binary_logloss: 0.514282\n",
            "[12]\tvalid_0's binary_logloss: 0.505571\n",
            "[13]\tvalid_0's binary_logloss: 0.494312\n",
            "[14]\tvalid_0's binary_logloss: 0.488579\n",
            "[15]\tvalid_0's binary_logloss: 0.484485\n",
            "[16]\tvalid_0's binary_logloss: 0.48106\n",
            "[17]\tvalid_0's binary_logloss: 0.474688\n",
            "[18]\tvalid_0's binary_logloss: 0.466256\n",
            "[19]\tvalid_0's binary_logloss: 0.462292\n",
            "[20]\tvalid_0's binary_logloss: 0.455873\n",
            "[21]\tvalid_0's binary_logloss: 0.44868\n",
            "[22]\tvalid_0's binary_logloss: 0.44251\n",
            "[23]\tvalid_0's binary_logloss: 0.436183\n",
            "[24]\tvalid_0's binary_logloss: 0.432581\n",
            "[25]\tvalid_0's binary_logloss: 0.427499\n",
            "[26]\tvalid_0's binary_logloss: 0.424101\n",
            "[27]\tvalid_0's binary_logloss: 0.42253\n",
            "[28]\tvalid_0's binary_logloss: 0.419974\n",
            "[29]\tvalid_0's binary_logloss: 0.418101\n",
            "[30]\tvalid_0's binary_logloss: 0.415974\n",
            "[31]\tvalid_0's binary_logloss: 0.414437\n",
            "[32]\tvalid_0's binary_logloss: 0.41352\n",
            "[33]\tvalid_0's binary_logloss: 0.41058\n",
            "[34]\tvalid_0's binary_logloss: 0.410463\n",
            "[35]\tvalid_0's binary_logloss: 0.410668\n",
            "[36]\tvalid_0's binary_logloss: 0.41069\n",
            "[37]\tvalid_0's binary_logloss: 0.410765\n",
            "[38]\tvalid_0's binary_logloss: 0.411799\n",
            "[39]\tvalid_0's binary_logloss: 0.413494\n",
            "[40]\tvalid_0's binary_logloss: 0.411223\n"
          ]
        }
      ]
    },
    {
      "cell_type": "code",
      "metadata": {
        "id": "nlDKGavTT800"
      },
      "source": [
        "binary_y_test_predict = np.where(y_test_predict_lgbm>0.5, 1, 0)"
      ],
      "execution_count": 100,
      "outputs": []
    },
    {
      "cell_type": "code",
      "metadata": {
        "colab": {
          "base_uri": "https://localhost:8080/"
        },
        "id": "qiZXpfkbT800",
        "outputId": "07f3342a-c1cd-4bd3-885c-98f58cf0e915"
      },
      "source": [
        "f1_score(y_test, binary_y_test_predict)"
      ],
      "execution_count": 101,
      "outputs": [
        {
          "output_type": "execute_result",
          "data": {
            "text/plain": [
              "0.8155339805825242"
            ]
          },
          "metadata": {},
          "execution_count": 101
        }
      ]
    },
    {
      "cell_type": "markdown",
      "metadata": {
        "id": "qoWaApyu04TX"
      },
      "source": [
        "Балансировка классов в обучающей выборке только понизила f1 score. В итоге лучшая модель получилась со всеми фичами кроме 4 и 7"
      ]
    },
    {
      "cell_type": "code",
      "metadata": {
        "id": "3n7sF_nLUP3p"
      },
      "source": [
        ""
      ],
      "execution_count": null,
      "outputs": []
    }
  ]
}