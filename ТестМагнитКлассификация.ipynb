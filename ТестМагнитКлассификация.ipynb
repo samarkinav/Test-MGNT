{
  "nbformat": 4,
  "nbformat_minor": 0,
  "metadata": {
    "colab": {
      "name": "ТестМагнитКлассификация.ipynb",
      "provenance": [],
      "authorship_tag": "ABX9TyNxJFtPVVdVL7dQX9M4RKuR",
      "include_colab_link": true
    },
    "kernelspec": {
      "name": "python3",
      "display_name": "Python 3"
    },
    "language_info": {
      "name": "python"
    }
  },
  "cells": [
    {
      "cell_type": "markdown",
      "metadata": {
        "id": "view-in-github",
        "colab_type": "text"
      },
      "source": [
        "<a href=\"https://colab.research.google.com/github/samarkinav/Test-MGNT/blob/main/%D0%A2%D0%B5%D1%81%D1%82%D0%9C%D0%B0%D0%B3%D0%BD%D0%B8%D1%82%D0%9A%D0%BB%D0%B0%D1%81%D1%81%D0%B8%D1%84%D0%B8%D0%BA%D0%B0%D1%86%D0%B8%D1%8F.ipynb\" target=\"_parent\"><img src=\"https://colab.research.google.com/assets/colab-badge.svg\" alt=\"Open In Colab\"/></a>"
      ]
    },
    {
      "cell_type": "markdown",
      "metadata": {
        "id": "F8XHoRZHmKSu"
      },
      "source": [
        "## Импорт библиотек"
      ]
    },
    {
      "cell_type": "code",
      "metadata": {
        "id": "yIj6OebkmNAc"
      },
      "source": [
        "import pandas as pd\n",
        "import seaborn as sns\n",
        "import numpy as np\n",
        "import matplotlib.pylab as plt\n",
        "from pylab import rcParams\n",
        "rcParams['figure.figsize'] = 20, 10"
      ],
      "execution_count": 175,
      "outputs": []
    },
    {
      "cell_type": "markdown",
      "metadata": {
        "id": "-pLnrhj7nn2u"
      },
      "source": [
        "## Чтение данных"
      ]
    },
    {
      "cell_type": "code",
      "metadata": {
        "id": "l88OwDWymVIN"
      },
      "source": [
        "df = pd.read_csv('https://raw.githubusercontent.com/samarkinav/Test-MGNT/main/data_classification_for_task.csv?token=ARDNBEFAYDOY6BYOEYCUVX3BR2LGU')"
      ],
      "execution_count": 177,
      "outputs": []
    },
    {
      "cell_type": "code",
      "metadata": {
        "colab": {
          "base_uri": "https://localhost:8080/",
          "height": 224
        },
        "id": "cP7xd7TIn0S8",
        "outputId": "6eff8fa1-34f4-4049-882b-020ecb650853"
      },
      "source": [
        "df.head()"
      ],
      "execution_count": 178,
      "outputs": [
        {
          "output_type": "execute_result",
          "data": {
            "text/html": [
              "<div>\n",
              "<style scoped>\n",
              "    .dataframe tbody tr th:only-of-type {\n",
              "        vertical-align: middle;\n",
              "    }\n",
              "\n",
              "    .dataframe tbody tr th {\n",
              "        vertical-align: top;\n",
              "    }\n",
              "\n",
              "    .dataframe thead th {\n",
              "        text-align: right;\n",
              "    }\n",
              "</style>\n",
              "<table border=\"1\" class=\"dataframe\">\n",
              "  <thead>\n",
              "    <tr style=\"text-align: right;\">\n",
              "      <th></th>\n",
              "      <th>AGE</th>\n",
              "      <th>GENDER</th>\n",
              "      <th>FEATURE_1</th>\n",
              "      <th>FEATURE_2</th>\n",
              "      <th>FEATURE_3</th>\n",
              "      <th>FEATURE_4</th>\n",
              "      <th>FEATURE_5</th>\n",
              "      <th>FEATURE_6</th>\n",
              "      <th>FEATURE_7</th>\n",
              "      <th>FEATURE_8</th>\n",
              "      <th>FEATURE_9</th>\n",
              "      <th>FEATURE_10</th>\n",
              "      <th>FEATURE_11</th>\n",
              "      <th>TARGET</th>\n",
              "    </tr>\n",
              "  </thead>\n",
              "  <tbody>\n",
              "    <tr>\n",
              "      <th>0</th>\n",
              "      <td>63</td>\n",
              "      <td>1</td>\n",
              "      <td>3</td>\n",
              "      <td>145</td>\n",
              "      <td>233</td>\n",
              "      <td>1</td>\n",
              "      <td>0</td>\n",
              "      <td>150</td>\n",
              "      <td>0</td>\n",
              "      <td>2.3</td>\n",
              "      <td>0</td>\n",
              "      <td>0</td>\n",
              "      <td>1</td>\n",
              "      <td>1</td>\n",
              "    </tr>\n",
              "    <tr>\n",
              "      <th>1</th>\n",
              "      <td>37</td>\n",
              "      <td>1</td>\n",
              "      <td>2</td>\n",
              "      <td>130</td>\n",
              "      <td>250</td>\n",
              "      <td>0</td>\n",
              "      <td>1</td>\n",
              "      <td>187</td>\n",
              "      <td>0</td>\n",
              "      <td>3.5</td>\n",
              "      <td>0</td>\n",
              "      <td>0</td>\n",
              "      <td>2</td>\n",
              "      <td>1</td>\n",
              "    </tr>\n",
              "    <tr>\n",
              "      <th>2</th>\n",
              "      <td>41</td>\n",
              "      <td>0</td>\n",
              "      <td>1</td>\n",
              "      <td>130</td>\n",
              "      <td>204</td>\n",
              "      <td>0</td>\n",
              "      <td>0</td>\n",
              "      <td>172</td>\n",
              "      <td>0</td>\n",
              "      <td>1.4</td>\n",
              "      <td>2</td>\n",
              "      <td>0</td>\n",
              "      <td>2</td>\n",
              "      <td>1</td>\n",
              "    </tr>\n",
              "    <tr>\n",
              "      <th>3</th>\n",
              "      <td>56</td>\n",
              "      <td>1</td>\n",
              "      <td>1</td>\n",
              "      <td>120</td>\n",
              "      <td>236</td>\n",
              "      <td>0</td>\n",
              "      <td>1</td>\n",
              "      <td>178</td>\n",
              "      <td>0</td>\n",
              "      <td>0.8</td>\n",
              "      <td>2</td>\n",
              "      <td>0</td>\n",
              "      <td>2</td>\n",
              "      <td>1</td>\n",
              "    </tr>\n",
              "    <tr>\n",
              "      <th>4</th>\n",
              "      <td>57</td>\n",
              "      <td>0</td>\n",
              "      <td>0</td>\n",
              "      <td>120</td>\n",
              "      <td>354</td>\n",
              "      <td>0</td>\n",
              "      <td>1</td>\n",
              "      <td>163</td>\n",
              "      <td>1</td>\n",
              "      <td>0.6</td>\n",
              "      <td>2</td>\n",
              "      <td>0</td>\n",
              "      <td>2</td>\n",
              "      <td>1</td>\n",
              "    </tr>\n",
              "  </tbody>\n",
              "</table>\n",
              "</div>"
            ],
            "text/plain": [
              "   AGE  GENDER  FEATURE_1  FEATURE_2  ...  FEATURE_9  FEATURE_10  FEATURE_11  TARGET\n",
              "0   63       1          3        145  ...          0           0           1       1\n",
              "1   37       1          2        130  ...          0           0           2       1\n",
              "2   41       0          1        130  ...          2           0           2       1\n",
              "3   56       1          1        120  ...          2           0           2       1\n",
              "4   57       0          0        120  ...          2           0           2       1\n",
              "\n",
              "[5 rows x 14 columns]"
            ]
          },
          "metadata": {},
          "execution_count": 178
        }
      ]
    },
    {
      "cell_type": "code",
      "metadata": {
        "colab": {
          "base_uri": "https://localhost:8080/"
        },
        "id": "TpWeZmXun1a6",
        "outputId": "be8b157a-ad39-410f-f6fd-9ccb67258c73"
      },
      "source": [
        "df.info()"
      ],
      "execution_count": 179,
      "outputs": [
        {
          "output_type": "stream",
          "name": "stdout",
          "text": [
            "<class 'pandas.core.frame.DataFrame'>\n",
            "RangeIndex: 303 entries, 0 to 302\n",
            "Data columns (total 14 columns):\n",
            " #   Column      Non-Null Count  Dtype  \n",
            "---  ------      --------------  -----  \n",
            " 0   AGE         303 non-null    int64  \n",
            " 1   GENDER      303 non-null    int64  \n",
            " 2   FEATURE_1   303 non-null    int64  \n",
            " 3   FEATURE_2   303 non-null    int64  \n",
            " 4   FEATURE_3   303 non-null    int64  \n",
            " 5   FEATURE_4   303 non-null    int64  \n",
            " 6   FEATURE_5   303 non-null    int64  \n",
            " 7   FEATURE_6   303 non-null    int64  \n",
            " 8   FEATURE_7   303 non-null    int64  \n",
            " 9   FEATURE_8   303 non-null    float64\n",
            " 10  FEATURE_9   303 non-null    int64  \n",
            " 11  FEATURE_10  303 non-null    int64  \n",
            " 12  FEATURE_11  303 non-null    int64  \n",
            " 13  TARGET      303 non-null    int64  \n",
            "dtypes: float64(1), int64(13)\n",
            "memory usage: 33.3 KB\n"
          ]
        }
      ]
    },
    {
      "cell_type": "code",
      "metadata": {
        "colab": {
          "base_uri": "https://localhost:8080/",
          "height": 317
        },
        "id": "ZlM4lGXNn9RX",
        "outputId": "d98a1dee-045a-4df3-83b4-b7d05e8d16ec"
      },
      "source": [
        "df.describe()"
      ],
      "execution_count": 180,
      "outputs": [
        {
          "output_type": "execute_result",
          "data": {
            "text/html": [
              "<div>\n",
              "<style scoped>\n",
              "    .dataframe tbody tr th:only-of-type {\n",
              "        vertical-align: middle;\n",
              "    }\n",
              "\n",
              "    .dataframe tbody tr th {\n",
              "        vertical-align: top;\n",
              "    }\n",
              "\n",
              "    .dataframe thead th {\n",
              "        text-align: right;\n",
              "    }\n",
              "</style>\n",
              "<table border=\"1\" class=\"dataframe\">\n",
              "  <thead>\n",
              "    <tr style=\"text-align: right;\">\n",
              "      <th></th>\n",
              "      <th>AGE</th>\n",
              "      <th>GENDER</th>\n",
              "      <th>FEATURE_1</th>\n",
              "      <th>FEATURE_2</th>\n",
              "      <th>FEATURE_3</th>\n",
              "      <th>FEATURE_4</th>\n",
              "      <th>FEATURE_5</th>\n",
              "      <th>FEATURE_6</th>\n",
              "      <th>FEATURE_7</th>\n",
              "      <th>FEATURE_8</th>\n",
              "      <th>FEATURE_9</th>\n",
              "      <th>FEATURE_10</th>\n",
              "      <th>FEATURE_11</th>\n",
              "      <th>TARGET</th>\n",
              "    </tr>\n",
              "  </thead>\n",
              "  <tbody>\n",
              "    <tr>\n",
              "      <th>count</th>\n",
              "      <td>303.000000</td>\n",
              "      <td>303.000000</td>\n",
              "      <td>303.000000</td>\n",
              "      <td>303.000000</td>\n",
              "      <td>303.000000</td>\n",
              "      <td>303.000000</td>\n",
              "      <td>303.000000</td>\n",
              "      <td>303.000000</td>\n",
              "      <td>303.000000</td>\n",
              "      <td>303.000000</td>\n",
              "      <td>303.000000</td>\n",
              "      <td>303.000000</td>\n",
              "      <td>303.000000</td>\n",
              "      <td>303.000000</td>\n",
              "    </tr>\n",
              "    <tr>\n",
              "      <th>mean</th>\n",
              "      <td>54.366337</td>\n",
              "      <td>0.683168</td>\n",
              "      <td>0.966997</td>\n",
              "      <td>131.623762</td>\n",
              "      <td>246.264026</td>\n",
              "      <td>0.148515</td>\n",
              "      <td>0.528053</td>\n",
              "      <td>149.646865</td>\n",
              "      <td>0.326733</td>\n",
              "      <td>1.039604</td>\n",
              "      <td>1.399340</td>\n",
              "      <td>0.729373</td>\n",
              "      <td>2.313531</td>\n",
              "      <td>0.544554</td>\n",
              "    </tr>\n",
              "    <tr>\n",
              "      <th>std</th>\n",
              "      <td>9.082101</td>\n",
              "      <td>0.466011</td>\n",
              "      <td>1.032052</td>\n",
              "      <td>17.538143</td>\n",
              "      <td>51.830751</td>\n",
              "      <td>0.356198</td>\n",
              "      <td>0.525860</td>\n",
              "      <td>22.905161</td>\n",
              "      <td>0.469794</td>\n",
              "      <td>1.161075</td>\n",
              "      <td>0.616226</td>\n",
              "      <td>1.022606</td>\n",
              "      <td>0.612277</td>\n",
              "      <td>0.498835</td>\n",
              "    </tr>\n",
              "    <tr>\n",
              "      <th>min</th>\n",
              "      <td>29.000000</td>\n",
              "      <td>0.000000</td>\n",
              "      <td>0.000000</td>\n",
              "      <td>94.000000</td>\n",
              "      <td>126.000000</td>\n",
              "      <td>0.000000</td>\n",
              "      <td>0.000000</td>\n",
              "      <td>71.000000</td>\n",
              "      <td>0.000000</td>\n",
              "      <td>0.000000</td>\n",
              "      <td>0.000000</td>\n",
              "      <td>0.000000</td>\n",
              "      <td>0.000000</td>\n",
              "      <td>0.000000</td>\n",
              "    </tr>\n",
              "    <tr>\n",
              "      <th>25%</th>\n",
              "      <td>47.500000</td>\n",
              "      <td>0.000000</td>\n",
              "      <td>0.000000</td>\n",
              "      <td>120.000000</td>\n",
              "      <td>211.000000</td>\n",
              "      <td>0.000000</td>\n",
              "      <td>0.000000</td>\n",
              "      <td>133.500000</td>\n",
              "      <td>0.000000</td>\n",
              "      <td>0.000000</td>\n",
              "      <td>1.000000</td>\n",
              "      <td>0.000000</td>\n",
              "      <td>2.000000</td>\n",
              "      <td>0.000000</td>\n",
              "    </tr>\n",
              "    <tr>\n",
              "      <th>50%</th>\n",
              "      <td>55.000000</td>\n",
              "      <td>1.000000</td>\n",
              "      <td>1.000000</td>\n",
              "      <td>130.000000</td>\n",
              "      <td>240.000000</td>\n",
              "      <td>0.000000</td>\n",
              "      <td>1.000000</td>\n",
              "      <td>153.000000</td>\n",
              "      <td>0.000000</td>\n",
              "      <td>0.800000</td>\n",
              "      <td>1.000000</td>\n",
              "      <td>0.000000</td>\n",
              "      <td>2.000000</td>\n",
              "      <td>1.000000</td>\n",
              "    </tr>\n",
              "    <tr>\n",
              "      <th>75%</th>\n",
              "      <td>61.000000</td>\n",
              "      <td>1.000000</td>\n",
              "      <td>2.000000</td>\n",
              "      <td>140.000000</td>\n",
              "      <td>274.500000</td>\n",
              "      <td>0.000000</td>\n",
              "      <td>1.000000</td>\n",
              "      <td>166.000000</td>\n",
              "      <td>1.000000</td>\n",
              "      <td>1.600000</td>\n",
              "      <td>2.000000</td>\n",
              "      <td>1.000000</td>\n",
              "      <td>3.000000</td>\n",
              "      <td>1.000000</td>\n",
              "    </tr>\n",
              "    <tr>\n",
              "      <th>max</th>\n",
              "      <td>77.000000</td>\n",
              "      <td>1.000000</td>\n",
              "      <td>3.000000</td>\n",
              "      <td>200.000000</td>\n",
              "      <td>564.000000</td>\n",
              "      <td>1.000000</td>\n",
              "      <td>2.000000</td>\n",
              "      <td>202.000000</td>\n",
              "      <td>1.000000</td>\n",
              "      <td>6.200000</td>\n",
              "      <td>2.000000</td>\n",
              "      <td>4.000000</td>\n",
              "      <td>3.000000</td>\n",
              "      <td>1.000000</td>\n",
              "    </tr>\n",
              "  </tbody>\n",
              "</table>\n",
              "</div>"
            ],
            "text/plain": [
              "              AGE      GENDER   FEATURE_1  ...  FEATURE_10  FEATURE_11      TARGET\n",
              "count  303.000000  303.000000  303.000000  ...  303.000000  303.000000  303.000000\n",
              "mean    54.366337    0.683168    0.966997  ...    0.729373    2.313531    0.544554\n",
              "std      9.082101    0.466011    1.032052  ...    1.022606    0.612277    0.498835\n",
              "min     29.000000    0.000000    0.000000  ...    0.000000    0.000000    0.000000\n",
              "25%     47.500000    0.000000    0.000000  ...    0.000000    2.000000    0.000000\n",
              "50%     55.000000    1.000000    1.000000  ...    0.000000    2.000000    1.000000\n",
              "75%     61.000000    1.000000    2.000000  ...    1.000000    3.000000    1.000000\n",
              "max     77.000000    1.000000    3.000000  ...    4.000000    3.000000    1.000000\n",
              "\n",
              "[8 rows x 14 columns]"
            ]
          },
          "metadata": {},
          "execution_count": 180
        }
      ]
    },
    {
      "cell_type": "code",
      "metadata": {
        "colab": {
          "base_uri": "https://localhost:8080/",
          "height": 503
        },
        "id": "LLFrK3BXp4c_",
        "outputId": "fc95ba78-661a-4de0-b323-b04a696ac09f"
      },
      "source": [
        "corr_mat = df.corr()\n",
        "corr_mat"
      ],
      "execution_count": 181,
      "outputs": [
        {
          "output_type": "execute_result",
          "data": {
            "text/html": [
              "<div>\n",
              "<style scoped>\n",
              "    .dataframe tbody tr th:only-of-type {\n",
              "        vertical-align: middle;\n",
              "    }\n",
              "\n",
              "    .dataframe tbody tr th {\n",
              "        vertical-align: top;\n",
              "    }\n",
              "\n",
              "    .dataframe thead th {\n",
              "        text-align: right;\n",
              "    }\n",
              "</style>\n",
              "<table border=\"1\" class=\"dataframe\">\n",
              "  <thead>\n",
              "    <tr style=\"text-align: right;\">\n",
              "      <th></th>\n",
              "      <th>AGE</th>\n",
              "      <th>GENDER</th>\n",
              "      <th>FEATURE_1</th>\n",
              "      <th>FEATURE_2</th>\n",
              "      <th>FEATURE_3</th>\n",
              "      <th>FEATURE_4</th>\n",
              "      <th>FEATURE_5</th>\n",
              "      <th>FEATURE_6</th>\n",
              "      <th>FEATURE_7</th>\n",
              "      <th>FEATURE_8</th>\n",
              "      <th>FEATURE_9</th>\n",
              "      <th>FEATURE_10</th>\n",
              "      <th>FEATURE_11</th>\n",
              "      <th>TARGET</th>\n",
              "    </tr>\n",
              "  </thead>\n",
              "  <tbody>\n",
              "    <tr>\n",
              "      <th>AGE</th>\n",
              "      <td>1.000000</td>\n",
              "      <td>-0.098447</td>\n",
              "      <td>-0.068653</td>\n",
              "      <td>0.279351</td>\n",
              "      <td>0.213678</td>\n",
              "      <td>0.121308</td>\n",
              "      <td>-0.116211</td>\n",
              "      <td>-0.398522</td>\n",
              "      <td>0.096801</td>\n",
              "      <td>0.210013</td>\n",
              "      <td>-0.168814</td>\n",
              "      <td>0.276326</td>\n",
              "      <td>0.068001</td>\n",
              "      <td>-0.225439</td>\n",
              "    </tr>\n",
              "    <tr>\n",
              "      <th>GENDER</th>\n",
              "      <td>-0.098447</td>\n",
              "      <td>1.000000</td>\n",
              "      <td>-0.049353</td>\n",
              "      <td>-0.056769</td>\n",
              "      <td>-0.197912</td>\n",
              "      <td>0.045032</td>\n",
              "      <td>-0.058196</td>\n",
              "      <td>-0.044020</td>\n",
              "      <td>0.141664</td>\n",
              "      <td>0.096093</td>\n",
              "      <td>-0.030711</td>\n",
              "      <td>0.118261</td>\n",
              "      <td>0.210041</td>\n",
              "      <td>-0.280937</td>\n",
              "    </tr>\n",
              "    <tr>\n",
              "      <th>FEATURE_1</th>\n",
              "      <td>-0.068653</td>\n",
              "      <td>-0.049353</td>\n",
              "      <td>1.000000</td>\n",
              "      <td>0.047608</td>\n",
              "      <td>-0.076904</td>\n",
              "      <td>0.094444</td>\n",
              "      <td>0.044421</td>\n",
              "      <td>0.295762</td>\n",
              "      <td>-0.394280</td>\n",
              "      <td>-0.149230</td>\n",
              "      <td>0.119717</td>\n",
              "      <td>-0.181053</td>\n",
              "      <td>-0.161736</td>\n",
              "      <td>0.433798</td>\n",
              "    </tr>\n",
              "    <tr>\n",
              "      <th>FEATURE_2</th>\n",
              "      <td>0.279351</td>\n",
              "      <td>-0.056769</td>\n",
              "      <td>0.047608</td>\n",
              "      <td>1.000000</td>\n",
              "      <td>0.123174</td>\n",
              "      <td>0.177531</td>\n",
              "      <td>-0.114103</td>\n",
              "      <td>-0.046698</td>\n",
              "      <td>0.067616</td>\n",
              "      <td>0.193216</td>\n",
              "      <td>-0.121475</td>\n",
              "      <td>0.101389</td>\n",
              "      <td>0.062210</td>\n",
              "      <td>-0.144931</td>\n",
              "    </tr>\n",
              "    <tr>\n",
              "      <th>FEATURE_3</th>\n",
              "      <td>0.213678</td>\n",
              "      <td>-0.197912</td>\n",
              "      <td>-0.076904</td>\n",
              "      <td>0.123174</td>\n",
              "      <td>1.000000</td>\n",
              "      <td>0.013294</td>\n",
              "      <td>-0.151040</td>\n",
              "      <td>-0.009940</td>\n",
              "      <td>0.067023</td>\n",
              "      <td>0.053952</td>\n",
              "      <td>-0.004038</td>\n",
              "      <td>0.070511</td>\n",
              "      <td>0.098803</td>\n",
              "      <td>-0.085239</td>\n",
              "    </tr>\n",
              "    <tr>\n",
              "      <th>FEATURE_4</th>\n",
              "      <td>0.121308</td>\n",
              "      <td>0.045032</td>\n",
              "      <td>0.094444</td>\n",
              "      <td>0.177531</td>\n",
              "      <td>0.013294</td>\n",
              "      <td>1.000000</td>\n",
              "      <td>-0.084189</td>\n",
              "      <td>-0.008567</td>\n",
              "      <td>0.025665</td>\n",
              "      <td>0.005747</td>\n",
              "      <td>-0.059894</td>\n",
              "      <td>0.137979</td>\n",
              "      <td>-0.032019</td>\n",
              "      <td>-0.028046</td>\n",
              "    </tr>\n",
              "    <tr>\n",
              "      <th>FEATURE_5</th>\n",
              "      <td>-0.116211</td>\n",
              "      <td>-0.058196</td>\n",
              "      <td>0.044421</td>\n",
              "      <td>-0.114103</td>\n",
              "      <td>-0.151040</td>\n",
              "      <td>-0.084189</td>\n",
              "      <td>1.000000</td>\n",
              "      <td>0.044123</td>\n",
              "      <td>-0.070733</td>\n",
              "      <td>-0.058770</td>\n",
              "      <td>0.093045</td>\n",
              "      <td>-0.072042</td>\n",
              "      <td>-0.011981</td>\n",
              "      <td>0.137230</td>\n",
              "    </tr>\n",
              "    <tr>\n",
              "      <th>FEATURE_6</th>\n",
              "      <td>-0.398522</td>\n",
              "      <td>-0.044020</td>\n",
              "      <td>0.295762</td>\n",
              "      <td>-0.046698</td>\n",
              "      <td>-0.009940</td>\n",
              "      <td>-0.008567</td>\n",
              "      <td>0.044123</td>\n",
              "      <td>1.000000</td>\n",
              "      <td>-0.378812</td>\n",
              "      <td>-0.344187</td>\n",
              "      <td>0.386784</td>\n",
              "      <td>-0.213177</td>\n",
              "      <td>-0.096439</td>\n",
              "      <td>0.421741</td>\n",
              "    </tr>\n",
              "    <tr>\n",
              "      <th>FEATURE_7</th>\n",
              "      <td>0.096801</td>\n",
              "      <td>0.141664</td>\n",
              "      <td>-0.394280</td>\n",
              "      <td>0.067616</td>\n",
              "      <td>0.067023</td>\n",
              "      <td>0.025665</td>\n",
              "      <td>-0.070733</td>\n",
              "      <td>-0.378812</td>\n",
              "      <td>1.000000</td>\n",
              "      <td>0.288223</td>\n",
              "      <td>-0.257748</td>\n",
              "      <td>0.115739</td>\n",
              "      <td>0.206754</td>\n",
              "      <td>-0.436757</td>\n",
              "    </tr>\n",
              "    <tr>\n",
              "      <th>FEATURE_8</th>\n",
              "      <td>0.210013</td>\n",
              "      <td>0.096093</td>\n",
              "      <td>-0.149230</td>\n",
              "      <td>0.193216</td>\n",
              "      <td>0.053952</td>\n",
              "      <td>0.005747</td>\n",
              "      <td>-0.058770</td>\n",
              "      <td>-0.344187</td>\n",
              "      <td>0.288223</td>\n",
              "      <td>1.000000</td>\n",
              "      <td>-0.577537</td>\n",
              "      <td>0.222682</td>\n",
              "      <td>0.210244</td>\n",
              "      <td>-0.430696</td>\n",
              "    </tr>\n",
              "    <tr>\n",
              "      <th>FEATURE_9</th>\n",
              "      <td>-0.168814</td>\n",
              "      <td>-0.030711</td>\n",
              "      <td>0.119717</td>\n",
              "      <td>-0.121475</td>\n",
              "      <td>-0.004038</td>\n",
              "      <td>-0.059894</td>\n",
              "      <td>0.093045</td>\n",
              "      <td>0.386784</td>\n",
              "      <td>-0.257748</td>\n",
              "      <td>-0.577537</td>\n",
              "      <td>1.000000</td>\n",
              "      <td>-0.080155</td>\n",
              "      <td>-0.104764</td>\n",
              "      <td>0.345877</td>\n",
              "    </tr>\n",
              "    <tr>\n",
              "      <th>FEATURE_10</th>\n",
              "      <td>0.276326</td>\n",
              "      <td>0.118261</td>\n",
              "      <td>-0.181053</td>\n",
              "      <td>0.101389</td>\n",
              "      <td>0.070511</td>\n",
              "      <td>0.137979</td>\n",
              "      <td>-0.072042</td>\n",
              "      <td>-0.213177</td>\n",
              "      <td>0.115739</td>\n",
              "      <td>0.222682</td>\n",
              "      <td>-0.080155</td>\n",
              "      <td>1.000000</td>\n",
              "      <td>0.151832</td>\n",
              "      <td>-0.391724</td>\n",
              "    </tr>\n",
              "    <tr>\n",
              "      <th>FEATURE_11</th>\n",
              "      <td>0.068001</td>\n",
              "      <td>0.210041</td>\n",
              "      <td>-0.161736</td>\n",
              "      <td>0.062210</td>\n",
              "      <td>0.098803</td>\n",
              "      <td>-0.032019</td>\n",
              "      <td>-0.011981</td>\n",
              "      <td>-0.096439</td>\n",
              "      <td>0.206754</td>\n",
              "      <td>0.210244</td>\n",
              "      <td>-0.104764</td>\n",
              "      <td>0.151832</td>\n",
              "      <td>1.000000</td>\n",
              "      <td>-0.344029</td>\n",
              "    </tr>\n",
              "    <tr>\n",
              "      <th>TARGET</th>\n",
              "      <td>-0.225439</td>\n",
              "      <td>-0.280937</td>\n",
              "      <td>0.433798</td>\n",
              "      <td>-0.144931</td>\n",
              "      <td>-0.085239</td>\n",
              "      <td>-0.028046</td>\n",
              "      <td>0.137230</td>\n",
              "      <td>0.421741</td>\n",
              "      <td>-0.436757</td>\n",
              "      <td>-0.430696</td>\n",
              "      <td>0.345877</td>\n",
              "      <td>-0.391724</td>\n",
              "      <td>-0.344029</td>\n",
              "      <td>1.000000</td>\n",
              "    </tr>\n",
              "  </tbody>\n",
              "</table>\n",
              "</div>"
            ],
            "text/plain": [
              "                 AGE    GENDER  FEATURE_1  ...  FEATURE_10  FEATURE_11    TARGET\n",
              "AGE         1.000000 -0.098447  -0.068653  ...    0.276326    0.068001 -0.225439\n",
              "GENDER     -0.098447  1.000000  -0.049353  ...    0.118261    0.210041 -0.280937\n",
              "FEATURE_1  -0.068653 -0.049353   1.000000  ...   -0.181053   -0.161736  0.433798\n",
              "FEATURE_2   0.279351 -0.056769   0.047608  ...    0.101389    0.062210 -0.144931\n",
              "FEATURE_3   0.213678 -0.197912  -0.076904  ...    0.070511    0.098803 -0.085239\n",
              "FEATURE_4   0.121308  0.045032   0.094444  ...    0.137979   -0.032019 -0.028046\n",
              "FEATURE_5  -0.116211 -0.058196   0.044421  ...   -0.072042   -0.011981  0.137230\n",
              "FEATURE_6  -0.398522 -0.044020   0.295762  ...   -0.213177   -0.096439  0.421741\n",
              "FEATURE_7   0.096801  0.141664  -0.394280  ...    0.115739    0.206754 -0.436757\n",
              "FEATURE_8   0.210013  0.096093  -0.149230  ...    0.222682    0.210244 -0.430696\n",
              "FEATURE_9  -0.168814 -0.030711   0.119717  ...   -0.080155   -0.104764  0.345877\n",
              "FEATURE_10  0.276326  0.118261  -0.181053  ...    1.000000    0.151832 -0.391724\n",
              "FEATURE_11  0.068001  0.210041  -0.161736  ...    0.151832    1.000000 -0.344029\n",
              "TARGET     -0.225439 -0.280937   0.433798  ...   -0.391724   -0.344029  1.000000\n",
              "\n",
              "[14 rows x 14 columns]"
            ]
          },
          "metadata": {},
          "execution_count": 181
        }
      ]
    },
    {
      "cell_type": "code",
      "metadata": {
        "colab": {
          "base_uri": "https://localhost:8080/",
          "height": 648
        },
        "id": "diInNW2OsY4I",
        "outputId": "a8a57ae6-34b8-46bc-ab85-e2f58388c587"
      },
      "source": [
        "sns.heatmap(corr_mat, square=True, cmap='coolwarm')\n",
        "pass"
      ],
      "execution_count": 182,
      "outputs": [
        {
          "output_type": "display_data",
          "data": {
            "image/png": "[encoded data removed]",
            "text/plain": [
              "<Figure size 1440x720 with 2 Axes>"
            ]
          },
          "metadata": {
            "needs_background": "light"
          }
        }
      ]
    },
    {
      "cell_type": "markdown",
      "metadata": {
        "id": "8eyRxZ2_vKWv"
      },
      "source": [
        "Посмотрим, какие признаки сильнее всего коррелируют между собой:"
      ]
    },
    {
      "cell_type": "code",
      "metadata": {
        "colab": {
          "base_uri": "https://localhost:8080/"
        },
        "id": "wLt1L0xjtQod",
        "outputId": "809522dd-d9b7-4119-b639-d41cc8540a2a"
      },
      "source": [
        "df_corr = df.drop(['TARGET'], axis=1)\n",
        "df_corr.corr().where(np.triu(abs(df_corr.corr()) > 0.3, k=1)).stack().sort_values(ascending=False)"
      ],
      "execution_count": 183,
      "outputs": [
        {
          "output_type": "execute_result",
          "data": {
            "text/plain": [
              "FEATURE_6  FEATURE_9    0.386784\n",
              "           FEATURE_8   -0.344187\n",
              "           FEATURE_7   -0.378812\n",
              "FEATURE_1  FEATURE_7   -0.394280\n",
              "AGE        FEATURE_6   -0.398522\n",
              "FEATURE_8  FEATURE_9   -0.577537\n",
              "dtype: float64"
            ]
          },
          "metadata": {},
          "execution_count": 183
        }
      ]
    },
    {
      "cell_type": "markdown",
      "metadata": {
        "id": "ZsSKEUBXvPPF"
      },
      "source": [
        "Посмотрим, какие признаки меньше всего коррелируют с целевой переменной:"
      ]
    },
    {
      "cell_type": "code",
      "metadata": {
        "colab": {
          "base_uri": "https://localhost:8080/"
        },
        "id": "KwhVTg2dvJpl",
        "outputId": "45a19e66-57b3-46c1-e960-ffd16f2132c0"
      },
      "source": [
        "df_corr2 = corr_mat.iloc[:, -1]\n",
        "df_corr2[abs(df_corr2)<0.2]"
      ],
      "execution_count": 184,
      "outputs": [
        {
          "output_type": "execute_result",
          "data": {
            "text/plain": [
              "FEATURE_2   -0.144931\n",
              "FEATURE_3   -0.085239\n",
              "FEATURE_4   -0.028046\n",
              "FEATURE_5    0.137230\n",
              "Name: TARGET, dtype: float64"
            ]
          },
          "metadata": {},
          "execution_count": 184
        }
      ]
    },
    {
      "cell_type": "code",
      "metadata": {
        "colab": {
          "base_uri": "https://localhost:8080/"
        },
        "id": "c7rlj4VMq9Ig",
        "outputId": "732928c6-7b26-4242-d415-da8133d560b1"
      },
      "source": [
        "df.isna().sum()"
      ],
      "execution_count": 185,
      "outputs": [
        {
          "output_type": "execute_result",
          "data": {
            "text/plain": [
              "AGE           0\n",
              "GENDER        0\n",
              "FEATURE_1     0\n",
              "FEATURE_2     0\n",
              "FEATURE_3     0\n",
              "FEATURE_4     0\n",
              "FEATURE_5     0\n",
              "FEATURE_6     0\n",
              "FEATURE_7     0\n",
              "FEATURE_8     0\n",
              "FEATURE_9     0\n",
              "FEATURE_10    0\n",
              "FEATURE_11    0\n",
              "TARGET        0\n",
              "dtype: int64"
            ]
          },
          "metadata": {},
          "execution_count": 185
        }
      ]
    },
    {
      "cell_type": "markdown",
      "metadata": {
        "id": "ZxYZoXaI-Zme"
      },
      "source": [
        "Пропущенных значений нет"
      ]
    },
    {
      "cell_type": "code",
      "metadata": {
        "colab": {
          "base_uri": "https://localhost:8080/"
        },
        "id": "2gtNxafLxQmI",
        "outputId": "db881e9f-e7d9-4d2f-ea41-f0d97a4fa854"
      },
      "source": [
        "df.TARGET.nunique()"
      ],
      "execution_count": 186,
      "outputs": [
        {
          "output_type": "execute_result",
          "data": {
            "text/plain": [
              "2"
            ]
          },
          "metadata": {},
          "execution_count": 186
        }
      ]
    },
    {
      "cell_type": "code",
      "metadata": {
        "colab": {
          "base_uri": "https://localhost:8080/",
          "height": 111
        },
        "id": "W8UbiK3H-Ttt",
        "outputId": "6b99a3ad-b4e3-4958-d4ee-2e21881518f5"
      },
      "source": [
        "df.TARGET.value_counts().reset_index()"
      ],
      "execution_count": 187,
      "outputs": [
        {
          "output_type": "execute_result",
          "data": {
            "text/html": [
              "<div>\n",
              "<style scoped>\n",
              "    .dataframe tbody tr th:only-of-type {\n",
              "        vertical-align: middle;\n",
              "    }\n",
              "\n",
              "    .dataframe tbody tr th {\n",
              "        vertical-align: top;\n",
              "    }\n",
              "\n",
              "    .dataframe thead th {\n",
              "        text-align: right;\n",
              "    }\n",
              "</style>\n",
              "<table border=\"1\" class=\"dataframe\">\n",
              "  <thead>\n",
              "    <tr style=\"text-align: right;\">\n",
              "      <th></th>\n",
              "      <th>index</th>\n",
              "      <th>TARGET</th>\n",
              "    </tr>\n",
              "  </thead>\n",
              "  <tbody>\n",
              "    <tr>\n",
              "      <th>0</th>\n",
              "      <td>1</td>\n",
              "      <td>165</td>\n",
              "    </tr>\n",
              "    <tr>\n",
              "      <th>1</th>\n",
              "      <td>0</td>\n",
              "      <td>138</td>\n",
              "    </tr>\n",
              "  </tbody>\n",
              "</table>\n",
              "</div>"
            ],
            "text/plain": [
              "   index  TARGET\n",
              "0      1     165\n",
              "1      0     138"
            ]
          },
          "metadata": {},
          "execution_count": 187
        }
      ]
    },
    {
      "cell_type": "markdown",
      "metadata": {
        "id": "U5jlHYcE-coI"
      },
      "source": [
        "Классы сбалансированны"
      ]
    },
    {
      "cell_type": "code",
      "metadata": {
        "id": "t3AQ3v9crNdu"
      },
      "source": [
        "df['GENDER'] = df['GENDER'].astype('category')"
      ],
      "execution_count": 188,
      "outputs": []
    },
    {
      "cell_type": "code",
      "metadata": {
        "id": "XgSKG3fow8s7"
      },
      "source": [
        "X = df.drop(['TARGET'], axis=1)\n",
        "y = df.TARGET"
      ],
      "execution_count": 274,
      "outputs": []
    },
    {
      "cell_type": "code",
      "metadata": {
        "id": "2Li7tikU-zsK"
      },
      "source": [
        "from sklearn.model_selection import train_test_split"
      ],
      "execution_count": 191,
      "outputs": []
    },
    {
      "cell_type": "code",
      "metadata": {
        "colab": {
          "base_uri": "https://localhost:8080/"
        },
        "id": "hBF1LHUtxHzO",
        "outputId": "1ce7ea0c-9638-486c-d89e-6763bac9d065"
      },
      "source": [
        "X_train, X_test, y_train, y_test = train_test_split(X, y, test_size = 0.3, random_state = 30)\n",
        "N_train, _ = X_train.shape \n",
        "N_test,  _ = X_test.shape \n",
        "N_train, N_test"
      ],
      "execution_count": 275,
      "outputs": [
        {
          "output_type": "execute_result",
          "data": {
            "text/plain": [
              "(212, 91)"
            ]
          },
          "metadata": {},
          "execution_count": 275
        }
      ]
    },
    {
      "cell_type": "code",
      "metadata": {
        "id": "lyy_lTEA-mwY"
      },
      "source": [
        "import lightgbm as lgb\n",
        "from sklearn.model_selection import GridSearchCV"
      ],
      "execution_count": 193,
      "outputs": []
    },
    {
      "cell_type": "code",
      "metadata": {
        "colab": {
          "base_uri": "https://localhost:8080/"
        },
        "id": "0t6HVtAnxM5K",
        "outputId": "72f6cc77-8db8-412c-d67f-540998a76cad"
      },
      "source": [
        "lg = lgb.LGBMClassifier(silent=False)\n",
        "parametrs= {\"n_estimators\":  range(10,200,5)}\n",
        "grid_search = GridSearchCV(lg, n_jobs=-1, param_grid=parametrs, cv = 15)\n",
        "grid_search.fit(X_train,y_train)\n",
        "best_n_estimators = grid_search.best_estimator_.n_estimators\n",
        "print(best_n_estimators)"
      ],
      "execution_count": 276,
      "outputs": [
        {
          "output_type": "stream",
          "name": "stdout",
          "text": [
            "65\n"
          ]
        }
      ]
    },
    {
      "cell_type": "code",
      "metadata": {
        "colab": {
          "base_uri": "https://localhost:8080/"
        },
        "id": "xA-IBF5OxWIM",
        "outputId": "8f41cec1-88a9-4a69-8b37-e03a6fe4e902"
      },
      "source": [
        "train_data = lgb.Dataset(X_train, label=y_train)\n",
        "validation_data = lgb.Dataset(X_test, label=y_test, reference=train_data)\n",
        "param = {'num_leaves': 31, 'objective': 'binary','num_class':1, 'learning_rate':0.06}\n",
        "num_round = best_n_estimators\n",
        "cate_features_name = ['GENDER']\n",
        "bst = lgb.train(param, train_data,num_round, valid_sets=[validation_data],categorical_feature = cate_features_name)\n",
        "y_test_predict_lgbm = bst.predict(X_test)"
      ],
      "execution_count": 285,
      "outputs": [
        {
          "output_type": "stream",
          "name": "stdout",
          "text": [
            "[1]\tvalid_0's binary_logloss: 0.657299\n",
            "[2]\tvalid_0's binary_logloss: 0.630344\n",
            "[3]\tvalid_0's binary_logloss: 0.611916\n",
            "[4]\tvalid_0's binary_logloss: 0.592184\n",
            "[5]\tvalid_0's binary_logloss: 0.576878\n",
            "[6]\tvalid_0's binary_logloss: 0.557437\n",
            "[7]\tvalid_0's binary_logloss: 0.54231\n",
            "[8]\tvalid_0's binary_logloss: 0.53176\n",
            "[9]\tvalid_0's binary_logloss: 0.520735\n",
            "[10]\tvalid_0's binary_logloss: 0.508734\n",
            "[11]\tvalid_0's binary_logloss: 0.500463\n",
            "[12]\tvalid_0's binary_logloss: 0.488651\n",
            "[13]\tvalid_0's binary_logloss: 0.480982\n",
            "[14]\tvalid_0's binary_logloss: 0.475397\n",
            "[15]\tvalid_0's binary_logloss: 0.467269\n",
            "[16]\tvalid_0's binary_logloss: 0.461788\n",
            "[17]\tvalid_0's binary_logloss: 0.452892\n",
            "[18]\tvalid_0's binary_logloss: 0.448235\n",
            "[19]\tvalid_0's binary_logloss: 0.442241\n",
            "[20]\tvalid_0's binary_logloss: 0.43779\n",
            "[21]\tvalid_0's binary_logloss: 0.433318\n",
            "[22]\tvalid_0's binary_logloss: 0.428837\n",
            "[23]\tvalid_0's binary_logloss: 0.423335\n",
            "[24]\tvalid_0's binary_logloss: 0.419784\n",
            "[25]\tvalid_0's binary_logloss: 0.415485\n",
            "[26]\tvalid_0's binary_logloss: 0.409948\n",
            "[27]\tvalid_0's binary_logloss: 0.406545\n",
            "[28]\tvalid_0's binary_logloss: 0.401856\n",
            "[29]\tvalid_0's binary_logloss: 0.399185\n",
            "[30]\tvalid_0's binary_logloss: 0.397219\n",
            "[31]\tvalid_0's binary_logloss: 0.396965\n",
            "[32]\tvalid_0's binary_logloss: 0.397381\n",
            "[33]\tvalid_0's binary_logloss: 0.398189\n",
            "[34]\tvalid_0's binary_logloss: 0.396175\n",
            "[35]\tvalid_0's binary_logloss: 0.395256\n",
            "[36]\tvalid_0's binary_logloss: 0.393346\n",
            "[37]\tvalid_0's binary_logloss: 0.394516\n",
            "[38]\tvalid_0's binary_logloss: 0.396245\n",
            "[39]\tvalid_0's binary_logloss: 0.397426\n",
            "[40]\tvalid_0's binary_logloss: 0.396411\n",
            "[41]\tvalid_0's binary_logloss: 0.395106\n",
            "[42]\tvalid_0's binary_logloss: 0.394364\n",
            "[43]\tvalid_0's binary_logloss: 0.394613\n",
            "[44]\tvalid_0's binary_logloss: 0.39366\n",
            "[45]\tvalid_0's binary_logloss: 0.392763\n",
            "[46]\tvalid_0's binary_logloss: 0.396386\n",
            "[47]\tvalid_0's binary_logloss: 0.396477\n",
            "[48]\tvalid_0's binary_logloss: 0.397064\n",
            "[49]\tvalid_0's binary_logloss: 0.395904\n",
            "[50]\tvalid_0's binary_logloss: 0.396137\n",
            "[51]\tvalid_0's binary_logloss: 0.398421\n",
            "[52]\tvalid_0's binary_logloss: 0.398896\n",
            "[53]\tvalid_0's binary_logloss: 0.398141\n",
            "[54]\tvalid_0's binary_logloss: 0.398695\n",
            "[55]\tvalid_0's binary_logloss: 0.401324\n",
            "[56]\tvalid_0's binary_logloss: 0.400113\n",
            "[57]\tvalid_0's binary_logloss: 0.399949\n",
            "[58]\tvalid_0's binary_logloss: 0.401122\n",
            "[59]\tvalid_0's binary_logloss: 0.401845\n",
            "[60]\tvalid_0's binary_logloss: 0.402444\n",
            "[61]\tvalid_0's binary_logloss: 0.401912\n",
            "[62]\tvalid_0's binary_logloss: 0.402235\n",
            "[63]\tvalid_0's binary_logloss: 0.404036\n",
            "[64]\tvalid_0's binary_logloss: 0.403648\n",
            "[65]\tvalid_0's binary_logloss: 0.403327\n"
          ]
        },
        {
          "output_type": "stream",
          "name": "stderr",
          "text": [
            "/usr/local/lib/python3.7/dist-packages/lightgbm/basic.py:1209: UserWarning: categorical_feature in Dataset is overridden.\n",
            "New categorical_feature is ['GENDER']\n",
            "  'New categorical_feature is {}'.format(sorted(list(categorical_feature))))\n",
            "/usr/local/lib/python3.7/dist-packages/lightgbm/basic.py:762: UserWarning: categorical_feature in param dict is overridden.\n",
            "  warnings.warn('categorical_feature in param dict is overridden.')\n"
          ]
        }
      ]
    },
    {
      "cell_type": "code",
      "metadata": {
        "id": "XZToPegNxYQ4"
      },
      "source": [
        "from sklearn.metrics import precision_score, recall_score, f1_score"
      ],
      "execution_count": 286,
      "outputs": []
    },
    {
      "cell_type": "code",
      "metadata": {
        "colab": {
          "base_uri": "https://localhost:8080/",
          "height": 532
        },
        "id": "kffhet3ny-Uv",
        "outputId": "540376d4-ceb9-454b-c0a7-e9c783afd79e"
      },
      "source": [
        "pd.Series(y_test_predict_lgbm).hist()"
      ],
      "execution_count": 287,
      "outputs": [
        {
          "output_type": "execute_result",
          "data": {
            "text/plain": [
              "<matplotlib.axes._subplots.AxesSubplot at 0x7fdef5ba5c90>"
            ]
          },
          "metadata": {},
          "execution_count": 287
        },
        {
          "output_type": "display_data",
          "data": {
            "image/png": "[encoded data removed]",
            "text/plain": [
              "<Figure size 1440x720 with 1 Axes>"
            ]
          },
          "metadata": {
            "needs_background": "light"
          }
        }
      ]
    },
    {
      "cell_type": "code",
      "metadata": {
        "id": "qS7CkUo82NG6"
      },
      "source": [
        "binary_y_test_predict = np.where(y_test_predict_lgbm>0.5, 1, 0)"
      ],
      "execution_count": 288,
      "outputs": []
    },
    {
      "cell_type": "code",
      "metadata": {
        "colab": {
          "base_uri": "https://localhost:8080/"
        },
        "id": "U-xC4AL63ERO",
        "outputId": "41f531db-6b49-4815-c0ec-b278009c992e"
      },
      "source": [
        "print(classification_report(y_test, binary_y_test_predict))"
      ],
      "execution_count": 289,
      "outputs": [
        {
          "output_type": "stream",
          "name": "stdout",
          "text": [
            "              precision    recall  f1-score   support\n",
            "\n",
            "           0       0.81      0.85      0.83        40\n",
            "           1       0.88      0.84      0.86        51\n",
            "\n",
            "    accuracy                           0.85        91\n",
            "   macro avg       0.84      0.85      0.84        91\n",
            "weighted avg       0.85      0.85      0.85        91\n",
            "\n"
          ]
        }
      ]
    },
    {
      "cell_type": "code",
      "metadata": {
        "colab": {
          "base_uri": "https://localhost:8080/",
          "height": 529
        },
        "id": "wonoNWVT2NQl",
        "outputId": "2dd966d0-454e-417c-bc31-f13078bff7e8"
      },
      "source": [
        "from sklearn.metrics import roc_curve, auc\n",
        "fpr, tpr, thresholds = roc_curve(y_test, y_test_predict_lgbm)\n",
        "roc_auc= auc(fpr, tpr)\n",
        "plt.figure()\n",
        "plt.plot(fpr, tpr, label='ROC curve (area = %0.2f)' % roc_auc)\n",
        "plt.plot([0, 1], [0, 1], 'k--')\n",
        "plt.xlim([0.0, 1.0])\n",
        "plt.ylim([0.0, 1.05])\n",
        "plt.xlabel('False Positive Rate')\n",
        "plt.ylabel('True Positive Rate')\n",
        "plt.title('Receiver operating characteristic example')\n",
        "plt.legend(loc=\"lower right\")\n",
        "plt.show()"
      ],
      "execution_count": 200,
      "outputs": [
        {
          "output_type": "display_data",
          "data": {
            "image/png": "[encoded data removed]",
            "text/plain": [
              "<Figure size 1440x720 with 1 Axes>"
            ]
          },
          "metadata": {
            "needs_background": "light"
          }
        }
      ]
    },
    {
      "cell_type": "code",
      "metadata": {
        "id": "PZf9N_T05Umv"
      },
      "source": [
        "importances = pd.Series(bst.feature_importance(), index=X_test.columns).sort_values(ascending=False)"
      ],
      "execution_count": 201,
      "outputs": []
    },
    {
      "cell_type": "code",
      "metadata": {
        "colab": {
          "base_uri": "https://localhost:8080/",
          "height": 495
        },
        "id": "KF_EtW7w5Upl",
        "outputId": "0478a31f-56eb-429c-d918-1db1fbf36d99"
      },
      "source": [
        "sns.barplot(y=importances.index, x=importances)\n",
        "pass"
      ],
      "execution_count": 202,
      "outputs": [
        {
          "output_type": "display_data",
          "data": {
            "image/png": "[encoded data removed]",
            "text/plain": [
              "<Figure size 1440x720 with 1 Axes>"
            ]
          },
          "metadata": {
            "needs_background": "light"
          }
        }
      ]
    },
    {
      "cell_type": "markdown",
      "metadata": {
        "id": "JjmGodK37i91"
      },
      "source": [
        "Исключим признак 4, он мало коррелирует с откликом и не вносит вклад в нашу модель"
      ]
    },
    {
      "cell_type": "code",
      "metadata": {
        "id": "hVxgMHNb708o"
      },
      "source": [
        "X = df.drop(['TARGET', 'FEATURE_4'], axis=1)\n",
        "y = df.TARGET"
      ],
      "execution_count": 255,
      "outputs": []
    },
    {
      "cell_type": "code",
      "metadata": {
        "colab": {
          "base_uri": "https://localhost:8080/"
        },
        "id": "28HdJ0dj708p",
        "outputId": "86ba3dd2-2578-478b-f404-49a6855178b1"
      },
      "source": [
        "X_train, X_test, y_train, y_test = train_test_split(X, y, test_size = 0.3, random_state = 30)\n",
        "\n",
        "N_train, _ = X_train.shape \n",
        "N_test,  _ = X_test.shape \n",
        "\n",
        "N_train, N_test"
      ],
      "execution_count": 256,
      "outputs": [
        {
          "output_type": "execute_result",
          "data": {
            "text/plain": [
              "(212, 91)"
            ]
          },
          "metadata": {},
          "execution_count": 256
        }
      ]
    },
    {
      "cell_type": "code",
      "metadata": {
        "colab": {
          "base_uri": "https://localhost:8080/"
        },
        "id": "83plXeKi708r",
        "outputId": "ad259ad6-76ab-48d0-e4fc-46eb37e41f02"
      },
      "source": [
        "lg = lgb.LGBMClassifier(silent=False)\n",
        "parametrs= {\"n_estimators\":  range(10,200,5)}\n",
        "grid_search = GridSearchCV(lg, n_jobs=-1, param_grid=parametrs, cv = 15)\n",
        "grid_search.fit(X_train,y_train)\n",
        "best_n_estimators = grid_search.best_estimator_.n_estimators\n",
        "print(best_n_estimators)"
      ],
      "execution_count": 257,
      "outputs": [
        {
          "output_type": "stream",
          "name": "stdout",
          "text": [
            "50\n"
          ]
        }
      ]
    },
    {
      "cell_type": "code",
      "metadata": {
        "colab": {
          "base_uri": "https://localhost:8080/"
        },
        "id": "k33VkDOJ708r",
        "outputId": "8b277bc1-fd0e-4f25-add0-9345c394ed9c"
      },
      "source": [
        "train_data = lgb.Dataset(X_train, label=y_train)\n",
        "validation_data = lgb.Dataset(X_test, label=y_test, reference=train_data)\n",
        "param = {'num_leaves': 31, 'objective': 'binary','num_class':1, 'learning_rate':0.06}\n",
        "num_round = best_n_estimators\n",
        "cate_features_name = ['GENDER']\n",
        "bst = lgb.train(param, train_data,num_round, valid_sets=[validation_data],categorical_feature = cate_features_name)\n",
        "y_test_predict_lgbm = bst.predict(X_test)"
      ],
      "execution_count": 258,
      "outputs": [
        {
          "output_type": "stream",
          "name": "stdout",
          "text": [
            "[1]\tvalid_0's binary_logloss: 0.657299\n",
            "[2]\tvalid_0's binary_logloss: 0.630344\n",
            "[3]\tvalid_0's binary_logloss: 0.611916\n",
            "[4]\tvalid_0's binary_logloss: 0.592184\n",
            "[5]\tvalid_0's binary_logloss: 0.576878\n",
            "[6]\tvalid_0's binary_logloss: 0.557437\n",
            "[7]\tvalid_0's binary_logloss: 0.54231\n",
            "[8]\tvalid_0's binary_logloss: 0.53176\n",
            "[9]\tvalid_0's binary_logloss: 0.520735\n",
            "[10]\tvalid_0's binary_logloss: 0.508734\n",
            "[11]\tvalid_0's binary_logloss: 0.500463\n",
            "[12]\tvalid_0's binary_logloss: 0.488651\n",
            "[13]\tvalid_0's binary_logloss: 0.480982\n",
            "[14]\tvalid_0's binary_logloss: 0.475397\n",
            "[15]\tvalid_0's binary_logloss: 0.467269\n",
            "[16]\tvalid_0's binary_logloss: 0.461788\n",
            "[17]\tvalid_0's binary_logloss: 0.452892\n",
            "[18]\tvalid_0's binary_logloss: 0.448235\n",
            "[19]\tvalid_0's binary_logloss: 0.442241\n",
            "[20]\tvalid_0's binary_logloss: 0.43779\n",
            "[21]\tvalid_0's binary_logloss: 0.433318\n",
            "[22]\tvalid_0's binary_logloss: 0.428837\n",
            "[23]\tvalid_0's binary_logloss: 0.423335\n",
            "[24]\tvalid_0's binary_logloss: 0.419784\n",
            "[25]\tvalid_0's binary_logloss: 0.415485\n",
            "[26]\tvalid_0's binary_logloss: 0.409948\n",
            "[27]\tvalid_0's binary_logloss: 0.406545\n",
            "[28]\tvalid_0's binary_logloss: 0.401856\n",
            "[29]\tvalid_0's binary_logloss: 0.399185\n",
            "[30]\tvalid_0's binary_logloss: 0.397219\n",
            "[31]\tvalid_0's binary_logloss: 0.396965\n",
            "[32]\tvalid_0's binary_logloss: 0.397381\n",
            "[33]\tvalid_0's binary_logloss: 0.398189\n",
            "[34]\tvalid_0's binary_logloss: 0.396175\n",
            "[35]\tvalid_0's binary_logloss: 0.395256\n",
            "[36]\tvalid_0's binary_logloss: 0.393346\n",
            "[37]\tvalid_0's binary_logloss: 0.394516\n",
            "[38]\tvalid_0's binary_logloss: 0.396245\n",
            "[39]\tvalid_0's binary_logloss: 0.397426\n",
            "[40]\tvalid_0's binary_logloss: 0.396411\n",
            "[41]\tvalid_0's binary_logloss: 0.395106\n",
            "[42]\tvalid_0's binary_logloss: 0.394364\n",
            "[43]\tvalid_0's binary_logloss: 0.394613\n",
            "[44]\tvalid_0's binary_logloss: 0.39366\n",
            "[45]\tvalid_0's binary_logloss: 0.392763\n",
            "[46]\tvalid_0's binary_logloss: 0.396386\n",
            "[47]\tvalid_0's binary_logloss: 0.396477\n",
            "[48]\tvalid_0's binary_logloss: 0.397064\n",
            "[49]\tvalid_0's binary_logloss: 0.395904\n",
            "[50]\tvalid_0's binary_logloss: 0.396137\n"
          ]
        },
        {
          "output_type": "stream",
          "name": "stderr",
          "text": [
            "/usr/local/lib/python3.7/dist-packages/lightgbm/basic.py:1209: UserWarning: categorical_feature in Dataset is overridden.\n",
            "New categorical_feature is ['GENDER']\n",
            "  'New categorical_feature is {}'.format(sorted(list(categorical_feature))))\n",
            "/usr/local/lib/python3.7/dist-packages/lightgbm/basic.py:762: UserWarning: categorical_feature in param dict is overridden.\n",
            "  warnings.warn('categorical_feature in param dict is overridden.')\n"
          ]
        }
      ]
    },
    {
      "cell_type": "code",
      "metadata": {
        "id": "G1jrxHBS708s"
      },
      "source": [
        "binary_y_test_predict = np.where(y_test_predict_lgbm>0.5, 1, 0)"
      ],
      "execution_count": 259,
      "outputs": []
    },
    {
      "cell_type": "code",
      "metadata": {
        "colab": {
          "base_uri": "https://localhost:8080/"
        },
        "id": "TRhB7HHP708s",
        "outputId": "e60f65ed-e98e-4bc6-d440-973dbeba808a"
      },
      "source": [
        "print(classification_report(y_test, binary_y_test_predict))"
      ],
      "execution_count": 260,
      "outputs": [
        {
          "output_type": "stream",
          "name": "stdout",
          "text": [
            "              precision    recall  f1-score   support\n",
            "\n",
            "           0       0.80      0.80      0.80        40\n",
            "           1       0.84      0.84      0.84        51\n",
            "\n",
            "    accuracy                           0.82        91\n",
            "   macro avg       0.82      0.82      0.82        91\n",
            "weighted avg       0.82      0.82      0.82        91\n",
            "\n"
          ]
        }
      ]
    },
    {
      "cell_type": "markdown",
      "metadata": {
        "id": "Thbjyz8183T0"
      },
      "source": [
        "Удалим признак 7, потому что он коррелирует с признаком 1"
      ]
    },
    {
      "cell_type": "code",
      "metadata": {
        "id": "QyRIoHb989OA"
      },
      "source": [
        "X = df.drop(['TARGET', 'FEATURE_7'], axis=1)\n",
        "y = df.TARGET"
      ],
      "execution_count": 263,
      "outputs": []
    },
    {
      "cell_type": "code",
      "metadata": {
        "colab": {
          "base_uri": "https://localhost:8080/"
        },
        "id": "bIBr-yBm89OB",
        "outputId": "3383c166-0491-47cd-cad7-3826515975a1"
      },
      "source": [
        "X_train, X_test, y_train, y_test = train_test_split(X, y, test_size = 0.3, random_state = 30)\n",
        "\n",
        "N_train, _ = X_train.shape \n",
        "N_test,  _ = X_test.shape \n",
        "\n",
        "N_train, N_test"
      ],
      "execution_count": 264,
      "outputs": [
        {
          "output_type": "execute_result",
          "data": {
            "text/plain": [
              "(212, 91)"
            ]
          },
          "metadata": {},
          "execution_count": 264
        }
      ]
    },
    {
      "cell_type": "code",
      "metadata": {
        "colab": {
          "base_uri": "https://localhost:8080/"
        },
        "id": "jfF_Hssa89OB",
        "outputId": "e8b24036-7c87-47c4-ff9f-b9b8fe8f80f9"
      },
      "source": [
        "lg = lgb.LGBMClassifier(silent=False)\n",
        "parametrs= {\"n_estimators\":  range(10,200,5)}\n",
        "grid_search = GridSearchCV(lg, n_jobs=-1, param_grid=parametrs, cv = 15)\n",
        "grid_search.fit(X_train,y_train)\n",
        "best_n_estimators = grid_search.best_estimator_.n_estimators\n",
        "print(best_n_estimators)"
      ],
      "execution_count": 265,
      "outputs": [
        {
          "output_type": "stream",
          "name": "stdout",
          "text": [
            "35\n"
          ]
        }
      ]
    },
    {
      "cell_type": "code",
      "metadata": {
        "colab": {
          "base_uri": "https://localhost:8080/"
        },
        "id": "NOvI3KjC89OB",
        "outputId": "c1a672a9-197c-4815-d6fb-c3835bcad0a6"
      },
      "source": [
        "train_data = lgb.Dataset(X_train, label=y_train)\n",
        "validation_data = lgb.Dataset(X_test, label=y_test, reference=train_data)\n",
        "param = {'num_leaves': 31, 'objective': 'binary','num_class':1, 'learning_rate':0.06}\n",
        "num_round = best_n_estimators\n",
        "cate_features_name = ['GENDER']\n",
        "bst = lgb.train(param, train_data,num_round, valid_sets=[validation_data],categorical_feature = cate_features_name)\n",
        "y_test_predict_lgbm = bst.predict(X_test)"
      ],
      "execution_count": 266,
      "outputs": [
        {
          "output_type": "stream",
          "name": "stdout",
          "text": [
            "[1]\tvalid_0's binary_logloss: 0.657299\n",
            "[2]\tvalid_0's binary_logloss: 0.630344\n",
            "[3]\tvalid_0's binary_logloss: 0.611916\n",
            "[4]\tvalid_0's binary_logloss: 0.592184\n",
            "[5]\tvalid_0's binary_logloss: 0.576878\n",
            "[6]\tvalid_0's binary_logloss: 0.557437\n",
            "[7]\tvalid_0's binary_logloss: 0.54231\n",
            "[8]\tvalid_0's binary_logloss: 0.530314\n",
            "[9]\tvalid_0's binary_logloss: 0.515241\n",
            "[10]\tvalid_0's binary_logloss: 0.505103\n",
            "[11]\tvalid_0's binary_logloss: 0.49428\n",
            "[12]\tvalid_0's binary_logloss: 0.484987\n",
            "[13]\tvalid_0's binary_logloss: 0.477846\n",
            "[14]\tvalid_0's binary_logloss: 0.467284\n",
            "[15]\tvalid_0's binary_logloss: 0.461727\n",
            "[16]\tvalid_0's binary_logloss: 0.454029\n",
            "[17]\tvalid_0's binary_logloss: 0.449031\n",
            "[18]\tvalid_0's binary_logloss: 0.442513\n",
            "[19]\tvalid_0's binary_logloss: 0.437767\n",
            "[20]\tvalid_0's binary_logloss: 0.433978\n",
            "[21]\tvalid_0's binary_logloss: 0.430794\n",
            "[22]\tvalid_0's binary_logloss: 0.423348\n",
            "[23]\tvalid_0's binary_logloss: 0.419003\n",
            "[24]\tvalid_0's binary_logloss: 0.416691\n",
            "[25]\tvalid_0's binary_logloss: 0.417297\n",
            "[26]\tvalid_0's binary_logloss: 0.414162\n",
            "[27]\tvalid_0's binary_logloss: 0.409468\n",
            "[28]\tvalid_0's binary_logloss: 0.407457\n",
            "[29]\tvalid_0's binary_logloss: 0.407532\n",
            "[30]\tvalid_0's binary_logloss: 0.408038\n",
            "[31]\tvalid_0's binary_logloss: 0.404577\n",
            "[32]\tvalid_0's binary_logloss: 0.403214\n",
            "[33]\tvalid_0's binary_logloss: 0.398735\n",
            "[34]\tvalid_0's binary_logloss: 0.397952\n",
            "[35]\tvalid_0's binary_logloss: 0.396547\n"
          ]
        },
        {
          "output_type": "stream",
          "name": "stderr",
          "text": [
            "/usr/local/lib/python3.7/dist-packages/lightgbm/basic.py:1209: UserWarning: categorical_feature in Dataset is overridden.\n",
            "New categorical_feature is ['GENDER']\n",
            "  'New categorical_feature is {}'.format(sorted(list(categorical_feature))))\n",
            "/usr/local/lib/python3.7/dist-packages/lightgbm/basic.py:762: UserWarning: categorical_feature in param dict is overridden.\n",
            "  warnings.warn('categorical_feature in param dict is overridden.')\n"
          ]
        }
      ]
    },
    {
      "cell_type": "code",
      "metadata": {
        "id": "y43ZUpaA89OC"
      },
      "source": [
        "binary_y_test_predict = np.where(y_test_predict_lgbm>0.5, 1, 0)"
      ],
      "execution_count": 267,
      "outputs": []
    },
    {
      "cell_type": "code",
      "metadata": {
        "colab": {
          "base_uri": "https://localhost:8080/"
        },
        "id": "flwalzIl89OC",
        "outputId": "4b7f6de4-2391-4928-dd75-f09b780872db"
      },
      "source": [
        "print(classification_report(y_test, binary_y_test_predict))"
      ],
      "execution_count": 268,
      "outputs": [
        {
          "output_type": "stream",
          "name": "stdout",
          "text": [
            "              precision    recall  f1-score   support\n",
            "\n",
            "           0       0.82      0.78      0.79        40\n",
            "           1       0.83      0.86      0.85        51\n",
            "\n",
            "    accuracy                           0.82        91\n",
            "   macro avg       0.82      0.82      0.82        91\n",
            "weighted avg       0.82      0.82      0.82        91\n",
            "\n"
          ]
        }
      ]
    },
    {
      "cell_type": "markdown",
      "metadata": {
        "id": "VNTTjP-FBjSI"
      },
      "source": [
        "Удаление признаков снижает f1 score. Поэтому лучшая модель - модель со всеми признаками (f1 score = 86%)"
      ]
    }
  ]
}