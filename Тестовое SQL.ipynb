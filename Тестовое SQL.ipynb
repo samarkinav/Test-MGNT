{
 "cells": [
  {
   "cell_type": "code",
   "execution_count": 454,
   "metadata": {},
   "outputs": [],
   "source": [
    "import pandas as pd\n",
    "import numpy as np"
   ]
  },
  {
   "cell_type": "code",
   "execution_count": 455,
   "metadata": {},
   "outputs": [],
   "source": [
    "df = pd.read_csv(r'shedulers.csv', encoding='cp1251', sep=';')"
   ]
  },
  {
   "cell_type": "code",
   "execution_count": 456,
   "metadata": {},
   "outputs": [
    {
     "data": {
      "text/html": [
       "<div>\n",
       "<style scoped>\n",
       "    .dataframe tbody tr th:only-of-type {\n",
       "        vertical-align: middle;\n",
       "    }\n",
       "\n",
       "    .dataframe tbody tr th {\n",
       "        vertical-align: top;\n",
       "    }\n",
       "\n",
       "    .dataframe thead th {\n",
       "        text-align: right;\n",
       "    }\n",
       "</style>\n",
       "<table border=\"1\" class=\"dataframe\">\n",
       "  <thead>\n",
       "    <tr style=\"text-align: right;\">\n",
       "      <th></th>\n",
       "      <th>ФИО</th>\n",
       "      <th>Расписание</th>\n",
       "      <th>Дата начала расписания</th>\n",
       "      <th>Дата окончания расписания</th>\n",
       "    </tr>\n",
       "  </thead>\n",
       "  <tbody>\n",
       "    <tr>\n",
       "      <th>0</th>\n",
       "      <td>Поставщик 1</td>\n",
       "      <td>дддвсвнн</td>\n",
       "      <td>01.01.2019 0:00</td>\n",
       "      <td>10.01.2019 0:00</td>\n",
       "    </tr>\n",
       "    <tr>\n",
       "      <th>1</th>\n",
       "      <td>Поставщик 1</td>\n",
       "      <td>ннвннв</td>\n",
       "      <td>11.01.2019 0:00</td>\n",
       "      <td>15.01.2019 0:00</td>\n",
       "    </tr>\n",
       "    <tr>\n",
       "      <th>2</th>\n",
       "      <td>Поставщик 1</td>\n",
       "      <td>св</td>\n",
       "      <td>16.01.2019 0:00</td>\n",
       "      <td>20.01.2019 0:00</td>\n",
       "    </tr>\n",
       "    <tr>\n",
       "      <th>3</th>\n",
       "      <td>Поставщик 2</td>\n",
       "      <td>свсвсв</td>\n",
       "      <td>01.01.2019 0:00</td>\n",
       "      <td>07.01.2019 0:00</td>\n",
       "    </tr>\n",
       "    <tr>\n",
       "      <th>4</th>\n",
       "      <td>Поставщик 2</td>\n",
       "      <td>днвсв</td>\n",
       "      <td>08.01.2019 0:00</td>\n",
       "      <td>14.01.2019 0:00</td>\n",
       "    </tr>\n",
       "    <tr>\n",
       "      <th>5</th>\n",
       "      <td>Поставщик 2</td>\n",
       "      <td>ннддвсв</td>\n",
       "      <td>15.01.2019 0:00</td>\n",
       "      <td>31.12.9999 0:00</td>\n",
       "    </tr>\n",
       "    <tr>\n",
       "      <th>6</th>\n",
       "      <td>Поставщик 3</td>\n",
       "      <td>нвнвнв</td>\n",
       "      <td>01.01.2019 0:00</td>\n",
       "      <td>01.02.2019 0:00</td>\n",
       "    </tr>\n",
       "    <tr>\n",
       "      <th>7</th>\n",
       "      <td>Поставщик 3</td>\n",
       "      <td>двдвдвдв</td>\n",
       "      <td>02.02.2019 0:00</td>\n",
       "      <td>31.12.9999 0:00</td>\n",
       "    </tr>\n",
       "  </tbody>\n",
       "</table>\n",
       "</div>"
      ],
      "text/plain": [
       "           ФИО Расписание Дата начала расписания Дата окончания расписания\n",
       "0  Поставщик 1   дддвсвнн        01.01.2019 0:00           10.01.2019 0:00\n",
       "1  Поставщик 1     ннвннв        11.01.2019 0:00           15.01.2019 0:00\n",
       "2  Поставщик 1         св        16.01.2019 0:00           20.01.2019 0:00\n",
       "3  Поставщик 2     свсвсв        01.01.2019 0:00           07.01.2019 0:00\n",
       "4  Поставщик 2      днвсв        08.01.2019 0:00           14.01.2019 0:00\n",
       "5  Поставщик 2    ннддвсв        15.01.2019 0:00           31.12.9999 0:00\n",
       "6  Поставщик 3     нвнвнв        01.01.2019 0:00           01.02.2019 0:00\n",
       "7  Поставщик 3   двдвдвдв        02.02.2019 0:00           31.12.9999 0:00"
      ]
     },
     "execution_count": 456,
     "metadata": {},
     "output_type": "execute_result"
    }
   ],
   "source": [
    "df"
   ]
  },
  {
   "cell_type": "code",
   "execution_count": 457,
   "metadata": {},
   "outputs": [
    {
     "data": {
      "text/plain": [
       "(8, 4)"
      ]
     },
     "execution_count": 457,
     "metadata": {},
     "output_type": "execute_result"
    }
   ],
   "source": [
    "df.shape"
   ]
  },
  {
   "cell_type": "code",
   "execution_count": 458,
   "metadata": {},
   "outputs": [
    {
     "name": "stdout",
     "output_type": "stream",
     "text": [
      "<class 'pandas.core.frame.DataFrame'>\n",
      "RangeIndex: 8 entries, 0 to 7\n",
      "Data columns (total 4 columns):\n",
      " #   Column                     Non-Null Count  Dtype \n",
      "---  ------                     --------------  ----- \n",
      " 0   ФИО                        8 non-null      object\n",
      " 1   Расписание                 8 non-null      object\n",
      " 2   Дата начала расписания     8 non-null      object\n",
      " 3   Дата окончания расписания  8 non-null      object\n",
      "dtypes: object(4)\n",
      "memory usage: 384.0+ bytes\n"
     ]
    }
   ],
   "source": [
    "df.info()"
   ]
  },
  {
   "cell_type": "code",
   "execution_count": 459,
   "metadata": {},
   "outputs": [],
   "source": [
    "df.iloc[5, 3] = '31.12.2019 0:00'\n",
    "df.iloc[7, 3] = '31.12.2019 0:00'"
   ]
  },
  {
   "cell_type": "markdown",
   "metadata": {},
   "source": [
    "## Задание 1\n",
    "Создать таблицу (T_CONTRACTOR_SHERULER) под расписание и заполнить его с файла schedulers.csv. (Использовать любую библиотеку для заливки в СУБД (как вариант MS SQL)) Таблицу следует нормализовать.\n",
    "ID_NAME - идентификтор поставщика\n",
    "NAME - название поставщика\n",
    "SHEDULE - расписание\n",
    "DATE_BEGIN - дата начала действия расписания\n",
    "DATE_END - дата окончания действия расписания\n",
    "Пример записи без нормализации:\n",
    "Поставщик 1 ДВС 01.01.2019 04.01.2019\n",
    "Поставщик 2 НВС 05.01.2019 31.12.2019\n",
    "Вводные:\n",
    "Связку полей FIO, DATE_BEGIN считать уникальной.\n",
    "DATE_BEGIN не может привышать DATE_END.\n",
    "Можете продемонстрировать работу с ключами/ограничениями."
   ]
  },
  {
   "cell_type": "code",
   "execution_count": 278,
   "metadata": {},
   "outputs": [],
   "source": [
    "import csv\n",
    "import sqlite3"
   ]
  },
  {
   "cell_type": "code",
   "execution_count": 279,
   "metadata": {},
   "outputs": [],
   "source": [
    "con = sqlite3.connect(\":memory:\")\n",
    "cur = con.cursor()"
   ]
  },
  {
   "cell_type": "code",
   "execution_count": 280,
   "metadata": {},
   "outputs": [
    {
     "data": {
      "text/plain": [
       "<sqlite3.Cursor at 0x10d8c68f0>"
      ]
     },
     "execution_count": 280,
     "metadata": {},
     "output_type": "execute_result"
    }
   ],
   "source": [
    "cur.execute(\"CREATE TABLE T_CONTRACTOR_SHERULER (ID_NAME INT, NAME STR, SHEDULE STR, \\\n",
    "            DATE_BEGIN STR CHECK(DATE_BEGIN < DATE_END) , DATE_END STR, \\\n",
    "            PRIMARY KEY(NAME, DATE_BEGIN))\") "
   ]
  },
  {
   "cell_type": "code",
   "execution_count": 281,
   "metadata": {},
   "outputs": [],
   "source": [
    "import regex as re\n",
    "to_db = [((int(re.search(r'\\d+', df.iloc[i, :]['ФИО']).group(0))), df.iloc[i, :]['ФИО'], \\\n",
    "          df.iloc[i, :]['Расписание'], df.iloc[i, :]['Дата начала расписания'], \\\n",
    "          df.iloc[i, :]['Дата окончания расписания']) for i in range(df.shape[0])]\n",
    "cur.executemany(\"INSERT INTO T_CONTRACTOR_SHERULER VALUES (?,?,?,?,?);\", to_db)\n",
    "con.commit()"
   ]
  },
  {
   "cell_type": "code",
   "execution_count": 282,
   "metadata": {},
   "outputs": [
    {
     "name": "stdout",
     "output_type": "stream",
     "text": [
      "(1, 'Поставщик 1', 'дддвсвнн', '01.01.2019 0:00', '10.01.2019 0:00')\n",
      "(1, 'Поставщик 1', 'ннвннв', '11.01.2019 0:00', '15.01.2019 0:00')\n",
      "(1, 'Поставщик 1', 'св', '16.01.2019 0:00', '20.01.2019 0:00')\n",
      "(2, 'Поставщик 2', 'свсвсв', '01.01.2019 0:00', '07.01.2019 0:00')\n",
      "(2, 'Поставщик 2', 'днвсв', '08.01.2019 0:00', '14.01.2019 0:00')\n",
      "(2, 'Поставщик 2', 'ннддвсв', '15.01.2019 0:00', '31.12.2019 0:00')\n",
      "(3, 'Поставщик 3', 'нвнвнв', '01.01.2019 0:00', '01.02.2019 0:00')\n",
      "(3, 'Поставщик 3', 'двдвдвдв', '02.02.2019 0:00', '31.12.2019 0:00')\n"
     ]
    }
   ],
   "source": [
    "with con:   \n",
    "    cur.execute(\"SELECT * FROM T_CONTRACTOR_SHERULER\")\n",
    "    rows = cur.fetchall()\n",
    " \n",
    "    for row in rows:\n",
    "        print (row)"
   ]
  },
  {
   "cell_type": "markdown",
   "metadata": {},
   "source": [
    "## Задание 2\n",
    "Создать таблицу (T_CONTRACTOR_WORK_DAY) выходов на работу сотрудников.\n",
    "Таблица должна иметь следующий вид\n",
    "ID - идентификатор записи\n",
    "NAME - название поставщика\n",
    "DATE_BEGIN - Начало рабочего дня (datetime)\n",
    "DATE_END - Конец рабочего дня (datetime)"
   ]
  },
  {
   "cell_type": "code",
   "execution_count": 283,
   "metadata": {},
   "outputs": [
    {
     "data": {
      "text/plain": [
       "<sqlite3.Cursor at 0x10d8c68f0>"
      ]
     },
     "execution_count": 283,
     "metadata": {},
     "output_type": "execute_result"
    }
   ],
   "source": [
    "cur.execute(\"CREATE TABLE T_CONTRACTOR_WORK_DAY (\\\n",
    "            ID INT, NAME STR, DATE_BEGIN STR CHECK(DATE_BEGIN < DATE_END) , DATE_END STR)\") "
   ]
  },
  {
   "cell_type": "markdown",
   "metadata": {},
   "source": [
    "## Задание 3\n",
    "Создать процедуру расчета рабочих дней.\n",
    "Входящие параметры:\n",
    "Дата начала периода расчета\n",
    "Дата окончания периода расчета.\n",
    "Ожидаемый результать выполнения хранимой процедуры - заполнение таблицы T_CONTRACTOR_WORK_DAY рабочими днями согласно расписания работы поставщиков из таблицы T_CONTRACTOR_SHERULER Выходные дни (В) не должны попадать в таблицу T_CONTRACTOR_WORK_DAY"
   ]
  },
  {
   "cell_type": "code",
   "execution_count": 284,
   "metadata": {},
   "outputs": [
    {
     "data": {
      "text/plain": [
       "<sqlite3.Cursor at 0x10d8c68f0>"
      ]
     },
     "execution_count": 284,
     "metadata": {},
     "output_type": "execute_result"
    }
   ],
   "source": [
    "cur.execute(\"CREATE TABLE SHEDULERS (TYPE STR, BEGIN STR, END STR)\") "
   ]
  },
  {
   "cell_type": "code",
   "execution_count": 285,
   "metadata": {},
   "outputs": [],
   "source": [
    "to_db = [('д', '08:00', '20:00'),\n",
    "        ('н', '20:00', '08:00'),\n",
    "        ('с', '08:00', '08:00')]"
   ]
  },
  {
   "cell_type": "code",
   "execution_count": 286,
   "metadata": {},
   "outputs": [],
   "source": [
    "cur.executemany(\"INSERT INTO SHEDULERS VALUES (?,?,?);\", to_db)\n",
    "con.commit()"
   ]
  },
  {
   "cell_type": "code",
   "execution_count": 287,
   "metadata": {},
   "outputs": [
    {
     "name": "stdout",
     "output_type": "stream",
     "text": [
      "('д', '08:00', '20:00')\n",
      "('н', '20:00', '08:00')\n",
      "('с', '08:00', '08:00')\n"
     ]
    }
   ],
   "source": [
    "with con:   \n",
    "    cur.execute(\"SELECT * FROM SHEDULERS\")\n",
    "    rows = cur.fetchall()\n",
    " \n",
    "    for row in rows:\n",
    "        print (row)"
   ]
  },
  {
   "cell_type": "markdown",
   "metadata": {},
   "source": [
    "## Задание 5"
   ]
  },
  {
   "cell_type": "markdown",
   "metadata": {},
   "source": [
    "Выполните задачи 3, 4 с помощью python."
   ]
  },
  {
   "cell_type": "code",
   "execution_count": 460,
   "metadata": {},
   "outputs": [],
   "source": [
    "df['Дата начала расписания'] = pd.to_datetime(df['Дата начала расписания'], format=\"%d.%m.%Y %H:%M\")\n",
    "df['Дата окончания расписания'] = pd.to_datetime(df['Дата окончания расписания'], format=\"%d.%m.%Y %H:%M\")"
   ]
  },
  {
   "cell_type": "code",
   "execution_count": 461,
   "metadata": {},
   "outputs": [
    {
     "data": {
      "text/html": [
       "<div>\n",
       "<style scoped>\n",
       "    .dataframe tbody tr th:only-of-type {\n",
       "        vertical-align: middle;\n",
       "    }\n",
       "\n",
       "    .dataframe tbody tr th {\n",
       "        vertical-align: top;\n",
       "    }\n",
       "\n",
       "    .dataframe thead th {\n",
       "        text-align: right;\n",
       "    }\n",
       "</style>\n",
       "<table border=\"1\" class=\"dataframe\">\n",
       "  <thead>\n",
       "    <tr style=\"text-align: right;\">\n",
       "      <th></th>\n",
       "      <th>ФИО</th>\n",
       "      <th>Расписание</th>\n",
       "      <th>Дата начала расписания</th>\n",
       "      <th>Дата окончания расписания</th>\n",
       "    </tr>\n",
       "  </thead>\n",
       "  <tbody>\n",
       "    <tr>\n",
       "      <th>0</th>\n",
       "      <td>Поставщик 1</td>\n",
       "      <td>дддвсвнн</td>\n",
       "      <td>2019-01-01</td>\n",
       "      <td>2019-01-10</td>\n",
       "    </tr>\n",
       "    <tr>\n",
       "      <th>1</th>\n",
       "      <td>Поставщик 1</td>\n",
       "      <td>ннвннв</td>\n",
       "      <td>2019-01-11</td>\n",
       "      <td>2019-01-15</td>\n",
       "    </tr>\n",
       "    <tr>\n",
       "      <th>2</th>\n",
       "      <td>Поставщик 1</td>\n",
       "      <td>св</td>\n",
       "      <td>2019-01-16</td>\n",
       "      <td>2019-01-20</td>\n",
       "    </tr>\n",
       "    <tr>\n",
       "      <th>3</th>\n",
       "      <td>Поставщик 2</td>\n",
       "      <td>свсвсв</td>\n",
       "      <td>2019-01-01</td>\n",
       "      <td>2019-01-07</td>\n",
       "    </tr>\n",
       "    <tr>\n",
       "      <th>4</th>\n",
       "      <td>Поставщик 2</td>\n",
       "      <td>днвсв</td>\n",
       "      <td>2019-01-08</td>\n",
       "      <td>2019-01-14</td>\n",
       "    </tr>\n",
       "    <tr>\n",
       "      <th>5</th>\n",
       "      <td>Поставщик 2</td>\n",
       "      <td>ннддвсв</td>\n",
       "      <td>2019-01-15</td>\n",
       "      <td>2019-12-31</td>\n",
       "    </tr>\n",
       "    <tr>\n",
       "      <th>6</th>\n",
       "      <td>Поставщик 3</td>\n",
       "      <td>нвнвнв</td>\n",
       "      <td>2019-01-01</td>\n",
       "      <td>2019-02-01</td>\n",
       "    </tr>\n",
       "    <tr>\n",
       "      <th>7</th>\n",
       "      <td>Поставщик 3</td>\n",
       "      <td>двдвдвдв</td>\n",
       "      <td>2019-02-02</td>\n",
       "      <td>2019-12-31</td>\n",
       "    </tr>\n",
       "  </tbody>\n",
       "</table>\n",
       "</div>"
      ],
      "text/plain": [
       "           ФИО Расписание Дата начала расписания Дата окончания расписания\n",
       "0  Поставщик 1   дддвсвнн             2019-01-01                2019-01-10\n",
       "1  Поставщик 1     ннвннв             2019-01-11                2019-01-15\n",
       "2  Поставщик 1         св             2019-01-16                2019-01-20\n",
       "3  Поставщик 2     свсвсв             2019-01-01                2019-01-07\n",
       "4  Поставщик 2      днвсв             2019-01-08                2019-01-14\n",
       "5  Поставщик 2    ннддвсв             2019-01-15                2019-12-31\n",
       "6  Поставщик 3     нвнвнв             2019-01-01                2019-02-01\n",
       "7  Поставщик 3   двдвдвдв             2019-02-02                2019-12-31"
      ]
     },
     "execution_count": 461,
     "metadata": {},
     "output_type": "execute_result"
    }
   ],
   "source": [
    "df"
   ]
  },
  {
   "cell_type": "code",
   "execution_count": 516,
   "metadata": {},
   "outputs": [],
   "source": [
    "df_new = pd.DataFrame()\n",
    "\n",
    "for i in range(df.shape[0]):\n",
    "    df_temp = pd.DataFrame()\n",
    "    lenght = abs(df.iloc[i,3]-df.iloc[i,2]).days+1\n",
    "    list_of_shed = list(df.iloc[i,1])\n",
    "    temp_len = len(list_of_shed)\n",
    "    name_list = []\n",
    "    type_shed = []\n",
    "    start_list = []\n",
    "    end_list = []\n",
    "    for j in range(lenght):\n",
    "        name_list.append(df.iloc[i, 0])\n",
    "        start_list.append(df.iloc[i, 2]+datetime.timedelta(days=j))\n",
    "        #end_list.append(df.iloc[i, 2]+datetime.timedelta(days=j+1))\n",
    "        try:\n",
    "            type_shed.append(list_of_shed[j])\n",
    "        except:\n",
    "            while j >= temp_len:\n",
    "                j = j - temp_len\n",
    "            type_shed.append(list_of_shed[j])\n",
    "    df_temp['name'] = name_list\n",
    "    df_temp['type_shed'] = type_shed\n",
    "    df_temp['start'] = start_list\n",
    "    #df_temp['end'] = end_list\n",
    "    #if df_temp.iloc[-1, 1] in ['с', 'н']:\n",
    "     #   df_temp.drop(df_temp.tail(1).index,inplace=True)\n",
    "    df_new = df_new.append(df_temp)\n",
    "     \n",
    "        \n",
    "def startWorkTimeDefinder(row):\n",
    "    if row[1] != 'н':\n",
    "        time_start = row[2] + datetime.timedelta(hours=8)\n",
    "    else:\n",
    "        time_start = row[2] + datetime.timedelta(hours=20)    \n",
    "    return time_start\n",
    "\n",
    "\n",
    "def endWorkTimeDefinder(row):\n",
    "    if (row[1] != 'с'):\n",
    "        time_end = row[2] + datetime.timedelta(hours=12)\n",
    "    else:\n",
    "        time_end = row[2] + datetime.timedelta(hours=24)    \n",
    "    return time_end\n",
    "\n",
    "    \n",
    "df_new = df_new[df_new.type_shed != 'в'].reset_index(drop=True) \n",
    "df_new['start'] = df_new.apply(startWorkTimeDefinder, axis=1)\n",
    "df_new['end'] = df_new.apply(endWorkTimeDefinder, axis=1)\n"
   ]
  },
  {
   "cell_type": "code",
   "execution_count": 517,
   "metadata": {},
   "outputs": [],
   "source": [
    "df_new = df_new.drop('type_shed', axis=1)"
   ]
  },
  {
   "cell_type": "code",
   "execution_count": 519,
   "metadata": {},
   "outputs": [
    {
     "data": {
      "text/html": [
       "<div>\n",
       "<style scoped>\n",
       "    .dataframe tbody tr th:only-of-type {\n",
       "        vertical-align: middle;\n",
       "    }\n",
       "\n",
       "    .dataframe tbody tr th {\n",
       "        vertical-align: top;\n",
       "    }\n",
       "\n",
       "    .dataframe thead th {\n",
       "        text-align: right;\n",
       "    }\n",
       "</style>\n",
       "<table border=\"1\" class=\"dataframe\">\n",
       "  <thead>\n",
       "    <tr style=\"text-align: right;\">\n",
       "      <th></th>\n",
       "      <th>name</th>\n",
       "      <th>start</th>\n",
       "      <th>end</th>\n",
       "    </tr>\n",
       "  </thead>\n",
       "  <tbody>\n",
       "    <tr>\n",
       "      <th>0</th>\n",
       "      <td>Поставщик 1</td>\n",
       "      <td>2019-01-01 08:00:00</td>\n",
       "      <td>2019-01-01 20:00:00</td>\n",
       "    </tr>\n",
       "    <tr>\n",
       "      <th>1</th>\n",
       "      <td>Поставщик 1</td>\n",
       "      <td>2019-01-02 08:00:00</td>\n",
       "      <td>2019-01-02 20:00:00</td>\n",
       "    </tr>\n",
       "    <tr>\n",
       "      <th>2</th>\n",
       "      <td>Поставщик 1</td>\n",
       "      <td>2019-01-03 08:00:00</td>\n",
       "      <td>2019-01-03 20:00:00</td>\n",
       "    </tr>\n",
       "    <tr>\n",
       "      <th>3</th>\n",
       "      <td>Поставщик 1</td>\n",
       "      <td>2019-01-05 08:00:00</td>\n",
       "      <td>2019-01-06 08:00:00</td>\n",
       "    </tr>\n",
       "    <tr>\n",
       "      <th>4</th>\n",
       "      <td>Поставщик 1</td>\n",
       "      <td>2019-01-07 20:00:00</td>\n",
       "      <td>2019-01-08 08:00:00</td>\n",
       "    </tr>\n",
       "    <tr>\n",
       "      <th>5</th>\n",
       "      <td>Поставщик 1</td>\n",
       "      <td>2019-01-08 20:00:00</td>\n",
       "      <td>2019-01-09 08:00:00</td>\n",
       "    </tr>\n",
       "    <tr>\n",
       "      <th>6</th>\n",
       "      <td>Поставщик 1</td>\n",
       "      <td>2019-01-09 08:00:00</td>\n",
       "      <td>2019-01-09 20:00:00</td>\n",
       "    </tr>\n",
       "    <tr>\n",
       "      <th>7</th>\n",
       "      <td>Поставщик 1</td>\n",
       "      <td>2019-01-10 08:00:00</td>\n",
       "      <td>2019-01-10 20:00:00</td>\n",
       "    </tr>\n",
       "    <tr>\n",
       "      <th>8</th>\n",
       "      <td>Поставщик 1</td>\n",
       "      <td>2019-01-11 20:00:00</td>\n",
       "      <td>2019-01-12 08:00:00</td>\n",
       "    </tr>\n",
       "    <tr>\n",
       "      <th>9</th>\n",
       "      <td>Поставщик 1</td>\n",
       "      <td>2019-01-12 20:00:00</td>\n",
       "      <td>2019-01-13 08:00:00</td>\n",
       "    </tr>\n",
       "    <tr>\n",
       "      <th>10</th>\n",
       "      <td>Поставщик 1</td>\n",
       "      <td>2019-01-14 20:00:00</td>\n",
       "      <td>2019-01-15 08:00:00</td>\n",
       "    </tr>\n",
       "    <tr>\n",
       "      <th>11</th>\n",
       "      <td>Поставщик 1</td>\n",
       "      <td>2019-01-15 20:00:00</td>\n",
       "      <td>2019-01-16 08:00:00</td>\n",
       "    </tr>\n",
       "    <tr>\n",
       "      <th>12</th>\n",
       "      <td>Поставщик 1</td>\n",
       "      <td>2019-01-16 08:00:00</td>\n",
       "      <td>2019-01-17 08:00:00</td>\n",
       "    </tr>\n",
       "    <tr>\n",
       "      <th>13</th>\n",
       "      <td>Поставщик 1</td>\n",
       "      <td>2019-01-18 08:00:00</td>\n",
       "      <td>2019-01-19 08:00:00</td>\n",
       "    </tr>\n",
       "    <tr>\n",
       "      <th>14</th>\n",
       "      <td>Поставщик 1</td>\n",
       "      <td>2019-01-20 08:00:00</td>\n",
       "      <td>2019-01-21 08:00:00</td>\n",
       "    </tr>\n",
       "    <tr>\n",
       "      <th>15</th>\n",
       "      <td>Поставщик 2</td>\n",
       "      <td>2019-01-01 08:00:00</td>\n",
       "      <td>2019-01-02 08:00:00</td>\n",
       "    </tr>\n",
       "    <tr>\n",
       "      <th>16</th>\n",
       "      <td>Поставщик 2</td>\n",
       "      <td>2019-01-03 08:00:00</td>\n",
       "      <td>2019-01-04 08:00:00</td>\n",
       "    </tr>\n",
       "    <tr>\n",
       "      <th>17</th>\n",
       "      <td>Поставщик 2</td>\n",
       "      <td>2019-01-05 08:00:00</td>\n",
       "      <td>2019-01-06 08:00:00</td>\n",
       "    </tr>\n",
       "    <tr>\n",
       "      <th>18</th>\n",
       "      <td>Поставщик 2</td>\n",
       "      <td>2019-01-07 08:00:00</td>\n",
       "      <td>2019-01-08 08:00:00</td>\n",
       "    </tr>\n",
       "    <tr>\n",
       "      <th>19</th>\n",
       "      <td>Поставщик 2</td>\n",
       "      <td>2019-01-08 08:00:00</td>\n",
       "      <td>2019-01-08 20:00:00</td>\n",
       "    </tr>\n",
       "  </tbody>\n",
       "</table>\n",
       "</div>"
      ],
      "text/plain": [
       "           name               start                 end\n",
       "0   Поставщик 1 2019-01-01 08:00:00 2019-01-01 20:00:00\n",
       "1   Поставщик 1 2019-01-02 08:00:00 2019-01-02 20:00:00\n",
       "2   Поставщик 1 2019-01-03 08:00:00 2019-01-03 20:00:00\n",
       "3   Поставщик 1 2019-01-05 08:00:00 2019-01-06 08:00:00\n",
       "4   Поставщик 1 2019-01-07 20:00:00 2019-01-08 08:00:00\n",
       "5   Поставщик 1 2019-01-08 20:00:00 2019-01-09 08:00:00\n",
       "6   Поставщик 1 2019-01-09 08:00:00 2019-01-09 20:00:00\n",
       "7   Поставщик 1 2019-01-10 08:00:00 2019-01-10 20:00:00\n",
       "8   Поставщик 1 2019-01-11 20:00:00 2019-01-12 08:00:00\n",
       "9   Поставщик 1 2019-01-12 20:00:00 2019-01-13 08:00:00\n",
       "10  Поставщик 1 2019-01-14 20:00:00 2019-01-15 08:00:00\n",
       "11  Поставщик 1 2019-01-15 20:00:00 2019-01-16 08:00:00\n",
       "12  Поставщик 1 2019-01-16 08:00:00 2019-01-17 08:00:00\n",
       "13  Поставщик 1 2019-01-18 08:00:00 2019-01-19 08:00:00\n",
       "14  Поставщик 1 2019-01-20 08:00:00 2019-01-21 08:00:00\n",
       "15  Поставщик 2 2019-01-01 08:00:00 2019-01-02 08:00:00\n",
       "16  Поставщик 2 2019-01-03 08:00:00 2019-01-04 08:00:00\n",
       "17  Поставщик 2 2019-01-05 08:00:00 2019-01-06 08:00:00\n",
       "18  Поставщик 2 2019-01-07 08:00:00 2019-01-08 08:00:00\n",
       "19  Поставщик 2 2019-01-08 08:00:00 2019-01-08 20:00:00"
      ]
     },
     "execution_count": 519,
     "metadata": {},
     "output_type": "execute_result"
    }
   ],
   "source": [
    "df_new.head(20)"
   ]
  },
  {
   "cell_type": "markdown",
   "metadata": {},
   "source": [
    "Cделать выборку содержащую сколько рабочих дней было у каждого поставщика"
   ]
  },
  {
   "cell_type": "code",
   "execution_count": 520,
   "metadata": {},
   "outputs": [
    {
     "data": {
      "text/html": [
       "<div>\n",
       "<style scoped>\n",
       "    .dataframe tbody tr th:only-of-type {\n",
       "        vertical-align: middle;\n",
       "    }\n",
       "\n",
       "    .dataframe tbody tr th {\n",
       "        vertical-align: top;\n",
       "    }\n",
       "\n",
       "    .dataframe thead th {\n",
       "        text-align: right;\n",
       "    }\n",
       "</style>\n",
       "<table border=\"1\" class=\"dataframe\">\n",
       "  <thead>\n",
       "    <tr style=\"text-align: right;\">\n",
       "      <th></th>\n",
       "      <th>name</th>\n",
       "      <th>count_work_days</th>\n",
       "    </tr>\n",
       "  </thead>\n",
       "  <tbody>\n",
       "    <tr>\n",
       "      <th>0</th>\n",
       "      <td>Поставщик 1</td>\n",
       "      <td>15</td>\n",
       "    </tr>\n",
       "    <tr>\n",
       "      <th>1</th>\n",
       "      <td>Поставщик 2</td>\n",
       "      <td>260</td>\n",
       "    </tr>\n",
       "    <tr>\n",
       "      <th>2</th>\n",
       "      <td>Поставщик 3</td>\n",
       "      <td>183</td>\n",
       "    </tr>\n",
       "  </tbody>\n",
       "</table>\n",
       "</div>"
      ],
      "text/plain": [
       "          name  count_work_days\n",
       "0  Поставщик 1               15\n",
       "1  Поставщик 2              260\n",
       "2  Поставщик 3              183"
      ]
     },
     "execution_count": 520,
     "metadata": {},
     "output_type": "execute_result"
    }
   ],
   "source": [
    "df_new.groupby('name', as_index=False).agg({'start':'count'}).rename(columns={'start':'count_work_days'})"
   ]
  },
  {
   "cell_type": "markdown",
   "metadata": {},
   "source": [
    "Сделать выборку поставщиков, у которых было больше 10 рабочих дней за январь 2019 года"
   ]
  },
  {
   "cell_type": "code",
   "execution_count": 521,
   "metadata": {},
   "outputs": [
    {
     "data": {
      "text/plain": [
       "0    Поставщик 1\n",
       "1    Поставщик 2\n",
       "2    Поставщик 3\n",
       "Name: name, dtype: object"
      ]
     },
     "execution_count": 521,
     "metadata": {},
     "output_type": "execute_result"
    }
   ],
   "source": [
    "df_new.query(\"start.dt.month == 1 & start.dt.year == 2019\")\\\n",
    "            .groupby('name', as_index=False).agg({'start':'count'}).query(\"start>10\").name"
   ]
  },
  {
   "cell_type": "markdown",
   "metadata": {},
   "source": [
    "Сделать выборку поставщиков, кто работал 14, 15 и 16 января 2019 года"
   ]
  },
  {
   "cell_type": "code",
   "execution_count": 522,
   "metadata": {},
   "outputs": [
    {
     "data": {
      "text/plain": [
       "array(['Поставщик 1', 'Поставщик 2', 'Поставщик 3'], dtype=object)"
      ]
     },
     "execution_count": 522,
     "metadata": {},
     "output_type": "execute_result"
    }
   ],
   "source": [
    "list_of_dates = [datetime.date(2019, 1, 14), datetime.date(2019, 1, 15), \n",
    "                 datetime.date(2019, 1, 16)]\n",
    "df_new.query(\"start.dt.date in @list_of_dates | end.dt.date in @list_of_dates\")\\\n",
    "                .name.unique()"
   ]
  }
 ],
 "metadata": {
  "kernelspec": {
   "display_name": "Python 3",
   "language": "python",
   "name": "python3"
  },
  "language_info": {
   "codemirror_mode": {
    "name": "ipython",
    "version": 3
   },
   "file_extension": ".py",
   "mimetype": "text/x-python",
   "name": "python",
   "nbconvert_exporter": "python",
   "pygments_lexer": "ipython3",
   "version": "3.8.5"
  }
 },
 "nbformat": 4,
 "nbformat_minor": 4
}
