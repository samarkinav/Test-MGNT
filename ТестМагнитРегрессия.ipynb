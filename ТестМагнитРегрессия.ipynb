{
  "nbformat": 4,
  "nbformat_minor": 0,
  "metadata": {
    "colab": {
      "name": "ТестМагнитРегрессия.ipynb",
      "provenance": [],
      "authorship_tag": "ABX9TyNlrQHsoIP2217g2SWeMHYc",
      "include_colab_link": true
    },
    "kernelspec": {
      "name": "python3",
      "display_name": "Python 3"
    },
    "language_info": {
      "name": "python"
    }
  },
  "cells": [
    {
      "cell_type": "markdown",
      "metadata": {
        "id": "view-in-github",
        "colab_type": "text"
      },
      "source": [
        "<a href=\"https://colab.research.google.com/github/samarkinav/Test-MGNT/blob/main/%D0%A2%D0%B5%D1%81%D1%82%D0%9C%D0%B0%D0%B3%D0%BD%D0%B8%D1%82%D0%A0%D0%B5%D0%B3%D1%80%D0%B5%D1%81%D1%81%D0%B8%D1%8F.ipynb\" target=\"_parent\"><img src=\"https://colab.research.google.com/assets/colab-badge.svg\" alt=\"Open In Colab\"/></a>"
      ]
    },
    {
      "cell_type": "markdown",
      "metadata": {
        "id": "-71vwiZV383v"
      },
      "source": [
        "## Импорт библиотек"
      ]
    },
    {
      "cell_type": "code",
      "metadata": {
        "id": "T-OULaMy39Wx"
      },
      "source": [
        "import pandas as pd\n",
        "import seaborn as sns\n",
        "import matplotlib.pylab as plt\n",
        "import numpy as np\n",
        "from pylab import rcParams\n",
        "rcParams['figure.figsize'] = 20, 10"
      ],
      "execution_count": 1,
      "outputs": []
    },
    {
      "cell_type": "markdown",
      "metadata": {
        "id": "qC7ocvPD4DBK"
      },
      "source": [
        "## Чтение данных"
      ]
    },
    {
      "cell_type": "code",
      "metadata": {
        "id": "nIGOYNPx396-"
      },
      "source": [
        "df = pd.read_csv('https://raw.githubusercontent.com/samarkinav/Test-MGNT/main/data_regression_for_task.csv?token=ARDNBEEXJHLW6CJRFUGHVVTBRZ6IO')"
      ],
      "execution_count": 2,
      "outputs": []
    },
    {
      "cell_type": "code",
      "metadata": {
        "colab": {
          "base_uri": "https://localhost:8080/",
          "height": 255
        },
        "id": "1wWZ6-tC4GHs",
        "outputId": "b2ace8a0-9915-48e4-b788-61fcbca84c9c"
      },
      "source": [
        "df.head(5)"
      ],
      "execution_count": 3,
      "outputs": [
        {
          "output_type": "execute_result",
          "data": {
            "text/html": [
              "<div>\n",
              "<style scoped>\n",
              "    .dataframe tbody tr th:only-of-type {\n",
              "        vertical-align: middle;\n",
              "    }\n",
              "\n",
              "    .dataframe tbody tr th {\n",
              "        vertical-align: top;\n",
              "    }\n",
              "\n",
              "    .dataframe thead th {\n",
              "        text-align: right;\n",
              "    }\n",
              "</style>\n",
              "<table border=\"1\" class=\"dataframe\">\n",
              "  <thead>\n",
              "    <tr style=\"text-align: right;\">\n",
              "      <th></th>\n",
              "      <th>YEAR</th>\n",
              "      <th>MONTH</th>\n",
              "      <th>CONTRAGENT</th>\n",
              "      <th>ARTICLE_CODE</th>\n",
              "      <th>ARTICLE_NAME</th>\n",
              "      <th>ARTICLE_GROUP</th>\n",
              "      <th>SALES</th>\n",
              "      <th>STORE_SALES</th>\n",
              "    </tr>\n",
              "  </thead>\n",
              "  <tbody>\n",
              "    <tr>\n",
              "      <th>0</th>\n",
              "      <td>2017</td>\n",
              "      <td>4</td>\n",
              "      <td>ROYAL WINE CORP</td>\n",
              "      <td>100200</td>\n",
              "      <td>GAMLA CAB - 750ML</td>\n",
              "      <td>WINE</td>\n",
              "      <td>0.0</td>\n",
              "      <td>0.0</td>\n",
              "    </tr>\n",
              "    <tr>\n",
              "      <th>1</th>\n",
              "      <td>2017</td>\n",
              "      <td>4</td>\n",
              "      <td>SANTA MARGHERITA USA INC</td>\n",
              "      <td>100749</td>\n",
              "      <td>SANTA MARGHERITA P/GRIG ALTO - 375ML</td>\n",
              "      <td>WINE</td>\n",
              "      <td>0.0</td>\n",
              "      <td>0.0</td>\n",
              "    </tr>\n",
              "    <tr>\n",
              "      <th>2</th>\n",
              "      <td>2017</td>\n",
              "      <td>4</td>\n",
              "      <td>JIM BEAM BRANDS CO</td>\n",
              "      <td>10103</td>\n",
              "      <td>KNOB CREEK BOURBON 9YR - 100P - 375ML</td>\n",
              "      <td>LIQUOR</td>\n",
              "      <td>0.0</td>\n",
              "      <td>0.0</td>\n",
              "    </tr>\n",
              "    <tr>\n",
              "      <th>3</th>\n",
              "      <td>2017</td>\n",
              "      <td>4</td>\n",
              "      <td>HEAVEN HILL DISTILLERIES INC</td>\n",
              "      <td>10120</td>\n",
              "      <td>J W DANT BOURBON 100P - 1.75L</td>\n",
              "      <td>LIQUOR</td>\n",
              "      <td>0.0</td>\n",
              "      <td>0.0</td>\n",
              "    </tr>\n",
              "    <tr>\n",
              "      <th>4</th>\n",
              "      <td>2017</td>\n",
              "      <td>4</td>\n",
              "      <td>ROYAL WINE CORP</td>\n",
              "      <td>101664</td>\n",
              "      <td>RAMON CORDOVA RIOJA - 750ML</td>\n",
              "      <td>WINE</td>\n",
              "      <td>0.0</td>\n",
              "      <td>0.0</td>\n",
              "    </tr>\n",
              "  </tbody>\n",
              "</table>\n",
              "</div>"
            ],
            "text/plain": [
              "   YEAR  MONTH                    CONTRAGENT  ... ARTICLE_GROUP SALES STORE_SALES\n",
              "0  2017      4               ROYAL WINE CORP  ...          WINE   0.0         0.0\n",
              "1  2017      4      SANTA MARGHERITA USA INC  ...          WINE   0.0         0.0\n",
              "2  2017      4            JIM BEAM BRANDS CO  ...        LIQUOR   0.0         0.0\n",
              "3  2017      4  HEAVEN HILL DISTILLERIES INC  ...        LIQUOR   0.0         0.0\n",
              "4  2017      4               ROYAL WINE CORP  ...          WINE   0.0         0.0\n",
              "\n",
              "[5 rows x 8 columns]"
            ]
          },
          "metadata": {},
          "execution_count": 3
        }
      ]
    },
    {
      "cell_type": "code",
      "metadata": {
        "colab": {
          "base_uri": "https://localhost:8080/"
        },
        "id": "PKp7NTbq5XZP",
        "outputId": "60136d50-6b67-4abd-f9f8-03b7cfb9dfd6"
      },
      "source": [
        "df.info()"
      ],
      "execution_count": 4,
      "outputs": [
        {
          "output_type": "stream",
          "name": "stdout",
          "text": [
            "<class 'pandas.core.frame.DataFrame'>\n",
            "RangeIndex: 128355 entries, 0 to 128354\n",
            "Data columns (total 8 columns):\n",
            " #   Column         Non-Null Count   Dtype  \n",
            "---  ------         --------------   -----  \n",
            " 0   YEAR           128355 non-null  int64  \n",
            " 1   MONTH          128355 non-null  int64  \n",
            " 2   CONTRAGENT     128331 non-null  object \n",
            " 3   ARTICLE_CODE   128355 non-null  object \n",
            " 4   ARTICLE_NAME   128355 non-null  object \n",
            " 5   ARTICLE_GROUP  128354 non-null  object \n",
            " 6   SALES          128355 non-null  float64\n",
            " 7   STORE_SALES    128355 non-null  float64\n",
            "dtypes: float64(2), int64(2), object(4)\n",
            "memory usage: 7.8+ MB\n"
          ]
        }
      ]
    },
    {
      "cell_type": "markdown",
      "metadata": {
        "id": "rNiSPX3M5bHA"
      },
      "source": [
        "Есть пропущенные значения в признаках CONTRAGENT, ARTICLE_GROUP. \n",
        "Имеем 4 числовых признака и 4 категориальных."
      ]
    },
    {
      "cell_type": "code",
      "metadata": {
        "colab": {
          "base_uri": "https://localhost:8080/",
          "height": 297
        },
        "id": "M0PeUo005ZLo",
        "outputId": "3b38a234-e654-426a-d034-418f16d5f197"
      },
      "source": [
        "df.describe()"
      ],
      "execution_count": 5,
      "outputs": [
        {
          "output_type": "execute_result",
          "data": {
            "text/html": [
              "<div>\n",
              "<style scoped>\n",
              "    .dataframe tbody tr th:only-of-type {\n",
              "        vertical-align: middle;\n",
              "    }\n",
              "\n",
              "    .dataframe tbody tr th {\n",
              "        vertical-align: top;\n",
              "    }\n",
              "\n",
              "    .dataframe thead th {\n",
              "        text-align: right;\n",
              "    }\n",
              "</style>\n",
              "<table border=\"1\" class=\"dataframe\">\n",
              "  <thead>\n",
              "    <tr style=\"text-align: right;\">\n",
              "      <th></th>\n",
              "      <th>YEAR</th>\n",
              "      <th>MONTH</th>\n",
              "      <th>SALES</th>\n",
              "      <th>STORE_SALES</th>\n",
              "    </tr>\n",
              "  </thead>\n",
              "  <tbody>\n",
              "    <tr>\n",
              "      <th>count</th>\n",
              "      <td>128355.000000</td>\n",
              "      <td>128355.000000</td>\n",
              "      <td>1.283550e+05</td>\n",
              "      <td>128355.000000</td>\n",
              "    </tr>\n",
              "    <tr>\n",
              "      <th>mean</th>\n",
              "      <td>2017.206030</td>\n",
              "      <td>7.079303</td>\n",
              "      <td>6.563037e+03</td>\n",
              "      <td>22.624213</td>\n",
              "    </tr>\n",
              "    <tr>\n",
              "      <th>std</th>\n",
              "      <td>0.404454</td>\n",
              "      <td>3.645826</td>\n",
              "      <td>2.892494e+04</td>\n",
              "      <td>239.693277</td>\n",
              "    </tr>\n",
              "    <tr>\n",
              "      <th>min</th>\n",
              "      <td>2017.000000</td>\n",
              "      <td>1.000000</td>\n",
              "      <td>-6.490000e+03</td>\n",
              "      <td>-4996.000000</td>\n",
              "    </tr>\n",
              "    <tr>\n",
              "      <th>25%</th>\n",
              "      <td>2017.000000</td>\n",
              "      <td>5.000000</td>\n",
              "      <td>0.000000e+00</td>\n",
              "      <td>0.000000</td>\n",
              "    </tr>\n",
              "    <tr>\n",
              "      <th>50%</th>\n",
              "      <td>2017.000000</td>\n",
              "      <td>8.000000</td>\n",
              "      <td>3.300000e+02</td>\n",
              "      <td>1.000000</td>\n",
              "    </tr>\n",
              "    <tr>\n",
              "      <th>75%</th>\n",
              "      <td>2017.000000</td>\n",
              "      <td>10.000000</td>\n",
              "      <td>3.250000e+03</td>\n",
              "      <td>4.000000</td>\n",
              "    </tr>\n",
              "    <tr>\n",
              "      <th>max</th>\n",
              "      <td>2018.000000</td>\n",
              "      <td>12.000000</td>\n",
              "      <td>1.616600e+06</td>\n",
              "      <td>16271.750000</td>\n",
              "    </tr>\n",
              "  </tbody>\n",
              "</table>\n",
              "</div>"
            ],
            "text/plain": [
              "                YEAR          MONTH         SALES    STORE_SALES\n",
              "count  128355.000000  128355.000000  1.283550e+05  128355.000000\n",
              "mean     2017.206030       7.079303  6.563037e+03      22.624213\n",
              "std         0.404454       3.645826  2.892494e+04     239.693277\n",
              "min      2017.000000       1.000000 -6.490000e+03   -4996.000000\n",
              "25%      2017.000000       5.000000  0.000000e+00       0.000000\n",
              "50%      2017.000000       8.000000  3.300000e+02       1.000000\n",
              "75%      2017.000000      10.000000  3.250000e+03       4.000000\n",
              "max      2018.000000      12.000000  1.616600e+06   16271.750000"
            ]
          },
          "metadata": {},
          "execution_count": 5
        }
      ]
    },
    {
      "cell_type": "markdown",
      "metadata": {
        "id": "kV_DMNda5egb"
      },
      "source": [
        "В признаках SALES и STORE_SALES есть отрицательные значения."
      ]
    },
    {
      "cell_type": "code",
      "metadata": {
        "colab": {
          "base_uri": "https://localhost:8080/",
          "height": 173
        },
        "id": "WtWf0DDL5c1S",
        "outputId": "e8d0920a-17eb-441a-b51d-937fc5735613"
      },
      "source": [
        "df.describe(include=['object'])"
      ],
      "execution_count": 6,
      "outputs": [
        {
          "output_type": "execute_result",
          "data": {
            "text/html": [
              "<div>\n",
              "<style scoped>\n",
              "    .dataframe tbody tr th:only-of-type {\n",
              "        vertical-align: middle;\n",
              "    }\n",
              "\n",
              "    .dataframe tbody tr th {\n",
              "        vertical-align: top;\n",
              "    }\n",
              "\n",
              "    .dataframe thead th {\n",
              "        text-align: right;\n",
              "    }\n",
              "</style>\n",
              "<table border=\"1\" class=\"dataframe\">\n",
              "  <thead>\n",
              "    <tr style=\"text-align: right;\">\n",
              "      <th></th>\n",
              "      <th>CONTRAGENT</th>\n",
              "      <th>ARTICLE_CODE</th>\n",
              "      <th>ARTICLE_NAME</th>\n",
              "      <th>ARTICLE_GROUP</th>\n",
              "    </tr>\n",
              "  </thead>\n",
              "  <tbody>\n",
              "    <tr>\n",
              "      <th>count</th>\n",
              "      <td>128331</td>\n",
              "      <td>128355</td>\n",
              "      <td>128355</td>\n",
              "      <td>128354</td>\n",
              "    </tr>\n",
              "    <tr>\n",
              "      <th>unique</th>\n",
              "      <td>333</td>\n",
              "      <td>23556</td>\n",
              "      <td>23624</td>\n",
              "      <td>8</td>\n",
              "    </tr>\n",
              "    <tr>\n",
              "      <th>top</th>\n",
              "      <td>REPUBLIC NATIONAL DISTRIBUTING CO</td>\n",
              "      <td>84620</td>\n",
              "      <td>LA VIELLE FERME CDV RED - 750ML</td>\n",
              "      <td>WINE</td>\n",
              "    </tr>\n",
              "    <tr>\n",
              "      <th>freq</th>\n",
              "      <td>9847</td>\n",
              "      <td>10</td>\n",
              "      <td>19</td>\n",
              "      <td>79077</td>\n",
              "    </tr>\n",
              "  </tbody>\n",
              "</table>\n",
              "</div>"
            ],
            "text/plain": [
              "                               CONTRAGENT  ... ARTICLE_GROUP\n",
              "count                              128331  ...        128354\n",
              "unique                                333  ...             8\n",
              "top     REPUBLIC NATIONAL DISTRIBUTING CO  ...          WINE\n",
              "freq                                 9847  ...         79077\n",
              "\n",
              "[4 rows x 4 columns]"
            ]
          },
          "metadata": {},
          "execution_count": 6
        }
      ]
    },
    {
      "cell_type": "markdown",
      "metadata": {
        "id": "BQjcaLNO5iED"
      },
      "source": [
        "## Боремся с выбросами\n"
      ]
    },
    {
      "cell_type": "code",
      "metadata": {
        "colab": {
          "base_uri": "https://localhost:8080/",
          "height": 278
        },
        "id": "k7vKyigr5f_y",
        "outputId": "af1c778f-eed4-4376-b9d4-c8801346997f"
      },
      "source": [
        "plt.scatter(df['SALES'], df['STORE_SALES'])\n",
        "pass"
      ],
      "execution_count": 7,
      "outputs": [
        {
          "output_type": "display_data",
          "data": {
            "image/png": "[encoded data removed]",
            "text/plain": [
              "<Figure size 432x288 with 1 Axes>"
            ]
          },
          "metadata": {
            "needs_background": "light"
          }
        }
      ]
    },
    {
      "cell_type": "code",
      "metadata": {
        "colab": {
          "base_uri": "https://localhost:8080/"
        },
        "id": "AvG9xPOE5jgG",
        "outputId": "462da57e-7099-48a4-bdf9-bf4a34cebe62"
      },
      "source": [
        "df['SALES'].quantile([0.005,.01,.05,.1,.5,.9,.95,.99,.995])"
      ],
      "execution_count": 8,
      "outputs": [
        {
          "output_type": "execute_result",
          "data": {
            "text/plain": [
              "0.005         0.0\n",
              "0.010         0.0\n",
              "0.050         0.0\n",
              "0.100         0.0\n",
              "0.500       330.0\n",
              "0.900     13870.0\n",
              "0.950     28500.0\n",
              "0.990     99935.2\n",
              "0.995    154915.3\n",
              "Name: SALES, dtype: float64"
            ]
          },
          "metadata": {},
          "execution_count": 8
        }
      ]
    },
    {
      "cell_type": "code",
      "metadata": {
        "colab": {
          "base_uri": "https://localhost:8080/"
        },
        "id": "7MVSJK6B5lAm",
        "outputId": "be1767f5-3168-4265-88a8-92a92295c49e"
      },
      "source": [
        "df['STORE_SALES'].quantile([0.005,.01,.05,.1,.5,.9,.95,.99,.995])"
      ],
      "execution_count": 9,
      "outputs": [
        {
          "output_type": "execute_result",
          "data": {
            "text/plain": [
              "0.005      0.000\n",
              "0.010      0.000\n",
              "0.050      0.000\n",
              "0.100      0.000\n",
              "0.500      1.000\n",
              "0.900     18.000\n",
              "0.950     49.000\n",
              "0.990    394.865\n",
              "0.995    742.092\n",
              "Name: STORE_SALES, dtype: float64"
            ]
          },
          "metadata": {},
          "execution_count": 9
        }
      ]
    },
    {
      "cell_type": "markdown",
      "metadata": {
        "id": "7fOOrQVD5oco"
      },
      "source": [
        "Удалим все строки таблицы, в которых 'SALES' или 'STORE_SALES' выходят за пределы квантилей $0.005$, $0.995$."
      ]
    },
    {
      "cell_type": "code",
      "metadata": {
        "id": "PmnF5F1f5mmU"
      },
      "source": [
        "rows_to_drop = df[\n",
        "    (df['SALES'] < df['SALES'].quantile(0.005)) | (df['SALES'] > df['SALES'].quantile(0.995)) | \n",
        "    (df['STORE_SALES']  < df['STORE_SALES'].quantile(0.005)) | (df['STORE_SALES']  > df['STORE_SALES'].quantile(0.995))].index\n",
        "data = df.drop(rows_to_drop)"
      ],
      "execution_count": 10,
      "outputs": []
    },
    {
      "cell_type": "code",
      "metadata": {
        "colab": {
          "base_uri": "https://localhost:8080/",
          "height": 265
        },
        "id": "jz_LbRRa5qVB",
        "outputId": "7ae16912-875d-4ce8-e31d-fac3f41d7b13"
      },
      "source": [
        "plt.scatter(data['SALES'], data['STORE_SALES'])\n",
        "pass"
      ],
      "execution_count": 11,
      "outputs": [
        {
          "output_type": "display_data",
          "data": {
            "image/png": "[encoded data removed]",
            "text/plain": [
              "<Figure size 432x288 with 1 Axes>"
            ]
          },
          "metadata": {
            "needs_background": "light"
          }
        }
      ]
    },
    {
      "cell_type": "code",
      "metadata": {
        "colab": {
          "base_uri": "https://localhost:8080/",
          "height": 173
        },
        "id": "pptWq9y75tMF",
        "outputId": "9dcc4b80-4391-4bba-f17a-4736e127b736"
      },
      "source": [
        "corr_mat = data.corr()\n",
        "corr_mat"
      ],
      "execution_count": 12,
      "outputs": [
        {
          "output_type": "execute_result",
          "data": {
            "text/html": [
              "<div>\n",
              "<style scoped>\n",
              "    .dataframe tbody tr th:only-of-type {\n",
              "        vertical-align: middle;\n",
              "    }\n",
              "\n",
              "    .dataframe tbody tr th {\n",
              "        vertical-align: top;\n",
              "    }\n",
              "\n",
              "    .dataframe thead th {\n",
              "        text-align: right;\n",
              "    }\n",
              "</style>\n",
              "<table border=\"1\" class=\"dataframe\">\n",
              "  <thead>\n",
              "    <tr style=\"text-align: right;\">\n",
              "      <th></th>\n",
              "      <th>YEAR</th>\n",
              "      <th>MONTH</th>\n",
              "      <th>SALES</th>\n",
              "      <th>STORE_SALES</th>\n",
              "    </tr>\n",
              "  </thead>\n",
              "  <tbody>\n",
              "    <tr>\n",
              "      <th>YEAR</th>\n",
              "      <td>1.000000</td>\n",
              "      <td>-0.780062</td>\n",
              "      <td>-0.013050</td>\n",
              "      <td>-0.001518</td>\n",
              "    </tr>\n",
              "    <tr>\n",
              "      <th>MONTH</th>\n",
              "      <td>-0.780062</td>\n",
              "      <td>1.000000</td>\n",
              "      <td>0.039019</td>\n",
              "      <td>0.008503</td>\n",
              "    </tr>\n",
              "    <tr>\n",
              "      <th>SALES</th>\n",
              "      <td>-0.013050</td>\n",
              "      <td>0.039019</td>\n",
              "      <td>1.000000</td>\n",
              "      <td>0.314203</td>\n",
              "    </tr>\n",
              "    <tr>\n",
              "      <th>STORE_SALES</th>\n",
              "      <td>-0.001518</td>\n",
              "      <td>0.008503</td>\n",
              "      <td>0.314203</td>\n",
              "      <td>1.000000</td>\n",
              "    </tr>\n",
              "  </tbody>\n",
              "</table>\n",
              "</div>"
            ],
            "text/plain": [
              "                 YEAR     MONTH     SALES  STORE_SALES\n",
              "YEAR         1.000000 -0.780062 -0.013050    -0.001518\n",
              "MONTH       -0.780062  1.000000  0.039019     0.008503\n",
              "SALES       -0.013050  0.039019  1.000000     0.314203\n",
              "STORE_SALES -0.001518  0.008503  0.314203     1.000000"
            ]
          },
          "metadata": {},
          "execution_count": 12
        }
      ]
    },
    {
      "cell_type": "code",
      "metadata": {
        "colab": {
          "base_uri": "https://localhost:8080/",
          "height": 270
        },
        "id": "sXdKtHKP5uxJ",
        "outputId": "0357fe39-f124-4eb2-8d20-712489b48cf4"
      },
      "source": [
        "sns.heatmap(corr_mat, square=True, cmap='coolwarm')\n",
        "pass"
      ],
      "execution_count": 13,
      "outputs": [
        {
          "output_type": "display_data",
          "data": {
            "image/png": "[encoded data removed]",
            "text/plain": [
              "<Figure size 432x288 with 2 Axes>"
            ]
          },
          "metadata": {
            "needs_background": "light"
          }
        }
      ]
    },
    {
      "cell_type": "code",
      "metadata": {
        "colab": {
          "base_uri": "https://localhost:8080/"
        },
        "id": "OGlt4IiR5wGw",
        "outputId": "cabdaecd-1686-4011-fca9-0bce99f5aa76"
      },
      "source": [
        "data['ARTICLE_GROUP'].value_counts()"
      ],
      "execution_count": 14,
      "outputs": [
        {
          "output_type": "execute_result",
          "data": {
            "text/plain": [
              "WINE            78795\n",
              "LIQUOR          28083\n",
              "BEER            15640\n",
              "KEGS             3593\n",
              "NON-ALCOHOL       620\n",
              "STR_SUPPLIES      105\n",
              "REF                35\n",
              "Name: ARTICLE_GROUP, dtype: int64"
            ]
          },
          "metadata": {},
          "execution_count": 14
        }
      ]
    },
    {
      "cell_type": "code",
      "metadata": {
        "colab": {
          "base_uri": "https://localhost:8080/",
          "height": 281
        },
        "id": "1bEpew335xkN",
        "outputId": "a09dd857-9df3-4f64-e4b4-11c16a4b9b62"
      },
      "source": [
        "sns.countplot(x='ARTICLE_GROUP', data=data)\n",
        "pass"
      ],
      "execution_count": 15,
      "outputs": [
        {
          "output_type": "display_data",
          "data": {
            "image/png": "[encoded data removed]",
            "text/plain": [
              "<Figure size 432x288 with 1 Axes>"
            ]
          },
          "metadata": {
            "needs_background": "light"
          }
        }
      ]
    },
    {
      "cell_type": "markdown",
      "metadata": {
        "id": "EmVs4A0p50-X"
      },
      "source": [
        "## Заполнение пропущенных значений"
      ]
    },
    {
      "cell_type": "code",
      "metadata": {
        "colab": {
          "base_uri": "https://localhost:8080/"
        },
        "id": "Dv0TjClm5zJA",
        "outputId": "e0f61ab2-dc73-492b-c971-4747b2477d16"
      },
      "source": [
        "data.isna().sum()"
      ],
      "execution_count": 16,
      "outputs": [
        {
          "output_type": "execute_result",
          "data": {
            "text/plain": [
              "YEAR             0\n",
              "MONTH            0\n",
              "CONTRAGENT       0\n",
              "ARTICLE_CODE     0\n",
              "ARTICLE_NAME     0\n",
              "ARTICLE_GROUP    1\n",
              "SALES            0\n",
              "STORE_SALES      0\n",
              "dtype: int64"
            ]
          },
          "metadata": {},
          "execution_count": 16
        }
      ]
    },
    {
      "cell_type": "markdown",
      "metadata": {
        "id": "pwfOYCgJ54Tc"
      },
      "source": [
        "Есть пропущенное значение в категориальном признаке, заполним его модой."
      ]
    },
    {
      "cell_type": "code",
      "metadata": {
        "id": "l3zdYwPQ52el"
      },
      "source": [
        "data['ARTICLE_GROUP'].fillna(data['ARTICLE_GROUP'].mode().iloc[0], inplace=True)"
      ],
      "execution_count": 17,
      "outputs": []
    },
    {
      "cell_type": "code",
      "metadata": {
        "colab": {
          "base_uri": "https://localhost:8080/"
        },
        "id": "FGYtKA-d552h",
        "outputId": "3f3f4a9a-c0a8-4b01-8034-2b6db0e9e93a"
      },
      "source": [
        "data['ARTICLE_GROUP'].isna().sum()"
      ],
      "execution_count": 18,
      "outputs": [
        {
          "output_type": "execute_result",
          "data": {
            "text/plain": [
              "0"
            ]
          },
          "metadata": {},
          "execution_count": 18
        }
      ]
    },
    {
      "cell_type": "markdown",
      "metadata": {
        "id": "9vfvVIut-TIG"
      },
      "source": [
        "## Отбор признаков"
      ]
    },
    {
      "cell_type": "code",
      "metadata": {
        "id": "qk3TD2i6l_tO"
      },
      "source": [
        "def metric(y_true, y_pred):\n",
        "    \n",
        "    return np.sum(np.abs(y_true - y_pred)) / np.sum(y_pred) * 100"
      ],
      "execution_count": 19,
      "outputs": []
    },
    {
      "cell_type": "markdown",
      "metadata": {
        "id": "uj75KIwZ-VyJ"
      },
      "source": [
        "Для начала переведем все категориальные признаки к типу category, не будем их кодировать."
      ]
    },
    {
      "cell_type": "code",
      "metadata": {
        "id": "Y8Ltjs9A-Ibk"
      },
      "source": [
        "data['YEAR'] = data['YEAR'].astype('category')\n",
        "data['MONTH'] = data['MONTH'].astype('category')\n",
        "data['CONTRAGENT'] = data['CONTRAGENT'].astype('category')\n",
        "data['ARTICLE_CODE'] = data['ARTICLE_CODE'].astype('category')\n",
        "data['ARTICLE_NAME'] = data['ARTICLE_NAME'].astype('category')\n",
        "data['ARTICLE_GROUP'] = data['ARTICLE_GROUP'].astype('category')"
      ],
      "execution_count": 20,
      "outputs": []
    },
    {
      "cell_type": "code",
      "metadata": {
        "colab": {
          "base_uri": "https://localhost:8080/"
        },
        "id": "9aZX3_oeKiUR",
        "outputId": "5a8d57b9-0a19-49d9-9c93-8fe003463711"
      },
      "source": [
        "data.dtypes"
      ],
      "execution_count": 21,
      "outputs": [
        {
          "output_type": "execute_result",
          "data": {
            "text/plain": [
              "YEAR             category\n",
              "MONTH            category\n",
              "CONTRAGENT       category\n",
              "ARTICLE_CODE     category\n",
              "ARTICLE_NAME     category\n",
              "ARTICLE_GROUP    category\n",
              "SALES             float64\n",
              "STORE_SALES       float64\n",
              "dtype: object"
            ]
          },
          "metadata": {},
          "execution_count": 21
        }
      ]
    },
    {
      "cell_type": "code",
      "metadata": {
        "id": "QQuTXovV-jT7"
      },
      "source": [
        "test_df = data.query(\"YEAR == 2018 & MONTH == 2\")\n",
        "train_df = data.drop(test_df.index)"
      ],
      "execution_count": 22,
      "outputs": []
    },
    {
      "cell_type": "code",
      "metadata": {
        "id": "ZD4pWrUz-jW6"
      },
      "source": [
        "X_train = train_df.drop(['ARTICLE_CODE', 'ARTICLE_NAME','SALES'], axis=1)\n",
        "y_train = train_df['SALES']\n",
        "X_test = test_df.drop(['ARTICLE_CODE', 'ARTICLE_NAME', 'SALES'], axis=1)\n",
        "y_test = test_df['SALES']"
      ],
      "execution_count": 23,
      "outputs": []
    },
    {
      "cell_type": "code",
      "metadata": {
        "colab": {
          "base_uri": "https://localhost:8080/",
          "height": 204
        },
        "id": "nEFwsk64-jZa",
        "outputId": "f015bb9f-45ea-4ce5-ad17-84c84875e1b6"
      },
      "source": [
        "X_train.head()"
      ],
      "execution_count": 24,
      "outputs": [
        {
          "output_type": "execute_result",
          "data": {
            "text/html": [
              "<div>\n",
              "<style scoped>\n",
              "    .dataframe tbody tr th:only-of-type {\n",
              "        vertical-align: middle;\n",
              "    }\n",
              "\n",
              "    .dataframe tbody tr th {\n",
              "        vertical-align: top;\n",
              "    }\n",
              "\n",
              "    .dataframe thead th {\n",
              "        text-align: right;\n",
              "    }\n",
              "</style>\n",
              "<table border=\"1\" class=\"dataframe\">\n",
              "  <thead>\n",
              "    <tr style=\"text-align: right;\">\n",
              "      <th></th>\n",
              "      <th>YEAR</th>\n",
              "      <th>MONTH</th>\n",
              "      <th>CONTRAGENT</th>\n",
              "      <th>ARTICLE_GROUP</th>\n",
              "      <th>STORE_SALES</th>\n",
              "    </tr>\n",
              "  </thead>\n",
              "  <tbody>\n",
              "    <tr>\n",
              "      <th>0</th>\n",
              "      <td>2017</td>\n",
              "      <td>4</td>\n",
              "      <td>ROYAL WINE CORP</td>\n",
              "      <td>WINE</td>\n",
              "      <td>0.0</td>\n",
              "    </tr>\n",
              "    <tr>\n",
              "      <th>1</th>\n",
              "      <td>2017</td>\n",
              "      <td>4</td>\n",
              "      <td>SANTA MARGHERITA USA INC</td>\n",
              "      <td>WINE</td>\n",
              "      <td>0.0</td>\n",
              "    </tr>\n",
              "    <tr>\n",
              "      <th>2</th>\n",
              "      <td>2017</td>\n",
              "      <td>4</td>\n",
              "      <td>JIM BEAM BRANDS CO</td>\n",
              "      <td>LIQUOR</td>\n",
              "      <td>0.0</td>\n",
              "    </tr>\n",
              "    <tr>\n",
              "      <th>3</th>\n",
              "      <td>2017</td>\n",
              "      <td>4</td>\n",
              "      <td>HEAVEN HILL DISTILLERIES INC</td>\n",
              "      <td>LIQUOR</td>\n",
              "      <td>0.0</td>\n",
              "    </tr>\n",
              "    <tr>\n",
              "      <th>4</th>\n",
              "      <td>2017</td>\n",
              "      <td>4</td>\n",
              "      <td>ROYAL WINE CORP</td>\n",
              "      <td>WINE</td>\n",
              "      <td>0.0</td>\n",
              "    </tr>\n",
              "  </tbody>\n",
              "</table>\n",
              "</div>"
            ],
            "text/plain": [
              "   YEAR MONTH                    CONTRAGENT ARTICLE_GROUP  STORE_SALES\n",
              "0  2017     4               ROYAL WINE CORP          WINE          0.0\n",
              "1  2017     4      SANTA MARGHERITA USA INC          WINE          0.0\n",
              "2  2017     4            JIM BEAM BRANDS CO        LIQUOR          0.0\n",
              "3  2017     4  HEAVEN HILL DISTILLERIES INC        LIQUOR          0.0\n",
              "4  2017     4               ROYAL WINE CORP          WINE          0.0"
            ]
          },
          "metadata": {},
          "execution_count": 24
        }
      ]
    },
    {
      "cell_type": "code",
      "metadata": {
        "id": "Z9W1r9mDAHrk"
      },
      "source": [
        "import lightgbm as lgb\n",
        "from sklearn.model_selection import GridSearchCV"
      ],
      "execution_count": 25,
      "outputs": []
    },
    {
      "cell_type": "code",
      "metadata": {
        "colab": {
          "base_uri": "https://localhost:8080/"
        },
        "id": "S_0DsM96-je2",
        "outputId": "6778a12b-feb6-4e5b-cd09-68318b13598d"
      },
      "source": [
        "lg = lgb.LGBMRegressor(silent=False)\n",
        "parametrs = {\"n_estimators\": range(10,200,10)}\n",
        "grid_search_cv = GridSearchCV(lg, n_jobs=-1, param_grid=parametrs, cv=10)\n",
        "grid_search_cv.fit(X_train,y_train)\n",
        "best_n_estimators = grid_search_cv.best_estimator_.n_estimators\n",
        "print(best_n_estimators)"
      ],
      "execution_count": 27,
      "outputs": [
        {
          "output_type": "stream",
          "name": "stdout",
          "text": [
            "50\n"
          ]
        }
      ]
    },
    {
      "cell_type": "code",
      "metadata": {
        "colab": {
          "base_uri": "https://localhost:8080/"
        },
        "id": "x7fQLcbP-jiS",
        "outputId": "8e380925-f8d9-4d63-883f-57be0dd0d246"
      },
      "source": [
        "train_data = lgb.Dataset(X_train, label=y_train)\n",
        "validation_data = lgb.Dataset(X_test, label=y_test, reference=train_data)\n",
        "param = {'num_leaves':31, 'objective':'regression', 'learning_rate':0.06}\n",
        "num_round = best_n_estimators\n",
        "cate_features_name = ['YEAR','MONTH','CONTRAGENT','ARTICLE_GROUP']\n",
        "bst = lgb.train(param, train_data, num_round, valid_sets=[validation_data], categorical_feature = cate_features_name)\n",
        "y_test_predict_lgbm = bst.predict(X_test)"
      ],
      "execution_count": 28,
      "outputs": [
        {
          "output_type": "stream",
          "name": "stdout",
          "text": [
            "[1]\tvalid_0's l2: 1.67459e+08\n",
            "[2]\tvalid_0's l2: 1.59068e+08\n",
            "[3]\tvalid_0's l2: 1.51751e+08\n",
            "[4]\tvalid_0's l2: 1.45124e+08\n",
            "[5]\tvalid_0's l2: 1.39349e+08\n",
            "[6]\tvalid_0's l2: 1.34155e+08\n",
            "[7]\tvalid_0's l2: 1.29653e+08\n",
            "[8]\tvalid_0's l2: 1.256e+08\n",
            "[9]\tvalid_0's l2: 1.22006e+08\n",
            "[10]\tvalid_0's l2: 1.18827e+08\n",
            "[11]\tvalid_0's l2: 1.1604e+08\n",
            "[12]\tvalid_0's l2: 1.13565e+08\n",
            "[13]\tvalid_0's l2: 1.11449e+08\n",
            "[14]\tvalid_0's l2: 1.09535e+08\n",
            "[15]\tvalid_0's l2: 1.07831e+08\n",
            "[16]\tvalid_0's l2: 1.06344e+08\n"
          ]
        },
        {
          "output_type": "stream",
          "name": "stderr",
          "text": [
            "/usr/local/lib/python3.7/dist-packages/lightgbm/basic.py:1209: UserWarning: categorical_feature in Dataset is overridden.\n",
            "New categorical_feature is ['ARTICLE_GROUP', 'CONTRAGENT', 'MONTH', 'YEAR']\n",
            "  'New categorical_feature is {}'.format(sorted(list(categorical_feature))))\n",
            "/usr/local/lib/python3.7/dist-packages/lightgbm/basic.py:762: UserWarning: categorical_feature in param dict is overridden.\n",
            "  warnings.warn('categorical_feature in param dict is overridden.')\n"
          ]
        },
        {
          "output_type": "stream",
          "name": "stdout",
          "text": [
            "[17]\tvalid_0's l2: 1.05059e+08\n",
            "[18]\tvalid_0's l2: 1.03815e+08\n",
            "[19]\tvalid_0's l2: 1.02785e+08\n",
            "[20]\tvalid_0's l2: 1.01901e+08\n",
            "[21]\tvalid_0's l2: 1.00888e+08\n",
            "[22]\tvalid_0's l2: 1.00217e+08\n",
            "[23]\tvalid_0's l2: 9.96407e+07\n",
            "[24]\tvalid_0's l2: 9.88822e+07\n",
            "[25]\tvalid_0's l2: 9.83376e+07\n",
            "[26]\tvalid_0's l2: 9.76983e+07\n",
            "[27]\tvalid_0's l2: 9.71437e+07\n",
            "[28]\tvalid_0's l2: 9.66615e+07\n",
            "[29]\tvalid_0's l2: 9.63536e+07\n",
            "[30]\tvalid_0's l2: 9.60378e+07\n",
            "[31]\tvalid_0's l2: 9.56662e+07\n",
            "[32]\tvalid_0's l2: 9.53372e+07\n",
            "[33]\tvalid_0's l2: 9.51401e+07\n",
            "[34]\tvalid_0's l2: 9.48636e+07\n",
            "[35]\tvalid_0's l2: 9.46685e+07\n",
            "[36]\tvalid_0's l2: 9.45978e+07\n",
            "[37]\tvalid_0's l2: 9.44592e+07\n",
            "[38]\tvalid_0's l2: 9.42354e+07\n",
            "[39]\tvalid_0's l2: 9.4142e+07\n",
            "[40]\tvalid_0's l2: 9.39582e+07\n",
            "[41]\tvalid_0's l2: 9.3877e+07\n",
            "[42]\tvalid_0's l2: 9.38568e+07\n",
            "[43]\tvalid_0's l2: 9.37323e+07\n",
            "[44]\tvalid_0's l2: 9.37358e+07\n",
            "[45]\tvalid_0's l2: 9.37683e+07\n",
            "[46]\tvalid_0's l2: 9.36847e+07\n",
            "[47]\tvalid_0's l2: 9.36696e+07\n",
            "[48]\tvalid_0's l2: 9.35818e+07\n",
            "[49]\tvalid_0's l2: 9.36199e+07\n",
            "[50]\tvalid_0's l2: 9.34944e+07\n"
          ]
        }
      ]
    },
    {
      "cell_type": "code",
      "metadata": {
        "colab": {
          "base_uri": "https://localhost:8080/"
        },
        "id": "c0XPkv_9B28y",
        "outputId": "54db401d-d063-4ba3-e441-de5655ba4e65"
      },
      "source": [
        "metric(y_test,y_test_predict_lgbm)"
      ],
      "execution_count": 29,
      "outputs": [
        {
          "output_type": "execute_result",
          "data": {
            "text/plain": [
              "79.2069110851852"
            ]
          },
          "metadata": {},
          "execution_count": 29
        }
      ]
    },
    {
      "cell_type": "code",
      "metadata": {
        "colab": {
          "base_uri": "https://localhost:8080/",
          "height": 265
        },
        "id": "jvyZoeuUBy14",
        "outputId": "e52d728f-4305-44af-dc68-66cd2e3f6294"
      },
      "source": [
        "importances = pd.Series(bst.feature_importance(), index=X_test.columns).sort_values(ascending=False)\n",
        "sns.barplot(y=importances.index, x=importances)\n",
        "pass"
      ],
      "execution_count": 30,
      "outputs": [
        {
          "output_type": "display_data",
          "data": {
            "image/png": "[encoded data removed]",
            "text/plain": [
              "<Figure size 432x288 with 1 Axes>"
            ]
          },
          "metadata": {
            "needs_background": "light"
          }
        }
      ]
    },
    {
      "cell_type": "markdown",
      "metadata": {
        "id": "lDtpBNMamm6W"
      },
      "source": [
        "Попробуем исключить признаки даты (месяц и год)"
      ]
    },
    {
      "cell_type": "code",
      "metadata": {
        "id": "d7dIhFhWB_9A"
      },
      "source": [
        "X_train = train_df.drop(['YEAR', 'MONTH', 'ARTICLE_CODE', 'ARTICLE_NAME','SALES'], axis=1)\n",
        "y_train = train_df['SALES']\n",
        "X_test = test_df.drop(['YEAR', 'MONTH', 'ARTICLE_CODE', 'ARTICLE_NAME', 'SALES'], axis=1)\n",
        "y_test = test_df['SALES']"
      ],
      "execution_count": 31,
      "outputs": []
    },
    {
      "cell_type": "code",
      "metadata": {
        "colab": {
          "base_uri": "https://localhost:8080/"
        },
        "id": "YRTVe-ffneEX",
        "outputId": "5fc7fee6-ffc9-4619-8b32-383cbe9ef0a3"
      },
      "source": [
        "lg = lgb.LGBMRegressor(silent=False)\n",
        "parametrs = {\"n_estimators\": range(10,200,10)}\n",
        "grid_search_cv = GridSearchCV(lg, n_jobs=-1, param_grid=parametrs, cv=10)\n",
        "grid_search_cv.fit(X_train,y_train)\n",
        "best_n_estimators = grid_search_cv.best_estimator_.n_estimators\n",
        "print(best_n_estimators)"
      ],
      "execution_count": 32,
      "outputs": [
        {
          "output_type": "stream",
          "name": "stdout",
          "text": [
            "70\n"
          ]
        }
      ]
    },
    {
      "cell_type": "code",
      "metadata": {
        "colab": {
          "base_uri": "https://localhost:8080/"
        },
        "id": "KAMnAZ3jneEX",
        "outputId": "988518c2-1be3-4acf-ec5d-6f93919ed894"
      },
      "source": [
        "train_data = lgb.Dataset(X_train, label=y_train)\n",
        "validation_data = lgb.Dataset(X_test, label=y_test, reference=train_data)\n",
        "param = {'num_leaves':31, 'objective':'regression', 'learning_rate':0.06}\n",
        "num_round = best_n_estimators\n",
        "cate_features_name = ['CONTRAGENT','ARTICLE_GROUP']\n",
        "bst = lgb.train(param, train_data, num_round, valid_sets=[validation_data], categorical_feature = cate_features_name)\n",
        "y_test_predict_lgbm = bst.predict(X_test)"
      ],
      "execution_count": 33,
      "outputs": [
        {
          "output_type": "stream",
          "name": "stdout",
          "text": [
            "[1]\tvalid_0's l2: 1.67241e+08\n",
            "[2]\tvalid_0's l2: 1.58632e+08\n",
            "[3]\tvalid_0's l2: 1.51082e+08\n",
            "[4]\tvalid_0's l2: 1.44295e+08\n",
            "[5]\tvalid_0's l2: 1.38252e+08\n",
            "[6]\tvalid_0's l2: 1.32829e+08\n",
            "[7]\tvalid_0's l2: 1.28114e+08\n",
            "[8]\tvalid_0's l2: 1.23948e+08\n",
            "[9]\tvalid_0's l2: 1.20179e+08\n",
            "[10]\tvalid_0's l2: 1.16839e+08\n",
            "[11]\tvalid_0's l2: 1.13839e+08\n",
            "[12]\tvalid_0's l2: 1.11238e+08\n",
            "[13]\tvalid_0's l2: 1.08872e+08\n",
            "[14]\tvalid_0's l2: 1.06789e+08\n",
            "[15]\tvalid_0's l2: 1.05011e+08\n",
            "[16]\tvalid_0's l2: 1.03352e+08\n",
            "[17]\tvalid_0's l2: 1.01954e+08\n",
            "[18]\tvalid_0's l2: 1.0069e+08\n",
            "[19]\tvalid_0's l2: 9.9506e+07\n",
            "[20]\tvalid_0's l2: 9.84628e+07\n"
          ]
        },
        {
          "output_type": "stream",
          "name": "stderr",
          "text": [
            "/usr/local/lib/python3.7/dist-packages/lightgbm/basic.py:1209: UserWarning: categorical_feature in Dataset is overridden.\n",
            "New categorical_feature is ['ARTICLE_GROUP', 'CONTRAGENT']\n",
            "  'New categorical_feature is {}'.format(sorted(list(categorical_feature))))\n",
            "/usr/local/lib/python3.7/dist-packages/lightgbm/basic.py:762: UserWarning: categorical_feature in param dict is overridden.\n",
            "  warnings.warn('categorical_feature in param dict is overridden.')\n"
          ]
        },
        {
          "output_type": "stream",
          "name": "stdout",
          "text": [
            "[21]\tvalid_0's l2: 9.75994e+07\n",
            "[22]\tvalid_0's l2: 9.67492e+07\n",
            "[23]\tvalid_0's l2: 9.59671e+07\n",
            "[24]\tvalid_0's l2: 9.53498e+07\n",
            "[25]\tvalid_0's l2: 9.46776e+07\n",
            "[26]\tvalid_0's l2: 9.40963e+07\n",
            "[27]\tvalid_0's l2: 9.36508e+07\n",
            "[28]\tvalid_0's l2: 9.31992e+07\n",
            "[29]\tvalid_0's l2: 9.28034e+07\n",
            "[30]\tvalid_0's l2: 9.24034e+07\n",
            "[31]\tvalid_0's l2: 9.21041e+07\n",
            "[32]\tvalid_0's l2: 9.17745e+07\n",
            "[33]\tvalid_0's l2: 9.15395e+07\n",
            "[34]\tvalid_0's l2: 9.13096e+07\n",
            "[35]\tvalid_0's l2: 9.11086e+07\n",
            "[36]\tvalid_0's l2: 9.08714e+07\n",
            "[37]\tvalid_0's l2: 9.07188e+07\n",
            "[38]\tvalid_0's l2: 9.0513e+07\n",
            "[39]\tvalid_0's l2: 9.04042e+07\n",
            "[40]\tvalid_0's l2: 9.02377e+07\n",
            "[41]\tvalid_0's l2: 9.00947e+07\n",
            "[42]\tvalid_0's l2: 8.99619e+07\n",
            "[43]\tvalid_0's l2: 8.98684e+07\n",
            "[44]\tvalid_0's l2: 8.97555e+07\n",
            "[45]\tvalid_0's l2: 8.95864e+07\n",
            "[46]\tvalid_0's l2: 8.94849e+07\n",
            "[47]\tvalid_0's l2: 8.94151e+07\n",
            "[48]\tvalid_0's l2: 8.93744e+07\n",
            "[49]\tvalid_0's l2: 8.93163e+07\n",
            "[50]\tvalid_0's l2: 8.92646e+07\n",
            "[51]\tvalid_0's l2: 8.92111e+07\n",
            "[52]\tvalid_0's l2: 8.91802e+07\n",
            "[53]\tvalid_0's l2: 8.9101e+07\n",
            "[54]\tvalid_0's l2: 8.9061e+07\n",
            "[55]\tvalid_0's l2: 8.90208e+07\n",
            "[56]\tvalid_0's l2: 8.89986e+07\n",
            "[57]\tvalid_0's l2: 8.89672e+07\n",
            "[58]\tvalid_0's l2: 8.89239e+07\n",
            "[59]\tvalid_0's l2: 8.88593e+07\n",
            "[60]\tvalid_0's l2: 8.88319e+07\n",
            "[61]\tvalid_0's l2: 8.8825e+07\n",
            "[62]\tvalid_0's l2: 8.88702e+07\n",
            "[63]\tvalid_0's l2: 8.88724e+07\n",
            "[64]\tvalid_0's l2: 8.8822e+07\n",
            "[65]\tvalid_0's l2: 8.87615e+07\n",
            "[66]\tvalid_0's l2: 8.8759e+07\n",
            "[67]\tvalid_0's l2: 8.87104e+07\n",
            "[68]\tvalid_0's l2: 8.8689e+07\n",
            "[69]\tvalid_0's l2: 8.86688e+07\n",
            "[70]\tvalid_0's l2: 8.86854e+07\n"
          ]
        }
      ]
    },
    {
      "cell_type": "code",
      "metadata": {
        "colab": {
          "base_uri": "https://localhost:8080/"
        },
        "id": "ouZ9FoBDneEX",
        "outputId": "9d4f6eae-4000-4ded-bab0-ed5bd5017566"
      },
      "source": [
        "metric(y_test,y_test_predict_lgbm)"
      ],
      "execution_count": 34,
      "outputs": [
        {
          "output_type": "execute_result",
          "data": {
            "text/plain": [
              "76.7848686684721"
            ]
          },
          "metadata": {},
          "execution_count": 34
        }
      ]
    },
    {
      "cell_type": "markdown",
      "metadata": {
        "id": "NKtffRbcoDEy"
      },
      "source": [
        "Как видно, убрав признаки год и месяц, потеряли точность модели. Попробуем преобразовать эти два признака в один - количество месяцев с момента начала данных"
      ]
    },
    {
      "cell_type": "code",
      "metadata": {
        "id": "zjt3U0s6nVRA"
      },
      "source": [
        "data['DAY'] = 1\n",
        "data['date'] = pd.to_datetime(data[['YEAR', 'MONTH', 'DAY']])\n",
        "data['date_delta'] = round((data['date'] - data['date'].min())/np.timedelta64(1,'M'))"
      ],
      "execution_count": 35,
      "outputs": []
    },
    {
      "cell_type": "code",
      "metadata": {
        "id": "3EiP8tPAnVT8"
      },
      "source": [
        "test_df = data.query(\"YEAR == 2018 & MONTH == 2\")\n",
        "train_df = data.drop(test_df.index)"
      ],
      "execution_count": 36,
      "outputs": []
    },
    {
      "cell_type": "code",
      "metadata": {
        "id": "z0fLCJQ9pIaK"
      },
      "source": [
        "X_train = train_df.drop(['YEAR', 'MONTH', 'ARTICLE_CODE', 'ARTICLE_NAME','SALES', 'DAY', 'date'], axis=1)\n",
        "y_train = train_df['SALES']\n",
        "X_test = test_df.drop(['YEAR', 'MONTH', 'ARTICLE_CODE', 'ARTICLE_NAME', 'SALES', 'DAY', 'date'], axis=1)\n",
        "y_test = test_df['SALES']"
      ],
      "execution_count": 37,
      "outputs": []
    },
    {
      "cell_type": "code",
      "metadata": {
        "colab": {
          "base_uri": "https://localhost:8080/",
          "height": 204
        },
        "id": "VdWBJHBnpTFI",
        "outputId": "02ece5a9-8456-4758-9ce5-b2359a6d512b"
      },
      "source": [
        "X_train.head()"
      ],
      "execution_count": 38,
      "outputs": [
        {
          "output_type": "execute_result",
          "data": {
            "text/html": [
              "<div>\n",
              "<style scoped>\n",
              "    .dataframe tbody tr th:only-of-type {\n",
              "        vertical-align: middle;\n",
              "    }\n",
              "\n",
              "    .dataframe tbody tr th {\n",
              "        vertical-align: top;\n",
              "    }\n",
              "\n",
              "    .dataframe thead th {\n",
              "        text-align: right;\n",
              "    }\n",
              "</style>\n",
              "<table border=\"1\" class=\"dataframe\">\n",
              "  <thead>\n",
              "    <tr style=\"text-align: right;\">\n",
              "      <th></th>\n",
              "      <th>CONTRAGENT</th>\n",
              "      <th>ARTICLE_GROUP</th>\n",
              "      <th>STORE_SALES</th>\n",
              "      <th>date_delta</th>\n",
              "    </tr>\n",
              "  </thead>\n",
              "  <tbody>\n",
              "    <tr>\n",
              "      <th>0</th>\n",
              "      <td>ROYAL WINE CORP</td>\n",
              "      <td>WINE</td>\n",
              "      <td>0.0</td>\n",
              "      <td>0.0</td>\n",
              "    </tr>\n",
              "    <tr>\n",
              "      <th>1</th>\n",
              "      <td>SANTA MARGHERITA USA INC</td>\n",
              "      <td>WINE</td>\n",
              "      <td>0.0</td>\n",
              "      <td>0.0</td>\n",
              "    </tr>\n",
              "    <tr>\n",
              "      <th>2</th>\n",
              "      <td>JIM BEAM BRANDS CO</td>\n",
              "      <td>LIQUOR</td>\n",
              "      <td>0.0</td>\n",
              "      <td>0.0</td>\n",
              "    </tr>\n",
              "    <tr>\n",
              "      <th>3</th>\n",
              "      <td>HEAVEN HILL DISTILLERIES INC</td>\n",
              "      <td>LIQUOR</td>\n",
              "      <td>0.0</td>\n",
              "      <td>0.0</td>\n",
              "    </tr>\n",
              "    <tr>\n",
              "      <th>4</th>\n",
              "      <td>ROYAL WINE CORP</td>\n",
              "      <td>WINE</td>\n",
              "      <td>0.0</td>\n",
              "      <td>0.0</td>\n",
              "    </tr>\n",
              "  </tbody>\n",
              "</table>\n",
              "</div>"
            ],
            "text/plain": [
              "                     CONTRAGENT ARTICLE_GROUP  STORE_SALES  date_delta\n",
              "0               ROYAL WINE CORP          WINE          0.0         0.0\n",
              "1      SANTA MARGHERITA USA INC          WINE          0.0         0.0\n",
              "2            JIM BEAM BRANDS CO        LIQUOR          0.0         0.0\n",
              "3  HEAVEN HILL DISTILLERIES INC        LIQUOR          0.0         0.0\n",
              "4               ROYAL WINE CORP          WINE          0.0         0.0"
            ]
          },
          "metadata": {},
          "execution_count": 38
        }
      ]
    },
    {
      "cell_type": "code",
      "metadata": {
        "colab": {
          "base_uri": "https://localhost:8080/"
        },
        "id": "IzQDYvYkpIaT",
        "outputId": "05248670-8b1b-4b7a-8f73-df7d4441f142"
      },
      "source": [
        "lg = lgb.LGBMRegressor(silent=False)\n",
        "parametrs = {\"n_estimators\": range(10,200,10)}\n",
        "grid_search_cv = GridSearchCV(lg, n_jobs=-1, param_grid=parametrs, cv=10)\n",
        "grid_search_cv.fit(X_train,y_train)\n",
        "best_n_estimators = grid_search_cv.best_estimator_.n_estimators\n",
        "print(best_n_estimators)"
      ],
      "execution_count": 39,
      "outputs": [
        {
          "output_type": "stream",
          "name": "stdout",
          "text": [
            "90\n"
          ]
        }
      ]
    },
    {
      "cell_type": "code",
      "metadata": {
        "colab": {
          "base_uri": "https://localhost:8080/"
        },
        "id": "B61yNnYjpIaT",
        "outputId": "b83e77d2-7623-4416-b68b-3f644814010d"
      },
      "source": [
        "train_data = lgb.Dataset(X_train, label=y_train)\n",
        "validation_data = lgb.Dataset(X_test, label=y_test, reference=train_data)\n",
        "param = {'num_leaves':31, 'objective':'regression', 'learning_rate':0.06}\n",
        "num_round = best_n_estimators\n",
        "cate_features_name = ['CONTRAGENT','ARTICLE_GROUP']\n",
        "bst = lgb.train(param, train_data, num_round, valid_sets=[validation_data], categorical_feature = cate_features_name)\n",
        "y_test_predict_lgbm = bst.predict(X_test)"
      ],
      "execution_count": 40,
      "outputs": [
        {
          "output_type": "stream",
          "name": "stdout",
          "text": [
            "[1]\tvalid_0's l2: 1.67255e+08\n",
            "[2]\tvalid_0's l2: 1.58646e+08\n",
            "[3]\tvalid_0's l2: 1.5113e+08\n",
            "[4]\tvalid_0's l2: 1.44316e+08\n",
            "[5]\tvalid_0's l2: 1.38331e+08\n",
            "[6]\tvalid_0's l2: 1.32951e+08\n",
            "[7]\tvalid_0's l2: 1.28279e+08\n",
            "[8]\tvalid_0's l2: 1.24034e+08\n",
            "[9]\tvalid_0's l2: 1.20265e+08\n",
            "[10]\tvalid_0's l2: 1.16907e+08\n",
            "[11]\tvalid_0's l2: 1.13957e+08\n",
            "[12]\tvalid_0's l2: 1.11268e+08\n",
            "[13]\tvalid_0's l2: 1.08879e+08\n",
            "[14]\tvalid_0's l2: 1.06854e+08\n",
            "[15]\tvalid_0's l2: 1.05062e+08\n",
            "[16]\tvalid_0's l2: 1.03464e+08\n",
            "[17]\tvalid_0's l2: 1.01953e+08\n",
            "[18]\tvalid_0's l2: 1.00599e+08\n"
          ]
        },
        {
          "output_type": "stream",
          "name": "stderr",
          "text": [
            "/usr/local/lib/python3.7/dist-packages/lightgbm/basic.py:1209: UserWarning: categorical_feature in Dataset is overridden.\n",
            "New categorical_feature is ['ARTICLE_GROUP', 'CONTRAGENT']\n",
            "  'New categorical_feature is {}'.format(sorted(list(categorical_feature))))\n",
            "/usr/local/lib/python3.7/dist-packages/lightgbm/basic.py:762: UserWarning: categorical_feature in param dict is overridden.\n",
            "  warnings.warn('categorical_feature in param dict is overridden.')\n"
          ]
        },
        {
          "output_type": "stream",
          "name": "stdout",
          "text": [
            "[19]\tvalid_0's l2: 9.9633e+07\n",
            "[20]\tvalid_0's l2: 9.85786e+07\n",
            "[21]\tvalid_0's l2: 9.77669e+07\n",
            "[22]\tvalid_0's l2: 9.70166e+07\n",
            "[23]\tvalid_0's l2: 9.62614e+07\n",
            "[24]\tvalid_0's l2: 9.55968e+07\n",
            "[25]\tvalid_0's l2: 9.49692e+07\n",
            "[26]\tvalid_0's l2: 9.44296e+07\n",
            "[27]\tvalid_0's l2: 9.39327e+07\n",
            "[28]\tvalid_0's l2: 9.35215e+07\n",
            "[29]\tvalid_0's l2: 9.31736e+07\n",
            "[30]\tvalid_0's l2: 9.28234e+07\n",
            "[31]\tvalid_0's l2: 9.24684e+07\n",
            "[32]\tvalid_0's l2: 9.21798e+07\n",
            "[33]\tvalid_0's l2: 9.18602e+07\n",
            "[34]\tvalid_0's l2: 9.1619e+07\n",
            "[35]\tvalid_0's l2: 9.14168e+07\n",
            "[36]\tvalid_0's l2: 9.12016e+07\n",
            "[37]\tvalid_0's l2: 9.09778e+07\n",
            "[38]\tvalid_0's l2: 9.08738e+07\n",
            "[39]\tvalid_0's l2: 9.06752e+07\n",
            "[40]\tvalid_0's l2: 9.05924e+07\n",
            "[41]\tvalid_0's l2: 9.0463e+07\n",
            "[42]\tvalid_0's l2: 9.03621e+07\n",
            "[43]\tvalid_0's l2: 9.02478e+07\n",
            "[44]\tvalid_0's l2: 9.01712e+07\n",
            "[45]\tvalid_0's l2: 9.01239e+07\n",
            "[46]\tvalid_0's l2: 9.00156e+07\n",
            "[47]\tvalid_0's l2: 8.99489e+07\n",
            "[48]\tvalid_0's l2: 8.98435e+07\n",
            "[49]\tvalid_0's l2: 8.97321e+07\n",
            "[50]\tvalid_0's l2: 8.96175e+07\n",
            "[51]\tvalid_0's l2: 8.94977e+07\n",
            "[52]\tvalid_0's l2: 8.94037e+07\n",
            "[53]\tvalid_0's l2: 8.93145e+07\n",
            "[54]\tvalid_0's l2: 8.92371e+07\n",
            "[55]\tvalid_0's l2: 8.91963e+07\n",
            "[56]\tvalid_0's l2: 8.91313e+07\n",
            "[57]\tvalid_0's l2: 8.91186e+07\n",
            "[58]\tvalid_0's l2: 8.90308e+07\n",
            "[59]\tvalid_0's l2: 8.89975e+07\n",
            "[60]\tvalid_0's l2: 8.88891e+07\n",
            "[61]\tvalid_0's l2: 8.88735e+07\n",
            "[62]\tvalid_0's l2: 8.88356e+07\n",
            "[63]\tvalid_0's l2: 8.88009e+07\n",
            "[64]\tvalid_0's l2: 8.87924e+07\n",
            "[65]\tvalid_0's l2: 8.87364e+07\n",
            "[66]\tvalid_0's l2: 8.87031e+07\n",
            "[67]\tvalid_0's l2: 8.86299e+07\n",
            "[68]\tvalid_0's l2: 8.86306e+07\n",
            "[69]\tvalid_0's l2: 8.86029e+07\n",
            "[70]\tvalid_0's l2: 8.86177e+07\n",
            "[71]\tvalid_0's l2: 8.85749e+07\n",
            "[72]\tvalid_0's l2: 8.85207e+07\n",
            "[73]\tvalid_0's l2: 8.84775e+07\n",
            "[74]\tvalid_0's l2: 8.84511e+07\n",
            "[75]\tvalid_0's l2: 8.84445e+07\n",
            "[76]\tvalid_0's l2: 8.84356e+07\n",
            "[77]\tvalid_0's l2: 8.83885e+07\n",
            "[78]\tvalid_0's l2: 8.83098e+07\n",
            "[79]\tvalid_0's l2: 8.82865e+07\n",
            "[80]\tvalid_0's l2: 8.82906e+07\n",
            "[81]\tvalid_0's l2: 8.82574e+07\n",
            "[82]\tvalid_0's l2: 8.8262e+07\n",
            "[83]\tvalid_0's l2: 8.82355e+07\n",
            "[84]\tvalid_0's l2: 8.82339e+07\n",
            "[85]\tvalid_0's l2: 8.82111e+07\n",
            "[86]\tvalid_0's l2: 8.82238e+07\n",
            "[87]\tvalid_0's l2: 8.81797e+07\n",
            "[88]\tvalid_0's l2: 8.81242e+07\n",
            "[89]\tvalid_0's l2: 8.81106e+07\n",
            "[90]\tvalid_0's l2: 8.81188e+07\n"
          ]
        }
      ]
    },
    {
      "cell_type": "code",
      "metadata": {
        "colab": {
          "base_uri": "https://localhost:8080/"
        },
        "id": "1GcsDAH8pIaT",
        "outputId": "9605e620-585e-4f6e-e3f7-467b95274ec7"
      },
      "source": [
        "metric(y_test,y_test_predict_lgbm)"
      ],
      "execution_count": 41,
      "outputs": [
        {
          "output_type": "execute_result",
          "data": {
            "text/plain": [
              "79.19065570431985"
            ]
          },
          "metadata": {},
          "execution_count": 41
        }
      ]
    },
    {
      "cell_type": "code",
      "metadata": {
        "colab": {
          "base_uri": "https://localhost:8080/",
          "height": 265
        },
        "id": "5hj3YH8PpIaT",
        "outputId": "683178f9-cbfe-464c-f83a-76a286674c17"
      },
      "source": [
        "importances = pd.Series(bst.feature_importance(), index=X_test.columns).sort_values(ascending=False)\n",
        "sns.barplot(y=importances.index, x=importances)\n",
        "pass"
      ],
      "execution_count": 42,
      "outputs": [
        {
          "output_type": "display_data",
          "data": {
            "image/png": "[encoded data removed]",
            "text/plain": [
              "<Figure size 432x288 with 1 Axes>"
            ]
          },
          "metadata": {
            "needs_background": "light"
          }
        }
      ]
    },
    {
      "cell_type": "markdown",
      "metadata": {
        "id": "UMg7FjyQIkqk"
      },
      "source": [
        "Значение метрики стало таким же, что и у модели с годом и месяцем. Но значимость признака date_delta возросла по сравнению с значимостью признаков YEAR и MONTH"
      ]
    },
    {
      "cell_type": "markdown",
      "metadata": {
        "id": "BbDxSOKEqTB7"
      },
      "source": [
        "Воспользуемся one-hot-encoding для признака ARTICLE_GROUP"
      ]
    },
    {
      "cell_type": "code",
      "metadata": {
        "id": "NcELliDlnVZv"
      },
      "source": [
        "data = pd.get_dummies(data, prefix='ART_GROUP', columns=['ARTICLE_GROUP'])"
      ],
      "execution_count": 43,
      "outputs": []
    },
    {
      "cell_type": "code",
      "metadata": {
        "id": "DGeaCxfxqoGm"
      },
      "source": [
        "test_df = data.query(\"YEAR == 2018 & MONTH == 2\")\n",
        "train_df = data.drop(test_df.index)"
      ],
      "execution_count": 44,
      "outputs": []
    },
    {
      "cell_type": "code",
      "metadata": {
        "id": "zHi9oNprqoGn"
      },
      "source": [
        "X_train = train_df.drop(['YEAR', 'MONTH', 'ARTICLE_CODE', 'ARTICLE_NAME','SALES', 'DAY', 'date'], axis=1)\n",
        "y_train = train_df['SALES']\n",
        "X_test = test_df.drop(['YEAR', 'MONTH', 'ARTICLE_CODE', 'ARTICLE_NAME', 'SALES', 'DAY', 'date'], axis=1)\n",
        "y_test = test_df['SALES']"
      ],
      "execution_count": 45,
      "outputs": []
    },
    {
      "cell_type": "code",
      "metadata": {
        "colab": {
          "base_uri": "https://localhost:8080/",
          "height": 360
        },
        "id": "YNf8D12gqoGn",
        "outputId": "b1068015-ded1-466d-aa5c-f48c0db08f3c"
      },
      "source": [
        "X_train.head()"
      ],
      "execution_count": 46,
      "outputs": [
        {
          "output_type": "execute_result",
          "data": {
            "text/html": [
              "<div>\n",
              "<style scoped>\n",
              "    .dataframe tbody tr th:only-of-type {\n",
              "        vertical-align: middle;\n",
              "    }\n",
              "\n",
              "    .dataframe tbody tr th {\n",
              "        vertical-align: top;\n",
              "    }\n",
              "\n",
              "    .dataframe thead th {\n",
              "        text-align: right;\n",
              "    }\n",
              "</style>\n",
              "<table border=\"1\" class=\"dataframe\">\n",
              "  <thead>\n",
              "    <tr style=\"text-align: right;\">\n",
              "      <th></th>\n",
              "      <th>CONTRAGENT</th>\n",
              "      <th>STORE_SALES</th>\n",
              "      <th>date_delta</th>\n",
              "      <th>ART_GROUP_BEER</th>\n",
              "      <th>ART_GROUP_KEGS</th>\n",
              "      <th>ART_GROUP_LIQUOR</th>\n",
              "      <th>ART_GROUP_NON-ALCOHOL</th>\n",
              "      <th>ART_GROUP_REF</th>\n",
              "      <th>ART_GROUP_STR_SUPPLIES</th>\n",
              "      <th>ART_GROUP_WINE</th>\n",
              "    </tr>\n",
              "  </thead>\n",
              "  <tbody>\n",
              "    <tr>\n",
              "      <th>0</th>\n",
              "      <td>ROYAL WINE CORP</td>\n",
              "      <td>0.0</td>\n",
              "      <td>0.0</td>\n",
              "      <td>0</td>\n",
              "      <td>0</td>\n",
              "      <td>0</td>\n",
              "      <td>0</td>\n",
              "      <td>0</td>\n",
              "      <td>0</td>\n",
              "      <td>1</td>\n",
              "    </tr>\n",
              "    <tr>\n",
              "      <th>1</th>\n",
              "      <td>SANTA MARGHERITA USA INC</td>\n",
              "      <td>0.0</td>\n",
              "      <td>0.0</td>\n",
              "      <td>0</td>\n",
              "      <td>0</td>\n",
              "      <td>0</td>\n",
              "      <td>0</td>\n",
              "      <td>0</td>\n",
              "      <td>0</td>\n",
              "      <td>1</td>\n",
              "    </tr>\n",
              "    <tr>\n",
              "      <th>2</th>\n",
              "      <td>JIM BEAM BRANDS CO</td>\n",
              "      <td>0.0</td>\n",
              "      <td>0.0</td>\n",
              "      <td>0</td>\n",
              "      <td>0</td>\n",
              "      <td>1</td>\n",
              "      <td>0</td>\n",
              "      <td>0</td>\n",
              "      <td>0</td>\n",
              "      <td>0</td>\n",
              "    </tr>\n",
              "    <tr>\n",
              "      <th>3</th>\n",
              "      <td>HEAVEN HILL DISTILLERIES INC</td>\n",
              "      <td>0.0</td>\n",
              "      <td>0.0</td>\n",
              "      <td>0</td>\n",
              "      <td>0</td>\n",
              "      <td>1</td>\n",
              "      <td>0</td>\n",
              "      <td>0</td>\n",
              "      <td>0</td>\n",
              "      <td>0</td>\n",
              "    </tr>\n",
              "    <tr>\n",
              "      <th>4</th>\n",
              "      <td>ROYAL WINE CORP</td>\n",
              "      <td>0.0</td>\n",
              "      <td>0.0</td>\n",
              "      <td>0</td>\n",
              "      <td>0</td>\n",
              "      <td>0</td>\n",
              "      <td>0</td>\n",
              "      <td>0</td>\n",
              "      <td>0</td>\n",
              "      <td>1</td>\n",
              "    </tr>\n",
              "  </tbody>\n",
              "</table>\n",
              "</div>"
            ],
            "text/plain": [
              "                     CONTRAGENT  ...  ART_GROUP_WINE\n",
              "0               ROYAL WINE CORP  ...               1\n",
              "1      SANTA MARGHERITA USA INC  ...               1\n",
              "2            JIM BEAM BRANDS CO  ...               0\n",
              "3  HEAVEN HILL DISTILLERIES INC  ...               0\n",
              "4               ROYAL WINE CORP  ...               1\n",
              "\n",
              "[5 rows x 10 columns]"
            ]
          },
          "metadata": {},
          "execution_count": 46
        }
      ]
    },
    {
      "cell_type": "code",
      "metadata": {
        "colab": {
          "base_uri": "https://localhost:8080/"
        },
        "id": "xuTDa6CrqoGn",
        "outputId": "b884b7dd-a9d1-4a11-ecab-f0a51c992951"
      },
      "source": [
        "lg = lgb.LGBMRegressor(silent=False)\n",
        "parametrs = {\"n_estimators\": range(10,200,10)}\n",
        "grid_search_cv = GridSearchCV(lg, n_jobs=-1, param_grid=parametrs, cv=10)\n",
        "grid_search_cv.fit(X_train,y_train)\n",
        "best_n_estimators = grid_search_cv.best_estimator_.n_estimators\n",
        "print(best_n_estimators)"
      ],
      "execution_count": 48,
      "outputs": [
        {
          "output_type": "stream",
          "name": "stdout",
          "text": [
            "90\n"
          ]
        }
      ]
    },
    {
      "cell_type": "code",
      "metadata": {
        "colab": {
          "base_uri": "https://localhost:8080/"
        },
        "id": "Mde5BHY3qoGo",
        "outputId": "2c5abfb1-3cf3-4ba7-e3d2-e4ae6e21e48d"
      },
      "source": [
        "train_data = lgb.Dataset(X_train, label=y_train)\n",
        "validation_data = lgb.Dataset(X_test, label=y_test, reference=train_data)\n",
        "param = {'num_leaves':31, 'objective':'regression', 'learning_rate':0.06}\n",
        "num_round = best_n_estimators\n",
        "cate_features_name = ['CONTRAGENT']\n",
        "bst = lgb.train(param, train_data, num_round, valid_sets=[validation_data], categorical_feature = cate_features_name)\n",
        "y_test_predict_lgbm = bst.predict(X_test)"
      ],
      "execution_count": 49,
      "outputs": [
        {
          "output_type": "stream",
          "name": "stderr",
          "text": [
            "/usr/local/lib/python3.7/dist-packages/lightgbm/basic.py:1209: UserWarning: categorical_feature in Dataset is overridden.\n",
            "New categorical_feature is ['CONTRAGENT']\n",
            "  'New categorical_feature is {}'.format(sorted(list(categorical_feature))))\n",
            "/usr/local/lib/python3.7/dist-packages/lightgbm/basic.py:762: UserWarning: categorical_feature in param dict is overridden.\n",
            "  warnings.warn('categorical_feature in param dict is overridden.')\n"
          ]
        },
        {
          "output_type": "stream",
          "name": "stdout",
          "text": [
            "[1]\tvalid_0's l2: 1.67267e+08\n",
            "[2]\tvalid_0's l2: 1.58658e+08\n",
            "[3]\tvalid_0's l2: 1.51084e+08\n",
            "[4]\tvalid_0's l2: 1.44208e+08\n",
            "[5]\tvalid_0's l2: 1.38167e+08\n",
            "[6]\tvalid_0's l2: 1.32879e+08\n",
            "[7]\tvalid_0's l2: 1.28026e+08\n",
            "[8]\tvalid_0's l2: 1.23766e+08\n",
            "[9]\tvalid_0's l2: 1.20034e+08\n",
            "[10]\tvalid_0's l2: 1.16686e+08\n",
            "[11]\tvalid_0's l2: 1.13773e+08\n",
            "[12]\tvalid_0's l2: 1.11148e+08\n",
            "[13]\tvalid_0's l2: 1.08768e+08\n",
            "[14]\tvalid_0's l2: 1.06587e+08\n",
            "[15]\tvalid_0's l2: 1.04711e+08\n",
            "[16]\tvalid_0's l2: 1.03046e+08\n",
            "[17]\tvalid_0's l2: 1.01562e+08\n",
            "[18]\tvalid_0's l2: 1.0031e+08\n",
            "[19]\tvalid_0's l2: 9.91308e+07\n",
            "[20]\tvalid_0's l2: 9.80926e+07\n",
            "[21]\tvalid_0's l2: 9.72543e+07\n",
            "[22]\tvalid_0's l2: 9.65214e+07\n",
            "[23]\tvalid_0's l2: 9.57905e+07\n",
            "[24]\tvalid_0's l2: 9.51242e+07\n",
            "[25]\tvalid_0's l2: 9.45637e+07\n",
            "[26]\tvalid_0's l2: 9.39954e+07\n",
            "[27]\tvalid_0's l2: 9.3539e+07\n",
            "[28]\tvalid_0's l2: 9.30771e+07\n",
            "[29]\tvalid_0's l2: 9.27098e+07\n",
            "[30]\tvalid_0's l2: 9.24251e+07\n",
            "[31]\tvalid_0's l2: 9.20909e+07\n",
            "[32]\tvalid_0's l2: 9.17364e+07\n",
            "[33]\tvalid_0's l2: 9.15653e+07\n",
            "[34]\tvalid_0's l2: 9.13693e+07\n",
            "[35]\tvalid_0's l2: 9.11664e+07\n",
            "[36]\tvalid_0's l2: 9.10019e+07\n",
            "[37]\tvalid_0's l2: 9.08326e+07\n",
            "[38]\tvalid_0's l2: 9.0701e+07\n",
            "[39]\tvalid_0's l2: 9.06151e+07\n",
            "[40]\tvalid_0's l2: 9.04559e+07\n",
            "[41]\tvalid_0's l2: 9.0311e+07\n",
            "[42]\tvalid_0's l2: 9.02221e+07\n",
            "[43]\tvalid_0's l2: 9.01533e+07\n",
            "[44]\tvalid_0's l2: 9.01053e+07\n",
            "[45]\tvalid_0's l2: 9.00054e+07\n",
            "[46]\tvalid_0's l2: 8.99312e+07\n",
            "[47]\tvalid_0's l2: 8.98392e+07\n",
            "[48]\tvalid_0's l2: 8.98202e+07\n",
            "[49]\tvalid_0's l2: 8.97332e+07\n",
            "[50]\tvalid_0's l2: 8.96913e+07\n",
            "[51]\tvalid_0's l2: 8.96343e+07\n",
            "[52]\tvalid_0's l2: 8.9583e+07\n",
            "[53]\tvalid_0's l2: 8.95371e+07\n",
            "[54]\tvalid_0's l2: 8.94713e+07\n",
            "[55]\tvalid_0's l2: 8.94642e+07\n",
            "[56]\tvalid_0's l2: 8.9405e+07\n",
            "[57]\tvalid_0's l2: 8.93727e+07\n",
            "[58]\tvalid_0's l2: 8.93112e+07\n",
            "[59]\tvalid_0's l2: 8.92879e+07\n",
            "[60]\tvalid_0's l2: 8.92573e+07\n",
            "[61]\tvalid_0's l2: 8.91817e+07\n",
            "[62]\tvalid_0's l2: 8.9092e+07\n",
            "[63]\tvalid_0's l2: 8.90542e+07\n",
            "[64]\tvalid_0's l2: 8.89782e+07\n",
            "[65]\tvalid_0's l2: 8.89254e+07\n",
            "[66]\tvalid_0's l2: 8.88936e+07\n",
            "[67]\tvalid_0's l2: 8.88136e+07\n",
            "[68]\tvalid_0's l2: 8.88045e+07\n",
            "[69]\tvalid_0's l2: 8.87744e+07\n",
            "[70]\tvalid_0's l2: 8.87402e+07\n",
            "[71]\tvalid_0's l2: 8.87189e+07\n",
            "[72]\tvalid_0's l2: 8.86627e+07\n",
            "[73]\tvalid_0's l2: 8.86525e+07\n",
            "[74]\tvalid_0's l2: 8.8626e+07\n",
            "[75]\tvalid_0's l2: 8.86216e+07\n",
            "[76]\tvalid_0's l2: 8.85984e+07\n",
            "[77]\tvalid_0's l2: 8.85752e+07\n",
            "[78]\tvalid_0's l2: 8.85492e+07\n",
            "[79]\tvalid_0's l2: 8.85389e+07\n",
            "[80]\tvalid_0's l2: 8.85238e+07\n",
            "[81]\tvalid_0's l2: 8.8485e+07\n",
            "[82]\tvalid_0's l2: 8.84911e+07\n",
            "[83]\tvalid_0's l2: 8.84673e+07\n",
            "[84]\tvalid_0's l2: 8.84535e+07\n",
            "[85]\tvalid_0's l2: 8.84422e+07\n",
            "[86]\tvalid_0's l2: 8.84242e+07\n",
            "[87]\tvalid_0's l2: 8.83883e+07\n",
            "[88]\tvalid_0's l2: 8.83809e+07\n",
            "[89]\tvalid_0's l2: 8.83807e+07\n",
            "[90]\tvalid_0's l2: 8.83299e+07\n"
          ]
        }
      ]
    },
    {
      "cell_type": "code",
      "metadata": {
        "colab": {
          "base_uri": "https://localhost:8080/"
        },
        "id": "KUB_0_LiqoGo",
        "outputId": "3f7bb111-0b06-448b-bc1e-4a31936e8c9b"
      },
      "source": [
        "metric(y_test,y_test_predict_lgbm)"
      ],
      "execution_count": 50,
      "outputs": [
        {
          "output_type": "execute_result",
          "data": {
            "text/plain": [
              "79.39241810850423"
            ]
          },
          "metadata": {},
          "execution_count": 50
        }
      ]
    },
    {
      "cell_type": "markdown",
      "metadata": {
        "id": "Nw4_IvX-rUWv"
      },
      "source": [
        "Признак 'CONTRAGENT' имеет 333 уникальных значения. Для его кодировки будем использовать среднее (целевое) кодирование. "
      ]
    },
    {
      "cell_type": "code",
      "metadata": {
        "colab": {
          "base_uri": "https://localhost:8080/"
        },
        "id": "Dt2RtwtLCAB-",
        "outputId": "8db876a1-a35a-40f8-c282-f71845a38cd7"
      },
      "source": [
        "mean_encode = data.groupby('CONTRAGENT')['SALES'].mean()\n",
        "mean_encode"
      ],
      "execution_count": 52,
      "outputs": [
        {
          "output_type": "execute_result",
          "data": {
            "text/plain": [
              "CONTRAGENT\n",
              "8 VINI INC                      308.888889\n",
              "A HARDY USA LTD                 133.333333\n",
              "A I G WINE & SPIRITS            313.000000\n",
              "A VINTNERS SELECTIONS           993.969641\n",
              "A&E INC                         303.157895\n",
              "                                  ...     \n",
              "WINEBOW INC                     177.142857\n",
              "YOUNG WON TRADING INC          1373.631647\n",
              "YUENGLING BREWERY             14960.393701\n",
              "Z WINE GALLERY IMPORTS LLC      294.333333\n",
              "ZURENA LLC                     1794.444444\n",
              "Name: SALES, Length: 333, dtype: float64"
            ]
          },
          "metadata": {},
          "execution_count": 52
        }
      ]
    },
    {
      "cell_type": "code",
      "metadata": {
        "id": "oBBIvETlrcj3"
      },
      "source": [
        "data.loc[:,'CONTRAGENT_mean_enc'] = data['CONTRAGENT'].map(mean_encode)"
      ],
      "execution_count": 53,
      "outputs": []
    },
    {
      "cell_type": "code",
      "metadata": {
        "id": "5DKiuYv-rkA9"
      },
      "source": [
        "test_df = data.query(\"YEAR == 2018 & MONTH == 2\")\n",
        "train_df = data.drop(test_df.index)"
      ],
      "execution_count": 54,
      "outputs": []
    },
    {
      "cell_type": "code",
      "metadata": {
        "id": "oyKvm5VPrkA9"
      },
      "source": [
        "X_train = train_df.drop(['CONTRAGENT', 'YEAR', 'MONTH', 'ARTICLE_CODE', 'ARTICLE_NAME','SALES', 'DAY', 'date'], axis=1)\n",
        "y_train = train_df['SALES']\n",
        "X_test = test_df.drop(['CONTRAGENT', 'YEAR', 'MONTH', 'ARTICLE_CODE', 'ARTICLE_NAME', 'SALES', 'DAY', 'date'], axis=1)\n",
        "y_test = test_df['SALES']"
      ],
      "execution_count": 55,
      "outputs": []
    },
    {
      "cell_type": "code",
      "metadata": {
        "colab": {
          "base_uri": "https://localhost:8080/",
          "height": 241
        },
        "id": "UYkyGvaPrkA-",
        "outputId": "5cd81817-99ce-43fe-92fe-73b21d237d8b"
      },
      "source": [
        "X_train.head()"
      ],
      "execution_count": 56,
      "outputs": [
        {
          "output_type": "execute_result",
          "data": {
            "text/html": [
              "<div>\n",
              "<style scoped>\n",
              "    .dataframe tbody tr th:only-of-type {\n",
              "        vertical-align: middle;\n",
              "    }\n",
              "\n",
              "    .dataframe tbody tr th {\n",
              "        vertical-align: top;\n",
              "    }\n",
              "\n",
              "    .dataframe thead th {\n",
              "        text-align: right;\n",
              "    }\n",
              "</style>\n",
              "<table border=\"1\" class=\"dataframe\">\n",
              "  <thead>\n",
              "    <tr style=\"text-align: right;\">\n",
              "      <th></th>\n",
              "      <th>STORE_SALES</th>\n",
              "      <th>date_delta</th>\n",
              "      <th>ART_GROUP_BEER</th>\n",
              "      <th>ART_GROUP_KEGS</th>\n",
              "      <th>ART_GROUP_LIQUOR</th>\n",
              "      <th>ART_GROUP_NON-ALCOHOL</th>\n",
              "      <th>ART_GROUP_REF</th>\n",
              "      <th>ART_GROUP_STR_SUPPLIES</th>\n",
              "      <th>ART_GROUP_WINE</th>\n",
              "      <th>CONTRAGENT_mean_enc</th>\n",
              "    </tr>\n",
              "  </thead>\n",
              "  <tbody>\n",
              "    <tr>\n",
              "      <th>0</th>\n",
              "      <td>0.0</td>\n",
              "      <td>0.0</td>\n",
              "      <td>0</td>\n",
              "      <td>0</td>\n",
              "      <td>0</td>\n",
              "      <td>0</td>\n",
              "      <td>0</td>\n",
              "      <td>0</td>\n",
              "      <td>1</td>\n",
              "      <td>1093.051870</td>\n",
              "    </tr>\n",
              "    <tr>\n",
              "      <th>1</th>\n",
              "      <td>0.0</td>\n",
              "      <td>0.0</td>\n",
              "      <td>0</td>\n",
              "      <td>0</td>\n",
              "      <td>0</td>\n",
              "      <td>0</td>\n",
              "      <td>0</td>\n",
              "      <td>0</td>\n",
              "      <td>1</td>\n",
              "      <td>9194.404762</td>\n",
              "    </tr>\n",
              "    <tr>\n",
              "      <th>2</th>\n",
              "      <td>0.0</td>\n",
              "      <td>0.0</td>\n",
              "      <td>0</td>\n",
              "      <td>0</td>\n",
              "      <td>1</td>\n",
              "      <td>0</td>\n",
              "      <td>0</td>\n",
              "      <td>0</td>\n",
              "      <td>0</td>\n",
              "      <td>10471.081481</td>\n",
              "    </tr>\n",
              "    <tr>\n",
              "      <th>3</th>\n",
              "      <td>0.0</td>\n",
              "      <td>0.0</td>\n",
              "      <td>0</td>\n",
              "      <td>0</td>\n",
              "      <td>1</td>\n",
              "      <td>0</td>\n",
              "      <td>0</td>\n",
              "      <td>0</td>\n",
              "      <td>0</td>\n",
              "      <td>13560.937774</td>\n",
              "    </tr>\n",
              "    <tr>\n",
              "      <th>4</th>\n",
              "      <td>0.0</td>\n",
              "      <td>0.0</td>\n",
              "      <td>0</td>\n",
              "      <td>0</td>\n",
              "      <td>0</td>\n",
              "      <td>0</td>\n",
              "      <td>0</td>\n",
              "      <td>0</td>\n",
              "      <td>1</td>\n",
              "      <td>1093.051870</td>\n",
              "    </tr>\n",
              "  </tbody>\n",
              "</table>\n",
              "</div>"
            ],
            "text/plain": [
              "   STORE_SALES  date_delta  ...  ART_GROUP_WINE  CONTRAGENT_mean_enc\n",
              "0          0.0         0.0  ...               1          1093.051870\n",
              "1          0.0         0.0  ...               1          9194.404762\n",
              "2          0.0         0.0  ...               0         10471.081481\n",
              "3          0.0         0.0  ...               0         13560.937774\n",
              "4          0.0         0.0  ...               1          1093.051870\n",
              "\n",
              "[5 rows x 10 columns]"
            ]
          },
          "metadata": {},
          "execution_count": 56
        }
      ]
    },
    {
      "cell_type": "code",
      "metadata": {
        "colab": {
          "base_uri": "https://localhost:8080/"
        },
        "id": "VUNCLKG3rkA-",
        "outputId": "95cb1cfd-df79-4c60-aa37-be6bf80325e3"
      },
      "source": [
        "lg = lgb.LGBMRegressor(silent=False)\n",
        "parametrs = {\"n_estimators\": range(10,200,10)}\n",
        "grid_search_cv = GridSearchCV(lg, n_jobs=-1, param_grid=parametrs, cv=10)\n",
        "grid_search_cv.fit(X_train,y_train)\n",
        "best_n_estimators = grid_search_cv.best_estimator_.n_estimators\n",
        "print(best_n_estimators)"
      ],
      "execution_count": 60,
      "outputs": [
        {
          "output_type": "stream",
          "name": "stdout",
          "text": [
            "110\n"
          ]
        }
      ]
    },
    {
      "cell_type": "code",
      "metadata": {
        "colab": {
          "base_uri": "https://localhost:8080/"
        },
        "id": "aCigT4cIrkA-",
        "outputId": "b2e961cf-2ce2-4194-b597-e09d15710ca0"
      },
      "source": [
        "train_data = lgb.Dataset(X_train, label=y_train)\n",
        "validation_data = lgb.Dataset(X_test, label=y_test, reference=train_data)\n",
        "param = {'num_leaves':31, 'objective':'regression', 'learning_rate':0.06}\n",
        "num_round = best_n_estimators\n",
        "bst = lgb.train(param, train_data, num_round, valid_sets=[validation_data])\n",
        "y_test_predict_lgbm = bst.predict(X_test)"
      ],
      "execution_count": 61,
      "outputs": [
        {
          "output_type": "stream",
          "name": "stdout",
          "text": [
            "[1]\tvalid_0's l2: 1.67544e+08\n",
            "[2]\tvalid_0's l2: 1.59284e+08\n",
            "[3]\tvalid_0's l2: 1.52065e+08\n",
            "[4]\tvalid_0's l2: 1.45613e+08\n",
            "[5]\tvalid_0's l2: 1.39867e+08\n",
            "[6]\tvalid_0's l2: 1.34802e+08\n",
            "[7]\tvalid_0's l2: 1.30214e+08\n",
            "[8]\tvalid_0's l2: 1.26302e+08\n",
            "[9]\tvalid_0's l2: 1.22723e+08\n",
            "[10]\tvalid_0's l2: 1.19488e+08\n",
            "[11]\tvalid_0's l2: 1.16634e+08\n",
            "[12]\tvalid_0's l2: 1.13987e+08\n",
            "[13]\tvalid_0's l2: 1.1165e+08\n",
            "[14]\tvalid_0's l2: 1.09572e+08\n",
            "[15]\tvalid_0's l2: 1.07885e+08\n",
            "[16]\tvalid_0's l2: 1.06218e+08\n",
            "[17]\tvalid_0's l2: 1.04639e+08\n",
            "[18]\tvalid_0's l2: 1.03308e+08\n",
            "[19]\tvalid_0's l2: 1.0209e+08\n",
            "[20]\tvalid_0's l2: 1.01099e+08\n",
            "[21]\tvalid_0's l2: 1.00215e+08\n",
            "[22]\tvalid_0's l2: 9.94458e+07\n",
            "[23]\tvalid_0's l2: 9.86974e+07\n",
            "[24]\tvalid_0's l2: 9.79871e+07\n",
            "[25]\tvalid_0's l2: 9.74018e+07\n",
            "[26]\tvalid_0's l2: 9.70441e+07\n",
            "[27]\tvalid_0's l2: 9.65209e+07\n",
            "[28]\tvalid_0's l2: 9.59699e+07\n",
            "[29]\tvalid_0's l2: 9.54929e+07\n",
            "[30]\tvalid_0's l2: 9.51014e+07\n",
            "[31]\tvalid_0's l2: 9.46676e+07\n",
            "[32]\tvalid_0's l2: 9.4384e+07\n",
            "[33]\tvalid_0's l2: 9.41046e+07\n",
            "[34]\tvalid_0's l2: 9.3841e+07\n",
            "[35]\tvalid_0's l2: 9.35806e+07\n",
            "[36]\tvalid_0's l2: 9.33969e+07\n",
            "[37]\tvalid_0's l2: 9.3265e+07\n",
            "[38]\tvalid_0's l2: 9.30919e+07\n",
            "[39]\tvalid_0's l2: 9.29304e+07\n",
            "[40]\tvalid_0's l2: 9.28095e+07\n",
            "[41]\tvalid_0's l2: 9.27305e+07\n",
            "[42]\tvalid_0's l2: 9.26362e+07\n",
            "[43]\tvalid_0's l2: 9.25513e+07\n",
            "[44]\tvalid_0's l2: 9.23849e+07\n",
            "[45]\tvalid_0's l2: 9.22901e+07\n",
            "[46]\tvalid_0's l2: 9.22702e+07\n",
            "[47]\tvalid_0's l2: 9.21779e+07\n",
            "[48]\tvalid_0's l2: 9.21552e+07\n",
            "[49]\tvalid_0's l2: 9.21176e+07\n",
            "[50]\tvalid_0's l2: 9.19936e+07\n",
            "[51]\tvalid_0's l2: 9.19021e+07\n",
            "[52]\tvalid_0's l2: 9.18985e+07\n",
            "[53]\tvalid_0's l2: 9.17915e+07\n",
            "[54]\tvalid_0's l2: 9.17401e+07\n",
            "[55]\tvalid_0's l2: 9.16809e+07\n",
            "[56]\tvalid_0's l2: 9.16322e+07\n",
            "[57]\tvalid_0's l2: 9.1579e+07\n",
            "[58]\tvalid_0's l2: 9.15681e+07\n",
            "[59]\tvalid_0's l2: 9.14993e+07\n",
            "[60]\tvalid_0's l2: 9.14657e+07\n",
            "[61]\tvalid_0's l2: 9.14558e+07\n",
            "[62]\tvalid_0's l2: 9.13565e+07\n",
            "[63]\tvalid_0's l2: 9.13394e+07\n",
            "[64]\tvalid_0's l2: 9.13304e+07\n",
            "[65]\tvalid_0's l2: 9.1321e+07\n",
            "[66]\tvalid_0's l2: 9.12982e+07\n",
            "[67]\tvalid_0's l2: 9.12661e+07\n",
            "[68]\tvalid_0's l2: 9.12419e+07\n",
            "[69]\tvalid_0's l2: 9.11604e+07\n",
            "[70]\tvalid_0's l2: 9.11416e+07\n",
            "[71]\tvalid_0's l2: 9.11381e+07\n",
            "[72]\tvalid_0's l2: 9.11172e+07\n",
            "[73]\tvalid_0's l2: 9.10467e+07\n",
            "[74]\tvalid_0's l2: 9.10093e+07\n",
            "[75]\tvalid_0's l2: 9.09963e+07\n",
            "[76]\tvalid_0's l2: 9.0991e+07\n",
            "[77]\tvalid_0's l2: 9.09422e+07\n",
            "[78]\tvalid_0's l2: 9.09314e+07\n",
            "[79]\tvalid_0's l2: 9.09236e+07\n",
            "[80]\tvalid_0's l2: 9.08849e+07\n",
            "[81]\tvalid_0's l2: 9.08968e+07\n",
            "[82]\tvalid_0's l2: 9.08884e+07\n",
            "[83]\tvalid_0's l2: 9.08529e+07\n",
            "[84]\tvalid_0's l2: 9.08624e+07\n",
            "[85]\tvalid_0's l2: 9.08117e+07\n",
            "[86]\tvalid_0's l2: 9.07908e+07\n",
            "[87]\tvalid_0's l2: 9.0756e+07\n",
            "[88]\tvalid_0's l2: 9.06852e+07\n",
            "[89]\tvalid_0's l2: 9.06622e+07\n",
            "[90]\tvalid_0's l2: 9.06589e+07\n",
            "[91]\tvalid_0's l2: 9.06653e+07\n",
            "[92]\tvalid_0's l2: 9.06119e+07\n",
            "[93]\tvalid_0's l2: 9.06181e+07\n",
            "[94]\tvalid_0's l2: 9.06097e+07\n",
            "[95]\tvalid_0's l2: 9.05476e+07\n",
            "[96]\tvalid_0's l2: 9.05436e+07\n",
            "[97]\tvalid_0's l2: 9.04843e+07\n",
            "[98]\tvalid_0's l2: 9.04437e+07\n",
            "[99]\tvalid_0's l2: 9.04389e+07\n",
            "[100]\tvalid_0's l2: 9.04191e+07\n",
            "[101]\tvalid_0's l2: 9.03744e+07\n",
            "[102]\tvalid_0's l2: 9.03666e+07\n",
            "[103]\tvalid_0's l2: 9.0364e+07\n",
            "[104]\tvalid_0's l2: 9.03176e+07\n",
            "[105]\tvalid_0's l2: 9.02842e+07\n",
            "[106]\tvalid_0's l2: 9.02362e+07\n",
            "[107]\tvalid_0's l2: 9.02518e+07\n",
            "[108]\tvalid_0's l2: 9.02098e+07\n",
            "[109]\tvalid_0's l2: 9.02246e+07\n",
            "[110]\tvalid_0's l2: 9.01937e+07\n"
          ]
        }
      ]
    },
    {
      "cell_type": "code",
      "metadata": {
        "colab": {
          "base_uri": "https://localhost:8080/"
        },
        "id": "4JyRF08HrkA-",
        "outputId": "978c1fe1-0467-4691-e2e2-04a5ada73a61"
      },
      "source": [
        "metric(y_test,y_test_predict_lgbm)"
      ],
      "execution_count": 62,
      "outputs": [
        {
          "output_type": "execute_result",
          "data": {
            "text/plain": [
              "80.9604518198973"
            ]
          },
          "metadata": {},
          "execution_count": 62
        }
      ]
    },
    {
      "cell_type": "markdown",
      "metadata": {
        "id": "j_wt02h-sO72"
      },
      "source": [
        "Видим, что обработав все категориальные признаки, точность модели повысилась почти до 81%."
      ]
    }
  ]
}